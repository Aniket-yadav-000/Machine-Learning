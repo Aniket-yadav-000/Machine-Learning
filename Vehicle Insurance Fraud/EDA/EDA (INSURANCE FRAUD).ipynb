{
 "cells": [
  {
   "cell_type": "code",
   "execution_count": 12,
   "id": "0606ae12",
   "metadata": {},
   "outputs": [],
   "source": [
    "import pandas as pd\n",
    "import numpy as np\n",
    "import seaborn as sns\n",
    "import matplotlib.pyplot as plt\n",
    "%matplotlib inline\n",
    "import plotly.express as px"
   ]
  },
  {
   "cell_type": "code",
   "execution_count": 13,
   "id": "ef83bc6c",
   "metadata": {},
   "outputs": [],
   "source": [
    "df = pd.read_csv('insuranceFraud.csv')"
   ]
  },
  {
   "cell_type": "code",
   "execution_count": 14,
   "id": "3876e592",
   "metadata": {},
   "outputs": [
    {
     "data": {
      "text/html": [
       "<div>\n",
       "<style scoped>\n",
       "    .dataframe tbody tr th:only-of-type {\n",
       "        vertical-align: middle;\n",
       "    }\n",
       "\n",
       "    .dataframe tbody tr th {\n",
       "        vertical-align: top;\n",
       "    }\n",
       "\n",
       "    .dataframe thead th {\n",
       "        text-align: right;\n",
       "    }\n",
       "</style>\n",
       "<table border=\"1\" class=\"dataframe\">\n",
       "  <thead>\n",
       "    <tr style=\"text-align: right;\">\n",
       "      <th></th>\n",
       "      <th>months_as_customer</th>\n",
       "      <th>age</th>\n",
       "      <th>policy_number</th>\n",
       "      <th>policy_bind_date</th>\n",
       "      <th>policy_state</th>\n",
       "      <th>policy_csl</th>\n",
       "      <th>policy_deductable</th>\n",
       "      <th>policy_annual_premium</th>\n",
       "      <th>umbrella_limit</th>\n",
       "      <th>insured_zip</th>\n",
       "      <th>...</th>\n",
       "      <th>witnesses</th>\n",
       "      <th>police_report_available</th>\n",
       "      <th>total_claim_amount</th>\n",
       "      <th>injury_claim</th>\n",
       "      <th>property_claim</th>\n",
       "      <th>vehicle_claim</th>\n",
       "      <th>auto_make</th>\n",
       "      <th>auto_model</th>\n",
       "      <th>auto_year</th>\n",
       "      <th>fraud_reported</th>\n",
       "    </tr>\n",
       "  </thead>\n",
       "  <tbody>\n",
       "    <tr>\n",
       "      <th>0</th>\n",
       "      <td>328</td>\n",
       "      <td>48</td>\n",
       "      <td>521585</td>\n",
       "      <td>10/17/2014</td>\n",
       "      <td>OH</td>\n",
       "      <td>250/500</td>\n",
       "      <td>1000</td>\n",
       "      <td>1406.91</td>\n",
       "      <td>0</td>\n",
       "      <td>466132</td>\n",
       "      <td>...</td>\n",
       "      <td>2</td>\n",
       "      <td>YES</td>\n",
       "      <td>71610</td>\n",
       "      <td>6510</td>\n",
       "      <td>13020</td>\n",
       "      <td>52080</td>\n",
       "      <td>Saab</td>\n",
       "      <td>92x</td>\n",
       "      <td>2004</td>\n",
       "      <td>Y</td>\n",
       "    </tr>\n",
       "    <tr>\n",
       "      <th>1</th>\n",
       "      <td>228</td>\n",
       "      <td>42</td>\n",
       "      <td>342868</td>\n",
       "      <td>6/27/2006</td>\n",
       "      <td>IN</td>\n",
       "      <td>250/500</td>\n",
       "      <td>2000</td>\n",
       "      <td>1197.22</td>\n",
       "      <td>5000000</td>\n",
       "      <td>468176</td>\n",
       "      <td>...</td>\n",
       "      <td>0</td>\n",
       "      <td>?</td>\n",
       "      <td>5070</td>\n",
       "      <td>780</td>\n",
       "      <td>780</td>\n",
       "      <td>3510</td>\n",
       "      <td>Mercedes</td>\n",
       "      <td>E400</td>\n",
       "      <td>2007</td>\n",
       "      <td>Y</td>\n",
       "    </tr>\n",
       "    <tr>\n",
       "      <th>2</th>\n",
       "      <td>134</td>\n",
       "      <td>29</td>\n",
       "      <td>687698</td>\n",
       "      <td>9/6/2000</td>\n",
       "      <td>OH</td>\n",
       "      <td>100/300</td>\n",
       "      <td>2000</td>\n",
       "      <td>1413.14</td>\n",
       "      <td>5000000</td>\n",
       "      <td>430632</td>\n",
       "      <td>...</td>\n",
       "      <td>3</td>\n",
       "      <td>NO</td>\n",
       "      <td>34650</td>\n",
       "      <td>7700</td>\n",
       "      <td>3850</td>\n",
       "      <td>23100</td>\n",
       "      <td>Dodge</td>\n",
       "      <td>RAM</td>\n",
       "      <td>2007</td>\n",
       "      <td>N</td>\n",
       "    </tr>\n",
       "    <tr>\n",
       "      <th>3</th>\n",
       "      <td>256</td>\n",
       "      <td>41</td>\n",
       "      <td>227811</td>\n",
       "      <td>5/25/1990</td>\n",
       "      <td>IL</td>\n",
       "      <td>250/500</td>\n",
       "      <td>2000</td>\n",
       "      <td>1415.74</td>\n",
       "      <td>6000000</td>\n",
       "      <td>608117</td>\n",
       "      <td>...</td>\n",
       "      <td>2</td>\n",
       "      <td>NO</td>\n",
       "      <td>63400</td>\n",
       "      <td>6340</td>\n",
       "      <td>6340</td>\n",
       "      <td>50720</td>\n",
       "      <td>Chevrolet</td>\n",
       "      <td>Tahoe</td>\n",
       "      <td>2014</td>\n",
       "      <td>Y</td>\n",
       "    </tr>\n",
       "    <tr>\n",
       "      <th>4</th>\n",
       "      <td>228</td>\n",
       "      <td>44</td>\n",
       "      <td>367455</td>\n",
       "      <td>6/6/2014</td>\n",
       "      <td>IL</td>\n",
       "      <td>500/1000</td>\n",
       "      <td>1000</td>\n",
       "      <td>1583.91</td>\n",
       "      <td>6000000</td>\n",
       "      <td>610706</td>\n",
       "      <td>...</td>\n",
       "      <td>1</td>\n",
       "      <td>NO</td>\n",
       "      <td>6500</td>\n",
       "      <td>1300</td>\n",
       "      <td>650</td>\n",
       "      <td>4550</td>\n",
       "      <td>Accura</td>\n",
       "      <td>RSX</td>\n",
       "      <td>2009</td>\n",
       "      <td>N</td>\n",
       "    </tr>\n",
       "  </tbody>\n",
       "</table>\n",
       "<p>5 rows × 39 columns</p>\n",
       "</div>"
      ],
      "text/plain": [
       "   months_as_customer  age  policy_number policy_bind_date policy_state  \\\n",
       "0                 328   48         521585       10/17/2014           OH   \n",
       "1                 228   42         342868        6/27/2006           IN   \n",
       "2                 134   29         687698         9/6/2000           OH   \n",
       "3                 256   41         227811        5/25/1990           IL   \n",
       "4                 228   44         367455         6/6/2014           IL   \n",
       "\n",
       "  policy_csl  policy_deductable  policy_annual_premium  umbrella_limit  \\\n",
       "0    250/500               1000                1406.91               0   \n",
       "1    250/500               2000                1197.22         5000000   \n",
       "2    100/300               2000                1413.14         5000000   \n",
       "3    250/500               2000                1415.74         6000000   \n",
       "4   500/1000               1000                1583.91         6000000   \n",
       "\n",
       "   insured_zip  ... witnesses police_report_available total_claim_amount  \\\n",
       "0       466132  ...         2                     YES              71610   \n",
       "1       468176  ...         0                       ?               5070   \n",
       "2       430632  ...         3                      NO              34650   \n",
       "3       608117  ...         2                      NO              63400   \n",
       "4       610706  ...         1                      NO               6500   \n",
       "\n",
       "  injury_claim property_claim  vehicle_claim  auto_make auto_model auto_year  \\\n",
       "0         6510          13020          52080       Saab        92x      2004   \n",
       "1          780            780           3510   Mercedes       E400      2007   \n",
       "2         7700           3850          23100      Dodge        RAM      2007   \n",
       "3         6340           6340          50720  Chevrolet      Tahoe      2014   \n",
       "4         1300            650           4550     Accura        RSX      2009   \n",
       "\n",
       "  fraud_reported  \n",
       "0              Y  \n",
       "1              Y  \n",
       "2              N  \n",
       "3              Y  \n",
       "4              N  \n",
       "\n",
       "[5 rows x 39 columns]"
      ]
     },
     "execution_count": 14,
     "metadata": {},
     "output_type": "execute_result"
    }
   ],
   "source": [
    "df.head()"
   ]
  },
  {
   "cell_type": "code",
   "execution_count": 15,
   "id": "15cb1651",
   "metadata": {},
   "outputs": [
    {
     "data": {
      "text/plain": [
       "Index(['months_as_customer', 'age', 'policy_number', 'policy_bind_date',\n",
       "       'policy_state', 'policy_csl', 'policy_deductable',\n",
       "       'policy_annual_premium', 'umbrella_limit', 'insured_zip', 'insured_sex',\n",
       "       'insured_education_level', 'insured_occupation', 'insured_hobbies',\n",
       "       'insured_relationship', 'capital-gains', 'capital-loss',\n",
       "       'incident_date', 'incident_type', 'collision_type', 'incident_severity',\n",
       "       'authorities_contacted', 'incident_state', 'incident_city',\n",
       "       'incident_location', 'incident_hour_of_the_day',\n",
       "       'number_of_vehicles_involved', 'property_damage', 'bodily_injuries',\n",
       "       'witnesses', 'police_report_available', 'total_claim_amount',\n",
       "       'injury_claim', 'property_claim', 'vehicle_claim', 'auto_make',\n",
       "       'auto_model', 'auto_year', 'fraud_reported'],\n",
       "      dtype='object')"
      ]
     },
     "execution_count": 15,
     "metadata": {},
     "output_type": "execute_result"
    }
   ],
   "source": [
    "df.columns"
   ]
  },
  {
   "cell_type": "code",
   "execution_count": 16,
   "id": "99a92b08",
   "metadata": {},
   "outputs": [
    {
     "data": {
      "text/html": [
       "<div>\n",
       "<style scoped>\n",
       "    .dataframe tbody tr th:only-of-type {\n",
       "        vertical-align: middle;\n",
       "    }\n",
       "\n",
       "    .dataframe tbody tr th {\n",
       "        vertical-align: top;\n",
       "    }\n",
       "\n",
       "    .dataframe thead th {\n",
       "        text-align: right;\n",
       "    }\n",
       "</style>\n",
       "<table border=\"1\" class=\"dataframe\">\n",
       "  <thead>\n",
       "    <tr style=\"text-align: right;\">\n",
       "      <th></th>\n",
       "      <th>months_as_customer</th>\n",
       "      <th>age</th>\n",
       "      <th>policy_number</th>\n",
       "      <th>policy_bind_date</th>\n",
       "      <th>policy_state</th>\n",
       "      <th>policy_csl</th>\n",
       "      <th>policy_deductable</th>\n",
       "      <th>policy_annual_premium</th>\n",
       "      <th>umbrella_limit</th>\n",
       "      <th>insured_zip</th>\n",
       "      <th>...</th>\n",
       "      <th>witnesses</th>\n",
       "      <th>police_report_available</th>\n",
       "      <th>total_claim_amount</th>\n",
       "      <th>injury_claim</th>\n",
       "      <th>property_claim</th>\n",
       "      <th>vehicle_claim</th>\n",
       "      <th>auto_make</th>\n",
       "      <th>auto_model</th>\n",
       "      <th>auto_year</th>\n",
       "      <th>fraud_reported</th>\n",
       "    </tr>\n",
       "  </thead>\n",
       "  <tbody>\n",
       "    <tr>\n",
       "      <th>0</th>\n",
       "      <td>328</td>\n",
       "      <td>48</td>\n",
       "      <td>521585</td>\n",
       "      <td>10/17/2014</td>\n",
       "      <td>OH</td>\n",
       "      <td>250/500</td>\n",
       "      <td>1000</td>\n",
       "      <td>1406.91</td>\n",
       "      <td>0</td>\n",
       "      <td>466132</td>\n",
       "      <td>...</td>\n",
       "      <td>2</td>\n",
       "      <td>YES</td>\n",
       "      <td>71610</td>\n",
       "      <td>6510</td>\n",
       "      <td>13020</td>\n",
       "      <td>52080</td>\n",
       "      <td>Saab</td>\n",
       "      <td>92x</td>\n",
       "      <td>2004</td>\n",
       "      <td>Y</td>\n",
       "    </tr>\n",
       "    <tr>\n",
       "      <th>1</th>\n",
       "      <td>228</td>\n",
       "      <td>42</td>\n",
       "      <td>342868</td>\n",
       "      <td>6/27/2006</td>\n",
       "      <td>IN</td>\n",
       "      <td>250/500</td>\n",
       "      <td>2000</td>\n",
       "      <td>1197.22</td>\n",
       "      <td>5000000</td>\n",
       "      <td>468176</td>\n",
       "      <td>...</td>\n",
       "      <td>0</td>\n",
       "      <td>NaN</td>\n",
       "      <td>5070</td>\n",
       "      <td>780</td>\n",
       "      <td>780</td>\n",
       "      <td>3510</td>\n",
       "      <td>Mercedes</td>\n",
       "      <td>E400</td>\n",
       "      <td>2007</td>\n",
       "      <td>Y</td>\n",
       "    </tr>\n",
       "    <tr>\n",
       "      <th>2</th>\n",
       "      <td>134</td>\n",
       "      <td>29</td>\n",
       "      <td>687698</td>\n",
       "      <td>9/6/2000</td>\n",
       "      <td>OH</td>\n",
       "      <td>100/300</td>\n",
       "      <td>2000</td>\n",
       "      <td>1413.14</td>\n",
       "      <td>5000000</td>\n",
       "      <td>430632</td>\n",
       "      <td>...</td>\n",
       "      <td>3</td>\n",
       "      <td>NO</td>\n",
       "      <td>34650</td>\n",
       "      <td>7700</td>\n",
       "      <td>3850</td>\n",
       "      <td>23100</td>\n",
       "      <td>Dodge</td>\n",
       "      <td>RAM</td>\n",
       "      <td>2007</td>\n",
       "      <td>N</td>\n",
       "    </tr>\n",
       "    <tr>\n",
       "      <th>3</th>\n",
       "      <td>256</td>\n",
       "      <td>41</td>\n",
       "      <td>227811</td>\n",
       "      <td>5/25/1990</td>\n",
       "      <td>IL</td>\n",
       "      <td>250/500</td>\n",
       "      <td>2000</td>\n",
       "      <td>1415.74</td>\n",
       "      <td>6000000</td>\n",
       "      <td>608117</td>\n",
       "      <td>...</td>\n",
       "      <td>2</td>\n",
       "      <td>NO</td>\n",
       "      <td>63400</td>\n",
       "      <td>6340</td>\n",
       "      <td>6340</td>\n",
       "      <td>50720</td>\n",
       "      <td>Chevrolet</td>\n",
       "      <td>Tahoe</td>\n",
       "      <td>2014</td>\n",
       "      <td>Y</td>\n",
       "    </tr>\n",
       "    <tr>\n",
       "      <th>4</th>\n",
       "      <td>228</td>\n",
       "      <td>44</td>\n",
       "      <td>367455</td>\n",
       "      <td>6/6/2014</td>\n",
       "      <td>IL</td>\n",
       "      <td>500/1000</td>\n",
       "      <td>1000</td>\n",
       "      <td>1583.91</td>\n",
       "      <td>6000000</td>\n",
       "      <td>610706</td>\n",
       "      <td>...</td>\n",
       "      <td>1</td>\n",
       "      <td>NO</td>\n",
       "      <td>6500</td>\n",
       "      <td>1300</td>\n",
       "      <td>650</td>\n",
       "      <td>4550</td>\n",
       "      <td>Accura</td>\n",
       "      <td>RSX</td>\n",
       "      <td>2009</td>\n",
       "      <td>N</td>\n",
       "    </tr>\n",
       "  </tbody>\n",
       "</table>\n",
       "<p>5 rows × 39 columns</p>\n",
       "</div>"
      ],
      "text/plain": [
       "   months_as_customer  age  policy_number policy_bind_date policy_state  \\\n",
       "0                 328   48         521585       10/17/2014           OH   \n",
       "1                 228   42         342868        6/27/2006           IN   \n",
       "2                 134   29         687698         9/6/2000           OH   \n",
       "3                 256   41         227811        5/25/1990           IL   \n",
       "4                 228   44         367455         6/6/2014           IL   \n",
       "\n",
       "  policy_csl  policy_deductable  policy_annual_premium  umbrella_limit  \\\n",
       "0    250/500               1000                1406.91               0   \n",
       "1    250/500               2000                1197.22         5000000   \n",
       "2    100/300               2000                1413.14         5000000   \n",
       "3    250/500               2000                1415.74         6000000   \n",
       "4   500/1000               1000                1583.91         6000000   \n",
       "\n",
       "   insured_zip  ... witnesses police_report_available total_claim_amount  \\\n",
       "0       466132  ...         2                     YES              71610   \n",
       "1       468176  ...         0                     NaN               5070   \n",
       "2       430632  ...         3                      NO              34650   \n",
       "3       608117  ...         2                      NO              63400   \n",
       "4       610706  ...         1                      NO               6500   \n",
       "\n",
       "  injury_claim property_claim  vehicle_claim  auto_make auto_model auto_year  \\\n",
       "0         6510          13020          52080       Saab        92x      2004   \n",
       "1          780            780           3510   Mercedes       E400      2007   \n",
       "2         7700           3850          23100      Dodge        RAM      2007   \n",
       "3         6340           6340          50720  Chevrolet      Tahoe      2014   \n",
       "4         1300            650           4550     Accura        RSX      2009   \n",
       "\n",
       "  fraud_reported  \n",
       "0              Y  \n",
       "1              Y  \n",
       "2              N  \n",
       "3              Y  \n",
       "4              N  \n",
       "\n",
       "[5 rows x 39 columns]"
      ]
     },
     "execution_count": 16,
     "metadata": {},
     "output_type": "execute_result"
    }
   ],
   "source": [
    "data=df.replace('?',np.nan)\n",
    "data.head()"
   ]
  },
  {
   "cell_type": "code",
   "execution_count": 17,
   "id": "d2c6707e",
   "metadata": {},
   "outputs": [
    {
     "data": {
      "text/plain": [
       "months_as_customer             0\n",
       "age                            0\n",
       "policy_number                  0\n",
       "policy_bind_date               0\n",
       "policy_state                   0\n",
       "policy_csl                     0\n",
       "policy_deductable              0\n",
       "policy_annual_premium          0\n",
       "umbrella_limit                 0\n",
       "insured_zip                    0\n",
       "insured_sex                    0\n",
       "insured_education_level        0\n",
       "insured_occupation             0\n",
       "insured_hobbies                0\n",
       "insured_relationship           0\n",
       "capital-gains                  0\n",
       "capital-loss                   0\n",
       "incident_date                  0\n",
       "incident_type                  0\n",
       "collision_type                 0\n",
       "incident_severity              0\n",
       "authorities_contacted          0\n",
       "incident_state                 0\n",
       "incident_city                  0\n",
       "incident_location              0\n",
       "incident_hour_of_the_day       0\n",
       "number_of_vehicles_involved    0\n",
       "property_damage                0\n",
       "bodily_injuries                0\n",
       "witnesses                      0\n",
       "police_report_available        0\n",
       "total_claim_amount             0\n",
       "injury_claim                   0\n",
       "property_claim                 0\n",
       "vehicle_claim                  0\n",
       "auto_make                      0\n",
       "auto_model                     0\n",
       "auto_year                      0\n",
       "fraud_reported                 0\n",
       "dtype: int64"
      ]
     },
     "execution_count": 17,
     "metadata": {},
     "output_type": "execute_result"
    }
   ],
   "source": [
    "df.isnull().sum()"
   ]
  },
  {
   "cell_type": "code",
   "execution_count": 18,
   "id": "411be86e",
   "metadata": {},
   "outputs": [],
   "source": [
    "fraud = data['fraud_reported'].value_counts()"
   ]
  },
  {
   "cell_type": "code",
   "execution_count": 19,
   "id": "1eb11a55",
   "metadata": {},
   "outputs": [
    {
     "data": {
      "text/plain": [
       "Index(['N', 'Y'], dtype='object')"
      ]
     },
     "execution_count": 19,
     "metadata": {},
     "output_type": "execute_result"
    }
   ],
   "source": [
    "fraud.index"
   ]
  },
  {
   "cell_type": "code",
   "execution_count": 20,
   "id": "7c57c3cf",
   "metadata": {},
   "outputs": [
    {
     "data": {
      "text/plain": [
       "array([753, 247], dtype=int64)"
      ]
     },
     "execution_count": 20,
     "metadata": {},
     "output_type": "execute_result"
    }
   ],
   "source": [
    "fraud.values"
   ]
  },
  {
   "cell_type": "code",
   "execution_count": 21,
   "id": "bdbab75a",
   "metadata": {},
   "outputs": [
    {
     "ename": "ValueError",
     "evalue": "Mime type rendering requires nbformat>=4.2.0 but it is not installed",
     "output_type": "error",
     "traceback": [
      "\u001b[1;31m---------------------------------------------------------------------------\u001b[0m",
      "\u001b[1;31mValueError\u001b[0m                                Traceback (most recent call last)",
      "File \u001b[1;32m~\\AppData\\Roaming\\Python\\Python311\\site-packages\\IPython\\core\\formatters.py:920\u001b[0m, in \u001b[0;36mIPythonDisplayFormatter.__call__\u001b[1;34m(self, obj)\u001b[0m\n\u001b[0;32m    918\u001b[0m method \u001b[39m=\u001b[39m get_real_method(obj, \u001b[39mself\u001b[39m\u001b[39m.\u001b[39mprint_method)\n\u001b[0;32m    919\u001b[0m \u001b[39mif\u001b[39;00m method \u001b[39mis\u001b[39;00m \u001b[39mnot\u001b[39;00m \u001b[39mNone\u001b[39;00m:\n\u001b[1;32m--> 920\u001b[0m     method()\n\u001b[0;32m    921\u001b[0m     \u001b[39mreturn\u001b[39;00m \u001b[39mTrue\u001b[39;00m\n",
      "File \u001b[1;32mc:\\Users\\Aniket Pc\\AppData\\Local\\Programs\\Python\\Python311\\Lib\\site-packages\\plotly\\basedatatypes.py:842\u001b[0m, in \u001b[0;36mBaseFigure._ipython_display_\u001b[1;34m(self)\u001b[0m\n\u001b[0;32m    839\u001b[0m \u001b[39mimport\u001b[39;00m \u001b[39mplotly\u001b[39;00m\u001b[39m.\u001b[39;00m\u001b[39mio\u001b[39;00m \u001b[39mas\u001b[39;00m \u001b[39mpio\u001b[39;00m\n\u001b[0;32m    841\u001b[0m \u001b[39mif\u001b[39;00m pio\u001b[39m.\u001b[39mrenderers\u001b[39m.\u001b[39mrender_on_display \u001b[39mand\u001b[39;00m pio\u001b[39m.\u001b[39mrenderers\u001b[39m.\u001b[39mdefault:\n\u001b[1;32m--> 842\u001b[0m     pio\u001b[39m.\u001b[39;49mshow(\u001b[39mself\u001b[39;49m)\n\u001b[0;32m    843\u001b[0m \u001b[39melse\u001b[39;00m:\n\u001b[0;32m    844\u001b[0m     \u001b[39mprint\u001b[39m(\u001b[39mrepr\u001b[39m(\u001b[39mself\u001b[39m))\n",
      "File \u001b[1;32mc:\\Users\\Aniket Pc\\AppData\\Local\\Programs\\Python\\Python311\\Lib\\site-packages\\plotly\\io\\_renderers.py:396\u001b[0m, in \u001b[0;36mshow\u001b[1;34m(fig, renderer, validate, **kwargs)\u001b[0m\n\u001b[0;32m    391\u001b[0m         \u001b[39mraise\u001b[39;00m \u001b[39mValueError\u001b[39;00m(\n\u001b[0;32m    392\u001b[0m             \u001b[39m\"\u001b[39m\u001b[39mMime type rendering requires ipython but it is not installed\u001b[39m\u001b[39m\"\u001b[39m\n\u001b[0;32m    393\u001b[0m         )\n\u001b[0;32m    395\u001b[0m     \u001b[39mif\u001b[39;00m \u001b[39mnot\u001b[39;00m nbformat \u001b[39mor\u001b[39;00m LooseVersion(nbformat\u001b[39m.\u001b[39m__version__) \u001b[39m<\u001b[39m LooseVersion(\u001b[39m\"\u001b[39m\u001b[39m4.2.0\u001b[39m\u001b[39m\"\u001b[39m):\n\u001b[1;32m--> 396\u001b[0m         \u001b[39mraise\u001b[39;00m \u001b[39mValueError\u001b[39;00m(\n\u001b[0;32m    397\u001b[0m             \u001b[39m\"\u001b[39m\u001b[39mMime type rendering requires nbformat>=4.2.0 but it is not installed\u001b[39m\u001b[39m\"\u001b[39m\n\u001b[0;32m    398\u001b[0m         )\n\u001b[0;32m    400\u001b[0m     ipython_display\u001b[39m.\u001b[39mdisplay(bundle, raw\u001b[39m=\u001b[39m\u001b[39mTrue\u001b[39;00m)\n\u001b[0;32m    402\u001b[0m \u001b[39m# external renderers\u001b[39;00m\n",
      "\u001b[1;31mValueError\u001b[0m: Mime type rendering requires nbformat>=4.2.0 but it is not installed"
     ]
    },
    {
     "data": {
      "application/vnd.plotly.v1+json": {
       "config": {
        "plotlyServerURL": "https://plot.ly"
       },
       "data": [
        {
         "domain": {
          "x": [
           0,
           1
          ],
          "y": [
           0,
           1
          ]
         },
         "hovertemplate": "index=%{label}<br>value=%{value}<extra></extra>",
         "labels": [
          "N",
          "Y"
         ],
         "legendgroup": "",
         "name": "",
         "showlegend": true,
         "type": "pie",
         "values": [
          753,
          247
         ]
        }
       ],
       "layout": {
        "legend": {
         "tracegroupgap": 0
        },
        "margin": {
         "t": 60
        },
        "template": {
         "data": {
          "bar": [
           {
            "error_x": {
             "color": "#2a3f5f"
            },
            "error_y": {
             "color": "#2a3f5f"
            },
            "marker": {
             "line": {
              "color": "#E5ECF6",
              "width": 0.5
             },
             "pattern": {
              "fillmode": "overlay",
              "size": 10,
              "solidity": 0.2
             }
            },
            "type": "bar"
           }
          ],
          "barpolar": [
           {
            "marker": {
             "line": {
              "color": "#E5ECF6",
              "width": 0.5
             },
             "pattern": {
              "fillmode": "overlay",
              "size": 10,
              "solidity": 0.2
             }
            },
            "type": "barpolar"
           }
          ],
          "carpet": [
           {
            "aaxis": {
             "endlinecolor": "#2a3f5f",
             "gridcolor": "white",
             "linecolor": "white",
             "minorgridcolor": "white",
             "startlinecolor": "#2a3f5f"
            },
            "baxis": {
             "endlinecolor": "#2a3f5f",
             "gridcolor": "white",
             "linecolor": "white",
             "minorgridcolor": "white",
             "startlinecolor": "#2a3f5f"
            },
            "type": "carpet"
           }
          ],
          "choropleth": [
           {
            "colorbar": {
             "outlinewidth": 0,
             "ticks": ""
            },
            "type": "choropleth"
           }
          ],
          "contour": [
           {
            "colorbar": {
             "outlinewidth": 0,
             "ticks": ""
            },
            "colorscale": [
             [
              0,
              "#0d0887"
             ],
             [
              0.1111111111111111,
              "#46039f"
             ],
             [
              0.2222222222222222,
              "#7201a8"
             ],
             [
              0.3333333333333333,
              "#9c179e"
             ],
             [
              0.4444444444444444,
              "#bd3786"
             ],
             [
              0.5555555555555556,
              "#d8576b"
             ],
             [
              0.6666666666666666,
              "#ed7953"
             ],
             [
              0.7777777777777778,
              "#fb9f3a"
             ],
             [
              0.8888888888888888,
              "#fdca26"
             ],
             [
              1,
              "#f0f921"
             ]
            ],
            "type": "contour"
           }
          ],
          "contourcarpet": [
           {
            "colorbar": {
             "outlinewidth": 0,
             "ticks": ""
            },
            "type": "contourcarpet"
           }
          ],
          "heatmap": [
           {
            "colorbar": {
             "outlinewidth": 0,
             "ticks": ""
            },
            "colorscale": [
             [
              0,
              "#0d0887"
             ],
             [
              0.1111111111111111,
              "#46039f"
             ],
             [
              0.2222222222222222,
              "#7201a8"
             ],
             [
              0.3333333333333333,
              "#9c179e"
             ],
             [
              0.4444444444444444,
              "#bd3786"
             ],
             [
              0.5555555555555556,
              "#d8576b"
             ],
             [
              0.6666666666666666,
              "#ed7953"
             ],
             [
              0.7777777777777778,
              "#fb9f3a"
             ],
             [
              0.8888888888888888,
              "#fdca26"
             ],
             [
              1,
              "#f0f921"
             ]
            ],
            "type": "heatmap"
           }
          ],
          "heatmapgl": [
           {
            "colorbar": {
             "outlinewidth": 0,
             "ticks": ""
            },
            "colorscale": [
             [
              0,
              "#0d0887"
             ],
             [
              0.1111111111111111,
              "#46039f"
             ],
             [
              0.2222222222222222,
              "#7201a8"
             ],
             [
              0.3333333333333333,
              "#9c179e"
             ],
             [
              0.4444444444444444,
              "#bd3786"
             ],
             [
              0.5555555555555556,
              "#d8576b"
             ],
             [
              0.6666666666666666,
              "#ed7953"
             ],
             [
              0.7777777777777778,
              "#fb9f3a"
             ],
             [
              0.8888888888888888,
              "#fdca26"
             ],
             [
              1,
              "#f0f921"
             ]
            ],
            "type": "heatmapgl"
           }
          ],
          "histogram": [
           {
            "marker": {
             "pattern": {
              "fillmode": "overlay",
              "size": 10,
              "solidity": 0.2
             }
            },
            "type": "histogram"
           }
          ],
          "histogram2d": [
           {
            "colorbar": {
             "outlinewidth": 0,
             "ticks": ""
            },
            "colorscale": [
             [
              0,
              "#0d0887"
             ],
             [
              0.1111111111111111,
              "#46039f"
             ],
             [
              0.2222222222222222,
              "#7201a8"
             ],
             [
              0.3333333333333333,
              "#9c179e"
             ],
             [
              0.4444444444444444,
              "#bd3786"
             ],
             [
              0.5555555555555556,
              "#d8576b"
             ],
             [
              0.6666666666666666,
              "#ed7953"
             ],
             [
              0.7777777777777778,
              "#fb9f3a"
             ],
             [
              0.8888888888888888,
              "#fdca26"
             ],
             [
              1,
              "#f0f921"
             ]
            ],
            "type": "histogram2d"
           }
          ],
          "histogram2dcontour": [
           {
            "colorbar": {
             "outlinewidth": 0,
             "ticks": ""
            },
            "colorscale": [
             [
              0,
              "#0d0887"
             ],
             [
              0.1111111111111111,
              "#46039f"
             ],
             [
              0.2222222222222222,
              "#7201a8"
             ],
             [
              0.3333333333333333,
              "#9c179e"
             ],
             [
              0.4444444444444444,
              "#bd3786"
             ],
             [
              0.5555555555555556,
              "#d8576b"
             ],
             [
              0.6666666666666666,
              "#ed7953"
             ],
             [
              0.7777777777777778,
              "#fb9f3a"
             ],
             [
              0.8888888888888888,
              "#fdca26"
             ],
             [
              1,
              "#f0f921"
             ]
            ],
            "type": "histogram2dcontour"
           }
          ],
          "mesh3d": [
           {
            "colorbar": {
             "outlinewidth": 0,
             "ticks": ""
            },
            "type": "mesh3d"
           }
          ],
          "parcoords": [
           {
            "line": {
             "colorbar": {
              "outlinewidth": 0,
              "ticks": ""
             }
            },
            "type": "parcoords"
           }
          ],
          "pie": [
           {
            "automargin": true,
            "type": "pie"
           }
          ],
          "scatter": [
           {
            "fillpattern": {
             "fillmode": "overlay",
             "size": 10,
             "solidity": 0.2
            },
            "type": "scatter"
           }
          ],
          "scatter3d": [
           {
            "line": {
             "colorbar": {
              "outlinewidth": 0,
              "ticks": ""
             }
            },
            "marker": {
             "colorbar": {
              "outlinewidth": 0,
              "ticks": ""
             }
            },
            "type": "scatter3d"
           }
          ],
          "scattercarpet": [
           {
            "marker": {
             "colorbar": {
              "outlinewidth": 0,
              "ticks": ""
             }
            },
            "type": "scattercarpet"
           }
          ],
          "scattergeo": [
           {
            "marker": {
             "colorbar": {
              "outlinewidth": 0,
              "ticks": ""
             }
            },
            "type": "scattergeo"
           }
          ],
          "scattergl": [
           {
            "marker": {
             "colorbar": {
              "outlinewidth": 0,
              "ticks": ""
             }
            },
            "type": "scattergl"
           }
          ],
          "scattermapbox": [
           {
            "marker": {
             "colorbar": {
              "outlinewidth": 0,
              "ticks": ""
             }
            },
            "type": "scattermapbox"
           }
          ],
          "scatterpolar": [
           {
            "marker": {
             "colorbar": {
              "outlinewidth": 0,
              "ticks": ""
             }
            },
            "type": "scatterpolar"
           }
          ],
          "scatterpolargl": [
           {
            "marker": {
             "colorbar": {
              "outlinewidth": 0,
              "ticks": ""
             }
            },
            "type": "scatterpolargl"
           }
          ],
          "scatterternary": [
           {
            "marker": {
             "colorbar": {
              "outlinewidth": 0,
              "ticks": ""
             }
            },
            "type": "scatterternary"
           }
          ],
          "surface": [
           {
            "colorbar": {
             "outlinewidth": 0,
             "ticks": ""
            },
            "colorscale": [
             [
              0,
              "#0d0887"
             ],
             [
              0.1111111111111111,
              "#46039f"
             ],
             [
              0.2222222222222222,
              "#7201a8"
             ],
             [
              0.3333333333333333,
              "#9c179e"
             ],
             [
              0.4444444444444444,
              "#bd3786"
             ],
             [
              0.5555555555555556,
              "#d8576b"
             ],
             [
              0.6666666666666666,
              "#ed7953"
             ],
             [
              0.7777777777777778,
              "#fb9f3a"
             ],
             [
              0.8888888888888888,
              "#fdca26"
             ],
             [
              1,
              "#f0f921"
             ]
            ],
            "type": "surface"
           }
          ],
          "table": [
           {
            "cells": {
             "fill": {
              "color": "#EBF0F8"
             },
             "line": {
              "color": "white"
             }
            },
            "header": {
             "fill": {
              "color": "#C8D4E3"
             },
             "line": {
              "color": "white"
             }
            },
            "type": "table"
           }
          ]
         },
         "layout": {
          "annotationdefaults": {
           "arrowcolor": "#2a3f5f",
           "arrowhead": 0,
           "arrowwidth": 1
          },
          "autotypenumbers": "strict",
          "coloraxis": {
           "colorbar": {
            "outlinewidth": 0,
            "ticks": ""
           }
          },
          "colorscale": {
           "diverging": [
            [
             0,
             "#8e0152"
            ],
            [
             0.1,
             "#c51b7d"
            ],
            [
             0.2,
             "#de77ae"
            ],
            [
             0.3,
             "#f1b6da"
            ],
            [
             0.4,
             "#fde0ef"
            ],
            [
             0.5,
             "#f7f7f7"
            ],
            [
             0.6,
             "#e6f5d0"
            ],
            [
             0.7,
             "#b8e186"
            ],
            [
             0.8,
             "#7fbc41"
            ],
            [
             0.9,
             "#4d9221"
            ],
            [
             1,
             "#276419"
            ]
           ],
           "sequential": [
            [
             0,
             "#0d0887"
            ],
            [
             0.1111111111111111,
             "#46039f"
            ],
            [
             0.2222222222222222,
             "#7201a8"
            ],
            [
             0.3333333333333333,
             "#9c179e"
            ],
            [
             0.4444444444444444,
             "#bd3786"
            ],
            [
             0.5555555555555556,
             "#d8576b"
            ],
            [
             0.6666666666666666,
             "#ed7953"
            ],
            [
             0.7777777777777778,
             "#fb9f3a"
            ],
            [
             0.8888888888888888,
             "#fdca26"
            ],
            [
             1,
             "#f0f921"
            ]
           ],
           "sequentialminus": [
            [
             0,
             "#0d0887"
            ],
            [
             0.1111111111111111,
             "#46039f"
            ],
            [
             0.2222222222222222,
             "#7201a8"
            ],
            [
             0.3333333333333333,
             "#9c179e"
            ],
            [
             0.4444444444444444,
             "#bd3786"
            ],
            [
             0.5555555555555556,
             "#d8576b"
            ],
            [
             0.6666666666666666,
             "#ed7953"
            ],
            [
             0.7777777777777778,
             "#fb9f3a"
            ],
            [
             0.8888888888888888,
             "#fdca26"
            ],
            [
             1,
             "#f0f921"
            ]
           ]
          },
          "colorway": [
           "#636efa",
           "#EF553B",
           "#00cc96",
           "#ab63fa",
           "#FFA15A",
           "#19d3f3",
           "#FF6692",
           "#B6E880",
           "#FF97FF",
           "#FECB52"
          ],
          "font": {
           "color": "#2a3f5f"
          },
          "geo": {
           "bgcolor": "white",
           "lakecolor": "white",
           "landcolor": "#E5ECF6",
           "showlakes": true,
           "showland": true,
           "subunitcolor": "white"
          },
          "hoverlabel": {
           "align": "left"
          },
          "hovermode": "closest",
          "mapbox": {
           "style": "light"
          },
          "paper_bgcolor": "white",
          "plot_bgcolor": "#E5ECF6",
          "polar": {
           "angularaxis": {
            "gridcolor": "white",
            "linecolor": "white",
            "ticks": ""
           },
           "bgcolor": "#E5ECF6",
           "radialaxis": {
            "gridcolor": "white",
            "linecolor": "white",
            "ticks": ""
           }
          },
          "scene": {
           "xaxis": {
            "backgroundcolor": "#E5ECF6",
            "gridcolor": "white",
            "gridwidth": 2,
            "linecolor": "white",
            "showbackground": true,
            "ticks": "",
            "zerolinecolor": "white"
           },
           "yaxis": {
            "backgroundcolor": "#E5ECF6",
            "gridcolor": "white",
            "gridwidth": 2,
            "linecolor": "white",
            "showbackground": true,
            "ticks": "",
            "zerolinecolor": "white"
           },
           "zaxis": {
            "backgroundcolor": "#E5ECF6",
            "gridcolor": "white",
            "gridwidth": 2,
            "linecolor": "white",
            "showbackground": true,
            "ticks": "",
            "zerolinecolor": "white"
           }
          },
          "shapedefaults": {
           "line": {
            "color": "#2a3f5f"
           }
          },
          "ternary": {
           "aaxis": {
            "gridcolor": "white",
            "linecolor": "white",
            "ticks": ""
           },
           "baxis": {
            "gridcolor": "white",
            "linecolor": "white",
            "ticks": ""
           },
           "bgcolor": "#E5ECF6",
           "caxis": {
            "gridcolor": "white",
            "linecolor": "white",
            "ticks": ""
           }
          },
          "title": {
           "x": 0.05
          },
          "xaxis": {
           "automargin": true,
           "gridcolor": "white",
           "linecolor": "white",
           "ticks": "",
           "title": {
            "standoff": 15
           },
           "zerolinecolor": "white",
           "zerolinewidth": 2
          },
          "yaxis": {
           "automargin": true,
           "gridcolor": "white",
           "linecolor": "white",
           "ticks": "",
           "title": {
            "standoff": 15
           },
           "zerolinecolor": "white",
           "zerolinewidth": 2
          }
         }
        }
       }
      },
      "text/html": [
       "<div>                        <script type=\"text/javascript\">window.PlotlyConfig = {MathJaxConfig: 'local'};</script>\n",
       "        <script src=\"https://cdn.plot.ly/plotly-2.16.1.min.js\"></script>                <div id=\"3b63584f-afda-40f1-b091-b877c5383b6a\" class=\"plotly-graph-div\" style=\"height:100%; width:100%;\"></div>            <script type=\"text/javascript\">                                    window.PLOTLYENV=window.PLOTLYENV || {};                                    if (document.getElementById(\"3b63584f-afda-40f1-b091-b877c5383b6a\")) {                    Plotly.newPlot(                        \"3b63584f-afda-40f1-b091-b877c5383b6a\",                        [{\"domain\":{\"x\":[0.0,1.0],\"y\":[0.0,1.0]},\"hovertemplate\":\"index=%{label}<br>value=%{value}<extra></extra>\",\"labels\":[\"N\",\"Y\"],\"legendgroup\":\"\",\"name\":\"\",\"showlegend\":true,\"values\":[753,247],\"type\":\"pie\"}],                        {\"template\":{\"data\":{\"histogram2dcontour\":[{\"type\":\"histogram2dcontour\",\"colorbar\":{\"outlinewidth\":0,\"ticks\":\"\"},\"colorscale\":[[0.0,\"#0d0887\"],[0.1111111111111111,\"#46039f\"],[0.2222222222222222,\"#7201a8\"],[0.3333333333333333,\"#9c179e\"],[0.4444444444444444,\"#bd3786\"],[0.5555555555555556,\"#d8576b\"],[0.6666666666666666,\"#ed7953\"],[0.7777777777777778,\"#fb9f3a\"],[0.8888888888888888,\"#fdca26\"],[1.0,\"#f0f921\"]]}],\"choropleth\":[{\"type\":\"choropleth\",\"colorbar\":{\"outlinewidth\":0,\"ticks\":\"\"}}],\"histogram2d\":[{\"type\":\"histogram2d\",\"colorbar\":{\"outlinewidth\":0,\"ticks\":\"\"},\"colorscale\":[[0.0,\"#0d0887\"],[0.1111111111111111,\"#46039f\"],[0.2222222222222222,\"#7201a8\"],[0.3333333333333333,\"#9c179e\"],[0.4444444444444444,\"#bd3786\"],[0.5555555555555556,\"#d8576b\"],[0.6666666666666666,\"#ed7953\"],[0.7777777777777778,\"#fb9f3a\"],[0.8888888888888888,\"#fdca26\"],[1.0,\"#f0f921\"]]}],\"heatmap\":[{\"type\":\"heatmap\",\"colorbar\":{\"outlinewidth\":0,\"ticks\":\"\"},\"colorscale\":[[0.0,\"#0d0887\"],[0.1111111111111111,\"#46039f\"],[0.2222222222222222,\"#7201a8\"],[0.3333333333333333,\"#9c179e\"],[0.4444444444444444,\"#bd3786\"],[0.5555555555555556,\"#d8576b\"],[0.6666666666666666,\"#ed7953\"],[0.7777777777777778,\"#fb9f3a\"],[0.8888888888888888,\"#fdca26\"],[1.0,\"#f0f921\"]]}],\"heatmapgl\":[{\"type\":\"heatmapgl\",\"colorbar\":{\"outlinewidth\":0,\"ticks\":\"\"},\"colorscale\":[[0.0,\"#0d0887\"],[0.1111111111111111,\"#46039f\"],[0.2222222222222222,\"#7201a8\"],[0.3333333333333333,\"#9c179e\"],[0.4444444444444444,\"#bd3786\"],[0.5555555555555556,\"#d8576b\"],[0.6666666666666666,\"#ed7953\"],[0.7777777777777778,\"#fb9f3a\"],[0.8888888888888888,\"#fdca26\"],[1.0,\"#f0f921\"]]}],\"contourcarpet\":[{\"type\":\"contourcarpet\",\"colorbar\":{\"outlinewidth\":0,\"ticks\":\"\"}}],\"contour\":[{\"type\":\"contour\",\"colorbar\":{\"outlinewidth\":0,\"ticks\":\"\"},\"colorscale\":[[0.0,\"#0d0887\"],[0.1111111111111111,\"#46039f\"],[0.2222222222222222,\"#7201a8\"],[0.3333333333333333,\"#9c179e\"],[0.4444444444444444,\"#bd3786\"],[0.5555555555555556,\"#d8576b\"],[0.6666666666666666,\"#ed7953\"],[0.7777777777777778,\"#fb9f3a\"],[0.8888888888888888,\"#fdca26\"],[1.0,\"#f0f921\"]]}],\"surface\":[{\"type\":\"surface\",\"colorbar\":{\"outlinewidth\":0,\"ticks\":\"\"},\"colorscale\":[[0.0,\"#0d0887\"],[0.1111111111111111,\"#46039f\"],[0.2222222222222222,\"#7201a8\"],[0.3333333333333333,\"#9c179e\"],[0.4444444444444444,\"#bd3786\"],[0.5555555555555556,\"#d8576b\"],[0.6666666666666666,\"#ed7953\"],[0.7777777777777778,\"#fb9f3a\"],[0.8888888888888888,\"#fdca26\"],[1.0,\"#f0f921\"]]}],\"mesh3d\":[{\"type\":\"mesh3d\",\"colorbar\":{\"outlinewidth\":0,\"ticks\":\"\"}}],\"scatter\":[{\"fillpattern\":{\"fillmode\":\"overlay\",\"size\":10,\"solidity\":0.2},\"type\":\"scatter\"}],\"parcoords\":[{\"type\":\"parcoords\",\"line\":{\"colorbar\":{\"outlinewidth\":0,\"ticks\":\"\"}}}],\"scatterpolargl\":[{\"type\":\"scatterpolargl\",\"marker\":{\"colorbar\":{\"outlinewidth\":0,\"ticks\":\"\"}}}],\"bar\":[{\"error_x\":{\"color\":\"#2a3f5f\"},\"error_y\":{\"color\":\"#2a3f5f\"},\"marker\":{\"line\":{\"color\":\"#E5ECF6\",\"width\":0.5},\"pattern\":{\"fillmode\":\"overlay\",\"size\":10,\"solidity\":0.2}},\"type\":\"bar\"}],\"scattergeo\":[{\"type\":\"scattergeo\",\"marker\":{\"colorbar\":{\"outlinewidth\":0,\"ticks\":\"\"}}}],\"scatterpolar\":[{\"type\":\"scatterpolar\",\"marker\":{\"colorbar\":{\"outlinewidth\":0,\"ticks\":\"\"}}}],\"histogram\":[{\"marker\":{\"pattern\":{\"fillmode\":\"overlay\",\"size\":10,\"solidity\":0.2}},\"type\":\"histogram\"}],\"scattergl\":[{\"type\":\"scattergl\",\"marker\":{\"colorbar\":{\"outlinewidth\":0,\"ticks\":\"\"}}}],\"scatter3d\":[{\"type\":\"scatter3d\",\"line\":{\"colorbar\":{\"outlinewidth\":0,\"ticks\":\"\"}},\"marker\":{\"colorbar\":{\"outlinewidth\":0,\"ticks\":\"\"}}}],\"scattermapbox\":[{\"type\":\"scattermapbox\",\"marker\":{\"colorbar\":{\"outlinewidth\":0,\"ticks\":\"\"}}}],\"scatterternary\":[{\"type\":\"scatterternary\",\"marker\":{\"colorbar\":{\"outlinewidth\":0,\"ticks\":\"\"}}}],\"scattercarpet\":[{\"type\":\"scattercarpet\",\"marker\":{\"colorbar\":{\"outlinewidth\":0,\"ticks\":\"\"}}}],\"carpet\":[{\"aaxis\":{\"endlinecolor\":\"#2a3f5f\",\"gridcolor\":\"white\",\"linecolor\":\"white\",\"minorgridcolor\":\"white\",\"startlinecolor\":\"#2a3f5f\"},\"baxis\":{\"endlinecolor\":\"#2a3f5f\",\"gridcolor\":\"white\",\"linecolor\":\"white\",\"minorgridcolor\":\"white\",\"startlinecolor\":\"#2a3f5f\"},\"type\":\"carpet\"}],\"table\":[{\"cells\":{\"fill\":{\"color\":\"#EBF0F8\"},\"line\":{\"color\":\"white\"}},\"header\":{\"fill\":{\"color\":\"#C8D4E3\"},\"line\":{\"color\":\"white\"}},\"type\":\"table\"}],\"barpolar\":[{\"marker\":{\"line\":{\"color\":\"#E5ECF6\",\"width\":0.5},\"pattern\":{\"fillmode\":\"overlay\",\"size\":10,\"solidity\":0.2}},\"type\":\"barpolar\"}],\"pie\":[{\"automargin\":true,\"type\":\"pie\"}]},\"layout\":{\"autotypenumbers\":\"strict\",\"colorway\":[\"#636efa\",\"#EF553B\",\"#00cc96\",\"#ab63fa\",\"#FFA15A\",\"#19d3f3\",\"#FF6692\",\"#B6E880\",\"#FF97FF\",\"#FECB52\"],\"font\":{\"color\":\"#2a3f5f\"},\"hovermode\":\"closest\",\"hoverlabel\":{\"align\":\"left\"},\"paper_bgcolor\":\"white\",\"plot_bgcolor\":\"#E5ECF6\",\"polar\":{\"bgcolor\":\"#E5ECF6\",\"angularaxis\":{\"gridcolor\":\"white\",\"linecolor\":\"white\",\"ticks\":\"\"},\"radialaxis\":{\"gridcolor\":\"white\",\"linecolor\":\"white\",\"ticks\":\"\"}},\"ternary\":{\"bgcolor\":\"#E5ECF6\",\"aaxis\":{\"gridcolor\":\"white\",\"linecolor\":\"white\",\"ticks\":\"\"},\"baxis\":{\"gridcolor\":\"white\",\"linecolor\":\"white\",\"ticks\":\"\"},\"caxis\":{\"gridcolor\":\"white\",\"linecolor\":\"white\",\"ticks\":\"\"}},\"coloraxis\":{\"colorbar\":{\"outlinewidth\":0,\"ticks\":\"\"}},\"colorscale\":{\"sequential\":[[0.0,\"#0d0887\"],[0.1111111111111111,\"#46039f\"],[0.2222222222222222,\"#7201a8\"],[0.3333333333333333,\"#9c179e\"],[0.4444444444444444,\"#bd3786\"],[0.5555555555555556,\"#d8576b\"],[0.6666666666666666,\"#ed7953\"],[0.7777777777777778,\"#fb9f3a\"],[0.8888888888888888,\"#fdca26\"],[1.0,\"#f0f921\"]],\"sequentialminus\":[[0.0,\"#0d0887\"],[0.1111111111111111,\"#46039f\"],[0.2222222222222222,\"#7201a8\"],[0.3333333333333333,\"#9c179e\"],[0.4444444444444444,\"#bd3786\"],[0.5555555555555556,\"#d8576b\"],[0.6666666666666666,\"#ed7953\"],[0.7777777777777778,\"#fb9f3a\"],[0.8888888888888888,\"#fdca26\"],[1.0,\"#f0f921\"]],\"diverging\":[[0,\"#8e0152\"],[0.1,\"#c51b7d\"],[0.2,\"#de77ae\"],[0.3,\"#f1b6da\"],[0.4,\"#fde0ef\"],[0.5,\"#f7f7f7\"],[0.6,\"#e6f5d0\"],[0.7,\"#b8e186\"],[0.8,\"#7fbc41\"],[0.9,\"#4d9221\"],[1,\"#276419\"]]},\"xaxis\":{\"gridcolor\":\"white\",\"linecolor\":\"white\",\"ticks\":\"\",\"title\":{\"standoff\":15},\"zerolinecolor\":\"white\",\"automargin\":true,\"zerolinewidth\":2},\"yaxis\":{\"gridcolor\":\"white\",\"linecolor\":\"white\",\"ticks\":\"\",\"title\":{\"standoff\":15},\"zerolinecolor\":\"white\",\"automargin\":true,\"zerolinewidth\":2},\"scene\":{\"xaxis\":{\"backgroundcolor\":\"#E5ECF6\",\"gridcolor\":\"white\",\"linecolor\":\"white\",\"showbackground\":true,\"ticks\":\"\",\"zerolinecolor\":\"white\",\"gridwidth\":2},\"yaxis\":{\"backgroundcolor\":\"#E5ECF6\",\"gridcolor\":\"white\",\"linecolor\":\"white\",\"showbackground\":true,\"ticks\":\"\",\"zerolinecolor\":\"white\",\"gridwidth\":2},\"zaxis\":{\"backgroundcolor\":\"#E5ECF6\",\"gridcolor\":\"white\",\"linecolor\":\"white\",\"showbackground\":true,\"ticks\":\"\",\"zerolinecolor\":\"white\",\"gridwidth\":2}},\"shapedefaults\":{\"line\":{\"color\":\"#2a3f5f\"}},\"annotationdefaults\":{\"arrowcolor\":\"#2a3f5f\",\"arrowhead\":0,\"arrowwidth\":1},\"geo\":{\"bgcolor\":\"white\",\"landcolor\":\"#E5ECF6\",\"subunitcolor\":\"white\",\"showland\":true,\"showlakes\":true,\"lakecolor\":\"white\"},\"title\":{\"x\":0.05},\"mapbox\":{\"style\":\"light\"}}},\"legend\":{\"tracegroupgap\":0},\"margin\":{\"t\":60}},                        {\"responsive\": true}                    )                };                            </script>        </div>"
      ],
      "text/plain": [
       "Figure({\n",
       "    'data': [{'domain': {'x': [0.0, 1.0], 'y': [0.0, 1.0]},\n",
       "              'hovertemplate': 'index=%{label}<br>value=%{value}<extra></extra>',\n",
       "              'labels': array(['N', 'Y'], dtype=object),\n",
       "              'legendgroup': '',\n",
       "              'name': '',\n",
       "              'showlegend': True,\n",
       "              'type': 'pie',\n",
       "              'values': array([753, 247], dtype=int64)}],\n",
       "    'layout': {'legend': {'tracegroupgap': 0}, 'margin': {'t': 60}, 'template': '...'}\n",
       "})"
      ]
     },
     "execution_count": 21,
     "metadata": {},
     "output_type": "execute_result"
    }
   ],
   "source": [
    "px.pie(data_frame = fraud, names = fraud.index, values = fraud.values)"
   ]
  },
  {
   "cell_type": "markdown",
   "id": "1e4379f4",
   "metadata": {},
   "source": [
    "Observation: 25% claims were detected as Fraud while 75% claims are not Fraud."
   ]
  },
  {
   "cell_type": "code",
   "execution_count": null,
   "id": "a3b94bc0",
   "metadata": {},
   "outputs": [
    {
     "data": {
      "application/vnd.plotly.v1+json": {
       "config": {
        "plotlyServerURL": "https://plot.ly"
       },
       "data": [
        {
         "alignmentgroup": "True",
         "bingroup": "x",
         "hovertemplate": "fraud_reported=Y<br>auto_make=%{x}<br>count=%{y}<extra></extra>",
         "legendgroup": "Y",
         "marker": {
          "color": "#636efa",
          "pattern": {
           "shape": ""
          }
         },
         "name": "Y",
         "offsetgroup": "Y",
         "orientation": "v",
         "showlegend": true,
         "type": "histogram",
         "x": [
          "Saab",
          "Mercedes",
          "Chevrolet",
          "Saab",
          "Dodge",
          "Accura",
          "Suburu",
          "Dodge",
          "Ford",
          "Suburu",
          "Ford",
          "Mercedes",
          "Suburu",
          "Nissan",
          "BMW",
          "Audi",
          "Nissan",
          "Suburu",
          "Ford",
          "Dodge",
          "Audi",
          "Audi",
          "Honda",
          "BMW",
          "Audi",
          "Accura",
          "Honda",
          "Dodge",
          "Nissan",
          "Saab",
          "Saab",
          "Nissan",
          "Ford",
          "Accura",
          "Toyota",
          "Ford",
          "Nissan",
          "BMW",
          "Saab",
          "Volkswagen",
          "Accura",
          "Accura",
          "BMW",
          "Volkswagen",
          "Suburu",
          "Volkswagen",
          "Saab",
          "Audi",
          "Dodge",
          "Audi",
          "Volkswagen",
          "Chevrolet",
          "Mercedes",
          "Honda",
          "Jeep",
          "Ford",
          "Dodge",
          "Suburu",
          "Audi",
          "Saab",
          "Honda",
          "Toyota",
          "Audi",
          "Audi",
          "Chevrolet",
          "Dodge",
          "Chevrolet",
          "Suburu",
          "Ford",
          "Nissan",
          "Chevrolet",
          "Mercedes",
          "Suburu",
          "Ford",
          "Volkswagen",
          "Toyota",
          "Jeep",
          "BMW",
          "Nissan",
          "Chevrolet",
          "BMW",
          "Ford",
          "BMW",
          "Honda",
          "Honda",
          "Mercedes",
          "Nissan",
          "Toyota",
          "Honda",
          "Suburu",
          "Honda",
          "Audi",
          "Honda",
          "Nissan",
          "Audi",
          "Suburu",
          "Jeep",
          "Accura",
          "Audi",
          "Jeep",
          "Chevrolet",
          "Toyota",
          "Mercedes",
          "Volkswagen",
          "BMW",
          "Accura",
          "Honda",
          "Mercedes",
          "Nissan",
          "BMW",
          "Accura",
          "Mercedes",
          "Chevrolet",
          "Suburu",
          "Chevrolet",
          "Mercedes",
          "Audi",
          "Mercedes",
          "Suburu",
          "Chevrolet",
          "Volkswagen",
          "Volkswagen",
          "Suburu",
          "Nissan",
          "Toyota",
          "Saab",
          "Saab",
          "Mercedes",
          "Mercedes",
          "Volkswagen",
          "Dodge",
          "Dodge",
          "Mercedes",
          "Ford",
          "Dodge",
          "Jeep",
          "BMW",
          "Accura",
          "Dodge",
          "Honda",
          "Ford",
          "Dodge",
          "Volkswagen",
          "Saab",
          "Ford",
          "Ford",
          "Mercedes",
          "Chevrolet",
          "Saab",
          "Honda",
          "Chevrolet",
          "Honda",
          "Toyota",
          "Mercedes",
          "Nissan",
          "Volkswagen",
          "Nissan",
          "Volkswagen",
          "Saab",
          "BMW",
          "Ford",
          "Mercedes",
          "Chevrolet",
          "Audi",
          "Audi",
          "Dodge",
          "Ford",
          "Audi",
          "Jeep",
          "Mercedes",
          "BMW",
          "Saab",
          "Accura",
          "BMW",
          "Saab",
          "BMW",
          "Mercedes",
          "Mercedes",
          "Chevrolet",
          "Accura",
          "Ford",
          "Dodge",
          "Volkswagen",
          "Ford",
          "Saab",
          "Chevrolet",
          "Chevrolet",
          "Suburu",
          "Suburu",
          "Chevrolet",
          "Suburu",
          "Volkswagen",
          "Toyota",
          "Dodge",
          "Mercedes",
          "Jeep",
          "Jeep",
          "Volkswagen",
          "BMW",
          "Ford",
          "Honda",
          "BMW",
          "Mercedes",
          "Volkswagen",
          "Saab",
          "Accura",
          "Ford",
          "Volkswagen",
          "Jeep",
          "Audi",
          "Audi",
          "BMW",
          "Toyota",
          "Ford",
          "Volkswagen",
          "Audi",
          "Dodge",
          "Suburu",
          "Ford",
          "Ford",
          "Jeep",
          "Chevrolet",
          "Dodge",
          "BMW",
          "Audi",
          "Saab",
          "Chevrolet",
          "Accura",
          "Mercedes",
          "Dodge",
          "BMW",
          "Dodge",
          "Toyota",
          "Saab",
          "Toyota",
          "Toyota",
          "Dodge",
          "Audi",
          "Volkswagen",
          "Nissan",
          "Jeep",
          "Suburu",
          "Chevrolet",
          "Suburu",
          "BMW",
          "Toyota",
          "Chevrolet"
         ],
         "xaxis": "x",
         "yaxis": "y"
        },
        {
         "alignmentgroup": "True",
         "bingroup": "x",
         "hovertemplate": "fraud_reported=N<br>auto_make=%{x}<br>count=%{y}<extra></extra>",
         "legendgroup": "N",
         "marker": {
          "color": "#EF553B",
          "pattern": {
           "shape": ""
          }
         },
         "name": "N",
         "offsetgroup": "N",
         "orientation": "v",
         "showlegend": true,
         "type": "histogram",
         "x": [
          "Dodge",
          "Accura",
          "Nissan",
          "Audi",
          "Toyota",
          "Saab",
          "Ford",
          "Audi",
          "Saab",
          "Toyota",
          "Nissan",
          "Suburu",
          "Accura",
          "Nissan",
          "Suburu",
          "Accura",
          "Ford",
          "Toyota",
          "Dodge",
          "Accura",
          "Toyota",
          "BMW",
          "Suburu",
          "Audi",
          "Suburu",
          "Jeep",
          "BMW",
          "Dodge",
          "Mercedes",
          "Toyota",
          "Accura",
          "Honda",
          "Volkswagen",
          "Mercedes",
          "Nissan",
          "BMW",
          "Toyota",
          "Suburu",
          "Ford",
          "Chevrolet",
          "Honda",
          "Chevrolet",
          "Saab",
          "Ford",
          "Honda",
          "BMW",
          "BMW",
          "Audi",
          "Ford",
          "Chevrolet",
          "Mercedes",
          "BMW",
          "Ford",
          "Suburu",
          "Audi",
          "Saab",
          "Accura",
          "Accura",
          "Nissan",
          "Volkswagen",
          "Suburu",
          "Ford",
          "BMW",
          "Dodge",
          "Saab",
          "BMW",
          "Ford",
          "Mercedes",
          "Toyota",
          "Saab",
          "Audi",
          "Saab",
          "Saab",
          "Ford",
          "Toyota",
          "Chevrolet",
          "Mercedes",
          "Volkswagen",
          "Dodge",
          "BMW",
          "Saab",
          "Ford",
          "Suburu",
          "Ford",
          "BMW",
          "Volkswagen",
          "Accura",
          "BMW",
          "Ford",
          "Suburu",
          "BMW",
          "Ford",
          "Dodge",
          "Nissan",
          "Jeep",
          "BMW",
          "Ford",
          "BMW",
          "Toyota",
          "BMW",
          "Mercedes",
          "Suburu",
          "Chevrolet",
          "Accura",
          "Nissan",
          "Audi",
          "Mercedes",
          "Suburu",
          "Jeep",
          "Saab",
          "Suburu",
          "Honda",
          "Mercedes",
          "Chevrolet",
          "Volkswagen",
          "Mercedes",
          "Suburu",
          "Saab",
          "Toyota",
          "Jeep",
          "Jeep",
          "Dodge",
          "Volkswagen",
          "Ford",
          "Jeep",
          "Honda",
          "Volkswagen",
          "Chevrolet",
          "Chevrolet",
          "Audi",
          "Dodge",
          "Accura",
          "Mercedes",
          "Audi",
          "Chevrolet",
          "Honda",
          "Volkswagen",
          "Nissan",
          "Mercedes",
          "Nissan",
          "Chevrolet",
          "Saab",
          "Accura",
          "Honda",
          "BMW",
          "Suburu",
          "Suburu",
          "Chevrolet",
          "Chevrolet",
          "Saab",
          "BMW",
          "Audi",
          "Mercedes",
          "Suburu",
          "Toyota",
          "Dodge",
          "Volkswagen",
          "Audi",
          "BMW",
          "BMW",
          "Jeep",
          "Chevrolet",
          "Mercedes",
          "Accura",
          "Jeep",
          "Accura",
          "Saab",
          "Accura",
          "Honda",
          "Volkswagen",
          "Toyota",
          "Nissan",
          "Nissan",
          "Dodge",
          "Saab",
          "Suburu",
          "Saab",
          "Nissan",
          "Dodge",
          "Mercedes",
          "Saab",
          "Mercedes",
          "Chevrolet",
          "Saab",
          "Dodge",
          "Accura",
          "Toyota",
          "Dodge",
          "Dodge",
          "Volkswagen",
          "Audi",
          "BMW",
          "Nissan",
          "Chevrolet",
          "Toyota",
          "Audi",
          "Nissan",
          "Ford",
          "Jeep",
          "Saab",
          "BMW",
          "Nissan",
          "Jeep",
          "Ford",
          "Accura",
          "Suburu",
          "Toyota",
          "BMW",
          "Chevrolet",
          "BMW",
          "Mercedes",
          "Mercedes",
          "Audi",
          "Dodge",
          "Nissan",
          "Accura",
          "Audi",
          "Honda",
          "Jeep",
          "Ford",
          "Accura",
          "Suburu",
          "BMW",
          "Suburu",
          "Toyota",
          "BMW",
          "Nissan",
          "BMW",
          "Accura",
          "Toyota",
          "Toyota",
          "Dodge",
          "BMW",
          "Audi",
          "Nissan",
          "Volkswagen",
          "Chevrolet",
          "Toyota",
          "Nissan",
          "Suburu",
          "Ford",
          "BMW",
          "Chevrolet",
          "Dodge",
          "Saab",
          "Suburu",
          "BMW",
          "Ford",
          "Jeep",
          "Suburu",
          "Mercedes",
          "Audi",
          "Volkswagen",
          "Honda",
          "Suburu",
          "Volkswagen",
          "Nissan",
          "Ford",
          "Suburu",
          "Saab",
          "Saab",
          "Volkswagen",
          "Toyota",
          "Dodge",
          "Saab",
          "Honda",
          "Suburu",
          "Suburu",
          "Volkswagen",
          "Dodge",
          "Toyota",
          "Audi",
          "Audi",
          "Chevrolet",
          "Audi",
          "Ford",
          "Mercedes",
          "Honda",
          "Nissan",
          "Suburu",
          "Saab",
          "Toyota",
          "Saab",
          "Volkswagen",
          "Accura",
          "Ford",
          "Jeep",
          "Saab",
          "Chevrolet",
          "Jeep",
          "Ford",
          "Audi",
          "Honda",
          "Toyota",
          "Suburu",
          "Chevrolet",
          "Ford",
          "BMW",
          "BMW",
          "Chevrolet",
          "Jeep",
          "Dodge",
          "Suburu",
          "Mercedes",
          "Jeep",
          "Jeep",
          "BMW",
          "Volkswagen",
          "Toyota",
          "Toyota",
          "Ford",
          "BMW",
          "Nissan",
          "Nissan",
          "Dodge",
          "Saab",
          "Dodge",
          "Honda",
          "Dodge",
          "Suburu",
          "Audi",
          "Nissan",
          "Dodge",
          "Dodge",
          "Jeep",
          "Dodge",
          "Jeep",
          "Chevrolet",
          "Dodge",
          "BMW",
          "Toyota",
          "Chevrolet",
          "Audi",
          "Suburu",
          "Chevrolet",
          "Ford",
          "Dodge",
          "Jeep",
          "Accura",
          "Honda",
          "Saab",
          "Nissan",
          "BMW",
          "Chevrolet",
          "Volkswagen",
          "Volkswagen",
          "Volkswagen",
          "Dodge",
          "BMW",
          "Nissan",
          "Nissan",
          "Ford",
          "Accura",
          "BMW",
          "Jeep",
          "Nissan",
          "Chevrolet",
          "Dodge",
          "Mercedes",
          "Toyota",
          "Jeep",
          "Saab",
          "Chevrolet",
          "Chevrolet",
          "Accura",
          "Accura",
          "Saab",
          "Honda",
          "Mercedes",
          "Nissan",
          "Accura",
          "Jeep",
          "Nissan",
          "Accura",
          "Honda",
          "Mercedes",
          "Audi",
          "Volkswagen",
          "Nissan",
          "Honda",
          "Mercedes",
          "Chevrolet",
          "Jeep",
          "Chevrolet",
          "Accura",
          "Audi",
          "Honda",
          "Ford",
          "Toyota",
          "Jeep",
          "Suburu",
          "Ford",
          "Jeep",
          "Chevrolet",
          "Accura",
          "Mercedes",
          "Mercedes",
          "Nissan",
          "Volkswagen",
          "Nissan",
          "BMW",
          "Volkswagen",
          "Mercedes",
          "Saab",
          "Suburu",
          "Suburu",
          "Audi",
          "Accura",
          "BMW",
          "Volkswagen",
          "Accura",
          "Honda",
          "Saab",
          "Ford",
          "Accura",
          "Toyota",
          "Chevrolet",
          "Ford",
          "Dodge",
          "Jeep",
          "Saab",
          "Toyota",
          "Chevrolet",
          "BMW",
          "Volkswagen",
          "Jeep",
          "Dodge",
          "Audi",
          "BMW",
          "Toyota",
          "Ford",
          "Audi",
          "Ford",
          "Toyota",
          "Nissan",
          "Chevrolet",
          "Volkswagen",
          "Mercedes",
          "Saab",
          "Ford",
          "Chevrolet",
          "Mercedes",
          "Ford",
          "Dodge",
          "Saab",
          "Saab",
          "Ford",
          "Toyota",
          "Toyota",
          "Accura",
          "Audi",
          "Accura",
          "Volkswagen",
          "Dodge",
          "Toyota",
          "Chevrolet",
          "BMW",
          "Volkswagen",
          "Toyota",
          "Nissan",
          "Volkswagen",
          "Jeep",
          "Saab",
          "Ford",
          "Jeep",
          "Nissan",
          "Mercedes",
          "Dodge",
          "Toyota",
          "Chevrolet",
          "Accura",
          "Accura",
          "Toyota",
          "Saab",
          "Suburu",
          "Nissan",
          "Dodge",
          "Suburu",
          "Saab",
          "Volkswagen",
          "Honda",
          "Dodge",
          "Suburu",
          "Honda",
          "Jeep",
          "Jeep",
          "Audi",
          "Ford",
          "Ford",
          "Nissan",
          "Suburu",
          "Jeep",
          "Dodge",
          "Honda",
          "Saab",
          "Accura",
          "Audi",
          "Toyota",
          "Nissan",
          "Jeep",
          "Ford",
          "Dodge",
          "Dodge",
          "Toyota",
          "Jeep",
          "Saab",
          "Saab",
          "Ford",
          "Dodge",
          "Accura",
          "Honda",
          "Volkswagen",
          "Chevrolet",
          "Saab",
          "Saab",
          "Audi",
          "Saab",
          "BMW",
          "Jeep",
          "Ford",
          "Audi",
          "Honda",
          "Volkswagen",
          "Nissan",
          "Mercedes",
          "Volkswagen",
          "Nissan",
          "Jeep",
          "Mercedes",
          "Dodge",
          "Accura",
          "Audi",
          "Volkswagen",
          "Dodge",
          "Dodge",
          "Accura",
          "Chevrolet",
          "Dodge",
          "Chevrolet",
          "Suburu",
          "Toyota",
          "Saab",
          "Dodge",
          "Accura",
          "Jeep",
          "Volkswagen",
          "Nissan",
          "Honda",
          "Chevrolet",
          "Suburu",
          "BMW",
          "Audi",
          "Dodge",
          "Jeep",
          "Ford",
          "Mercedes",
          "Accura",
          "Chevrolet",
          "Mercedes",
          "Nissan",
          "Dodge",
          "Jeep",
          "Accura",
          "Saab",
          "Nissan",
          "Nissan",
          "Mercedes",
          "Suburu",
          "Suburu",
          "Jeep",
          "Suburu",
          "Audi",
          "Volkswagen",
          "Chevrolet",
          "Toyota",
          "Saab",
          "Toyota",
          "Audi",
          "Volkswagen",
          "Dodge",
          "Volkswagen",
          "Nissan",
          "Suburu",
          "Dodge",
          "Chevrolet",
          "Nissan",
          "Toyota",
          "Dodge",
          "Volkswagen",
          "Nissan",
          "Suburu",
          "Toyota",
          "Saab",
          "Jeep",
          "Toyota",
          "Toyota",
          "Audi",
          "Accura",
          "Chevrolet",
          "Chevrolet",
          "Toyota",
          "Saab",
          "Nissan",
          "Audi",
          "Audi",
          "Ford",
          "Chevrolet",
          "Accura",
          "Nissan",
          "Volkswagen",
          "Nissan",
          "Chevrolet",
          "Dodge",
          "Audi",
          "Nissan",
          "Honda",
          "Ford",
          "Volkswagen",
          "Suburu",
          "Suburu",
          "Audi",
          "Dodge",
          "Nissan",
          "Ford",
          "Suburu",
          "Mercedes",
          "Nissan",
          "Dodge",
          "Chevrolet",
          "Saab",
          "BMW",
          "Jeep",
          "Toyota",
          "Jeep",
          "Saab",
          "Accura",
          "Mercedes",
          "Nissan",
          "Saab",
          "Audi",
          "Suburu",
          "Toyota",
          "Nissan",
          "Suburu",
          "Accura",
          "Nissan",
          "Suburu",
          "Jeep",
          "Toyota",
          "Accura",
          "Dodge",
          "Honda",
          "Jeep",
          "Chevrolet",
          "Mercedes",
          "Saab",
          "Saab",
          "Mercedes",
          "BMW",
          "BMW",
          "BMW",
          "Audi",
          "Honda",
          "Accura",
          "Volkswagen",
          "Suburu",
          "Saab",
          "Jeep",
          "Dodge",
          "Suburu",
          "Saab",
          "Jeep",
          "Chevrolet",
          "Saab",
          "Mercedes",
          "Nissan",
          "Honda",
          "Volkswagen",
          "Saab",
          "BMW",
          "Saab",
          "Honda",
          "Jeep",
          "Nissan",
          "Jeep",
          "Honda",
          "Honda",
          "Honda",
          "Mercedes",
          "Toyota",
          "Accura",
          "BMW",
          "Nissan",
          "Accura",
          "Honda",
          "Jeep",
          "Audi",
          "Nissan",
          "Honda",
          "Dodge",
          "Toyota",
          "Honda",
          "Jeep",
          "Suburu",
          "Volkswagen",
          "Volkswagen",
          "Audi",
          "Jeep",
          "Suburu",
          "Suburu",
          "Suburu",
          "Ford",
          "Toyota",
          "Nissan",
          "Audi",
          "Volkswagen",
          "Honda",
          "Nissan",
          "Toyota",
          "Chevrolet",
          "Dodge",
          "Saab",
          "Toyota",
          "Accura",
          "Chevrolet",
          "BMW",
          "BMW",
          "Jeep",
          "Accura",
          "Accura",
          "Ford",
          "Mercedes",
          "Ford",
          "Accura",
          "Dodge",
          "Saab",
          "Suburu",
          "Dodge",
          "Suburu",
          "Toyota",
          "Jeep",
          "Honda",
          "Chevrolet",
          "Jeep",
          "Accura",
          "Nissan",
          "Volkswagen",
          "Honda",
          "Honda",
          "Volkswagen",
          "Suburu",
          "Audi",
          "Mercedes"
         ],
         "xaxis": "x",
         "yaxis": "y"
        }
       ],
       "layout": {
        "barmode": "group",
        "legend": {
         "title": {
          "text": "fraud_reported"
         },
         "tracegroupgap": 0
        },
        "margin": {
         "t": 60
        },
        "template": {
         "data": {
          "bar": [
           {
            "error_x": {
             "color": "#2a3f5f"
            },
            "error_y": {
             "color": "#2a3f5f"
            },
            "marker": {
             "line": {
              "color": "#E5ECF6",
              "width": 0.5
             },
             "pattern": {
              "fillmode": "overlay",
              "size": 10,
              "solidity": 0.2
             }
            },
            "type": "bar"
           }
          ],
          "barpolar": [
           {
            "marker": {
             "line": {
              "color": "#E5ECF6",
              "width": 0.5
             },
             "pattern": {
              "fillmode": "overlay",
              "size": 10,
              "solidity": 0.2
             }
            },
            "type": "barpolar"
           }
          ],
          "carpet": [
           {
            "aaxis": {
             "endlinecolor": "#2a3f5f",
             "gridcolor": "white",
             "linecolor": "white",
             "minorgridcolor": "white",
             "startlinecolor": "#2a3f5f"
            },
            "baxis": {
             "endlinecolor": "#2a3f5f",
             "gridcolor": "white",
             "linecolor": "white",
             "minorgridcolor": "white",
             "startlinecolor": "#2a3f5f"
            },
            "type": "carpet"
           }
          ],
          "choropleth": [
           {
            "colorbar": {
             "outlinewidth": 0,
             "ticks": ""
            },
            "type": "choropleth"
           }
          ],
          "contour": [
           {
            "colorbar": {
             "outlinewidth": 0,
             "ticks": ""
            },
            "colorscale": [
             [
              0,
              "#0d0887"
             ],
             [
              0.1111111111111111,
              "#46039f"
             ],
             [
              0.2222222222222222,
              "#7201a8"
             ],
             [
              0.3333333333333333,
              "#9c179e"
             ],
             [
              0.4444444444444444,
              "#bd3786"
             ],
             [
              0.5555555555555556,
              "#d8576b"
             ],
             [
              0.6666666666666666,
              "#ed7953"
             ],
             [
              0.7777777777777778,
              "#fb9f3a"
             ],
             [
              0.8888888888888888,
              "#fdca26"
             ],
             [
              1,
              "#f0f921"
             ]
            ],
            "type": "contour"
           }
          ],
          "contourcarpet": [
           {
            "colorbar": {
             "outlinewidth": 0,
             "ticks": ""
            },
            "type": "contourcarpet"
           }
          ],
          "heatmap": [
           {
            "colorbar": {
             "outlinewidth": 0,
             "ticks": ""
            },
            "colorscale": [
             [
              0,
              "#0d0887"
             ],
             [
              0.1111111111111111,
              "#46039f"
             ],
             [
              0.2222222222222222,
              "#7201a8"
             ],
             [
              0.3333333333333333,
              "#9c179e"
             ],
             [
              0.4444444444444444,
              "#bd3786"
             ],
             [
              0.5555555555555556,
              "#d8576b"
             ],
             [
              0.6666666666666666,
              "#ed7953"
             ],
             [
              0.7777777777777778,
              "#fb9f3a"
             ],
             [
              0.8888888888888888,
              "#fdca26"
             ],
             [
              1,
              "#f0f921"
             ]
            ],
            "type": "heatmap"
           }
          ],
          "heatmapgl": [
           {
            "colorbar": {
             "outlinewidth": 0,
             "ticks": ""
            },
            "colorscale": [
             [
              0,
              "#0d0887"
             ],
             [
              0.1111111111111111,
              "#46039f"
             ],
             [
              0.2222222222222222,
              "#7201a8"
             ],
             [
              0.3333333333333333,
              "#9c179e"
             ],
             [
              0.4444444444444444,
              "#bd3786"
             ],
             [
              0.5555555555555556,
              "#d8576b"
             ],
             [
              0.6666666666666666,
              "#ed7953"
             ],
             [
              0.7777777777777778,
              "#fb9f3a"
             ],
             [
              0.8888888888888888,
              "#fdca26"
             ],
             [
              1,
              "#f0f921"
             ]
            ],
            "type": "heatmapgl"
           }
          ],
          "histogram": [
           {
            "marker": {
             "pattern": {
              "fillmode": "overlay",
              "size": 10,
              "solidity": 0.2
             }
            },
            "type": "histogram"
           }
          ],
          "histogram2d": [
           {
            "colorbar": {
             "outlinewidth": 0,
             "ticks": ""
            },
            "colorscale": [
             [
              0,
              "#0d0887"
             ],
             [
              0.1111111111111111,
              "#46039f"
             ],
             [
              0.2222222222222222,
              "#7201a8"
             ],
             [
              0.3333333333333333,
              "#9c179e"
             ],
             [
              0.4444444444444444,
              "#bd3786"
             ],
             [
              0.5555555555555556,
              "#d8576b"
             ],
             [
              0.6666666666666666,
              "#ed7953"
             ],
             [
              0.7777777777777778,
              "#fb9f3a"
             ],
             [
              0.8888888888888888,
              "#fdca26"
             ],
             [
              1,
              "#f0f921"
             ]
            ],
            "type": "histogram2d"
           }
          ],
          "histogram2dcontour": [
           {
            "colorbar": {
             "outlinewidth": 0,
             "ticks": ""
            },
            "colorscale": [
             [
              0,
              "#0d0887"
             ],
             [
              0.1111111111111111,
              "#46039f"
             ],
             [
              0.2222222222222222,
              "#7201a8"
             ],
             [
              0.3333333333333333,
              "#9c179e"
             ],
             [
              0.4444444444444444,
              "#bd3786"
             ],
             [
              0.5555555555555556,
              "#d8576b"
             ],
             [
              0.6666666666666666,
              "#ed7953"
             ],
             [
              0.7777777777777778,
              "#fb9f3a"
             ],
             [
              0.8888888888888888,
              "#fdca26"
             ],
             [
              1,
              "#f0f921"
             ]
            ],
            "type": "histogram2dcontour"
           }
          ],
          "mesh3d": [
           {
            "colorbar": {
             "outlinewidth": 0,
             "ticks": ""
            },
            "type": "mesh3d"
           }
          ],
          "parcoords": [
           {
            "line": {
             "colorbar": {
              "outlinewidth": 0,
              "ticks": ""
             }
            },
            "type": "parcoords"
           }
          ],
          "pie": [
           {
            "automargin": true,
            "type": "pie"
           }
          ],
          "scatter": [
           {
            "fillpattern": {
             "fillmode": "overlay",
             "size": 10,
             "solidity": 0.2
            },
            "type": "scatter"
           }
          ],
          "scatter3d": [
           {
            "line": {
             "colorbar": {
              "outlinewidth": 0,
              "ticks": ""
             }
            },
            "marker": {
             "colorbar": {
              "outlinewidth": 0,
              "ticks": ""
             }
            },
            "type": "scatter3d"
           }
          ],
          "scattercarpet": [
           {
            "marker": {
             "colorbar": {
              "outlinewidth": 0,
              "ticks": ""
             }
            },
            "type": "scattercarpet"
           }
          ],
          "scattergeo": [
           {
            "marker": {
             "colorbar": {
              "outlinewidth": 0,
              "ticks": ""
             }
            },
            "type": "scattergeo"
           }
          ],
          "scattergl": [
           {
            "marker": {
             "colorbar": {
              "outlinewidth": 0,
              "ticks": ""
             }
            },
            "type": "scattergl"
           }
          ],
          "scattermapbox": [
           {
            "marker": {
             "colorbar": {
              "outlinewidth": 0,
              "ticks": ""
             }
            },
            "type": "scattermapbox"
           }
          ],
          "scatterpolar": [
           {
            "marker": {
             "colorbar": {
              "outlinewidth": 0,
              "ticks": ""
             }
            },
            "type": "scatterpolar"
           }
          ],
          "scatterpolargl": [
           {
            "marker": {
             "colorbar": {
              "outlinewidth": 0,
              "ticks": ""
             }
            },
            "type": "scatterpolargl"
           }
          ],
          "scatterternary": [
           {
            "marker": {
             "colorbar": {
              "outlinewidth": 0,
              "ticks": ""
             }
            },
            "type": "scatterternary"
           }
          ],
          "surface": [
           {
            "colorbar": {
             "outlinewidth": 0,
             "ticks": ""
            },
            "colorscale": [
             [
              0,
              "#0d0887"
             ],
             [
              0.1111111111111111,
              "#46039f"
             ],
             [
              0.2222222222222222,
              "#7201a8"
             ],
             [
              0.3333333333333333,
              "#9c179e"
             ],
             [
              0.4444444444444444,
              "#bd3786"
             ],
             [
              0.5555555555555556,
              "#d8576b"
             ],
             [
              0.6666666666666666,
              "#ed7953"
             ],
             [
              0.7777777777777778,
              "#fb9f3a"
             ],
             [
              0.8888888888888888,
              "#fdca26"
             ],
             [
              1,
              "#f0f921"
             ]
            ],
            "type": "surface"
           }
          ],
          "table": [
           {
            "cells": {
             "fill": {
              "color": "#EBF0F8"
             },
             "line": {
              "color": "white"
             }
            },
            "header": {
             "fill": {
              "color": "#C8D4E3"
             },
             "line": {
              "color": "white"
             }
            },
            "type": "table"
           }
          ]
         },
         "layout": {
          "annotationdefaults": {
           "arrowcolor": "#2a3f5f",
           "arrowhead": 0,
           "arrowwidth": 1
          },
          "autotypenumbers": "strict",
          "coloraxis": {
           "colorbar": {
            "outlinewidth": 0,
            "ticks": ""
           }
          },
          "colorscale": {
           "diverging": [
            [
             0,
             "#8e0152"
            ],
            [
             0.1,
             "#c51b7d"
            ],
            [
             0.2,
             "#de77ae"
            ],
            [
             0.3,
             "#f1b6da"
            ],
            [
             0.4,
             "#fde0ef"
            ],
            [
             0.5,
             "#f7f7f7"
            ],
            [
             0.6,
             "#e6f5d0"
            ],
            [
             0.7,
             "#b8e186"
            ],
            [
             0.8,
             "#7fbc41"
            ],
            [
             0.9,
             "#4d9221"
            ],
            [
             1,
             "#276419"
            ]
           ],
           "sequential": [
            [
             0,
             "#0d0887"
            ],
            [
             0.1111111111111111,
             "#46039f"
            ],
            [
             0.2222222222222222,
             "#7201a8"
            ],
            [
             0.3333333333333333,
             "#9c179e"
            ],
            [
             0.4444444444444444,
             "#bd3786"
            ],
            [
             0.5555555555555556,
             "#d8576b"
            ],
            [
             0.6666666666666666,
             "#ed7953"
            ],
            [
             0.7777777777777778,
             "#fb9f3a"
            ],
            [
             0.8888888888888888,
             "#fdca26"
            ],
            [
             1,
             "#f0f921"
            ]
           ],
           "sequentialminus": [
            [
             0,
             "#0d0887"
            ],
            [
             0.1111111111111111,
             "#46039f"
            ],
            [
             0.2222222222222222,
             "#7201a8"
            ],
            [
             0.3333333333333333,
             "#9c179e"
            ],
            [
             0.4444444444444444,
             "#bd3786"
            ],
            [
             0.5555555555555556,
             "#d8576b"
            ],
            [
             0.6666666666666666,
             "#ed7953"
            ],
            [
             0.7777777777777778,
             "#fb9f3a"
            ],
            [
             0.8888888888888888,
             "#fdca26"
            ],
            [
             1,
             "#f0f921"
            ]
           ]
          },
          "colorway": [
           "#636efa",
           "#EF553B",
           "#00cc96",
           "#ab63fa",
           "#FFA15A",
           "#19d3f3",
           "#FF6692",
           "#B6E880",
           "#FF97FF",
           "#FECB52"
          ],
          "font": {
           "color": "#2a3f5f"
          },
          "geo": {
           "bgcolor": "white",
           "lakecolor": "white",
           "landcolor": "#E5ECF6",
           "showlakes": true,
           "showland": true,
           "subunitcolor": "white"
          },
          "hoverlabel": {
           "align": "left"
          },
          "hovermode": "closest",
          "mapbox": {
           "style": "light"
          },
          "paper_bgcolor": "white",
          "plot_bgcolor": "#E5ECF6",
          "polar": {
           "angularaxis": {
            "gridcolor": "white",
            "linecolor": "white",
            "ticks": ""
           },
           "bgcolor": "#E5ECF6",
           "radialaxis": {
            "gridcolor": "white",
            "linecolor": "white",
            "ticks": ""
           }
          },
          "scene": {
           "xaxis": {
            "backgroundcolor": "#E5ECF6",
            "gridcolor": "white",
            "gridwidth": 2,
            "linecolor": "white",
            "showbackground": true,
            "ticks": "",
            "zerolinecolor": "white"
           },
           "yaxis": {
            "backgroundcolor": "#E5ECF6",
            "gridcolor": "white",
            "gridwidth": 2,
            "linecolor": "white",
            "showbackground": true,
            "ticks": "",
            "zerolinecolor": "white"
           },
           "zaxis": {
            "backgroundcolor": "#E5ECF6",
            "gridcolor": "white",
            "gridwidth": 2,
            "linecolor": "white",
            "showbackground": true,
            "ticks": "",
            "zerolinecolor": "white"
           }
          },
          "shapedefaults": {
           "line": {
            "color": "#2a3f5f"
           }
          },
          "ternary": {
           "aaxis": {
            "gridcolor": "white",
            "linecolor": "white",
            "ticks": ""
           },
           "baxis": {
            "gridcolor": "white",
            "linecolor": "white",
            "ticks": ""
           },
           "bgcolor": "#E5ECF6",
           "caxis": {
            "gridcolor": "white",
            "linecolor": "white",
            "ticks": ""
           }
          },
          "title": {
           "x": 0.05
          },
          "xaxis": {
           "automargin": true,
           "gridcolor": "white",
           "linecolor": "white",
           "ticks": "",
           "title": {
            "standoff": 15
           },
           "zerolinecolor": "white",
           "zerolinewidth": 2
          },
          "yaxis": {
           "automargin": true,
           "gridcolor": "white",
           "linecolor": "white",
           "ticks": "",
           "title": {
            "standoff": 15
           },
           "zerolinecolor": "white",
           "zerolinewidth": 2
          }
         }
        },
        "xaxis": {
         "anchor": "y",
         "domain": [
          0,
          1
         ],
         "title": {
          "text": "auto_make"
         }
        },
        "yaxis": {
         "anchor": "x",
         "domain": [
          0,
          1
         ],
         "title": {
          "text": "count"
         }
        }
       }
      },
      "text/html": [
       "<div>                            <div id=\"d04017b7-a222-4812-b8d2-644848d6c04d\" class=\"plotly-graph-div\" style=\"height:525px; width:100%;\"></div>            <script type=\"text/javascript\">                require([\"plotly\"], function(Plotly) {                    window.PLOTLYENV=window.PLOTLYENV || {};                                    if (document.getElementById(\"d04017b7-a222-4812-b8d2-644848d6c04d\")) {                    Plotly.newPlot(                        \"d04017b7-a222-4812-b8d2-644848d6c04d\",                        [{\"alignmentgroup\":\"True\",\"bingroup\":\"x\",\"hovertemplate\":\"fraud_reported=Y<br>auto_make=%{x}<br>count=%{y}<extra></extra>\",\"legendgroup\":\"Y\",\"marker\":{\"color\":\"#636efa\",\"pattern\":{\"shape\":\"\"}},\"name\":\"Y\",\"offsetgroup\":\"Y\",\"orientation\":\"v\",\"showlegend\":true,\"x\":[\"Saab\",\"Mercedes\",\"Chevrolet\",\"Saab\",\"Dodge\",\"Accura\",\"Suburu\",\"Dodge\",\"Ford\",\"Suburu\",\"Ford\",\"Mercedes\",\"Suburu\",\"Nissan\",\"BMW\",\"Audi\",\"Nissan\",\"Suburu\",\"Ford\",\"Dodge\",\"Audi\",\"Audi\",\"Honda\",\"BMW\",\"Audi\",\"Accura\",\"Honda\",\"Dodge\",\"Nissan\",\"Saab\",\"Saab\",\"Nissan\",\"Ford\",\"Accura\",\"Toyota\",\"Ford\",\"Nissan\",\"BMW\",\"Saab\",\"Volkswagen\",\"Accura\",\"Accura\",\"BMW\",\"Volkswagen\",\"Suburu\",\"Volkswagen\",\"Saab\",\"Audi\",\"Dodge\",\"Audi\",\"Volkswagen\",\"Chevrolet\",\"Mercedes\",\"Honda\",\"Jeep\",\"Ford\",\"Dodge\",\"Suburu\",\"Audi\",\"Saab\",\"Honda\",\"Toyota\",\"Audi\",\"Audi\",\"Chevrolet\",\"Dodge\",\"Chevrolet\",\"Suburu\",\"Ford\",\"Nissan\",\"Chevrolet\",\"Mercedes\",\"Suburu\",\"Ford\",\"Volkswagen\",\"Toyota\",\"Jeep\",\"BMW\",\"Nissan\",\"Chevrolet\",\"BMW\",\"Ford\",\"BMW\",\"Honda\",\"Honda\",\"Mercedes\",\"Nissan\",\"Toyota\",\"Honda\",\"Suburu\",\"Honda\",\"Audi\",\"Honda\",\"Nissan\",\"Audi\",\"Suburu\",\"Jeep\",\"Accura\",\"Audi\",\"Jeep\",\"Chevrolet\",\"Toyota\",\"Mercedes\",\"Volkswagen\",\"BMW\",\"Accura\",\"Honda\",\"Mercedes\",\"Nissan\",\"BMW\",\"Accura\",\"Mercedes\",\"Chevrolet\",\"Suburu\",\"Chevrolet\",\"Mercedes\",\"Audi\",\"Mercedes\",\"Suburu\",\"Chevrolet\",\"Volkswagen\",\"Volkswagen\",\"Suburu\",\"Nissan\",\"Toyota\",\"Saab\",\"Saab\",\"Mercedes\",\"Mercedes\",\"Volkswagen\",\"Dodge\",\"Dodge\",\"Mercedes\",\"Ford\",\"Dodge\",\"Jeep\",\"BMW\",\"Accura\",\"Dodge\",\"Honda\",\"Ford\",\"Dodge\",\"Volkswagen\",\"Saab\",\"Ford\",\"Ford\",\"Mercedes\",\"Chevrolet\",\"Saab\",\"Honda\",\"Chevrolet\",\"Honda\",\"Toyota\",\"Mercedes\",\"Nissan\",\"Volkswagen\",\"Nissan\",\"Volkswagen\",\"Saab\",\"BMW\",\"Ford\",\"Mercedes\",\"Chevrolet\",\"Audi\",\"Audi\",\"Dodge\",\"Ford\",\"Audi\",\"Jeep\",\"Mercedes\",\"BMW\",\"Saab\",\"Accura\",\"BMW\",\"Saab\",\"BMW\",\"Mercedes\",\"Mercedes\",\"Chevrolet\",\"Accura\",\"Ford\",\"Dodge\",\"Volkswagen\",\"Ford\",\"Saab\",\"Chevrolet\",\"Chevrolet\",\"Suburu\",\"Suburu\",\"Chevrolet\",\"Suburu\",\"Volkswagen\",\"Toyota\",\"Dodge\",\"Mercedes\",\"Jeep\",\"Jeep\",\"Volkswagen\",\"BMW\",\"Ford\",\"Honda\",\"BMW\",\"Mercedes\",\"Volkswagen\",\"Saab\",\"Accura\",\"Ford\",\"Volkswagen\",\"Jeep\",\"Audi\",\"Audi\",\"BMW\",\"Toyota\",\"Ford\",\"Volkswagen\",\"Audi\",\"Dodge\",\"Suburu\",\"Ford\",\"Ford\",\"Jeep\",\"Chevrolet\",\"Dodge\",\"BMW\",\"Audi\",\"Saab\",\"Chevrolet\",\"Accura\",\"Mercedes\",\"Dodge\",\"BMW\",\"Dodge\",\"Toyota\",\"Saab\",\"Toyota\",\"Toyota\",\"Dodge\",\"Audi\",\"Volkswagen\",\"Nissan\",\"Jeep\",\"Suburu\",\"Chevrolet\",\"Suburu\",\"BMW\",\"Toyota\",\"Chevrolet\"],\"xaxis\":\"x\",\"yaxis\":\"y\",\"type\":\"histogram\"},{\"alignmentgroup\":\"True\",\"bingroup\":\"x\",\"hovertemplate\":\"fraud_reported=N<br>auto_make=%{x}<br>count=%{y}<extra></extra>\",\"legendgroup\":\"N\",\"marker\":{\"color\":\"#EF553B\",\"pattern\":{\"shape\":\"\"}},\"name\":\"N\",\"offsetgroup\":\"N\",\"orientation\":\"v\",\"showlegend\":true,\"x\":[\"Dodge\",\"Accura\",\"Nissan\",\"Audi\",\"Toyota\",\"Saab\",\"Ford\",\"Audi\",\"Saab\",\"Toyota\",\"Nissan\",\"Suburu\",\"Accura\",\"Nissan\",\"Suburu\",\"Accura\",\"Ford\",\"Toyota\",\"Dodge\",\"Accura\",\"Toyota\",\"BMW\",\"Suburu\",\"Audi\",\"Suburu\",\"Jeep\",\"BMW\",\"Dodge\",\"Mercedes\",\"Toyota\",\"Accura\",\"Honda\",\"Volkswagen\",\"Mercedes\",\"Nissan\",\"BMW\",\"Toyota\",\"Suburu\",\"Ford\",\"Chevrolet\",\"Honda\",\"Chevrolet\",\"Saab\",\"Ford\",\"Honda\",\"BMW\",\"BMW\",\"Audi\",\"Ford\",\"Chevrolet\",\"Mercedes\",\"BMW\",\"Ford\",\"Suburu\",\"Audi\",\"Saab\",\"Accura\",\"Accura\",\"Nissan\",\"Volkswagen\",\"Suburu\",\"Ford\",\"BMW\",\"Dodge\",\"Saab\",\"BMW\",\"Ford\",\"Mercedes\",\"Toyota\",\"Saab\",\"Audi\",\"Saab\",\"Saab\",\"Ford\",\"Toyota\",\"Chevrolet\",\"Mercedes\",\"Volkswagen\",\"Dodge\",\"BMW\",\"Saab\",\"Ford\",\"Suburu\",\"Ford\",\"BMW\",\"Volkswagen\",\"Accura\",\"BMW\",\"Ford\",\"Suburu\",\"BMW\",\"Ford\",\"Dodge\",\"Nissan\",\"Jeep\",\"BMW\",\"Ford\",\"BMW\",\"Toyota\",\"BMW\",\"Mercedes\",\"Suburu\",\"Chevrolet\",\"Accura\",\"Nissan\",\"Audi\",\"Mercedes\",\"Suburu\",\"Jeep\",\"Saab\",\"Suburu\",\"Honda\",\"Mercedes\",\"Chevrolet\",\"Volkswagen\",\"Mercedes\",\"Suburu\",\"Saab\",\"Toyota\",\"Jeep\",\"Jeep\",\"Dodge\",\"Volkswagen\",\"Ford\",\"Jeep\",\"Honda\",\"Volkswagen\",\"Chevrolet\",\"Chevrolet\",\"Audi\",\"Dodge\",\"Accura\",\"Mercedes\",\"Audi\",\"Chevrolet\",\"Honda\",\"Volkswagen\",\"Nissan\",\"Mercedes\",\"Nissan\",\"Chevrolet\",\"Saab\",\"Accura\",\"Honda\",\"BMW\",\"Suburu\",\"Suburu\",\"Chevrolet\",\"Chevrolet\",\"Saab\",\"BMW\",\"Audi\",\"Mercedes\",\"Suburu\",\"Toyota\",\"Dodge\",\"Volkswagen\",\"Audi\",\"BMW\",\"BMW\",\"Jeep\",\"Chevrolet\",\"Mercedes\",\"Accura\",\"Jeep\",\"Accura\",\"Saab\",\"Accura\",\"Honda\",\"Volkswagen\",\"Toyota\",\"Nissan\",\"Nissan\",\"Dodge\",\"Saab\",\"Suburu\",\"Saab\",\"Nissan\",\"Dodge\",\"Mercedes\",\"Saab\",\"Mercedes\",\"Chevrolet\",\"Saab\",\"Dodge\",\"Accura\",\"Toyota\",\"Dodge\",\"Dodge\",\"Volkswagen\",\"Audi\",\"BMW\",\"Nissan\",\"Chevrolet\",\"Toyota\",\"Audi\",\"Nissan\",\"Ford\",\"Jeep\",\"Saab\",\"BMW\",\"Nissan\",\"Jeep\",\"Ford\",\"Accura\",\"Suburu\",\"Toyota\",\"BMW\",\"Chevrolet\",\"BMW\",\"Mercedes\",\"Mercedes\",\"Audi\",\"Dodge\",\"Nissan\",\"Accura\",\"Audi\",\"Honda\",\"Jeep\",\"Ford\",\"Accura\",\"Suburu\",\"BMW\",\"Suburu\",\"Toyota\",\"BMW\",\"Nissan\",\"BMW\",\"Accura\",\"Toyota\",\"Toyota\",\"Dodge\",\"BMW\",\"Audi\",\"Nissan\",\"Volkswagen\",\"Chevrolet\",\"Toyota\",\"Nissan\",\"Suburu\",\"Ford\",\"BMW\",\"Chevrolet\",\"Dodge\",\"Saab\",\"Suburu\",\"BMW\",\"Ford\",\"Jeep\",\"Suburu\",\"Mercedes\",\"Audi\",\"Volkswagen\",\"Honda\",\"Suburu\",\"Volkswagen\",\"Nissan\",\"Ford\",\"Suburu\",\"Saab\",\"Saab\",\"Volkswagen\",\"Toyota\",\"Dodge\",\"Saab\",\"Honda\",\"Suburu\",\"Suburu\",\"Volkswagen\",\"Dodge\",\"Toyota\",\"Audi\",\"Audi\",\"Chevrolet\",\"Audi\",\"Ford\",\"Mercedes\",\"Honda\",\"Nissan\",\"Suburu\",\"Saab\",\"Toyota\",\"Saab\",\"Volkswagen\",\"Accura\",\"Ford\",\"Jeep\",\"Saab\",\"Chevrolet\",\"Jeep\",\"Ford\",\"Audi\",\"Honda\",\"Toyota\",\"Suburu\",\"Chevrolet\",\"Ford\",\"BMW\",\"BMW\",\"Chevrolet\",\"Jeep\",\"Dodge\",\"Suburu\",\"Mercedes\",\"Jeep\",\"Jeep\",\"BMW\",\"Volkswagen\",\"Toyota\",\"Toyota\",\"Ford\",\"BMW\",\"Nissan\",\"Nissan\",\"Dodge\",\"Saab\",\"Dodge\",\"Honda\",\"Dodge\",\"Suburu\",\"Audi\",\"Nissan\",\"Dodge\",\"Dodge\",\"Jeep\",\"Dodge\",\"Jeep\",\"Chevrolet\",\"Dodge\",\"BMW\",\"Toyota\",\"Chevrolet\",\"Audi\",\"Suburu\",\"Chevrolet\",\"Ford\",\"Dodge\",\"Jeep\",\"Accura\",\"Honda\",\"Saab\",\"Nissan\",\"BMW\",\"Chevrolet\",\"Volkswagen\",\"Volkswagen\",\"Volkswagen\",\"Dodge\",\"BMW\",\"Nissan\",\"Nissan\",\"Ford\",\"Accura\",\"BMW\",\"Jeep\",\"Nissan\",\"Chevrolet\",\"Dodge\",\"Mercedes\",\"Toyota\",\"Jeep\",\"Saab\",\"Chevrolet\",\"Chevrolet\",\"Accura\",\"Accura\",\"Saab\",\"Honda\",\"Mercedes\",\"Nissan\",\"Accura\",\"Jeep\",\"Nissan\",\"Accura\",\"Honda\",\"Mercedes\",\"Audi\",\"Volkswagen\",\"Nissan\",\"Honda\",\"Mercedes\",\"Chevrolet\",\"Jeep\",\"Chevrolet\",\"Accura\",\"Audi\",\"Honda\",\"Ford\",\"Toyota\",\"Jeep\",\"Suburu\",\"Ford\",\"Jeep\",\"Chevrolet\",\"Accura\",\"Mercedes\",\"Mercedes\",\"Nissan\",\"Volkswagen\",\"Nissan\",\"BMW\",\"Volkswagen\",\"Mercedes\",\"Saab\",\"Suburu\",\"Suburu\",\"Audi\",\"Accura\",\"BMW\",\"Volkswagen\",\"Accura\",\"Honda\",\"Saab\",\"Ford\",\"Accura\",\"Toyota\",\"Chevrolet\",\"Ford\",\"Dodge\",\"Jeep\",\"Saab\",\"Toyota\",\"Chevrolet\",\"BMW\",\"Volkswagen\",\"Jeep\",\"Dodge\",\"Audi\",\"BMW\",\"Toyota\",\"Ford\",\"Audi\",\"Ford\",\"Toyota\",\"Nissan\",\"Chevrolet\",\"Volkswagen\",\"Mercedes\",\"Saab\",\"Ford\",\"Chevrolet\",\"Mercedes\",\"Ford\",\"Dodge\",\"Saab\",\"Saab\",\"Ford\",\"Toyota\",\"Toyota\",\"Accura\",\"Audi\",\"Accura\",\"Volkswagen\",\"Dodge\",\"Toyota\",\"Chevrolet\",\"BMW\",\"Volkswagen\",\"Toyota\",\"Nissan\",\"Volkswagen\",\"Jeep\",\"Saab\",\"Ford\",\"Jeep\",\"Nissan\",\"Mercedes\",\"Dodge\",\"Toyota\",\"Chevrolet\",\"Accura\",\"Accura\",\"Toyota\",\"Saab\",\"Suburu\",\"Nissan\",\"Dodge\",\"Suburu\",\"Saab\",\"Volkswagen\",\"Honda\",\"Dodge\",\"Suburu\",\"Honda\",\"Jeep\",\"Jeep\",\"Audi\",\"Ford\",\"Ford\",\"Nissan\",\"Suburu\",\"Jeep\",\"Dodge\",\"Honda\",\"Saab\",\"Accura\",\"Audi\",\"Toyota\",\"Nissan\",\"Jeep\",\"Ford\",\"Dodge\",\"Dodge\",\"Toyota\",\"Jeep\",\"Saab\",\"Saab\",\"Ford\",\"Dodge\",\"Accura\",\"Honda\",\"Volkswagen\",\"Chevrolet\",\"Saab\",\"Saab\",\"Audi\",\"Saab\",\"BMW\",\"Jeep\",\"Ford\",\"Audi\",\"Honda\",\"Volkswagen\",\"Nissan\",\"Mercedes\",\"Volkswagen\",\"Nissan\",\"Jeep\",\"Mercedes\",\"Dodge\",\"Accura\",\"Audi\",\"Volkswagen\",\"Dodge\",\"Dodge\",\"Accura\",\"Chevrolet\",\"Dodge\",\"Chevrolet\",\"Suburu\",\"Toyota\",\"Saab\",\"Dodge\",\"Accura\",\"Jeep\",\"Volkswagen\",\"Nissan\",\"Honda\",\"Chevrolet\",\"Suburu\",\"BMW\",\"Audi\",\"Dodge\",\"Jeep\",\"Ford\",\"Mercedes\",\"Accura\",\"Chevrolet\",\"Mercedes\",\"Nissan\",\"Dodge\",\"Jeep\",\"Accura\",\"Saab\",\"Nissan\",\"Nissan\",\"Mercedes\",\"Suburu\",\"Suburu\",\"Jeep\",\"Suburu\",\"Audi\",\"Volkswagen\",\"Chevrolet\",\"Toyota\",\"Saab\",\"Toyota\",\"Audi\",\"Volkswagen\",\"Dodge\",\"Volkswagen\",\"Nissan\",\"Suburu\",\"Dodge\",\"Chevrolet\",\"Nissan\",\"Toyota\",\"Dodge\",\"Volkswagen\",\"Nissan\",\"Suburu\",\"Toyota\",\"Saab\",\"Jeep\",\"Toyota\",\"Toyota\",\"Audi\",\"Accura\",\"Chevrolet\",\"Chevrolet\",\"Toyota\",\"Saab\",\"Nissan\",\"Audi\",\"Audi\",\"Ford\",\"Chevrolet\",\"Accura\",\"Nissan\",\"Volkswagen\",\"Nissan\",\"Chevrolet\",\"Dodge\",\"Audi\",\"Nissan\",\"Honda\",\"Ford\",\"Volkswagen\",\"Suburu\",\"Suburu\",\"Audi\",\"Dodge\",\"Nissan\",\"Ford\",\"Suburu\",\"Mercedes\",\"Nissan\",\"Dodge\",\"Chevrolet\",\"Saab\",\"BMW\",\"Jeep\",\"Toyota\",\"Jeep\",\"Saab\",\"Accura\",\"Mercedes\",\"Nissan\",\"Saab\",\"Audi\",\"Suburu\",\"Toyota\",\"Nissan\",\"Suburu\",\"Accura\",\"Nissan\",\"Suburu\",\"Jeep\",\"Toyota\",\"Accura\",\"Dodge\",\"Honda\",\"Jeep\",\"Chevrolet\",\"Mercedes\",\"Saab\",\"Saab\",\"Mercedes\",\"BMW\",\"BMW\",\"BMW\",\"Audi\",\"Honda\",\"Accura\",\"Volkswagen\",\"Suburu\",\"Saab\",\"Jeep\",\"Dodge\",\"Suburu\",\"Saab\",\"Jeep\",\"Chevrolet\",\"Saab\",\"Mercedes\",\"Nissan\",\"Honda\",\"Volkswagen\",\"Saab\",\"BMW\",\"Saab\",\"Honda\",\"Jeep\",\"Nissan\",\"Jeep\",\"Honda\",\"Honda\",\"Honda\",\"Mercedes\",\"Toyota\",\"Accura\",\"BMW\",\"Nissan\",\"Accura\",\"Honda\",\"Jeep\",\"Audi\",\"Nissan\",\"Honda\",\"Dodge\",\"Toyota\",\"Honda\",\"Jeep\",\"Suburu\",\"Volkswagen\",\"Volkswagen\",\"Audi\",\"Jeep\",\"Suburu\",\"Suburu\",\"Suburu\",\"Ford\",\"Toyota\",\"Nissan\",\"Audi\",\"Volkswagen\",\"Honda\",\"Nissan\",\"Toyota\",\"Chevrolet\",\"Dodge\",\"Saab\",\"Toyota\",\"Accura\",\"Chevrolet\",\"BMW\",\"BMW\",\"Jeep\",\"Accura\",\"Accura\",\"Ford\",\"Mercedes\",\"Ford\",\"Accura\",\"Dodge\",\"Saab\",\"Suburu\",\"Dodge\",\"Suburu\",\"Toyota\",\"Jeep\",\"Honda\",\"Chevrolet\",\"Jeep\",\"Accura\",\"Nissan\",\"Volkswagen\",\"Honda\",\"Honda\",\"Volkswagen\",\"Suburu\",\"Audi\",\"Mercedes\"],\"xaxis\":\"x\",\"yaxis\":\"y\",\"type\":\"histogram\"}],                        {\"template\":{\"data\":{\"histogram2dcontour\":[{\"type\":\"histogram2dcontour\",\"colorbar\":{\"outlinewidth\":0,\"ticks\":\"\"},\"colorscale\":[[0.0,\"#0d0887\"],[0.1111111111111111,\"#46039f\"],[0.2222222222222222,\"#7201a8\"],[0.3333333333333333,\"#9c179e\"],[0.4444444444444444,\"#bd3786\"],[0.5555555555555556,\"#d8576b\"],[0.6666666666666666,\"#ed7953\"],[0.7777777777777778,\"#fb9f3a\"],[0.8888888888888888,\"#fdca26\"],[1.0,\"#f0f921\"]]}],\"choropleth\":[{\"type\":\"choropleth\",\"colorbar\":{\"outlinewidth\":0,\"ticks\":\"\"}}],\"histogram2d\":[{\"type\":\"histogram2d\",\"colorbar\":{\"outlinewidth\":0,\"ticks\":\"\"},\"colorscale\":[[0.0,\"#0d0887\"],[0.1111111111111111,\"#46039f\"],[0.2222222222222222,\"#7201a8\"],[0.3333333333333333,\"#9c179e\"],[0.4444444444444444,\"#bd3786\"],[0.5555555555555556,\"#d8576b\"],[0.6666666666666666,\"#ed7953\"],[0.7777777777777778,\"#fb9f3a\"],[0.8888888888888888,\"#fdca26\"],[1.0,\"#f0f921\"]]}],\"heatmap\":[{\"type\":\"heatmap\",\"colorbar\":{\"outlinewidth\":0,\"ticks\":\"\"},\"colorscale\":[[0.0,\"#0d0887\"],[0.1111111111111111,\"#46039f\"],[0.2222222222222222,\"#7201a8\"],[0.3333333333333333,\"#9c179e\"],[0.4444444444444444,\"#bd3786\"],[0.5555555555555556,\"#d8576b\"],[0.6666666666666666,\"#ed7953\"],[0.7777777777777778,\"#fb9f3a\"],[0.8888888888888888,\"#fdca26\"],[1.0,\"#f0f921\"]]}],\"heatmapgl\":[{\"type\":\"heatmapgl\",\"colorbar\":{\"outlinewidth\":0,\"ticks\":\"\"},\"colorscale\":[[0.0,\"#0d0887\"],[0.1111111111111111,\"#46039f\"],[0.2222222222222222,\"#7201a8\"],[0.3333333333333333,\"#9c179e\"],[0.4444444444444444,\"#bd3786\"],[0.5555555555555556,\"#d8576b\"],[0.6666666666666666,\"#ed7953\"],[0.7777777777777778,\"#fb9f3a\"],[0.8888888888888888,\"#fdca26\"],[1.0,\"#f0f921\"]]}],\"contourcarpet\":[{\"type\":\"contourcarpet\",\"colorbar\":{\"outlinewidth\":0,\"ticks\":\"\"}}],\"contour\":[{\"type\":\"contour\",\"colorbar\":{\"outlinewidth\":0,\"ticks\":\"\"},\"colorscale\":[[0.0,\"#0d0887\"],[0.1111111111111111,\"#46039f\"],[0.2222222222222222,\"#7201a8\"],[0.3333333333333333,\"#9c179e\"],[0.4444444444444444,\"#bd3786\"],[0.5555555555555556,\"#d8576b\"],[0.6666666666666666,\"#ed7953\"],[0.7777777777777778,\"#fb9f3a\"],[0.8888888888888888,\"#fdca26\"],[1.0,\"#f0f921\"]]}],\"surface\":[{\"type\":\"surface\",\"colorbar\":{\"outlinewidth\":0,\"ticks\":\"\"},\"colorscale\":[[0.0,\"#0d0887\"],[0.1111111111111111,\"#46039f\"],[0.2222222222222222,\"#7201a8\"],[0.3333333333333333,\"#9c179e\"],[0.4444444444444444,\"#bd3786\"],[0.5555555555555556,\"#d8576b\"],[0.6666666666666666,\"#ed7953\"],[0.7777777777777778,\"#fb9f3a\"],[0.8888888888888888,\"#fdca26\"],[1.0,\"#f0f921\"]]}],\"mesh3d\":[{\"type\":\"mesh3d\",\"colorbar\":{\"outlinewidth\":0,\"ticks\":\"\"}}],\"scatter\":[{\"fillpattern\":{\"fillmode\":\"overlay\",\"size\":10,\"solidity\":0.2},\"type\":\"scatter\"}],\"parcoords\":[{\"type\":\"parcoords\",\"line\":{\"colorbar\":{\"outlinewidth\":0,\"ticks\":\"\"}}}],\"scatterpolargl\":[{\"type\":\"scatterpolargl\",\"marker\":{\"colorbar\":{\"outlinewidth\":0,\"ticks\":\"\"}}}],\"bar\":[{\"error_x\":{\"color\":\"#2a3f5f\"},\"error_y\":{\"color\":\"#2a3f5f\"},\"marker\":{\"line\":{\"color\":\"#E5ECF6\",\"width\":0.5},\"pattern\":{\"fillmode\":\"overlay\",\"size\":10,\"solidity\":0.2}},\"type\":\"bar\"}],\"scattergeo\":[{\"type\":\"scattergeo\",\"marker\":{\"colorbar\":{\"outlinewidth\":0,\"ticks\":\"\"}}}],\"scatterpolar\":[{\"type\":\"scatterpolar\",\"marker\":{\"colorbar\":{\"outlinewidth\":0,\"ticks\":\"\"}}}],\"histogram\":[{\"marker\":{\"pattern\":{\"fillmode\":\"overlay\",\"size\":10,\"solidity\":0.2}},\"type\":\"histogram\"}],\"scattergl\":[{\"type\":\"scattergl\",\"marker\":{\"colorbar\":{\"outlinewidth\":0,\"ticks\":\"\"}}}],\"scatter3d\":[{\"type\":\"scatter3d\",\"line\":{\"colorbar\":{\"outlinewidth\":0,\"ticks\":\"\"}},\"marker\":{\"colorbar\":{\"outlinewidth\":0,\"ticks\":\"\"}}}],\"scattermapbox\":[{\"type\":\"scattermapbox\",\"marker\":{\"colorbar\":{\"outlinewidth\":0,\"ticks\":\"\"}}}],\"scatterternary\":[{\"type\":\"scatterternary\",\"marker\":{\"colorbar\":{\"outlinewidth\":0,\"ticks\":\"\"}}}],\"scattercarpet\":[{\"type\":\"scattercarpet\",\"marker\":{\"colorbar\":{\"outlinewidth\":0,\"ticks\":\"\"}}}],\"carpet\":[{\"aaxis\":{\"endlinecolor\":\"#2a3f5f\",\"gridcolor\":\"white\",\"linecolor\":\"white\",\"minorgridcolor\":\"white\",\"startlinecolor\":\"#2a3f5f\"},\"baxis\":{\"endlinecolor\":\"#2a3f5f\",\"gridcolor\":\"white\",\"linecolor\":\"white\",\"minorgridcolor\":\"white\",\"startlinecolor\":\"#2a3f5f\"},\"type\":\"carpet\"}],\"table\":[{\"cells\":{\"fill\":{\"color\":\"#EBF0F8\"},\"line\":{\"color\":\"white\"}},\"header\":{\"fill\":{\"color\":\"#C8D4E3\"},\"line\":{\"color\":\"white\"}},\"type\":\"table\"}],\"barpolar\":[{\"marker\":{\"line\":{\"color\":\"#E5ECF6\",\"width\":0.5},\"pattern\":{\"fillmode\":\"overlay\",\"size\":10,\"solidity\":0.2}},\"type\":\"barpolar\"}],\"pie\":[{\"automargin\":true,\"type\":\"pie\"}]},\"layout\":{\"autotypenumbers\":\"strict\",\"colorway\":[\"#636efa\",\"#EF553B\",\"#00cc96\",\"#ab63fa\",\"#FFA15A\",\"#19d3f3\",\"#FF6692\",\"#B6E880\",\"#FF97FF\",\"#FECB52\"],\"font\":{\"color\":\"#2a3f5f\"},\"hovermode\":\"closest\",\"hoverlabel\":{\"align\":\"left\"},\"paper_bgcolor\":\"white\",\"plot_bgcolor\":\"#E5ECF6\",\"polar\":{\"bgcolor\":\"#E5ECF6\",\"angularaxis\":{\"gridcolor\":\"white\",\"linecolor\":\"white\",\"ticks\":\"\"},\"radialaxis\":{\"gridcolor\":\"white\",\"linecolor\":\"white\",\"ticks\":\"\"}},\"ternary\":{\"bgcolor\":\"#E5ECF6\",\"aaxis\":{\"gridcolor\":\"white\",\"linecolor\":\"white\",\"ticks\":\"\"},\"baxis\":{\"gridcolor\":\"white\",\"linecolor\":\"white\",\"ticks\":\"\"},\"caxis\":{\"gridcolor\":\"white\",\"linecolor\":\"white\",\"ticks\":\"\"}},\"coloraxis\":{\"colorbar\":{\"outlinewidth\":0,\"ticks\":\"\"}},\"colorscale\":{\"sequential\":[[0.0,\"#0d0887\"],[0.1111111111111111,\"#46039f\"],[0.2222222222222222,\"#7201a8\"],[0.3333333333333333,\"#9c179e\"],[0.4444444444444444,\"#bd3786\"],[0.5555555555555556,\"#d8576b\"],[0.6666666666666666,\"#ed7953\"],[0.7777777777777778,\"#fb9f3a\"],[0.8888888888888888,\"#fdca26\"],[1.0,\"#f0f921\"]],\"sequentialminus\":[[0.0,\"#0d0887\"],[0.1111111111111111,\"#46039f\"],[0.2222222222222222,\"#7201a8\"],[0.3333333333333333,\"#9c179e\"],[0.4444444444444444,\"#bd3786\"],[0.5555555555555556,\"#d8576b\"],[0.6666666666666666,\"#ed7953\"],[0.7777777777777778,\"#fb9f3a\"],[0.8888888888888888,\"#fdca26\"],[1.0,\"#f0f921\"]],\"diverging\":[[0,\"#8e0152\"],[0.1,\"#c51b7d\"],[0.2,\"#de77ae\"],[0.3,\"#f1b6da\"],[0.4,\"#fde0ef\"],[0.5,\"#f7f7f7\"],[0.6,\"#e6f5d0\"],[0.7,\"#b8e186\"],[0.8,\"#7fbc41\"],[0.9,\"#4d9221\"],[1,\"#276419\"]]},\"xaxis\":{\"gridcolor\":\"white\",\"linecolor\":\"white\",\"ticks\":\"\",\"title\":{\"standoff\":15},\"zerolinecolor\":\"white\",\"automargin\":true,\"zerolinewidth\":2},\"yaxis\":{\"gridcolor\":\"white\",\"linecolor\":\"white\",\"ticks\":\"\",\"title\":{\"standoff\":15},\"zerolinecolor\":\"white\",\"automargin\":true,\"zerolinewidth\":2},\"scene\":{\"xaxis\":{\"backgroundcolor\":\"#E5ECF6\",\"gridcolor\":\"white\",\"linecolor\":\"white\",\"showbackground\":true,\"ticks\":\"\",\"zerolinecolor\":\"white\",\"gridwidth\":2},\"yaxis\":{\"backgroundcolor\":\"#E5ECF6\",\"gridcolor\":\"white\",\"linecolor\":\"white\",\"showbackground\":true,\"ticks\":\"\",\"zerolinecolor\":\"white\",\"gridwidth\":2},\"zaxis\":{\"backgroundcolor\":\"#E5ECF6\",\"gridcolor\":\"white\",\"linecolor\":\"white\",\"showbackground\":true,\"ticks\":\"\",\"zerolinecolor\":\"white\",\"gridwidth\":2}},\"shapedefaults\":{\"line\":{\"color\":\"#2a3f5f\"}},\"annotationdefaults\":{\"arrowcolor\":\"#2a3f5f\",\"arrowhead\":0,\"arrowwidth\":1},\"geo\":{\"bgcolor\":\"white\",\"landcolor\":\"#E5ECF6\",\"subunitcolor\":\"white\",\"showland\":true,\"showlakes\":true,\"lakecolor\":\"white\"},\"title\":{\"x\":0.05},\"mapbox\":{\"style\":\"light\"}}},\"xaxis\":{\"anchor\":\"y\",\"domain\":[0.0,1.0],\"title\":{\"text\":\"auto_make\"}},\"yaxis\":{\"anchor\":\"x\",\"domain\":[0.0,1.0],\"title\":{\"text\":\"count\"}},\"legend\":{\"title\":{\"text\":\"fraud_reported\"},\"tracegroupgap\":0},\"margin\":{\"t\":60},\"barmode\":\"group\"},                        {\"responsive\": true}                    ).then(function(){\n",
       "                            \n",
       "var gd = document.getElementById('d04017b7-a222-4812-b8d2-644848d6c04d');\n",
       "var x = new MutationObserver(function (mutations, observer) {{\n",
       "        var display = window.getComputedStyle(gd).display;\n",
       "        if (!display || display === 'none') {{\n",
       "            console.log([gd, 'removed!']);\n",
       "            Plotly.purge(gd);\n",
       "            observer.disconnect();\n",
       "        }}\n",
       "}});\n",
       "\n",
       "// Listen for the removal of the full notebook cells\n",
       "var notebookContainer = gd.closest('#notebook-container');\n",
       "if (notebookContainer) {{\n",
       "    x.observe(notebookContainer, {childList: true});\n",
       "}}\n",
       "\n",
       "// Listen for the clearing of the current output cell\n",
       "var outputEl = gd.closest('.output');\n",
       "if (outputEl) {{\n",
       "    x.observe(outputEl, {childList: true});\n",
       "}}\n",
       "\n",
       "                        })                };                });            </script>        </div>"
      ]
     },
     "metadata": {},
     "output_type": "display_data"
    }
   ],
   "source": [
    "px.histogram(data, x=\"auto_make\", color=\"fraud_reported\", barmode='group')"
   ]
  },
  {
   "cell_type": "markdown",
   "id": "0d987f42",
   "metadata": {},
   "source": [
    "Observation:  lookslike expensive cars are most involved in Frauds Like Mercedes, Audi, BMW, Ford while Accura, Nissan, Toyota are less involved in Fraud."
   ]
  },
  {
   "cell_type": "code",
   "execution_count": null,
   "id": "77954ee6",
   "metadata": {},
   "outputs": [
    {
     "data": {
      "application/vnd.plotly.v1+json": {
       "config": {
        "plotlyServerURL": "https://plot.ly"
       },
       "data": [
        {
         "alignmentgroup": "True",
         "bingroup": "x",
         "hovertemplate": "fraud_reported=Y<br>insured_relationship=%{x}<br>count=%{y}<extra></extra>",
         "legendgroup": "Y",
         "marker": {
          "color": "#636efa",
          "pattern": {
           "shape": ""
          }
         },
         "name": "Y",
         "offsetgroup": "Y",
         "orientation": "v",
         "showlegend": true,
         "type": "histogram",
         "x": [
          "husband",
          "other-relative",
          "unmarried",
          "unmarried",
          "not-in-family",
          "other-relative",
          "other-relative",
          "own-child",
          "own-child",
          "not-in-family",
          "husband",
          "not-in-family",
          "unmarried",
          "wife",
          "unmarried",
          "husband",
          "other-relative",
          "own-child",
          "not-in-family",
          "other-relative",
          "not-in-family",
          "own-child",
          "not-in-family",
          "unmarried",
          "not-in-family",
          "not-in-family",
          "own-child",
          "not-in-family",
          "own-child",
          "husband",
          "other-relative",
          "husband",
          "unmarried",
          "other-relative",
          "unmarried",
          "other-relative",
          "not-in-family",
          "wife",
          "husband",
          "other-relative",
          "other-relative",
          "wife",
          "not-in-family",
          "not-in-family",
          "not-in-family",
          "own-child",
          "own-child",
          "other-relative",
          "not-in-family",
          "unmarried",
          "husband",
          "other-relative",
          "husband",
          "own-child",
          "own-child",
          "other-relative",
          "wife",
          "wife",
          "other-relative",
          "not-in-family",
          "other-relative",
          "not-in-family",
          "other-relative",
          "own-child",
          "other-relative",
          "other-relative",
          "own-child",
          "unmarried",
          "other-relative",
          "wife",
          "wife",
          "other-relative",
          "unmarried",
          "husband",
          "husband",
          "wife",
          "other-relative",
          "unmarried",
          "not-in-family",
          "wife",
          "other-relative",
          "husband",
          "husband",
          "unmarried",
          "wife",
          "own-child",
          "unmarried",
          "other-relative",
          "not-in-family",
          "other-relative",
          "not-in-family",
          "husband",
          "own-child",
          "husband",
          "wife",
          "own-child",
          "unmarried",
          "unmarried",
          "other-relative",
          "wife",
          "unmarried",
          "other-relative",
          "own-child",
          "own-child",
          "wife",
          "wife",
          "wife",
          "other-relative",
          "not-in-family",
          "unmarried",
          "own-child",
          "husband",
          "unmarried",
          "husband",
          "other-relative",
          "other-relative",
          "other-relative",
          "not-in-family",
          "wife",
          "unmarried",
          "own-child",
          "other-relative",
          "own-child",
          "husband",
          "other-relative",
          "husband",
          "other-relative",
          "unmarried",
          "other-relative",
          "not-in-family",
          "not-in-family",
          "own-child",
          "not-in-family",
          "wife",
          "not-in-family",
          "own-child",
          "other-relative",
          "wife",
          "own-child",
          "husband",
          "unmarried",
          "not-in-family",
          "wife",
          "not-in-family",
          "wife",
          "wife",
          "not-in-family",
          "wife",
          "not-in-family",
          "unmarried",
          "not-in-family",
          "not-in-family",
          "wife",
          "unmarried",
          "other-relative",
          "own-child",
          "unmarried",
          "husband",
          "unmarried",
          "wife",
          "wife",
          "husband",
          "wife",
          "husband",
          "not-in-family",
          "not-in-family",
          "other-relative",
          "wife",
          "other-relative",
          "other-relative",
          "not-in-family",
          "wife",
          "wife",
          "other-relative",
          "husband",
          "husband",
          "other-relative",
          "unmarried",
          "own-child",
          "unmarried",
          "husband",
          "husband",
          "husband",
          "other-relative",
          "own-child",
          "own-child",
          "other-relative",
          "unmarried",
          "not-in-family",
          "other-relative",
          "own-child",
          "not-in-family",
          "husband",
          "own-child",
          "unmarried",
          "wife",
          "wife",
          "wife",
          "wife",
          "husband",
          "wife",
          "husband",
          "own-child",
          "not-in-family",
          "husband",
          "not-in-family",
          "husband",
          "not-in-family",
          "unmarried",
          "other-relative",
          "other-relative",
          "husband",
          "wife",
          "own-child",
          "own-child",
          "not-in-family",
          "other-relative",
          "other-relative",
          "husband",
          "wife",
          "unmarried",
          "not-in-family",
          "wife",
          "wife",
          "not-in-family",
          "own-child",
          "other-relative",
          "not-in-family",
          "wife",
          "own-child",
          "own-child",
          "unmarried",
          "not-in-family",
          "unmarried",
          "husband",
          "own-child",
          "unmarried",
          "wife",
          "own-child",
          "own-child",
          "wife",
          "own-child",
          "wife",
          "other-relative",
          "other-relative",
          "not-in-family",
          "other-relative"
         ],
         "xaxis": "x",
         "yaxis": "y"
        },
        {
         "alignmentgroup": "True",
         "bingroup": "x",
         "hovertemplate": "fraud_reported=N<br>insured_relationship=%{x}<br>count=%{y}<extra></extra>",
         "legendgroup": "N",
         "marker": {
          "color": "#EF553B",
          "pattern": {
           "shape": ""
          }
         },
         "name": "N",
         "offsetgroup": "N",
         "orientation": "v",
         "showlegend": true,
         "type": "histogram",
         "x": [
          "own-child",
          "unmarried",
          "husband",
          "unmarried",
          "own-child",
          "wife",
          "other-relative",
          "other-relative",
          "wife",
          "wife",
          "own-child",
          "unmarried",
          "other-relative",
          "own-child",
          "own-child",
          "own-child",
          "husband",
          "own-child",
          "not-in-family",
          "unmarried",
          "husband",
          "other-relative",
          "wife",
          "own-child",
          "unmarried",
          "unmarried",
          "not-in-family",
          "husband",
          "own-child",
          "unmarried",
          "husband",
          "husband",
          "other-relative",
          "wife",
          "own-child",
          "husband",
          "not-in-family",
          "husband",
          "not-in-family",
          "not-in-family",
          "unmarried",
          "own-child",
          "husband",
          "own-child",
          "husband",
          "unmarried",
          "unmarried",
          "own-child",
          "own-child",
          "husband",
          "not-in-family",
          "wife",
          "other-relative",
          "husband",
          "not-in-family",
          "wife",
          "husband",
          "wife",
          "other-relative",
          "wife",
          "own-child",
          "husband",
          "own-child",
          "not-in-family",
          "own-child",
          "own-child",
          "not-in-family",
          "not-in-family",
          "husband",
          "wife",
          "not-in-family",
          "not-in-family",
          "unmarried",
          "husband",
          "other-relative",
          "wife",
          "husband",
          "own-child",
          "unmarried",
          "other-relative",
          "own-child",
          "other-relative",
          "other-relative",
          "not-in-family",
          "husband",
          "other-relative",
          "other-relative",
          "not-in-family",
          "unmarried",
          "unmarried",
          "own-child",
          "wife",
          "own-child",
          "unmarried",
          "wife",
          "unmarried",
          "other-relative",
          "not-in-family",
          "wife",
          "not-in-family",
          "other-relative",
          "wife",
          "own-child",
          "wife",
          "other-relative",
          "wife",
          "husband",
          "own-child",
          "husband",
          "other-relative",
          "not-in-family",
          "other-relative",
          "unmarried",
          "not-in-family",
          "unmarried",
          "unmarried",
          "not-in-family",
          "unmarried",
          "husband",
          "not-in-family",
          "not-in-family",
          "wife",
          "wife",
          "unmarried",
          "wife",
          "other-relative",
          "other-relative",
          "other-relative",
          "wife",
          "not-in-family",
          "not-in-family",
          "husband",
          "not-in-family",
          "unmarried",
          "other-relative",
          "other-relative",
          "own-child",
          "unmarried",
          "unmarried",
          "husband",
          "not-in-family",
          "husband",
          "not-in-family",
          "own-child",
          "other-relative",
          "not-in-family",
          "not-in-family",
          "unmarried",
          "wife",
          "husband",
          "not-in-family",
          "husband",
          "husband",
          "not-in-family",
          "other-relative",
          "not-in-family",
          "other-relative",
          "unmarried",
          "not-in-family",
          "other-relative",
          "own-child",
          "husband",
          "wife",
          "not-in-family",
          "unmarried",
          "own-child",
          "unmarried",
          "other-relative",
          "wife",
          "own-child",
          "husband",
          "own-child",
          "unmarried",
          "unmarried",
          "own-child",
          "own-child",
          "own-child",
          "other-relative",
          "own-child",
          "other-relative",
          "not-in-family",
          "other-relative",
          "other-relative",
          "husband",
          "own-child",
          "other-relative",
          "husband",
          "other-relative",
          "other-relative",
          "wife",
          "own-child",
          "unmarried",
          "other-relative",
          "wife",
          "husband",
          "wife",
          "wife",
          "other-relative",
          "own-child",
          "husband",
          "own-child",
          "unmarried",
          "not-in-family",
          "own-child",
          "not-in-family",
          "not-in-family",
          "not-in-family",
          "own-child",
          "wife",
          "other-relative",
          "wife",
          "wife",
          "wife",
          "wife",
          "not-in-family",
          "other-relative",
          "not-in-family",
          "own-child",
          "other-relative",
          "wife",
          "husband",
          "unmarried",
          "husband",
          "other-relative",
          "own-child",
          "unmarried",
          "wife",
          "not-in-family",
          "wife",
          "not-in-family",
          "wife",
          "husband",
          "husband",
          "other-relative",
          "not-in-family",
          "own-child",
          "own-child",
          "not-in-family",
          "unmarried",
          "husband",
          "wife",
          "unmarried",
          "unmarried",
          "wife",
          "husband",
          "unmarried",
          "wife",
          "other-relative",
          "unmarried",
          "own-child",
          "husband",
          "not-in-family",
          "own-child",
          "unmarried",
          "own-child",
          "own-child",
          "unmarried",
          "not-in-family",
          "other-relative",
          "unmarried",
          "own-child",
          "own-child",
          "own-child",
          "other-relative",
          "other-relative",
          "own-child",
          "husband",
          "unmarried",
          "other-relative",
          "own-child",
          "not-in-family",
          "own-child",
          "own-child",
          "other-relative",
          "own-child",
          "wife",
          "not-in-family",
          "wife",
          "wife",
          "own-child",
          "unmarried",
          "other-relative",
          "husband",
          "own-child",
          "not-in-family",
          "unmarried",
          "wife",
          "unmarried",
          "own-child",
          "not-in-family",
          "own-child",
          "other-relative",
          "wife",
          "husband",
          "wife",
          "unmarried",
          "unmarried",
          "not-in-family",
          "not-in-family",
          "not-in-family",
          "own-child",
          "unmarried",
          "unmarried",
          "wife",
          "unmarried",
          "unmarried",
          "own-child",
          "husband",
          "other-relative",
          "husband",
          "wife",
          "not-in-family",
          "own-child",
          "own-child",
          "other-relative",
          "not-in-family",
          "wife",
          "own-child",
          "wife",
          "other-relative",
          "own-child",
          "unmarried",
          "not-in-family",
          "own-child",
          "not-in-family",
          "other-relative",
          "own-child",
          "wife",
          "other-relative",
          "husband",
          "husband",
          "husband",
          "unmarried",
          "husband",
          "not-in-family",
          "not-in-family",
          "husband",
          "unmarried",
          "other-relative",
          "own-child",
          "wife",
          "other-relative",
          "unmarried",
          "wife",
          "other-relative",
          "not-in-family",
          "not-in-family",
          "unmarried",
          "not-in-family",
          "wife",
          "other-relative",
          "wife",
          "other-relative",
          "unmarried",
          "own-child",
          "husband",
          "husband",
          "other-relative",
          "own-child",
          "unmarried",
          "unmarried",
          "wife",
          "not-in-family",
          "unmarried",
          "husband",
          "wife",
          "own-child",
          "other-relative",
          "husband",
          "husband",
          "own-child",
          "other-relative",
          "other-relative",
          "husband",
          "unmarried",
          "unmarried",
          "husband",
          "husband",
          "not-in-family",
          "husband",
          "other-relative",
          "wife",
          "other-relative",
          "unmarried",
          "own-child",
          "not-in-family",
          "other-relative",
          "own-child",
          "own-child",
          "own-child",
          "husband",
          "other-relative",
          "not-in-family",
          "unmarried",
          "not-in-family",
          "own-child",
          "not-in-family",
          "wife",
          "husband",
          "other-relative",
          "other-relative",
          "wife",
          "other-relative",
          "husband",
          "not-in-family",
          "own-child",
          "wife",
          "other-relative",
          "own-child",
          "unmarried",
          "wife",
          "unmarried",
          "not-in-family",
          "own-child",
          "own-child",
          "not-in-family",
          "own-child",
          "own-child",
          "not-in-family",
          "own-child",
          "not-in-family",
          "unmarried",
          "other-relative",
          "own-child",
          "unmarried",
          "own-child",
          "wife",
          "husband",
          "wife",
          "not-in-family",
          "own-child",
          "husband",
          "other-relative",
          "unmarried",
          "wife",
          "wife",
          "own-child",
          "not-in-family",
          "husband",
          "husband",
          "not-in-family",
          "wife",
          "own-child",
          "other-relative",
          "other-relative",
          "other-relative",
          "wife",
          "own-child",
          "other-relative",
          "not-in-family",
          "own-child",
          "wife",
          "wife",
          "wife",
          "husband",
          "unmarried",
          "not-in-family",
          "not-in-family",
          "wife",
          "other-relative",
          "husband",
          "husband",
          "own-child",
          "own-child",
          "wife",
          "not-in-family",
          "own-child",
          "not-in-family",
          "husband",
          "other-relative",
          "husband",
          "not-in-family",
          "husband",
          "own-child",
          "unmarried",
          "not-in-family",
          "husband",
          "unmarried",
          "husband",
          "wife",
          "not-in-family",
          "unmarried",
          "husband",
          "other-relative",
          "husband",
          "husband",
          "other-relative",
          "other-relative",
          "other-relative",
          "other-relative",
          "other-relative",
          "unmarried",
          "husband",
          "not-in-family",
          "wife",
          "wife",
          "husband",
          "not-in-family",
          "husband",
          "wife",
          "other-relative",
          "not-in-family",
          "wife",
          "wife",
          "other-relative",
          "own-child",
          "husband",
          "wife",
          "own-child",
          "not-in-family",
          "unmarried",
          "other-relative",
          "wife",
          "husband",
          "not-in-family",
          "other-relative",
          "not-in-family",
          "own-child",
          "husband",
          "husband",
          "husband",
          "wife",
          "unmarried",
          "unmarried",
          "husband",
          "wife",
          "not-in-family",
          "own-child",
          "wife",
          "wife",
          "other-relative",
          "husband",
          "own-child",
          "own-child",
          "other-relative",
          "other-relative",
          "other-relative",
          "own-child",
          "unmarried",
          "husband",
          "other-relative",
          "husband",
          "wife",
          "husband",
          "unmarried",
          "unmarried",
          "husband",
          "own-child",
          "not-in-family",
          "husband",
          "not-in-family",
          "not-in-family",
          "own-child",
          "husband",
          "wife",
          "not-in-family",
          "not-in-family",
          "unmarried",
          "not-in-family",
          "unmarried",
          "wife",
          "husband",
          "unmarried",
          "wife",
          "not-in-family",
          "unmarried",
          "husband",
          "own-child",
          "other-relative",
          "husband",
          "unmarried",
          "other-relative",
          "own-child",
          "husband",
          "own-child",
          "own-child",
          "husband",
          "not-in-family",
          "other-relative",
          "own-child",
          "not-in-family",
          "wife",
          "not-in-family",
          "other-relative",
          "other-relative",
          "husband",
          "unmarried",
          "husband",
          "not-in-family",
          "other-relative",
          "husband",
          "wife",
          "not-in-family",
          "unmarried",
          "not-in-family",
          "unmarried",
          "own-child",
          "unmarried",
          "not-in-family",
          "other-relative",
          "unmarried",
          "own-child",
          "wife",
          "unmarried",
          "other-relative",
          "own-child",
          "husband",
          "husband",
          "own-child",
          "unmarried",
          "wife",
          "wife",
          "husband",
          "own-child",
          "not-in-family",
          "not-in-family",
          "not-in-family",
          "husband",
          "own-child",
          "husband",
          "own-child",
          "own-child",
          "own-child",
          "other-relative",
          "wife",
          "wife",
          "other-relative",
          "own-child",
          "own-child",
          "unmarried",
          "husband",
          "own-child",
          "not-in-family",
          "not-in-family",
          "wife",
          "not-in-family",
          "wife",
          "husband",
          "wife",
          "own-child",
          "own-child",
          "husband",
          "other-relative",
          "own-child",
          "own-child",
          "husband",
          "other-relative",
          "other-relative",
          "unmarried",
          "husband",
          "not-in-family",
          "not-in-family",
          "husband",
          "own-child",
          "husband",
          "unmarried",
          "other-relative",
          "other-relative",
          "not-in-family",
          "not-in-family",
          "husband",
          "other-relative",
          "husband",
          "wife",
          "not-in-family",
          "other-relative",
          "other-relative",
          "husband",
          "husband",
          "not-in-family",
          "own-child",
          "own-child",
          "husband",
          "own-child",
          "husband",
          "own-child",
          "other-relative",
          "wife",
          "husband",
          "own-child",
          "husband",
          "not-in-family",
          "not-in-family",
          "wife",
          "other-relative",
          "not-in-family",
          "own-child",
          "husband",
          "not-in-family",
          "wife",
          "not-in-family",
          "wife",
          "wife",
          "not-in-family",
          "wife",
          "husband",
          "other-relative",
          "husband",
          "other-relative",
          "husband",
          "own-child",
          "other-relative",
          "wife",
          "own-child",
          "husband",
          "own-child",
          "own-child",
          "own-child",
          "own-child",
          "own-child",
          "not-in-family",
          "wife",
          "unmarried",
          "not-in-family",
          "own-child",
          "not-in-family",
          "other-relative",
          "unmarried",
          "not-in-family",
          "other-relative",
          "wife",
          "husband",
          "husband",
          "husband",
          "unmarried",
          "other-relative",
          "other-relative",
          "own-child",
          "other-relative",
          "unmarried",
          "husband",
          "not-in-family",
          "own-child",
          "unmarried",
          "unmarried",
          "not-in-family",
          "unmarried",
          "unmarried",
          "unmarried",
          "husband",
          "wife",
          "wife",
          "husband",
          "unmarried",
          "other-relative",
          "husband",
          "husband",
          "own-child",
          "unmarried",
          "wife",
          "other-relative",
          "wife",
          "husband"
         ],
         "xaxis": "x",
         "yaxis": "y"
        }
       ],
       "layout": {
        "barmode": "group",
        "legend": {
         "title": {
          "text": "fraud_reported"
         },
         "tracegroupgap": 0
        },
        "margin": {
         "t": 60
        },
        "template": {
         "data": {
          "bar": [
           {
            "error_x": {
             "color": "#2a3f5f"
            },
            "error_y": {
             "color": "#2a3f5f"
            },
            "marker": {
             "line": {
              "color": "#E5ECF6",
              "width": 0.5
             },
             "pattern": {
              "fillmode": "overlay",
              "size": 10,
              "solidity": 0.2
             }
            },
            "type": "bar"
           }
          ],
          "barpolar": [
           {
            "marker": {
             "line": {
              "color": "#E5ECF6",
              "width": 0.5
             },
             "pattern": {
              "fillmode": "overlay",
              "size": 10,
              "solidity": 0.2
             }
            },
            "type": "barpolar"
           }
          ],
          "carpet": [
           {
            "aaxis": {
             "endlinecolor": "#2a3f5f",
             "gridcolor": "white",
             "linecolor": "white",
             "minorgridcolor": "white",
             "startlinecolor": "#2a3f5f"
            },
            "baxis": {
             "endlinecolor": "#2a3f5f",
             "gridcolor": "white",
             "linecolor": "white",
             "minorgridcolor": "white",
             "startlinecolor": "#2a3f5f"
            },
            "type": "carpet"
           }
          ],
          "choropleth": [
           {
            "colorbar": {
             "outlinewidth": 0,
             "ticks": ""
            },
            "type": "choropleth"
           }
          ],
          "contour": [
           {
            "colorbar": {
             "outlinewidth": 0,
             "ticks": ""
            },
            "colorscale": [
             [
              0,
              "#0d0887"
             ],
             [
              0.1111111111111111,
              "#46039f"
             ],
             [
              0.2222222222222222,
              "#7201a8"
             ],
             [
              0.3333333333333333,
              "#9c179e"
             ],
             [
              0.4444444444444444,
              "#bd3786"
             ],
             [
              0.5555555555555556,
              "#d8576b"
             ],
             [
              0.6666666666666666,
              "#ed7953"
             ],
             [
              0.7777777777777778,
              "#fb9f3a"
             ],
             [
              0.8888888888888888,
              "#fdca26"
             ],
             [
              1,
              "#f0f921"
             ]
            ],
            "type": "contour"
           }
          ],
          "contourcarpet": [
           {
            "colorbar": {
             "outlinewidth": 0,
             "ticks": ""
            },
            "type": "contourcarpet"
           }
          ],
          "heatmap": [
           {
            "colorbar": {
             "outlinewidth": 0,
             "ticks": ""
            },
            "colorscale": [
             [
              0,
              "#0d0887"
             ],
             [
              0.1111111111111111,
              "#46039f"
             ],
             [
              0.2222222222222222,
              "#7201a8"
             ],
             [
              0.3333333333333333,
              "#9c179e"
             ],
             [
              0.4444444444444444,
              "#bd3786"
             ],
             [
              0.5555555555555556,
              "#d8576b"
             ],
             [
              0.6666666666666666,
              "#ed7953"
             ],
             [
              0.7777777777777778,
              "#fb9f3a"
             ],
             [
              0.8888888888888888,
              "#fdca26"
             ],
             [
              1,
              "#f0f921"
             ]
            ],
            "type": "heatmap"
           }
          ],
          "heatmapgl": [
           {
            "colorbar": {
             "outlinewidth": 0,
             "ticks": ""
            },
            "colorscale": [
             [
              0,
              "#0d0887"
             ],
             [
              0.1111111111111111,
              "#46039f"
             ],
             [
              0.2222222222222222,
              "#7201a8"
             ],
             [
              0.3333333333333333,
              "#9c179e"
             ],
             [
              0.4444444444444444,
              "#bd3786"
             ],
             [
              0.5555555555555556,
              "#d8576b"
             ],
             [
              0.6666666666666666,
              "#ed7953"
             ],
             [
              0.7777777777777778,
              "#fb9f3a"
             ],
             [
              0.8888888888888888,
              "#fdca26"
             ],
             [
              1,
              "#f0f921"
             ]
            ],
            "type": "heatmapgl"
           }
          ],
          "histogram": [
           {
            "marker": {
             "pattern": {
              "fillmode": "overlay",
              "size": 10,
              "solidity": 0.2
             }
            },
            "type": "histogram"
           }
          ],
          "histogram2d": [
           {
            "colorbar": {
             "outlinewidth": 0,
             "ticks": ""
            },
            "colorscale": [
             [
              0,
              "#0d0887"
             ],
             [
              0.1111111111111111,
              "#46039f"
             ],
             [
              0.2222222222222222,
              "#7201a8"
             ],
             [
              0.3333333333333333,
              "#9c179e"
             ],
             [
              0.4444444444444444,
              "#bd3786"
             ],
             [
              0.5555555555555556,
              "#d8576b"
             ],
             [
              0.6666666666666666,
              "#ed7953"
             ],
             [
              0.7777777777777778,
              "#fb9f3a"
             ],
             [
              0.8888888888888888,
              "#fdca26"
             ],
             [
              1,
              "#f0f921"
             ]
            ],
            "type": "histogram2d"
           }
          ],
          "histogram2dcontour": [
           {
            "colorbar": {
             "outlinewidth": 0,
             "ticks": ""
            },
            "colorscale": [
             [
              0,
              "#0d0887"
             ],
             [
              0.1111111111111111,
              "#46039f"
             ],
             [
              0.2222222222222222,
              "#7201a8"
             ],
             [
              0.3333333333333333,
              "#9c179e"
             ],
             [
              0.4444444444444444,
              "#bd3786"
             ],
             [
              0.5555555555555556,
              "#d8576b"
             ],
             [
              0.6666666666666666,
              "#ed7953"
             ],
             [
              0.7777777777777778,
              "#fb9f3a"
             ],
             [
              0.8888888888888888,
              "#fdca26"
             ],
             [
              1,
              "#f0f921"
             ]
            ],
            "type": "histogram2dcontour"
           }
          ],
          "mesh3d": [
           {
            "colorbar": {
             "outlinewidth": 0,
             "ticks": ""
            },
            "type": "mesh3d"
           }
          ],
          "parcoords": [
           {
            "line": {
             "colorbar": {
              "outlinewidth": 0,
              "ticks": ""
             }
            },
            "type": "parcoords"
           }
          ],
          "pie": [
           {
            "automargin": true,
            "type": "pie"
           }
          ],
          "scatter": [
           {
            "fillpattern": {
             "fillmode": "overlay",
             "size": 10,
             "solidity": 0.2
            },
            "type": "scatter"
           }
          ],
          "scatter3d": [
           {
            "line": {
             "colorbar": {
              "outlinewidth": 0,
              "ticks": ""
             }
            },
            "marker": {
             "colorbar": {
              "outlinewidth": 0,
              "ticks": ""
             }
            },
            "type": "scatter3d"
           }
          ],
          "scattercarpet": [
           {
            "marker": {
             "colorbar": {
              "outlinewidth": 0,
              "ticks": ""
             }
            },
            "type": "scattercarpet"
           }
          ],
          "scattergeo": [
           {
            "marker": {
             "colorbar": {
              "outlinewidth": 0,
              "ticks": ""
             }
            },
            "type": "scattergeo"
           }
          ],
          "scattergl": [
           {
            "marker": {
             "colorbar": {
              "outlinewidth": 0,
              "ticks": ""
             }
            },
            "type": "scattergl"
           }
          ],
          "scattermapbox": [
           {
            "marker": {
             "colorbar": {
              "outlinewidth": 0,
              "ticks": ""
             }
            },
            "type": "scattermapbox"
           }
          ],
          "scatterpolar": [
           {
            "marker": {
             "colorbar": {
              "outlinewidth": 0,
              "ticks": ""
             }
            },
            "type": "scatterpolar"
           }
          ],
          "scatterpolargl": [
           {
            "marker": {
             "colorbar": {
              "outlinewidth": 0,
              "ticks": ""
             }
            },
            "type": "scatterpolargl"
           }
          ],
          "scatterternary": [
           {
            "marker": {
             "colorbar": {
              "outlinewidth": 0,
              "ticks": ""
             }
            },
            "type": "scatterternary"
           }
          ],
          "surface": [
           {
            "colorbar": {
             "outlinewidth": 0,
             "ticks": ""
            },
            "colorscale": [
             [
              0,
              "#0d0887"
             ],
             [
              0.1111111111111111,
              "#46039f"
             ],
             [
              0.2222222222222222,
              "#7201a8"
             ],
             [
              0.3333333333333333,
              "#9c179e"
             ],
             [
              0.4444444444444444,
              "#bd3786"
             ],
             [
              0.5555555555555556,
              "#d8576b"
             ],
             [
              0.6666666666666666,
              "#ed7953"
             ],
             [
              0.7777777777777778,
              "#fb9f3a"
             ],
             [
              0.8888888888888888,
              "#fdca26"
             ],
             [
              1,
              "#f0f921"
             ]
            ],
            "type": "surface"
           }
          ],
          "table": [
           {
            "cells": {
             "fill": {
              "color": "#EBF0F8"
             },
             "line": {
              "color": "white"
             }
            },
            "header": {
             "fill": {
              "color": "#C8D4E3"
             },
             "line": {
              "color": "white"
             }
            },
            "type": "table"
           }
          ]
         },
         "layout": {
          "annotationdefaults": {
           "arrowcolor": "#2a3f5f",
           "arrowhead": 0,
           "arrowwidth": 1
          },
          "autotypenumbers": "strict",
          "coloraxis": {
           "colorbar": {
            "outlinewidth": 0,
            "ticks": ""
           }
          },
          "colorscale": {
           "diverging": [
            [
             0,
             "#8e0152"
            ],
            [
             0.1,
             "#c51b7d"
            ],
            [
             0.2,
             "#de77ae"
            ],
            [
             0.3,
             "#f1b6da"
            ],
            [
             0.4,
             "#fde0ef"
            ],
            [
             0.5,
             "#f7f7f7"
            ],
            [
             0.6,
             "#e6f5d0"
            ],
            [
             0.7,
             "#b8e186"
            ],
            [
             0.8,
             "#7fbc41"
            ],
            [
             0.9,
             "#4d9221"
            ],
            [
             1,
             "#276419"
            ]
           ],
           "sequential": [
            [
             0,
             "#0d0887"
            ],
            [
             0.1111111111111111,
             "#46039f"
            ],
            [
             0.2222222222222222,
             "#7201a8"
            ],
            [
             0.3333333333333333,
             "#9c179e"
            ],
            [
             0.4444444444444444,
             "#bd3786"
            ],
            [
             0.5555555555555556,
             "#d8576b"
            ],
            [
             0.6666666666666666,
             "#ed7953"
            ],
            [
             0.7777777777777778,
             "#fb9f3a"
            ],
            [
             0.8888888888888888,
             "#fdca26"
            ],
            [
             1,
             "#f0f921"
            ]
           ],
           "sequentialminus": [
            [
             0,
             "#0d0887"
            ],
            [
             0.1111111111111111,
             "#46039f"
            ],
            [
             0.2222222222222222,
             "#7201a8"
            ],
            [
             0.3333333333333333,
             "#9c179e"
            ],
            [
             0.4444444444444444,
             "#bd3786"
            ],
            [
             0.5555555555555556,
             "#d8576b"
            ],
            [
             0.6666666666666666,
             "#ed7953"
            ],
            [
             0.7777777777777778,
             "#fb9f3a"
            ],
            [
             0.8888888888888888,
             "#fdca26"
            ],
            [
             1,
             "#f0f921"
            ]
           ]
          },
          "colorway": [
           "#636efa",
           "#EF553B",
           "#00cc96",
           "#ab63fa",
           "#FFA15A",
           "#19d3f3",
           "#FF6692",
           "#B6E880",
           "#FF97FF",
           "#FECB52"
          ],
          "font": {
           "color": "#2a3f5f"
          },
          "geo": {
           "bgcolor": "white",
           "lakecolor": "white",
           "landcolor": "#E5ECF6",
           "showlakes": true,
           "showland": true,
           "subunitcolor": "white"
          },
          "hoverlabel": {
           "align": "left"
          },
          "hovermode": "closest",
          "mapbox": {
           "style": "light"
          },
          "paper_bgcolor": "white",
          "plot_bgcolor": "#E5ECF6",
          "polar": {
           "angularaxis": {
            "gridcolor": "white",
            "linecolor": "white",
            "ticks": ""
           },
           "bgcolor": "#E5ECF6",
           "radialaxis": {
            "gridcolor": "white",
            "linecolor": "white",
            "ticks": ""
           }
          },
          "scene": {
           "xaxis": {
            "backgroundcolor": "#E5ECF6",
            "gridcolor": "white",
            "gridwidth": 2,
            "linecolor": "white",
            "showbackground": true,
            "ticks": "",
            "zerolinecolor": "white"
           },
           "yaxis": {
            "backgroundcolor": "#E5ECF6",
            "gridcolor": "white",
            "gridwidth": 2,
            "linecolor": "white",
            "showbackground": true,
            "ticks": "",
            "zerolinecolor": "white"
           },
           "zaxis": {
            "backgroundcolor": "#E5ECF6",
            "gridcolor": "white",
            "gridwidth": 2,
            "linecolor": "white",
            "showbackground": true,
            "ticks": "",
            "zerolinecolor": "white"
           }
          },
          "shapedefaults": {
           "line": {
            "color": "#2a3f5f"
           }
          },
          "ternary": {
           "aaxis": {
            "gridcolor": "white",
            "linecolor": "white",
            "ticks": ""
           },
           "baxis": {
            "gridcolor": "white",
            "linecolor": "white",
            "ticks": ""
           },
           "bgcolor": "#E5ECF6",
           "caxis": {
            "gridcolor": "white",
            "linecolor": "white",
            "ticks": ""
           }
          },
          "title": {
           "x": 0.05
          },
          "xaxis": {
           "automargin": true,
           "gridcolor": "white",
           "linecolor": "white",
           "ticks": "",
           "title": {
            "standoff": 15
           },
           "zerolinecolor": "white",
           "zerolinewidth": 2
          },
          "yaxis": {
           "automargin": true,
           "gridcolor": "white",
           "linecolor": "white",
           "ticks": "",
           "title": {
            "standoff": 15
           },
           "zerolinecolor": "white",
           "zerolinewidth": 2
          }
         }
        },
        "xaxis": {
         "anchor": "y",
         "domain": [
          0,
          1
         ],
         "title": {
          "text": "insured_relationship"
         }
        },
        "yaxis": {
         "anchor": "x",
         "domain": [
          0,
          1
         ],
         "title": {
          "text": "count"
         }
        }
       }
      },
      "text/html": [
       "<div>                            <div id=\"c0599f15-17ad-4c71-aa87-612141d7fe6b\" class=\"plotly-graph-div\" style=\"height:525px; width:100%;\"></div>            <script type=\"text/javascript\">                require([\"plotly\"], function(Plotly) {                    window.PLOTLYENV=window.PLOTLYENV || {};                                    if (document.getElementById(\"c0599f15-17ad-4c71-aa87-612141d7fe6b\")) {                    Plotly.newPlot(                        \"c0599f15-17ad-4c71-aa87-612141d7fe6b\",                        [{\"alignmentgroup\":\"True\",\"bingroup\":\"x\",\"hovertemplate\":\"fraud_reported=Y<br>insured_relationship=%{x}<br>count=%{y}<extra></extra>\",\"legendgroup\":\"Y\",\"marker\":{\"color\":\"#636efa\",\"pattern\":{\"shape\":\"\"}},\"name\":\"Y\",\"offsetgroup\":\"Y\",\"orientation\":\"v\",\"showlegend\":true,\"x\":[\"husband\",\"other-relative\",\"unmarried\",\"unmarried\",\"not-in-family\",\"other-relative\",\"other-relative\",\"own-child\",\"own-child\",\"not-in-family\",\"husband\",\"not-in-family\",\"unmarried\",\"wife\",\"unmarried\",\"husband\",\"other-relative\",\"own-child\",\"not-in-family\",\"other-relative\",\"not-in-family\",\"own-child\",\"not-in-family\",\"unmarried\",\"not-in-family\",\"not-in-family\",\"own-child\",\"not-in-family\",\"own-child\",\"husband\",\"other-relative\",\"husband\",\"unmarried\",\"other-relative\",\"unmarried\",\"other-relative\",\"not-in-family\",\"wife\",\"husband\",\"other-relative\",\"other-relative\",\"wife\",\"not-in-family\",\"not-in-family\",\"not-in-family\",\"own-child\",\"own-child\",\"other-relative\",\"not-in-family\",\"unmarried\",\"husband\",\"other-relative\",\"husband\",\"own-child\",\"own-child\",\"other-relative\",\"wife\",\"wife\",\"other-relative\",\"not-in-family\",\"other-relative\",\"not-in-family\",\"other-relative\",\"own-child\",\"other-relative\",\"other-relative\",\"own-child\",\"unmarried\",\"other-relative\",\"wife\",\"wife\",\"other-relative\",\"unmarried\",\"husband\",\"husband\",\"wife\",\"other-relative\",\"unmarried\",\"not-in-family\",\"wife\",\"other-relative\",\"husband\",\"husband\",\"unmarried\",\"wife\",\"own-child\",\"unmarried\",\"other-relative\",\"not-in-family\",\"other-relative\",\"not-in-family\",\"husband\",\"own-child\",\"husband\",\"wife\",\"own-child\",\"unmarried\",\"unmarried\",\"other-relative\",\"wife\",\"unmarried\",\"other-relative\",\"own-child\",\"own-child\",\"wife\",\"wife\",\"wife\",\"other-relative\",\"not-in-family\",\"unmarried\",\"own-child\",\"husband\",\"unmarried\",\"husband\",\"other-relative\",\"other-relative\",\"other-relative\",\"not-in-family\",\"wife\",\"unmarried\",\"own-child\",\"other-relative\",\"own-child\",\"husband\",\"other-relative\",\"husband\",\"other-relative\",\"unmarried\",\"other-relative\",\"not-in-family\",\"not-in-family\",\"own-child\",\"not-in-family\",\"wife\",\"not-in-family\",\"own-child\",\"other-relative\",\"wife\",\"own-child\",\"husband\",\"unmarried\",\"not-in-family\",\"wife\",\"not-in-family\",\"wife\",\"wife\",\"not-in-family\",\"wife\",\"not-in-family\",\"unmarried\",\"not-in-family\",\"not-in-family\",\"wife\",\"unmarried\",\"other-relative\",\"own-child\",\"unmarried\",\"husband\",\"unmarried\",\"wife\",\"wife\",\"husband\",\"wife\",\"husband\",\"not-in-family\",\"not-in-family\",\"other-relative\",\"wife\",\"other-relative\",\"other-relative\",\"not-in-family\",\"wife\",\"wife\",\"other-relative\",\"husband\",\"husband\",\"other-relative\",\"unmarried\",\"own-child\",\"unmarried\",\"husband\",\"husband\",\"husband\",\"other-relative\",\"own-child\",\"own-child\",\"other-relative\",\"unmarried\",\"not-in-family\",\"other-relative\",\"own-child\",\"not-in-family\",\"husband\",\"own-child\",\"unmarried\",\"wife\",\"wife\",\"wife\",\"wife\",\"husband\",\"wife\",\"husband\",\"own-child\",\"not-in-family\",\"husband\",\"not-in-family\",\"husband\",\"not-in-family\",\"unmarried\",\"other-relative\",\"other-relative\",\"husband\",\"wife\",\"own-child\",\"own-child\",\"not-in-family\",\"other-relative\",\"other-relative\",\"husband\",\"wife\",\"unmarried\",\"not-in-family\",\"wife\",\"wife\",\"not-in-family\",\"own-child\",\"other-relative\",\"not-in-family\",\"wife\",\"own-child\",\"own-child\",\"unmarried\",\"not-in-family\",\"unmarried\",\"husband\",\"own-child\",\"unmarried\",\"wife\",\"own-child\",\"own-child\",\"wife\",\"own-child\",\"wife\",\"other-relative\",\"other-relative\",\"not-in-family\",\"other-relative\"],\"xaxis\":\"x\",\"yaxis\":\"y\",\"type\":\"histogram\"},{\"alignmentgroup\":\"True\",\"bingroup\":\"x\",\"hovertemplate\":\"fraud_reported=N<br>insured_relationship=%{x}<br>count=%{y}<extra></extra>\",\"legendgroup\":\"N\",\"marker\":{\"color\":\"#EF553B\",\"pattern\":{\"shape\":\"\"}},\"name\":\"N\",\"offsetgroup\":\"N\",\"orientation\":\"v\",\"showlegend\":true,\"x\":[\"own-child\",\"unmarried\",\"husband\",\"unmarried\",\"own-child\",\"wife\",\"other-relative\",\"other-relative\",\"wife\",\"wife\",\"own-child\",\"unmarried\",\"other-relative\",\"own-child\",\"own-child\",\"own-child\",\"husband\",\"own-child\",\"not-in-family\",\"unmarried\",\"husband\",\"other-relative\",\"wife\",\"own-child\",\"unmarried\",\"unmarried\",\"not-in-family\",\"husband\",\"own-child\",\"unmarried\",\"husband\",\"husband\",\"other-relative\",\"wife\",\"own-child\",\"husband\",\"not-in-family\",\"husband\",\"not-in-family\",\"not-in-family\",\"unmarried\",\"own-child\",\"husband\",\"own-child\",\"husband\",\"unmarried\",\"unmarried\",\"own-child\",\"own-child\",\"husband\",\"not-in-family\",\"wife\",\"other-relative\",\"husband\",\"not-in-family\",\"wife\",\"husband\",\"wife\",\"other-relative\",\"wife\",\"own-child\",\"husband\",\"own-child\",\"not-in-family\",\"own-child\",\"own-child\",\"not-in-family\",\"not-in-family\",\"husband\",\"wife\",\"not-in-family\",\"not-in-family\",\"unmarried\",\"husband\",\"other-relative\",\"wife\",\"husband\",\"own-child\",\"unmarried\",\"other-relative\",\"own-child\",\"other-relative\",\"other-relative\",\"not-in-family\",\"husband\",\"other-relative\",\"other-relative\",\"not-in-family\",\"unmarried\",\"unmarried\",\"own-child\",\"wife\",\"own-child\",\"unmarried\",\"wife\",\"unmarried\",\"other-relative\",\"not-in-family\",\"wife\",\"not-in-family\",\"other-relative\",\"wife\",\"own-child\",\"wife\",\"other-relative\",\"wife\",\"husband\",\"own-child\",\"husband\",\"other-relative\",\"not-in-family\",\"other-relative\",\"unmarried\",\"not-in-family\",\"unmarried\",\"unmarried\",\"not-in-family\",\"unmarried\",\"husband\",\"not-in-family\",\"not-in-family\",\"wife\",\"wife\",\"unmarried\",\"wife\",\"other-relative\",\"other-relative\",\"other-relative\",\"wife\",\"not-in-family\",\"not-in-family\",\"husband\",\"not-in-family\",\"unmarried\",\"other-relative\",\"other-relative\",\"own-child\",\"unmarried\",\"unmarried\",\"husband\",\"not-in-family\",\"husband\",\"not-in-family\",\"own-child\",\"other-relative\",\"not-in-family\",\"not-in-family\",\"unmarried\",\"wife\",\"husband\",\"not-in-family\",\"husband\",\"husband\",\"not-in-family\",\"other-relative\",\"not-in-family\",\"other-relative\",\"unmarried\",\"not-in-family\",\"other-relative\",\"own-child\",\"husband\",\"wife\",\"not-in-family\",\"unmarried\",\"own-child\",\"unmarried\",\"other-relative\",\"wife\",\"own-child\",\"husband\",\"own-child\",\"unmarried\",\"unmarried\",\"own-child\",\"own-child\",\"own-child\",\"other-relative\",\"own-child\",\"other-relative\",\"not-in-family\",\"other-relative\",\"other-relative\",\"husband\",\"own-child\",\"other-relative\",\"husband\",\"other-relative\",\"other-relative\",\"wife\",\"own-child\",\"unmarried\",\"other-relative\",\"wife\",\"husband\",\"wife\",\"wife\",\"other-relative\",\"own-child\",\"husband\",\"own-child\",\"unmarried\",\"not-in-family\",\"own-child\",\"not-in-family\",\"not-in-family\",\"not-in-family\",\"own-child\",\"wife\",\"other-relative\",\"wife\",\"wife\",\"wife\",\"wife\",\"not-in-family\",\"other-relative\",\"not-in-family\",\"own-child\",\"other-relative\",\"wife\",\"husband\",\"unmarried\",\"husband\",\"other-relative\",\"own-child\",\"unmarried\",\"wife\",\"not-in-family\",\"wife\",\"not-in-family\",\"wife\",\"husband\",\"husband\",\"other-relative\",\"not-in-family\",\"own-child\",\"own-child\",\"not-in-family\",\"unmarried\",\"husband\",\"wife\",\"unmarried\",\"unmarried\",\"wife\",\"husband\",\"unmarried\",\"wife\",\"other-relative\",\"unmarried\",\"own-child\",\"husband\",\"not-in-family\",\"own-child\",\"unmarried\",\"own-child\",\"own-child\",\"unmarried\",\"not-in-family\",\"other-relative\",\"unmarried\",\"own-child\",\"own-child\",\"own-child\",\"other-relative\",\"other-relative\",\"own-child\",\"husband\",\"unmarried\",\"other-relative\",\"own-child\",\"not-in-family\",\"own-child\",\"own-child\",\"other-relative\",\"own-child\",\"wife\",\"not-in-family\",\"wife\",\"wife\",\"own-child\",\"unmarried\",\"other-relative\",\"husband\",\"own-child\",\"not-in-family\",\"unmarried\",\"wife\",\"unmarried\",\"own-child\",\"not-in-family\",\"own-child\",\"other-relative\",\"wife\",\"husband\",\"wife\",\"unmarried\",\"unmarried\",\"not-in-family\",\"not-in-family\",\"not-in-family\",\"own-child\",\"unmarried\",\"unmarried\",\"wife\",\"unmarried\",\"unmarried\",\"own-child\",\"husband\",\"other-relative\",\"husband\",\"wife\",\"not-in-family\",\"own-child\",\"own-child\",\"other-relative\",\"not-in-family\",\"wife\",\"own-child\",\"wife\",\"other-relative\",\"own-child\",\"unmarried\",\"not-in-family\",\"own-child\",\"not-in-family\",\"other-relative\",\"own-child\",\"wife\",\"other-relative\",\"husband\",\"husband\",\"husband\",\"unmarried\",\"husband\",\"not-in-family\",\"not-in-family\",\"husband\",\"unmarried\",\"other-relative\",\"own-child\",\"wife\",\"other-relative\",\"unmarried\",\"wife\",\"other-relative\",\"not-in-family\",\"not-in-family\",\"unmarried\",\"not-in-family\",\"wife\",\"other-relative\",\"wife\",\"other-relative\",\"unmarried\",\"own-child\",\"husband\",\"husband\",\"other-relative\",\"own-child\",\"unmarried\",\"unmarried\",\"wife\",\"not-in-family\",\"unmarried\",\"husband\",\"wife\",\"own-child\",\"other-relative\",\"husband\",\"husband\",\"own-child\",\"other-relative\",\"other-relative\",\"husband\",\"unmarried\",\"unmarried\",\"husband\",\"husband\",\"not-in-family\",\"husband\",\"other-relative\",\"wife\",\"other-relative\",\"unmarried\",\"own-child\",\"not-in-family\",\"other-relative\",\"own-child\",\"own-child\",\"own-child\",\"husband\",\"other-relative\",\"not-in-family\",\"unmarried\",\"not-in-family\",\"own-child\",\"not-in-family\",\"wife\",\"husband\",\"other-relative\",\"other-relative\",\"wife\",\"other-relative\",\"husband\",\"not-in-family\",\"own-child\",\"wife\",\"other-relative\",\"own-child\",\"unmarried\",\"wife\",\"unmarried\",\"not-in-family\",\"own-child\",\"own-child\",\"not-in-family\",\"own-child\",\"own-child\",\"not-in-family\",\"own-child\",\"not-in-family\",\"unmarried\",\"other-relative\",\"own-child\",\"unmarried\",\"own-child\",\"wife\",\"husband\",\"wife\",\"not-in-family\",\"own-child\",\"husband\",\"other-relative\",\"unmarried\",\"wife\",\"wife\",\"own-child\",\"not-in-family\",\"husband\",\"husband\",\"not-in-family\",\"wife\",\"own-child\",\"other-relative\",\"other-relative\",\"other-relative\",\"wife\",\"own-child\",\"other-relative\",\"not-in-family\",\"own-child\",\"wife\",\"wife\",\"wife\",\"husband\",\"unmarried\",\"not-in-family\",\"not-in-family\",\"wife\",\"other-relative\",\"husband\",\"husband\",\"own-child\",\"own-child\",\"wife\",\"not-in-family\",\"own-child\",\"not-in-family\",\"husband\",\"other-relative\",\"husband\",\"not-in-family\",\"husband\",\"own-child\",\"unmarried\",\"not-in-family\",\"husband\",\"unmarried\",\"husband\",\"wife\",\"not-in-family\",\"unmarried\",\"husband\",\"other-relative\",\"husband\",\"husband\",\"other-relative\",\"other-relative\",\"other-relative\",\"other-relative\",\"other-relative\",\"unmarried\",\"husband\",\"not-in-family\",\"wife\",\"wife\",\"husband\",\"not-in-family\",\"husband\",\"wife\",\"other-relative\",\"not-in-family\",\"wife\",\"wife\",\"other-relative\",\"own-child\",\"husband\",\"wife\",\"own-child\",\"not-in-family\",\"unmarried\",\"other-relative\",\"wife\",\"husband\",\"not-in-family\",\"other-relative\",\"not-in-family\",\"own-child\",\"husband\",\"husband\",\"husband\",\"wife\",\"unmarried\",\"unmarried\",\"husband\",\"wife\",\"not-in-family\",\"own-child\",\"wife\",\"wife\",\"other-relative\",\"husband\",\"own-child\",\"own-child\",\"other-relative\",\"other-relative\",\"other-relative\",\"own-child\",\"unmarried\",\"husband\",\"other-relative\",\"husband\",\"wife\",\"husband\",\"unmarried\",\"unmarried\",\"husband\",\"own-child\",\"not-in-family\",\"husband\",\"not-in-family\",\"not-in-family\",\"own-child\",\"husband\",\"wife\",\"not-in-family\",\"not-in-family\",\"unmarried\",\"not-in-family\",\"unmarried\",\"wife\",\"husband\",\"unmarried\",\"wife\",\"not-in-family\",\"unmarried\",\"husband\",\"own-child\",\"other-relative\",\"husband\",\"unmarried\",\"other-relative\",\"own-child\",\"husband\",\"own-child\",\"own-child\",\"husband\",\"not-in-family\",\"other-relative\",\"own-child\",\"not-in-family\",\"wife\",\"not-in-family\",\"other-relative\",\"other-relative\",\"husband\",\"unmarried\",\"husband\",\"not-in-family\",\"other-relative\",\"husband\",\"wife\",\"not-in-family\",\"unmarried\",\"not-in-family\",\"unmarried\",\"own-child\",\"unmarried\",\"not-in-family\",\"other-relative\",\"unmarried\",\"own-child\",\"wife\",\"unmarried\",\"other-relative\",\"own-child\",\"husband\",\"husband\",\"own-child\",\"unmarried\",\"wife\",\"wife\",\"husband\",\"own-child\",\"not-in-family\",\"not-in-family\",\"not-in-family\",\"husband\",\"own-child\",\"husband\",\"own-child\",\"own-child\",\"own-child\",\"other-relative\",\"wife\",\"wife\",\"other-relative\",\"own-child\",\"own-child\",\"unmarried\",\"husband\",\"own-child\",\"not-in-family\",\"not-in-family\",\"wife\",\"not-in-family\",\"wife\",\"husband\",\"wife\",\"own-child\",\"own-child\",\"husband\",\"other-relative\",\"own-child\",\"own-child\",\"husband\",\"other-relative\",\"other-relative\",\"unmarried\",\"husband\",\"not-in-family\",\"not-in-family\",\"husband\",\"own-child\",\"husband\",\"unmarried\",\"other-relative\",\"other-relative\",\"not-in-family\",\"not-in-family\",\"husband\",\"other-relative\",\"husband\",\"wife\",\"not-in-family\",\"other-relative\",\"other-relative\",\"husband\",\"husband\",\"not-in-family\",\"own-child\",\"own-child\",\"husband\",\"own-child\",\"husband\",\"own-child\",\"other-relative\",\"wife\",\"husband\",\"own-child\",\"husband\",\"not-in-family\",\"not-in-family\",\"wife\",\"other-relative\",\"not-in-family\",\"own-child\",\"husband\",\"not-in-family\",\"wife\",\"not-in-family\",\"wife\",\"wife\",\"not-in-family\",\"wife\",\"husband\",\"other-relative\",\"husband\",\"other-relative\",\"husband\",\"own-child\",\"other-relative\",\"wife\",\"own-child\",\"husband\",\"own-child\",\"own-child\",\"own-child\",\"own-child\",\"own-child\",\"not-in-family\",\"wife\",\"unmarried\",\"not-in-family\",\"own-child\",\"not-in-family\",\"other-relative\",\"unmarried\",\"not-in-family\",\"other-relative\",\"wife\",\"husband\",\"husband\",\"husband\",\"unmarried\",\"other-relative\",\"other-relative\",\"own-child\",\"other-relative\",\"unmarried\",\"husband\",\"not-in-family\",\"own-child\",\"unmarried\",\"unmarried\",\"not-in-family\",\"unmarried\",\"unmarried\",\"unmarried\",\"husband\",\"wife\",\"wife\",\"husband\",\"unmarried\",\"other-relative\",\"husband\",\"husband\",\"own-child\",\"unmarried\",\"wife\",\"other-relative\",\"wife\",\"husband\"],\"xaxis\":\"x\",\"yaxis\":\"y\",\"type\":\"histogram\"}],                        {\"template\":{\"data\":{\"histogram2dcontour\":[{\"type\":\"histogram2dcontour\",\"colorbar\":{\"outlinewidth\":0,\"ticks\":\"\"},\"colorscale\":[[0.0,\"#0d0887\"],[0.1111111111111111,\"#46039f\"],[0.2222222222222222,\"#7201a8\"],[0.3333333333333333,\"#9c179e\"],[0.4444444444444444,\"#bd3786\"],[0.5555555555555556,\"#d8576b\"],[0.6666666666666666,\"#ed7953\"],[0.7777777777777778,\"#fb9f3a\"],[0.8888888888888888,\"#fdca26\"],[1.0,\"#f0f921\"]]}],\"choropleth\":[{\"type\":\"choropleth\",\"colorbar\":{\"outlinewidth\":0,\"ticks\":\"\"}}],\"histogram2d\":[{\"type\":\"histogram2d\",\"colorbar\":{\"outlinewidth\":0,\"ticks\":\"\"},\"colorscale\":[[0.0,\"#0d0887\"],[0.1111111111111111,\"#46039f\"],[0.2222222222222222,\"#7201a8\"],[0.3333333333333333,\"#9c179e\"],[0.4444444444444444,\"#bd3786\"],[0.5555555555555556,\"#d8576b\"],[0.6666666666666666,\"#ed7953\"],[0.7777777777777778,\"#fb9f3a\"],[0.8888888888888888,\"#fdca26\"],[1.0,\"#f0f921\"]]}],\"heatmap\":[{\"type\":\"heatmap\",\"colorbar\":{\"outlinewidth\":0,\"ticks\":\"\"},\"colorscale\":[[0.0,\"#0d0887\"],[0.1111111111111111,\"#46039f\"],[0.2222222222222222,\"#7201a8\"],[0.3333333333333333,\"#9c179e\"],[0.4444444444444444,\"#bd3786\"],[0.5555555555555556,\"#d8576b\"],[0.6666666666666666,\"#ed7953\"],[0.7777777777777778,\"#fb9f3a\"],[0.8888888888888888,\"#fdca26\"],[1.0,\"#f0f921\"]]}],\"heatmapgl\":[{\"type\":\"heatmapgl\",\"colorbar\":{\"outlinewidth\":0,\"ticks\":\"\"},\"colorscale\":[[0.0,\"#0d0887\"],[0.1111111111111111,\"#46039f\"],[0.2222222222222222,\"#7201a8\"],[0.3333333333333333,\"#9c179e\"],[0.4444444444444444,\"#bd3786\"],[0.5555555555555556,\"#d8576b\"],[0.6666666666666666,\"#ed7953\"],[0.7777777777777778,\"#fb9f3a\"],[0.8888888888888888,\"#fdca26\"],[1.0,\"#f0f921\"]]}],\"contourcarpet\":[{\"type\":\"contourcarpet\",\"colorbar\":{\"outlinewidth\":0,\"ticks\":\"\"}}],\"contour\":[{\"type\":\"contour\",\"colorbar\":{\"outlinewidth\":0,\"ticks\":\"\"},\"colorscale\":[[0.0,\"#0d0887\"],[0.1111111111111111,\"#46039f\"],[0.2222222222222222,\"#7201a8\"],[0.3333333333333333,\"#9c179e\"],[0.4444444444444444,\"#bd3786\"],[0.5555555555555556,\"#d8576b\"],[0.6666666666666666,\"#ed7953\"],[0.7777777777777778,\"#fb9f3a\"],[0.8888888888888888,\"#fdca26\"],[1.0,\"#f0f921\"]]}],\"surface\":[{\"type\":\"surface\",\"colorbar\":{\"outlinewidth\":0,\"ticks\":\"\"},\"colorscale\":[[0.0,\"#0d0887\"],[0.1111111111111111,\"#46039f\"],[0.2222222222222222,\"#7201a8\"],[0.3333333333333333,\"#9c179e\"],[0.4444444444444444,\"#bd3786\"],[0.5555555555555556,\"#d8576b\"],[0.6666666666666666,\"#ed7953\"],[0.7777777777777778,\"#fb9f3a\"],[0.8888888888888888,\"#fdca26\"],[1.0,\"#f0f921\"]]}],\"mesh3d\":[{\"type\":\"mesh3d\",\"colorbar\":{\"outlinewidth\":0,\"ticks\":\"\"}}],\"scatter\":[{\"fillpattern\":{\"fillmode\":\"overlay\",\"size\":10,\"solidity\":0.2},\"type\":\"scatter\"}],\"parcoords\":[{\"type\":\"parcoords\",\"line\":{\"colorbar\":{\"outlinewidth\":0,\"ticks\":\"\"}}}],\"scatterpolargl\":[{\"type\":\"scatterpolargl\",\"marker\":{\"colorbar\":{\"outlinewidth\":0,\"ticks\":\"\"}}}],\"bar\":[{\"error_x\":{\"color\":\"#2a3f5f\"},\"error_y\":{\"color\":\"#2a3f5f\"},\"marker\":{\"line\":{\"color\":\"#E5ECF6\",\"width\":0.5},\"pattern\":{\"fillmode\":\"overlay\",\"size\":10,\"solidity\":0.2}},\"type\":\"bar\"}],\"scattergeo\":[{\"type\":\"scattergeo\",\"marker\":{\"colorbar\":{\"outlinewidth\":0,\"ticks\":\"\"}}}],\"scatterpolar\":[{\"type\":\"scatterpolar\",\"marker\":{\"colorbar\":{\"outlinewidth\":0,\"ticks\":\"\"}}}],\"histogram\":[{\"marker\":{\"pattern\":{\"fillmode\":\"overlay\",\"size\":10,\"solidity\":0.2}},\"type\":\"histogram\"}],\"scattergl\":[{\"type\":\"scattergl\",\"marker\":{\"colorbar\":{\"outlinewidth\":0,\"ticks\":\"\"}}}],\"scatter3d\":[{\"type\":\"scatter3d\",\"line\":{\"colorbar\":{\"outlinewidth\":0,\"ticks\":\"\"}},\"marker\":{\"colorbar\":{\"outlinewidth\":0,\"ticks\":\"\"}}}],\"scattermapbox\":[{\"type\":\"scattermapbox\",\"marker\":{\"colorbar\":{\"outlinewidth\":0,\"ticks\":\"\"}}}],\"scatterternary\":[{\"type\":\"scatterternary\",\"marker\":{\"colorbar\":{\"outlinewidth\":0,\"ticks\":\"\"}}}],\"scattercarpet\":[{\"type\":\"scattercarpet\",\"marker\":{\"colorbar\":{\"outlinewidth\":0,\"ticks\":\"\"}}}],\"carpet\":[{\"aaxis\":{\"endlinecolor\":\"#2a3f5f\",\"gridcolor\":\"white\",\"linecolor\":\"white\",\"minorgridcolor\":\"white\",\"startlinecolor\":\"#2a3f5f\"},\"baxis\":{\"endlinecolor\":\"#2a3f5f\",\"gridcolor\":\"white\",\"linecolor\":\"white\",\"minorgridcolor\":\"white\",\"startlinecolor\":\"#2a3f5f\"},\"type\":\"carpet\"}],\"table\":[{\"cells\":{\"fill\":{\"color\":\"#EBF0F8\"},\"line\":{\"color\":\"white\"}},\"header\":{\"fill\":{\"color\":\"#C8D4E3\"},\"line\":{\"color\":\"white\"}},\"type\":\"table\"}],\"barpolar\":[{\"marker\":{\"line\":{\"color\":\"#E5ECF6\",\"width\":0.5},\"pattern\":{\"fillmode\":\"overlay\",\"size\":10,\"solidity\":0.2}},\"type\":\"barpolar\"}],\"pie\":[{\"automargin\":true,\"type\":\"pie\"}]},\"layout\":{\"autotypenumbers\":\"strict\",\"colorway\":[\"#636efa\",\"#EF553B\",\"#00cc96\",\"#ab63fa\",\"#FFA15A\",\"#19d3f3\",\"#FF6692\",\"#B6E880\",\"#FF97FF\",\"#FECB52\"],\"font\":{\"color\":\"#2a3f5f\"},\"hovermode\":\"closest\",\"hoverlabel\":{\"align\":\"left\"},\"paper_bgcolor\":\"white\",\"plot_bgcolor\":\"#E5ECF6\",\"polar\":{\"bgcolor\":\"#E5ECF6\",\"angularaxis\":{\"gridcolor\":\"white\",\"linecolor\":\"white\",\"ticks\":\"\"},\"radialaxis\":{\"gridcolor\":\"white\",\"linecolor\":\"white\",\"ticks\":\"\"}},\"ternary\":{\"bgcolor\":\"#E5ECF6\",\"aaxis\":{\"gridcolor\":\"white\",\"linecolor\":\"white\",\"ticks\":\"\"},\"baxis\":{\"gridcolor\":\"white\",\"linecolor\":\"white\",\"ticks\":\"\"},\"caxis\":{\"gridcolor\":\"white\",\"linecolor\":\"white\",\"ticks\":\"\"}},\"coloraxis\":{\"colorbar\":{\"outlinewidth\":0,\"ticks\":\"\"}},\"colorscale\":{\"sequential\":[[0.0,\"#0d0887\"],[0.1111111111111111,\"#46039f\"],[0.2222222222222222,\"#7201a8\"],[0.3333333333333333,\"#9c179e\"],[0.4444444444444444,\"#bd3786\"],[0.5555555555555556,\"#d8576b\"],[0.6666666666666666,\"#ed7953\"],[0.7777777777777778,\"#fb9f3a\"],[0.8888888888888888,\"#fdca26\"],[1.0,\"#f0f921\"]],\"sequentialminus\":[[0.0,\"#0d0887\"],[0.1111111111111111,\"#46039f\"],[0.2222222222222222,\"#7201a8\"],[0.3333333333333333,\"#9c179e\"],[0.4444444444444444,\"#bd3786\"],[0.5555555555555556,\"#d8576b\"],[0.6666666666666666,\"#ed7953\"],[0.7777777777777778,\"#fb9f3a\"],[0.8888888888888888,\"#fdca26\"],[1.0,\"#f0f921\"]],\"diverging\":[[0,\"#8e0152\"],[0.1,\"#c51b7d\"],[0.2,\"#de77ae\"],[0.3,\"#f1b6da\"],[0.4,\"#fde0ef\"],[0.5,\"#f7f7f7\"],[0.6,\"#e6f5d0\"],[0.7,\"#b8e186\"],[0.8,\"#7fbc41\"],[0.9,\"#4d9221\"],[1,\"#276419\"]]},\"xaxis\":{\"gridcolor\":\"white\",\"linecolor\":\"white\",\"ticks\":\"\",\"title\":{\"standoff\":15},\"zerolinecolor\":\"white\",\"automargin\":true,\"zerolinewidth\":2},\"yaxis\":{\"gridcolor\":\"white\",\"linecolor\":\"white\",\"ticks\":\"\",\"title\":{\"standoff\":15},\"zerolinecolor\":\"white\",\"automargin\":true,\"zerolinewidth\":2},\"scene\":{\"xaxis\":{\"backgroundcolor\":\"#E5ECF6\",\"gridcolor\":\"white\",\"linecolor\":\"white\",\"showbackground\":true,\"ticks\":\"\",\"zerolinecolor\":\"white\",\"gridwidth\":2},\"yaxis\":{\"backgroundcolor\":\"#E5ECF6\",\"gridcolor\":\"white\",\"linecolor\":\"white\",\"showbackground\":true,\"ticks\":\"\",\"zerolinecolor\":\"white\",\"gridwidth\":2},\"zaxis\":{\"backgroundcolor\":\"#E5ECF6\",\"gridcolor\":\"white\",\"linecolor\":\"white\",\"showbackground\":true,\"ticks\":\"\",\"zerolinecolor\":\"white\",\"gridwidth\":2}},\"shapedefaults\":{\"line\":{\"color\":\"#2a3f5f\"}},\"annotationdefaults\":{\"arrowcolor\":\"#2a3f5f\",\"arrowhead\":0,\"arrowwidth\":1},\"geo\":{\"bgcolor\":\"white\",\"landcolor\":\"#E5ECF6\",\"subunitcolor\":\"white\",\"showland\":true,\"showlakes\":true,\"lakecolor\":\"white\"},\"title\":{\"x\":0.05},\"mapbox\":{\"style\":\"light\"}}},\"xaxis\":{\"anchor\":\"y\",\"domain\":[0.0,1.0],\"title\":{\"text\":\"insured_relationship\"}},\"yaxis\":{\"anchor\":\"x\",\"domain\":[0.0,1.0],\"title\":{\"text\":\"count\"}},\"legend\":{\"title\":{\"text\":\"fraud_reported\"},\"tracegroupgap\":0},\"margin\":{\"t\":60},\"barmode\":\"group\"},                        {\"responsive\": true}                    ).then(function(){\n",
       "                            \n",
       "var gd = document.getElementById('c0599f15-17ad-4c71-aa87-612141d7fe6b');\n",
       "var x = new MutationObserver(function (mutations, observer) {{\n",
       "        var display = window.getComputedStyle(gd).display;\n",
       "        if (!display || display === 'none') {{\n",
       "            console.log([gd, 'removed!']);\n",
       "            Plotly.purge(gd);\n",
       "            observer.disconnect();\n",
       "        }}\n",
       "}});\n",
       "\n",
       "// Listen for the removal of the full notebook cells\n",
       "var notebookContainer = gd.closest('#notebook-container');\n",
       "if (notebookContainer) {{\n",
       "    x.observe(notebookContainer, {childList: true});\n",
       "}}\n",
       "\n",
       "// Listen for the clearing of the current output cell\n",
       "var outputEl = gd.closest('.output');\n",
       "if (outputEl) {{\n",
       "    x.observe(outputEl, {childList: true});\n",
       "}}\n",
       "\n",
       "                        })                };                });            </script>        </div>"
      ]
     },
     "metadata": {},
     "output_type": "display_data"
    }
   ],
   "source": [
    "px.histogram(data, x=\"insured_relationship\", color=\"fraud_reported\", barmode='group')"
   ]
  },
  {
   "cell_type": "markdown",
   "id": "bad68c59",
   "metadata": {},
   "source": [
    "Observation: Most of the Frauds are with Other-relative, not-in-family and wife "
   ]
  },
  {
   "cell_type": "code",
   "execution_count": null,
   "id": "7bc5da80",
   "metadata": {},
   "outputs": [
    {
     "data": {
      "text/plain": [
       "<AxesSubplot:xlabel='insured_hobbies', ylabel='count'>"
      ]
     },
     "execution_count": 13,
     "metadata": {},
     "output_type": "execute_result"
    },
    {
     "data": {
      "image/png": "[encoded data removed]",
      "text/plain": [
       "<Figure size 2016x720 with 1 Axes>"
      ]
     },
     "metadata": {
      "needs_background": "light"
     },
     "output_type": "display_data"
    }
   ],
   "source": [
    "plt.subplots(figsize = (28,10))\n",
    "sns.countplot(data = data, x = 'insured_hobbies', hue = 'fraud_reported', palette = 'cool')"
   ]
  },
  {
   "cell_type": "markdown",
   "id": "6aa01c87",
   "metadata": {},
   "source": [
    "Observation: Those who play Chess are most likely to be involved in Fraud whereas camping,Kayaking, dancing, basketball are less involved in Frauds."
   ]
  },
  {
   "cell_type": "code",
   "execution_count": null,
   "id": "393c1df4",
   "metadata": {},
   "outputs": [
    {
     "data": {
      "application/vnd.plotly.v1+json": {
       "config": {
        "plotlyServerURL": "https://plot.ly"
       },
       "data": [
        {
         "alignmentgroup": "True",
         "bingroup": "x",
         "hovertemplate": "fraud_reported=Y<br>age=%{x}<br>count=%{y}<extra></extra>",
         "legendgroup": "Y",
         "marker": {
          "color": "#636efa",
          "pattern": {
           "shape": ""
          }
         },
         "name": "Y",
         "offsetgroup": "Y",
         "orientation": "v",
         "showlegend": true,
         "type": "histogram",
         "x": [
          48,
          42,
          41,
          39,
          38,
          58,
          55,
          55,
          35,
          34,
          37,
          33,
          28,
          37,
          34,
          47,
          34,
          42,
          42,
          39,
          31,
          42,
          41,
          38,
          48,
          25,
          23,
          47,
          25,
          61,
          47,
          31,
          60,
          46,
          41,
          36,
          38,
          43,
          28,
          34,
          29,
          58,
          41,
          27,
          41,
          32,
          33,
          50,
          30,
          28,
          28,
          26,
          35,
          25,
          36,
          32,
          40,
          33,
          43,
          46,
          44,
          52,
          28,
          26,
          38,
          51,
          44,
          28,
          27,
          61,
          23,
          43,
          30,
          31,
          43,
          45,
          47,
          41,
          33,
          33,
          58,
          25,
          31,
          37,
          34,
          29,
          37,
          41,
          26,
          30,
          26,
          40,
          31,
          46,
          45,
          26,
          38,
          39,
          44,
          33,
          61,
          24,
          41,
          46,
          31,
          19,
          31,
          32,
          29,
          46,
          31,
          33,
          60,
          31,
          34,
          36,
          48,
          44,
          33,
          52,
          28,
          44,
          57,
          57,
          42,
          29,
          56,
          53,
          46,
          30,
          29,
          47,
          58,
          26,
          38,
          39,
          34,
          23,
          63,
          40,
          50,
          51,
          51,
          35,
          41,
          54,
          54,
          32,
          39,
          34,
          59,
          43,
          30,
          29,
          29,
          35,
          43,
          57,
          42,
          39,
          47,
          29,
          35,
          34,
          38,
          32,
          31,
          54,
          39,
          60,
          51,
          43,
          47,
          38,
          38,
          31,
          33,
          41,
          39,
          45,
          33,
          41,
          46,
          44,
          62,
          23,
          29,
          41,
          22,
          32,
          41,
          50,
          39,
          55,
          41,
          57,
          43,
          30,
          48,
          40,
          34,
          32,
          56,
          29,
          33,
          56,
          42,
          41,
          26,
          26,
          24,
          34,
          48,
          37,
          60,
          43,
          43,
          44,
          27,
          45,
          37,
          37,
          34,
          55,
          31,
          38,
          31,
          36,
          37,
          33,
          38,
          32,
          32,
          48,
          34,
          31,
          45,
          32,
          37,
          32,
          44,
          37,
          41,
          42,
          43,
          42,
          39
         ],
         "xaxis": "x",
         "yaxis": "y"
        },
        {
         "alignmentgroup": "True",
         "bingroup": "x",
         "hovertemplate": "fraud_reported=N<br>age=%{x}<br>count=%{y}<extra></extra>",
         "legendgroup": "N",
         "marker": {
          "color": "#EF553B",
          "pattern": {
           "shape": ""
          }
         },
         "name": "N",
         "offsetgroup": "N",
         "orientation": "v",
         "showlegend": true,
         "type": "histogram",
         "x": [
          29,
          44,
          34,
          37,
          33,
          42,
          42,
          61,
          23,
          34,
          26,
          31,
          37,
          39,
          62,
          41,
          40,
          43,
          40,
          45,
          25,
          35,
          30,
          37,
          49,
          54,
          26,
          23,
          30,
          44,
          40,
          33,
          34,
          35,
          59,
          27,
          39,
          40,
          39,
          26,
          56,
          32,
          39,
          36,
          44,
          32,
          64,
          30,
          49,
          41,
          37,
          40,
          35,
          45,
          47,
          39,
          31,
          40,
          29,
          35,
          41,
          34,
          32,
          36,
          29,
          42,
          43,
          42,
          25,
          48,
          42,
          41,
          27,
          41,
          33,
          54,
          49,
          28,
          42,
          41,
          32,
          51,
          31,
          38,
          39,
          41,
          25,
          35,
          39,
          38,
          32,
          45,
          39,
          27,
          33,
          32,
          40,
          28,
          46,
          32,
          35,
          41,
          34,
          31,
          38,
          32,
          45,
          54,
          61,
          59,
          38,
          29,
          36,
          48,
          48,
          34,
          29,
          45,
          46,
          37,
          42,
          29,
          31,
          44,
          46,
          34,
          45,
          40,
          39,
          36,
          54,
          27,
          46,
          34,
          39,
          28,
          57,
          39,
          47,
          32,
          26,
          44,
          43,
          48,
          43,
          31,
          49,
          39,
          62,
          39,
          43,
          29,
          48,
          53,
          24,
          37,
          50,
          26,
          28,
          43,
          49,
          50,
          50,
          38,
          41,
          52,
          53,
          37,
          34,
          46,
          42,
          35,
          54,
          32,
          41,
          37,
          43,
          40,
          36,
          28,
          28,
          27,
          30,
          40,
          57,
          36,
          40,
          29,
          40,
          30,
          57,
          29,
          37,
          36,
          55,
          40,
          26,
          39,
          43,
          42,
          38,
          39,
          40,
          36,
          33,
          31,
          40,
          39,
          42,
          40,
          34,
          31,
          43,
          39,
          35,
          27,
          43,
          31,
          44,
          40,
          47,
          37,
          36,
          33,
          59,
          30,
          42,
          46,
          45,
          33,
          37,
          30,
          44,
          50,
          55,
          49,
          47,
          28,
          25,
          26,
          30,
          31,
          39,
          37,
          30,
          35,
          42,
          47,
          28,
          56,
          43,
          34,
          43,
          26,
          57,
          27,
          43,
          37,
          28,
          44,
          30,
          36,
          47,
          47,
          57,
          41,
          30,
          53,
          44,
          29,
          26,
          41,
          41,
          34,
          41,
          30,
          38,
          21,
          36,
          33,
          35,
          48,
          36,
          58,
          31,
          57,
          46,
          27,
          33,
          53,
          46,
          51,
          30,
          41,
          45,
          40,
          45,
          43,
          29,
          44,
          29,
          39,
          32,
          49,
          37,
          44,
          33,
          41,
          37,
          21,
          48,
          35,
          31,
          58,
          47,
          45,
          34,
          32,
          28,
          23,
          40,
          29,
          31,
          50,
          34,
          36,
          37,
          53,
          32,
          39,
          32,
          30,
          33,
          37,
          30,
          43,
          24,
          51,
          38,
          54,
          41,
          38,
          33,
          34,
          56,
          37,
          35,
          38,
          51,
          49,
          36,
          44,
          21,
          40,
          56,
          28,
          29,
          24,
          46,
          33,
          39,
          49,
          43,
          46,
          44,
          32,
          49,
          29,
          39,
          38,
          48,
          46,
          24,
          29,
          24,
          30,
          38,
          48,
          34,
          60,
          48,
          27,
          41,
          43,
          43,
          26,
          42,
          30,
          46,
          26,
          45,
          47,
          54,
          48,
          53,
          38,
          49,
          42,
          46,
          55,
          44,
          30,
          41,
          31,
          25,
          29,
          43,
          38,
          29,
          37,
          53,
          53,
          40,
          35,
          26,
          38,
          49,
          27,
          39,
          33,
          50,
          30,
          42,
          35,
          33,
          39,
          33,
          40,
          46,
          52,
          45,
          31,
          28,
          41,
          27,
          35,
          30,
          64,
          25,
          40,
          41,
          38,
          36,
          41,
          41,
          38,
          31,
          27,
          27,
          44,
          27,
          39,
          46,
          57,
          46,
          30,
          42,
          27,
          33,
          34,
          26,
          28,
          36,
          27,
          28,
          31,
          60,
          50,
          40,
          35,
          37,
          45,
          35,
          28,
          45,
          48,
          38,
          55,
          32,
          40,
          43,
          36,
          40,
          32,
          27,
          29,
          20,
          34,
          32,
          43,
          32,
          57,
          48,
          37,
          33,
          46,
          40,
          47,
          57,
          36,
          43,
          25,
          28,
          38,
          29,
          29,
          31,
          45,
          30,
          38,
          38,
          27,
          50,
          35,
          41,
          47,
          42,
          41,
          35,
          36,
          30,
          45,
          36,
          37,
          31,
          57,
          43,
          30,
          61,
          28,
          28,
          44,
          43,
          58,
          34,
          29,
          43,
          39,
          43,
          31,
          43,
          26,
          34,
          43,
          45,
          48,
          33,
          42,
          34,
          51,
          33,
          39,
          31,
          44,
          38,
          31,
          40,
          55,
          58,
          35,
          35,
          32,
          36,
          60,
          35,
          31,
          50,
          37,
          39,
          46,
          61,
          37,
          46,
          39,
          37,
          33,
          28,
          32,
          61,
          40,
          38,
          61,
          61,
          29,
          41,
          33,
          27,
          30,
          34,
          39,
          39,
          32,
          48,
          47,
          33,
          24,
          24,
          30,
          36,
          34,
          46,
          42,
          37,
          38,
          34,
          43,
          30,
          48,
          25,
          38,
          30,
          41,
          47,
          29,
          34,
          53,
          37,
          49,
          32,
          24,
          28,
          36,
          46,
          28,
          32,
          55,
          43,
          43,
          44,
          39,
          44,
          47,
          42,
          43,
          53,
          21,
          47,
          46,
          36,
          36,
          45,
          46,
          43,
          30,
          42,
          40,
          44,
          26,
          53,
          33,
          39,
          43,
          34,
          49,
          39,
          39,
          57,
          47,
          30,
          48,
          45,
          30,
          55,
          55,
          38,
          34,
          60,
          35,
          33,
          31,
          45,
          39,
          43,
          34,
          33,
          21,
          28,
          30,
          27,
          43,
          53,
          44,
          38,
          48,
          26,
          45,
          36,
          38,
          41,
          36,
          40,
          38,
          35,
          31,
          30,
          46,
          30,
          34,
          44,
          37,
          31,
          40,
          59,
          47,
          48,
          31,
          57,
          42,
          56,
          63,
          31,
          55,
          27,
          37,
          46,
          43,
          39,
          38,
          32,
          42,
          25,
          35,
          34,
          35,
          37,
          30,
          26,
          29,
          50,
          55,
          35,
          25,
          40,
          33,
          32,
          37,
          40,
          44,
          39,
          36,
          32,
          46,
          21,
          43,
          44,
          26,
          28,
          30,
          38,
          41,
          34,
          62,
          60
         ],
         "xaxis": "x",
         "yaxis": "y"
        }
       ],
       "layout": {
        "barmode": "group",
        "legend": {
         "title": {
          "text": "fraud_reported"
         },
         "tracegroupgap": 0
        },
        "margin": {
         "t": 60
        },
        "template": {
         "data": {
          "bar": [
           {
            "error_x": {
             "color": "#2a3f5f"
            },
            "error_y": {
             "color": "#2a3f5f"
            },
            "marker": {
             "line": {
              "color": "#E5ECF6",
              "width": 0.5
             },
             "pattern": {
              "fillmode": "overlay",
              "size": 10,
              "solidity": 0.2
             }
            },
            "type": "bar"
           }
          ],
          "barpolar": [
           {
            "marker": {
             "line": {
              "color": "#E5ECF6",
              "width": 0.5
             },
             "pattern": {
              "fillmode": "overlay",
              "size": 10,
              "solidity": 0.2
             }
            },
            "type": "barpolar"
           }
          ],
          "carpet": [
           {
            "aaxis": {
             "endlinecolor": "#2a3f5f",
             "gridcolor": "white",
             "linecolor": "white",
             "minorgridcolor": "white",
             "startlinecolor": "#2a3f5f"
            },
            "baxis": {
             "endlinecolor": "#2a3f5f",
             "gridcolor": "white",
             "linecolor": "white",
             "minorgridcolor": "white",
             "startlinecolor": "#2a3f5f"
            },
            "type": "carpet"
           }
          ],
          "choropleth": [
           {
            "colorbar": {
             "outlinewidth": 0,
             "ticks": ""
            },
            "type": "choropleth"
           }
          ],
          "contour": [
           {
            "colorbar": {
             "outlinewidth": 0,
             "ticks": ""
            },
            "colorscale": [
             [
              0,
              "#0d0887"
             ],
             [
              0.1111111111111111,
              "#46039f"
             ],
             [
              0.2222222222222222,
              "#7201a8"
             ],
             [
              0.3333333333333333,
              "#9c179e"
             ],
             [
              0.4444444444444444,
              "#bd3786"
             ],
             [
              0.5555555555555556,
              "#d8576b"
             ],
             [
              0.6666666666666666,
              "#ed7953"
             ],
             [
              0.7777777777777778,
              "#fb9f3a"
             ],
             [
              0.8888888888888888,
              "#fdca26"
             ],
             [
              1,
              "#f0f921"
             ]
            ],
            "type": "contour"
           }
          ],
          "contourcarpet": [
           {
            "colorbar": {
             "outlinewidth": 0,
             "ticks": ""
            },
            "type": "contourcarpet"
           }
          ],
          "heatmap": [
           {
            "colorbar": {
             "outlinewidth": 0,
             "ticks": ""
            },
            "colorscale": [
             [
              0,
              "#0d0887"
             ],
             [
              0.1111111111111111,
              "#46039f"
             ],
             [
              0.2222222222222222,
              "#7201a8"
             ],
             [
              0.3333333333333333,
              "#9c179e"
             ],
             [
              0.4444444444444444,
              "#bd3786"
             ],
             [
              0.5555555555555556,
              "#d8576b"
             ],
             [
              0.6666666666666666,
              "#ed7953"
             ],
             [
              0.7777777777777778,
              "#fb9f3a"
             ],
             [
              0.8888888888888888,
              "#fdca26"
             ],
             [
              1,
              "#f0f921"
             ]
            ],
            "type": "heatmap"
           }
          ],
          "heatmapgl": [
           {
            "colorbar": {
             "outlinewidth": 0,
             "ticks": ""
            },
            "colorscale": [
             [
              0,
              "#0d0887"
             ],
             [
              0.1111111111111111,
              "#46039f"
             ],
             [
              0.2222222222222222,
              "#7201a8"
             ],
             [
              0.3333333333333333,
              "#9c179e"
             ],
             [
              0.4444444444444444,
              "#bd3786"
             ],
             [
              0.5555555555555556,
              "#d8576b"
             ],
             [
              0.6666666666666666,
              "#ed7953"
             ],
             [
              0.7777777777777778,
              "#fb9f3a"
             ],
             [
              0.8888888888888888,
              "#fdca26"
             ],
             [
              1,
              "#f0f921"
             ]
            ],
            "type": "heatmapgl"
           }
          ],
          "histogram": [
           {
            "marker": {
             "pattern": {
              "fillmode": "overlay",
              "size": 10,
              "solidity": 0.2
             }
            },
            "type": "histogram"
           }
          ],
          "histogram2d": [
           {
            "colorbar": {
             "outlinewidth": 0,
             "ticks": ""
            },
            "colorscale": [
             [
              0,
              "#0d0887"
             ],
             [
              0.1111111111111111,
              "#46039f"
             ],
             [
              0.2222222222222222,
              "#7201a8"
             ],
             [
              0.3333333333333333,
              "#9c179e"
             ],
             [
              0.4444444444444444,
              "#bd3786"
             ],
             [
              0.5555555555555556,
              "#d8576b"
             ],
             [
              0.6666666666666666,
              "#ed7953"
             ],
             [
              0.7777777777777778,
              "#fb9f3a"
             ],
             [
              0.8888888888888888,
              "#fdca26"
             ],
             [
              1,
              "#f0f921"
             ]
            ],
            "type": "histogram2d"
           }
          ],
          "histogram2dcontour": [
           {
            "colorbar": {
             "outlinewidth": 0,
             "ticks": ""
            },
            "colorscale": [
             [
              0,
              "#0d0887"
             ],
             [
              0.1111111111111111,
              "#46039f"
             ],
             [
              0.2222222222222222,
              "#7201a8"
             ],
             [
              0.3333333333333333,
              "#9c179e"
             ],
             [
              0.4444444444444444,
              "#bd3786"
             ],
             [
              0.5555555555555556,
              "#d8576b"
             ],
             [
              0.6666666666666666,
              "#ed7953"
             ],
             [
              0.7777777777777778,
              "#fb9f3a"
             ],
             [
              0.8888888888888888,
              "#fdca26"
             ],
             [
              1,
              "#f0f921"
             ]
            ],
            "type": "histogram2dcontour"
           }
          ],
          "mesh3d": [
           {
            "colorbar": {
             "outlinewidth": 0,
             "ticks": ""
            },
            "type": "mesh3d"
           }
          ],
          "parcoords": [
           {
            "line": {
             "colorbar": {
              "outlinewidth": 0,
              "ticks": ""
             }
            },
            "type": "parcoords"
           }
          ],
          "pie": [
           {
            "automargin": true,
            "type": "pie"
           }
          ],
          "scatter": [
           {
            "fillpattern": {
             "fillmode": "overlay",
             "size": 10,
             "solidity": 0.2
            },
            "type": "scatter"
           }
          ],
          "scatter3d": [
           {
            "line": {
             "colorbar": {
              "outlinewidth": 0,
              "ticks": ""
             }
            },
            "marker": {
             "colorbar": {
              "outlinewidth": 0,
              "ticks": ""
             }
            },
            "type": "scatter3d"
           }
          ],
          "scattercarpet": [
           {
            "marker": {
             "colorbar": {
              "outlinewidth": 0,
              "ticks": ""
             }
            },
            "type": "scattercarpet"
           }
          ],
          "scattergeo": [
           {
            "marker": {
             "colorbar": {
              "outlinewidth": 0,
              "ticks": ""
             }
            },
            "type": "scattergeo"
           }
          ],
          "scattergl": [
           {
            "marker": {
             "colorbar": {
              "outlinewidth": 0,
              "ticks": ""
             }
            },
            "type": "scattergl"
           }
          ],
          "scattermapbox": [
           {
            "marker": {
             "colorbar": {
              "outlinewidth": 0,
              "ticks": ""
             }
            },
            "type": "scattermapbox"
           }
          ],
          "scatterpolar": [
           {
            "marker": {
             "colorbar": {
              "outlinewidth": 0,
              "ticks": ""
             }
            },
            "type": "scatterpolar"
           }
          ],
          "scatterpolargl": [
           {
            "marker": {
             "colorbar": {
              "outlinewidth": 0,
              "ticks": ""
             }
            },
            "type": "scatterpolargl"
           }
          ],
          "scatterternary": [
           {
            "marker": {
             "colorbar": {
              "outlinewidth": 0,
              "ticks": ""
             }
            },
            "type": "scatterternary"
           }
          ],
          "surface": [
           {
            "colorbar": {
             "outlinewidth": 0,
             "ticks": ""
            },
            "colorscale": [
             [
              0,
              "#0d0887"
             ],
             [
              0.1111111111111111,
              "#46039f"
             ],
             [
              0.2222222222222222,
              "#7201a8"
             ],
             [
              0.3333333333333333,
              "#9c179e"
             ],
             [
              0.4444444444444444,
              "#bd3786"
             ],
             [
              0.5555555555555556,
              "#d8576b"
             ],
             [
              0.6666666666666666,
              "#ed7953"
             ],
             [
              0.7777777777777778,
              "#fb9f3a"
             ],
             [
              0.8888888888888888,
              "#fdca26"
             ],
             [
              1,
              "#f0f921"
             ]
            ],
            "type": "surface"
           }
          ],
          "table": [
           {
            "cells": {
             "fill": {
              "color": "#EBF0F8"
             },
             "line": {
              "color": "white"
             }
            },
            "header": {
             "fill": {
              "color": "#C8D4E3"
             },
             "line": {
              "color": "white"
             }
            },
            "type": "table"
           }
          ]
         },
         "layout": {
          "annotationdefaults": {
           "arrowcolor": "#2a3f5f",
           "arrowhead": 0,
           "arrowwidth": 1
          },
          "autotypenumbers": "strict",
          "coloraxis": {
           "colorbar": {
            "outlinewidth": 0,
            "ticks": ""
           }
          },
          "colorscale": {
           "diverging": [
            [
             0,
             "#8e0152"
            ],
            [
             0.1,
             "#c51b7d"
            ],
            [
             0.2,
             "#de77ae"
            ],
            [
             0.3,
             "#f1b6da"
            ],
            [
             0.4,
             "#fde0ef"
            ],
            [
             0.5,
             "#f7f7f7"
            ],
            [
             0.6,
             "#e6f5d0"
            ],
            [
             0.7,
             "#b8e186"
            ],
            [
             0.8,
             "#7fbc41"
            ],
            [
             0.9,
             "#4d9221"
            ],
            [
             1,
             "#276419"
            ]
           ],
           "sequential": [
            [
             0,
             "#0d0887"
            ],
            [
             0.1111111111111111,
             "#46039f"
            ],
            [
             0.2222222222222222,
             "#7201a8"
            ],
            [
             0.3333333333333333,
             "#9c179e"
            ],
            [
             0.4444444444444444,
             "#bd3786"
            ],
            [
             0.5555555555555556,
             "#d8576b"
            ],
            [
             0.6666666666666666,
             "#ed7953"
            ],
            [
             0.7777777777777778,
             "#fb9f3a"
            ],
            [
             0.8888888888888888,
             "#fdca26"
            ],
            [
             1,
             "#f0f921"
            ]
           ],
           "sequentialminus": [
            [
             0,
             "#0d0887"
            ],
            [
             0.1111111111111111,
             "#46039f"
            ],
            [
             0.2222222222222222,
             "#7201a8"
            ],
            [
             0.3333333333333333,
             "#9c179e"
            ],
            [
             0.4444444444444444,
             "#bd3786"
            ],
            [
             0.5555555555555556,
             "#d8576b"
            ],
            [
             0.6666666666666666,
             "#ed7953"
            ],
            [
             0.7777777777777778,
             "#fb9f3a"
            ],
            [
             0.8888888888888888,
             "#fdca26"
            ],
            [
             1,
             "#f0f921"
            ]
           ]
          },
          "colorway": [
           "#636efa",
           "#EF553B",
           "#00cc96",
           "#ab63fa",
           "#FFA15A",
           "#19d3f3",
           "#FF6692",
           "#B6E880",
           "#FF97FF",
           "#FECB52"
          ],
          "font": {
           "color": "#2a3f5f"
          },
          "geo": {
           "bgcolor": "white",
           "lakecolor": "white",
           "landcolor": "#E5ECF6",
           "showlakes": true,
           "showland": true,
           "subunitcolor": "white"
          },
          "hoverlabel": {
           "align": "left"
          },
          "hovermode": "closest",
          "mapbox": {
           "style": "light"
          },
          "paper_bgcolor": "white",
          "plot_bgcolor": "#E5ECF6",
          "polar": {
           "angularaxis": {
            "gridcolor": "white",
            "linecolor": "white",
            "ticks": ""
           },
           "bgcolor": "#E5ECF6",
           "radialaxis": {
            "gridcolor": "white",
            "linecolor": "white",
            "ticks": ""
           }
          },
          "scene": {
           "xaxis": {
            "backgroundcolor": "#E5ECF6",
            "gridcolor": "white",
            "gridwidth": 2,
            "linecolor": "white",
            "showbackground": true,
            "ticks": "",
            "zerolinecolor": "white"
           },
           "yaxis": {
            "backgroundcolor": "#E5ECF6",
            "gridcolor": "white",
            "gridwidth": 2,
            "linecolor": "white",
            "showbackground": true,
            "ticks": "",
            "zerolinecolor": "white"
           },
           "zaxis": {
            "backgroundcolor": "#E5ECF6",
            "gridcolor": "white",
            "gridwidth": 2,
            "linecolor": "white",
            "showbackground": true,
            "ticks": "",
            "zerolinecolor": "white"
           }
          },
          "shapedefaults": {
           "line": {
            "color": "#2a3f5f"
           }
          },
          "ternary": {
           "aaxis": {
            "gridcolor": "white",
            "linecolor": "white",
            "ticks": ""
           },
           "baxis": {
            "gridcolor": "white",
            "linecolor": "white",
            "ticks": ""
           },
           "bgcolor": "#E5ECF6",
           "caxis": {
            "gridcolor": "white",
            "linecolor": "white",
            "ticks": ""
           }
          },
          "title": {
           "x": 0.05
          },
          "xaxis": {
           "automargin": true,
           "gridcolor": "white",
           "linecolor": "white",
           "ticks": "",
           "title": {
            "standoff": 15
           },
           "zerolinecolor": "white",
           "zerolinewidth": 2
          },
          "yaxis": {
           "automargin": true,
           "gridcolor": "white",
           "linecolor": "white",
           "ticks": "",
           "title": {
            "standoff": 15
           },
           "zerolinecolor": "white",
           "zerolinewidth": 2
          }
         }
        },
        "xaxis": {
         "anchor": "y",
         "domain": [
          0,
          1
         ],
         "title": {
          "text": "age"
         }
        },
        "yaxis": {
         "anchor": "x",
         "domain": [
          0,
          1
         ],
         "title": {
          "text": "count"
         }
        }
       }
      },
      "text/html": [
       "<div>                            <div id=\"0b5575ea-6ed9-4362-8a36-84a4f5fe4506\" class=\"plotly-graph-div\" style=\"height:525px; width:100%;\"></div>            <script type=\"text/javascript\">                require([\"plotly\"], function(Plotly) {                    window.PLOTLYENV=window.PLOTLYENV || {};                                    if (document.getElementById(\"0b5575ea-6ed9-4362-8a36-84a4f5fe4506\")) {                    Plotly.newPlot(                        \"0b5575ea-6ed9-4362-8a36-84a4f5fe4506\",                        [{\"alignmentgroup\":\"True\",\"bingroup\":\"x\",\"hovertemplate\":\"fraud_reported=Y<br>age=%{x}<br>count=%{y}<extra></extra>\",\"legendgroup\":\"Y\",\"marker\":{\"color\":\"#636efa\",\"pattern\":{\"shape\":\"\"}},\"name\":\"Y\",\"offsetgroup\":\"Y\",\"orientation\":\"v\",\"showlegend\":true,\"x\":[48,42,41,39,38,58,55,55,35,34,37,33,28,37,34,47,34,42,42,39,31,42,41,38,48,25,23,47,25,61,47,31,60,46,41,36,38,43,28,34,29,58,41,27,41,32,33,50,30,28,28,26,35,25,36,32,40,33,43,46,44,52,28,26,38,51,44,28,27,61,23,43,30,31,43,45,47,41,33,33,58,25,31,37,34,29,37,41,26,30,26,40,31,46,45,26,38,39,44,33,61,24,41,46,31,19,31,32,29,46,31,33,60,31,34,36,48,44,33,52,28,44,57,57,42,29,56,53,46,30,29,47,58,26,38,39,34,23,63,40,50,51,51,35,41,54,54,32,39,34,59,43,30,29,29,35,43,57,42,39,47,29,35,34,38,32,31,54,39,60,51,43,47,38,38,31,33,41,39,45,33,41,46,44,62,23,29,41,22,32,41,50,39,55,41,57,43,30,48,40,34,32,56,29,33,56,42,41,26,26,24,34,48,37,60,43,43,44,27,45,37,37,34,55,31,38,31,36,37,33,38,32,32,48,34,31,45,32,37,32,44,37,41,42,43,42,39],\"xaxis\":\"x\",\"yaxis\":\"y\",\"type\":\"histogram\"},{\"alignmentgroup\":\"True\",\"bingroup\":\"x\",\"hovertemplate\":\"fraud_reported=N<br>age=%{x}<br>count=%{y}<extra></extra>\",\"legendgroup\":\"N\",\"marker\":{\"color\":\"#EF553B\",\"pattern\":{\"shape\":\"\"}},\"name\":\"N\",\"offsetgroup\":\"N\",\"orientation\":\"v\",\"showlegend\":true,\"x\":[29,44,34,37,33,42,42,61,23,34,26,31,37,39,62,41,40,43,40,45,25,35,30,37,49,54,26,23,30,44,40,33,34,35,59,27,39,40,39,26,56,32,39,36,44,32,64,30,49,41,37,40,35,45,47,39,31,40,29,35,41,34,32,36,29,42,43,42,25,48,42,41,27,41,33,54,49,28,42,41,32,51,31,38,39,41,25,35,39,38,32,45,39,27,33,32,40,28,46,32,35,41,34,31,38,32,45,54,61,59,38,29,36,48,48,34,29,45,46,37,42,29,31,44,46,34,45,40,39,36,54,27,46,34,39,28,57,39,47,32,26,44,43,48,43,31,49,39,62,39,43,29,48,53,24,37,50,26,28,43,49,50,50,38,41,52,53,37,34,46,42,35,54,32,41,37,43,40,36,28,28,27,30,40,57,36,40,29,40,30,57,29,37,36,55,40,26,39,43,42,38,39,40,36,33,31,40,39,42,40,34,31,43,39,35,27,43,31,44,40,47,37,36,33,59,30,42,46,45,33,37,30,44,50,55,49,47,28,25,26,30,31,39,37,30,35,42,47,28,56,43,34,43,26,57,27,43,37,28,44,30,36,47,47,57,41,30,53,44,29,26,41,41,34,41,30,38,21,36,33,35,48,36,58,31,57,46,27,33,53,46,51,30,41,45,40,45,43,29,44,29,39,32,49,37,44,33,41,37,21,48,35,31,58,47,45,34,32,28,23,40,29,31,50,34,36,37,53,32,39,32,30,33,37,30,43,24,51,38,54,41,38,33,34,56,37,35,38,51,49,36,44,21,40,56,28,29,24,46,33,39,49,43,46,44,32,49,29,39,38,48,46,24,29,24,30,38,48,34,60,48,27,41,43,43,26,42,30,46,26,45,47,54,48,53,38,49,42,46,55,44,30,41,31,25,29,43,38,29,37,53,53,40,35,26,38,49,27,39,33,50,30,42,35,33,39,33,40,46,52,45,31,28,41,27,35,30,64,25,40,41,38,36,41,41,38,31,27,27,44,27,39,46,57,46,30,42,27,33,34,26,28,36,27,28,31,60,50,40,35,37,45,35,28,45,48,38,55,32,40,43,36,40,32,27,29,20,34,32,43,32,57,48,37,33,46,40,47,57,36,43,25,28,38,29,29,31,45,30,38,38,27,50,35,41,47,42,41,35,36,30,45,36,37,31,57,43,30,61,28,28,44,43,58,34,29,43,39,43,31,43,26,34,43,45,48,33,42,34,51,33,39,31,44,38,31,40,55,58,35,35,32,36,60,35,31,50,37,39,46,61,37,46,39,37,33,28,32,61,40,38,61,61,29,41,33,27,30,34,39,39,32,48,47,33,24,24,30,36,34,46,42,37,38,34,43,30,48,25,38,30,41,47,29,34,53,37,49,32,24,28,36,46,28,32,55,43,43,44,39,44,47,42,43,53,21,47,46,36,36,45,46,43,30,42,40,44,26,53,33,39,43,34,49,39,39,57,47,30,48,45,30,55,55,38,34,60,35,33,31,45,39,43,34,33,21,28,30,27,43,53,44,38,48,26,45,36,38,41,36,40,38,35,31,30,46,30,34,44,37,31,40,59,47,48,31,57,42,56,63,31,55,27,37,46,43,39,38,32,42,25,35,34,35,37,30,26,29,50,55,35,25,40,33,32,37,40,44,39,36,32,46,21,43,44,26,28,30,38,41,34,62,60],\"xaxis\":\"x\",\"yaxis\":\"y\",\"type\":\"histogram\"}],                        {\"template\":{\"data\":{\"histogram2dcontour\":[{\"type\":\"histogram2dcontour\",\"colorbar\":{\"outlinewidth\":0,\"ticks\":\"\"},\"colorscale\":[[0.0,\"#0d0887\"],[0.1111111111111111,\"#46039f\"],[0.2222222222222222,\"#7201a8\"],[0.3333333333333333,\"#9c179e\"],[0.4444444444444444,\"#bd3786\"],[0.5555555555555556,\"#d8576b\"],[0.6666666666666666,\"#ed7953\"],[0.7777777777777778,\"#fb9f3a\"],[0.8888888888888888,\"#fdca26\"],[1.0,\"#f0f921\"]]}],\"choropleth\":[{\"type\":\"choropleth\",\"colorbar\":{\"outlinewidth\":0,\"ticks\":\"\"}}],\"histogram2d\":[{\"type\":\"histogram2d\",\"colorbar\":{\"outlinewidth\":0,\"ticks\":\"\"},\"colorscale\":[[0.0,\"#0d0887\"],[0.1111111111111111,\"#46039f\"],[0.2222222222222222,\"#7201a8\"],[0.3333333333333333,\"#9c179e\"],[0.4444444444444444,\"#bd3786\"],[0.5555555555555556,\"#d8576b\"],[0.6666666666666666,\"#ed7953\"],[0.7777777777777778,\"#fb9f3a\"],[0.8888888888888888,\"#fdca26\"],[1.0,\"#f0f921\"]]}],\"heatmap\":[{\"type\":\"heatmap\",\"colorbar\":{\"outlinewidth\":0,\"ticks\":\"\"},\"colorscale\":[[0.0,\"#0d0887\"],[0.1111111111111111,\"#46039f\"],[0.2222222222222222,\"#7201a8\"],[0.3333333333333333,\"#9c179e\"],[0.4444444444444444,\"#bd3786\"],[0.5555555555555556,\"#d8576b\"],[0.6666666666666666,\"#ed7953\"],[0.7777777777777778,\"#fb9f3a\"],[0.8888888888888888,\"#fdca26\"],[1.0,\"#f0f921\"]]}],\"heatmapgl\":[{\"type\":\"heatmapgl\",\"colorbar\":{\"outlinewidth\":0,\"ticks\":\"\"},\"colorscale\":[[0.0,\"#0d0887\"],[0.1111111111111111,\"#46039f\"],[0.2222222222222222,\"#7201a8\"],[0.3333333333333333,\"#9c179e\"],[0.4444444444444444,\"#bd3786\"],[0.5555555555555556,\"#d8576b\"],[0.6666666666666666,\"#ed7953\"],[0.7777777777777778,\"#fb9f3a\"],[0.8888888888888888,\"#fdca26\"],[1.0,\"#f0f921\"]]}],\"contourcarpet\":[{\"type\":\"contourcarpet\",\"colorbar\":{\"outlinewidth\":0,\"ticks\":\"\"}}],\"contour\":[{\"type\":\"contour\",\"colorbar\":{\"outlinewidth\":0,\"ticks\":\"\"},\"colorscale\":[[0.0,\"#0d0887\"],[0.1111111111111111,\"#46039f\"],[0.2222222222222222,\"#7201a8\"],[0.3333333333333333,\"#9c179e\"],[0.4444444444444444,\"#bd3786\"],[0.5555555555555556,\"#d8576b\"],[0.6666666666666666,\"#ed7953\"],[0.7777777777777778,\"#fb9f3a\"],[0.8888888888888888,\"#fdca26\"],[1.0,\"#f0f921\"]]}],\"surface\":[{\"type\":\"surface\",\"colorbar\":{\"outlinewidth\":0,\"ticks\":\"\"},\"colorscale\":[[0.0,\"#0d0887\"],[0.1111111111111111,\"#46039f\"],[0.2222222222222222,\"#7201a8\"],[0.3333333333333333,\"#9c179e\"],[0.4444444444444444,\"#bd3786\"],[0.5555555555555556,\"#d8576b\"],[0.6666666666666666,\"#ed7953\"],[0.7777777777777778,\"#fb9f3a\"],[0.8888888888888888,\"#fdca26\"],[1.0,\"#f0f921\"]]}],\"mesh3d\":[{\"type\":\"mesh3d\",\"colorbar\":{\"outlinewidth\":0,\"ticks\":\"\"}}],\"scatter\":[{\"fillpattern\":{\"fillmode\":\"overlay\",\"size\":10,\"solidity\":0.2},\"type\":\"scatter\"}],\"parcoords\":[{\"type\":\"parcoords\",\"line\":{\"colorbar\":{\"outlinewidth\":0,\"ticks\":\"\"}}}],\"scatterpolargl\":[{\"type\":\"scatterpolargl\",\"marker\":{\"colorbar\":{\"outlinewidth\":0,\"ticks\":\"\"}}}],\"bar\":[{\"error_x\":{\"color\":\"#2a3f5f\"},\"error_y\":{\"color\":\"#2a3f5f\"},\"marker\":{\"line\":{\"color\":\"#E5ECF6\",\"width\":0.5},\"pattern\":{\"fillmode\":\"overlay\",\"size\":10,\"solidity\":0.2}},\"type\":\"bar\"}],\"scattergeo\":[{\"type\":\"scattergeo\",\"marker\":{\"colorbar\":{\"outlinewidth\":0,\"ticks\":\"\"}}}],\"scatterpolar\":[{\"type\":\"scatterpolar\",\"marker\":{\"colorbar\":{\"outlinewidth\":0,\"ticks\":\"\"}}}],\"histogram\":[{\"marker\":{\"pattern\":{\"fillmode\":\"overlay\",\"size\":10,\"solidity\":0.2}},\"type\":\"histogram\"}],\"scattergl\":[{\"type\":\"scattergl\",\"marker\":{\"colorbar\":{\"outlinewidth\":0,\"ticks\":\"\"}}}],\"scatter3d\":[{\"type\":\"scatter3d\",\"line\":{\"colorbar\":{\"outlinewidth\":0,\"ticks\":\"\"}},\"marker\":{\"colorbar\":{\"outlinewidth\":0,\"ticks\":\"\"}}}],\"scattermapbox\":[{\"type\":\"scattermapbox\",\"marker\":{\"colorbar\":{\"outlinewidth\":0,\"ticks\":\"\"}}}],\"scatterternary\":[{\"type\":\"scatterternary\",\"marker\":{\"colorbar\":{\"outlinewidth\":0,\"ticks\":\"\"}}}],\"scattercarpet\":[{\"type\":\"scattercarpet\",\"marker\":{\"colorbar\":{\"outlinewidth\":0,\"ticks\":\"\"}}}],\"carpet\":[{\"aaxis\":{\"endlinecolor\":\"#2a3f5f\",\"gridcolor\":\"white\",\"linecolor\":\"white\",\"minorgridcolor\":\"white\",\"startlinecolor\":\"#2a3f5f\"},\"baxis\":{\"endlinecolor\":\"#2a3f5f\",\"gridcolor\":\"white\",\"linecolor\":\"white\",\"minorgridcolor\":\"white\",\"startlinecolor\":\"#2a3f5f\"},\"type\":\"carpet\"}],\"table\":[{\"cells\":{\"fill\":{\"color\":\"#EBF0F8\"},\"line\":{\"color\":\"white\"}},\"header\":{\"fill\":{\"color\":\"#C8D4E3\"},\"line\":{\"color\":\"white\"}},\"type\":\"table\"}],\"barpolar\":[{\"marker\":{\"line\":{\"color\":\"#E5ECF6\",\"width\":0.5},\"pattern\":{\"fillmode\":\"overlay\",\"size\":10,\"solidity\":0.2}},\"type\":\"barpolar\"}],\"pie\":[{\"automargin\":true,\"type\":\"pie\"}]},\"layout\":{\"autotypenumbers\":\"strict\",\"colorway\":[\"#636efa\",\"#EF553B\",\"#00cc96\",\"#ab63fa\",\"#FFA15A\",\"#19d3f3\",\"#FF6692\",\"#B6E880\",\"#FF97FF\",\"#FECB52\"],\"font\":{\"color\":\"#2a3f5f\"},\"hovermode\":\"closest\",\"hoverlabel\":{\"align\":\"left\"},\"paper_bgcolor\":\"white\",\"plot_bgcolor\":\"#E5ECF6\",\"polar\":{\"bgcolor\":\"#E5ECF6\",\"angularaxis\":{\"gridcolor\":\"white\",\"linecolor\":\"white\",\"ticks\":\"\"},\"radialaxis\":{\"gridcolor\":\"white\",\"linecolor\":\"white\",\"ticks\":\"\"}},\"ternary\":{\"bgcolor\":\"#E5ECF6\",\"aaxis\":{\"gridcolor\":\"white\",\"linecolor\":\"white\",\"ticks\":\"\"},\"baxis\":{\"gridcolor\":\"white\",\"linecolor\":\"white\",\"ticks\":\"\"},\"caxis\":{\"gridcolor\":\"white\",\"linecolor\":\"white\",\"ticks\":\"\"}},\"coloraxis\":{\"colorbar\":{\"outlinewidth\":0,\"ticks\":\"\"}},\"colorscale\":{\"sequential\":[[0.0,\"#0d0887\"],[0.1111111111111111,\"#46039f\"],[0.2222222222222222,\"#7201a8\"],[0.3333333333333333,\"#9c179e\"],[0.4444444444444444,\"#bd3786\"],[0.5555555555555556,\"#d8576b\"],[0.6666666666666666,\"#ed7953\"],[0.7777777777777778,\"#fb9f3a\"],[0.8888888888888888,\"#fdca26\"],[1.0,\"#f0f921\"]],\"sequentialminus\":[[0.0,\"#0d0887\"],[0.1111111111111111,\"#46039f\"],[0.2222222222222222,\"#7201a8\"],[0.3333333333333333,\"#9c179e\"],[0.4444444444444444,\"#bd3786\"],[0.5555555555555556,\"#d8576b\"],[0.6666666666666666,\"#ed7953\"],[0.7777777777777778,\"#fb9f3a\"],[0.8888888888888888,\"#fdca26\"],[1.0,\"#f0f921\"]],\"diverging\":[[0,\"#8e0152\"],[0.1,\"#c51b7d\"],[0.2,\"#de77ae\"],[0.3,\"#f1b6da\"],[0.4,\"#fde0ef\"],[0.5,\"#f7f7f7\"],[0.6,\"#e6f5d0\"],[0.7,\"#b8e186\"],[0.8,\"#7fbc41\"],[0.9,\"#4d9221\"],[1,\"#276419\"]]},\"xaxis\":{\"gridcolor\":\"white\",\"linecolor\":\"white\",\"ticks\":\"\",\"title\":{\"standoff\":15},\"zerolinecolor\":\"white\",\"automargin\":true,\"zerolinewidth\":2},\"yaxis\":{\"gridcolor\":\"white\",\"linecolor\":\"white\",\"ticks\":\"\",\"title\":{\"standoff\":15},\"zerolinecolor\":\"white\",\"automargin\":true,\"zerolinewidth\":2},\"scene\":{\"xaxis\":{\"backgroundcolor\":\"#E5ECF6\",\"gridcolor\":\"white\",\"linecolor\":\"white\",\"showbackground\":true,\"ticks\":\"\",\"zerolinecolor\":\"white\",\"gridwidth\":2},\"yaxis\":{\"backgroundcolor\":\"#E5ECF6\",\"gridcolor\":\"white\",\"linecolor\":\"white\",\"showbackground\":true,\"ticks\":\"\",\"zerolinecolor\":\"white\",\"gridwidth\":2},\"zaxis\":{\"backgroundcolor\":\"#E5ECF6\",\"gridcolor\":\"white\",\"linecolor\":\"white\",\"showbackground\":true,\"ticks\":\"\",\"zerolinecolor\":\"white\",\"gridwidth\":2}},\"shapedefaults\":{\"line\":{\"color\":\"#2a3f5f\"}},\"annotationdefaults\":{\"arrowcolor\":\"#2a3f5f\",\"arrowhead\":0,\"arrowwidth\":1},\"geo\":{\"bgcolor\":\"white\",\"landcolor\":\"#E5ECF6\",\"subunitcolor\":\"white\",\"showland\":true,\"showlakes\":true,\"lakecolor\":\"white\"},\"title\":{\"x\":0.05},\"mapbox\":{\"style\":\"light\"}}},\"xaxis\":{\"anchor\":\"y\",\"domain\":[0.0,1.0],\"title\":{\"text\":\"age\"}},\"yaxis\":{\"anchor\":\"x\",\"domain\":[0.0,1.0],\"title\":{\"text\":\"count\"}},\"legend\":{\"title\":{\"text\":\"fraud_reported\"},\"tracegroupgap\":0},\"margin\":{\"t\":60},\"barmode\":\"group\"},                        {\"responsive\": true}                    ).then(function(){\n",
       "                            \n",
       "var gd = document.getElementById('0b5575ea-6ed9-4362-8a36-84a4f5fe4506');\n",
       "var x = new MutationObserver(function (mutations, observer) {{\n",
       "        var display = window.getComputedStyle(gd).display;\n",
       "        if (!display || display === 'none') {{\n",
       "            console.log([gd, 'removed!']);\n",
       "            Plotly.purge(gd);\n",
       "            observer.disconnect();\n",
       "        }}\n",
       "}});\n",
       "\n",
       "// Listen for the removal of the full notebook cells\n",
       "var notebookContainer = gd.closest('#notebook-container');\n",
       "if (notebookContainer) {{\n",
       "    x.observe(notebookContainer, {childList: true});\n",
       "}}\n",
       "\n",
       "// Listen for the clearing of the current output cell\n",
       "var outputEl = gd.closest('.output');\n",
       "if (outputEl) {{\n",
       "    x.observe(outputEl, {childList: true});\n",
       "}}\n",
       "\n",
       "                        })                };                });            </script>        </div>"
      ]
     },
     "metadata": {},
     "output_type": "display_data"
    }
   ],
   "source": [
    "px.histogram(data, x=\"age\", color=\"fraud_reported\", barmode='group')"
   ]
  },
  {
   "cell_type": "markdown",
   "id": "6b9f9b71",
   "metadata": {},
   "source": [
    "Observation: between 30 to 43 age group most of the frauds were done and from 50 and above age group involved less in fraud."
   ]
  },
  {
   "cell_type": "code",
   "execution_count": null,
   "id": "8a7e6081",
   "metadata": {},
   "outputs": [
    {
     "name": "stderr",
     "output_type": "stream",
     "text": [
      "C:\\Users\\Aniket Pc\\AppData\\Local\\Programs\\Python\\Python310\\lib\\site-packages\\seaborn\\_decorators.py:36: FutureWarning:\n",
      "\n",
      "Pass the following variable as a keyword arg: x. From version 0.12, the only valid positional argument will be `data`, and passing other arguments without an explicit keyword will result in an error or misinterpretation.\n",
      "\n"
     ]
    },
    {
     "data": {
      "text/plain": [
       "<AxesSubplot:xlabel='incident_state', ylabel='count'>"
      ]
     },
     "execution_count": 15,
     "metadata": {},
     "output_type": "execute_result"
    },
    {
     "data": {
      "image/png": "[encoded data removed]",
      "text/plain": [
       "<Figure size 432x288 with 1 Axes>"
      ]
     },
     "metadata": {
      "needs_background": "light"
     },
     "output_type": "display_data"
    }
   ],
   "source": [
    "sns.countplot(data['incident_state'], palette = 'PuRd')"
   ]
  },
  {
   "cell_type": "markdown",
   "id": "c31ecfd8",
   "metadata": {},
   "source": [
    "Observation: Most of the incident happened in NY and SC. while less incident in OH and PA state."
   ]
  },
  {
   "cell_type": "code",
   "execution_count": null,
   "id": "c3f46e63",
   "metadata": {},
   "outputs": [
    {
     "data": {
      "application/vnd.plotly.v1+json": {
       "config": {
        "plotlyServerURL": "https://plot.ly"
       },
       "data": [
        {
         "alignmentgroup": "True",
         "bingroup": "x",
         "hovertemplate": "insured_education_level=%{x}<br>count=%{y}<extra></extra>",
         "legendgroup": "",
         "marker": {
          "color": "#636efa",
          "pattern": {
           "shape": ""
          }
         },
         "name": "",
         "offsetgroup": "",
         "orientation": "v",
         "showlegend": false,
         "type": "histogram",
         "x": [
          "MD",
          "MD",
          "PhD",
          "PhD",
          "Associate",
          "PhD",
          "PhD",
          "Associate",
          "PhD",
          "PhD",
          "Masters",
          "High School",
          "MD",
          "MD",
          "College",
          "MD",
          "College",
          "High School",
          "MD",
          "High School",
          "JD",
          "Associate",
          "High School",
          "MD",
          "College",
          "Masters",
          "High School",
          "JD",
          "JD",
          "PhD",
          "Masters",
          "JD",
          "Associate",
          "High School",
          "PhD",
          "High School",
          "Masters",
          "JD",
          "MD",
          "JD",
          "Associate",
          "Associate",
          "College",
          "PhD",
          "JD",
          "MD",
          "Associate",
          "College",
          "PhD",
          "Masters",
          "MD",
          "JD",
          "College",
          "JD",
          "PhD",
          "PhD",
          "PhD",
          "Masters",
          "PhD",
          "MD",
          "PhD",
          "JD",
          "High School",
          "JD",
          "PhD",
          "MD",
          "High School",
          "Associate",
          "MD",
          "MD",
          "Associate",
          "MD",
          "Associate",
          "College",
          "Associate",
          "High School",
          "College",
          "College",
          "JD",
          "PhD",
          "High School",
          "Masters",
          "Masters",
          "High School",
          "Masters",
          "High School",
          "Associate",
          "MD",
          "College",
          "College",
          "High School",
          "Associate",
          "PhD",
          "MD",
          "High School",
          "PhD",
          "Associate",
          "Masters",
          "College",
          "College",
          "College",
          "College",
          "JD",
          "Associate",
          "College",
          "College",
          "Associate",
          "High School",
          "PhD",
          "Masters",
          "College",
          "PhD",
          "High School",
          "MD",
          "Associate",
          "MD",
          "PhD",
          "High School",
          "PhD",
          "Associate",
          "High School",
          "MD",
          "Masters",
          "College",
          "JD",
          "JD",
          "MD",
          "High School",
          "College",
          "Masters",
          "JD",
          "Masters",
          "Masters",
          "High School",
          "PhD",
          "College",
          "High School",
          "PhD",
          "High School",
          "MD",
          "Masters",
          "Masters",
          "PhD",
          "MD",
          "JD",
          "Associate",
          "Masters",
          "MD",
          "PhD",
          "JD",
          "PhD",
          "Masters",
          "High School",
          "Masters",
          "Masters",
          "Associate",
          "JD",
          "JD",
          "Masters",
          "JD",
          "Associate",
          "MD",
          "MD",
          "Masters",
          "Masters",
          "PhD",
          "Associate",
          "High School",
          "Masters",
          "High School",
          "Associate",
          "High School",
          "College",
          "MD",
          "PhD",
          "MD",
          "Masters",
          "PhD",
          "Masters",
          "MD",
          "Associate",
          "Masters",
          "Masters",
          "JD",
          "Masters",
          "JD",
          "JD",
          "JD",
          "High School",
          "High School",
          "Associate",
          "JD",
          "MD",
          "High School",
          "MD",
          "High School",
          "MD",
          "MD",
          "Masters",
          "College",
          "PhD",
          "PhD",
          "High School",
          "PhD",
          "JD",
          "Masters",
          "College",
          "Masters",
          "JD",
          "Associate",
          "High School",
          "High School",
          "High School",
          "MD",
          "JD",
          "PhD",
          "High School",
          "Masters",
          "MD",
          "College",
          "College",
          "College",
          "High School",
          "Associate",
          "Associate",
          "Masters",
          "High School",
          "Associate",
          "MD",
          "MD",
          "High School",
          "JD",
          "Masters",
          "MD",
          "JD",
          "Masters",
          "JD",
          "MD",
          "Associate",
          "Masters",
          "MD",
          "College",
          "JD",
          "College",
          "Associate",
          "Associate",
          "JD",
          "JD",
          "Masters",
          "High School",
          "Associate",
          "MD",
          "High School",
          "PhD",
          "JD",
          "High School",
          "Associate",
          "Associate",
          "MD",
          "PhD",
          "Masters",
          "PhD",
          "College",
          "Masters",
          "MD",
          "High School",
          "JD",
          "JD",
          "Associate",
          "Associate",
          "College",
          "Associate",
          "MD",
          "JD",
          "Masters",
          "Associate",
          "Associate",
          "PhD",
          "JD",
          "College",
          "JD",
          "Associate",
          "PhD",
          "PhD",
          "MD",
          "High School",
          "JD",
          "Associate",
          "JD",
          "College",
          "Associate",
          "College",
          "High School",
          "High School",
          "High School",
          "Associate",
          "College",
          "College",
          "MD",
          "High School",
          "Masters",
          "Associate",
          "College",
          "JD",
          "High School",
          "JD",
          "PhD",
          "Associate",
          "Associate",
          "Masters",
          "PhD",
          "MD",
          "Associate",
          "PhD",
          "Masters",
          "MD",
          "High School",
          "Associate",
          "High School",
          "Associate",
          "High School",
          "JD",
          "High School",
          "Masters",
          "College",
          "JD",
          "High School",
          "PhD",
          "MD",
          "PhD",
          "Masters",
          "PhD",
          "JD",
          "MD",
          "College",
          "JD",
          "College",
          "Associate",
          "Associate",
          "MD",
          "JD",
          "Associate",
          "College",
          "Masters",
          "Associate",
          "PhD",
          "Associate",
          "PhD",
          "JD",
          "MD",
          "JD",
          "Associate",
          "High School",
          "Masters",
          "High School",
          "MD",
          "MD",
          "College",
          "College",
          "PhD",
          "Associate",
          "College",
          "MD",
          "Associate",
          "High School",
          "Masters",
          "Masters",
          "Associate",
          "JD",
          "PhD",
          "High School",
          "PhD",
          "PhD",
          "JD",
          "College",
          "Masters",
          "Associate",
          "JD",
          "JD",
          "College",
          "Associate",
          "PhD",
          "PhD",
          "JD",
          "Masters",
          "High School",
          "College",
          "Associate",
          "JD",
          "JD",
          "JD",
          "PhD",
          "High School",
          "MD",
          "High School",
          "PhD",
          "High School",
          "Masters",
          "High School",
          "MD",
          "Masters",
          "MD",
          "College",
          "Associate",
          "College",
          "College",
          "MD",
          "High School",
          "Masters",
          "College",
          "Associate",
          "High School",
          "College",
          "Masters",
          "Associate",
          "High School",
          "Masters",
          "JD",
          "High School",
          "JD",
          "College",
          "MD",
          "High School",
          "MD",
          "Masters",
          "College",
          "Masters",
          "High School",
          "Masters",
          "Masters",
          "JD",
          "PhD",
          "Masters",
          "College",
          "Associate",
          "MD",
          "JD",
          "PhD",
          "PhD",
          "JD",
          "Masters",
          "MD",
          "PhD",
          "JD",
          "Associate",
          "High School",
          "JD",
          "Associate",
          "PhD",
          "Masters",
          "PhD",
          "College",
          "College",
          "Associate",
          "Associate",
          "Associate",
          "Masters",
          "Masters",
          "MD",
          "PhD",
          "High School",
          "MD",
          "PhD",
          "JD",
          "PhD",
          "Associate",
          "Masters",
          "College",
          "High School",
          "PhD",
          "JD",
          "MD",
          "PhD",
          "PhD",
          "JD",
          "Masters",
          "High School",
          "MD",
          "Masters",
          "MD",
          "College",
          "Masters",
          "JD",
          "JD",
          "High School",
          "Associate",
          "High School",
          "High School",
          "College",
          "JD",
          "High School",
          "High School",
          "MD",
          "Masters",
          "Associate",
          "PhD",
          "Associate",
          "College",
          "MD",
          "PhD",
          "JD",
          "Masters",
          "Associate",
          "PhD",
          "JD",
          "MD",
          "PhD",
          "High School",
          "High School",
          "College",
          "High School",
          "JD",
          "JD",
          "College",
          "College",
          "JD",
          "College",
          "High School",
          "JD",
          "Associate",
          "JD",
          "PhD",
          "College",
          "MD",
          "Associate",
          "JD",
          "High School",
          "Masters",
          "Associate",
          "High School",
          "Masters",
          "College",
          "PhD",
          "JD",
          "PhD",
          "College",
          "MD",
          "Associate",
          "High School",
          "College",
          "PhD",
          "JD",
          "MD",
          "Masters",
          "MD",
          "Associate",
          "MD",
          "MD",
          "JD",
          "PhD",
          "High School",
          "Associate",
          "Masters",
          "High School",
          "JD",
          "Masters",
          "College",
          "PhD",
          "College",
          "PhD",
          "Masters",
          "MD",
          "College",
          "Associate",
          "JD",
          "PhD",
          "High School",
          "High School",
          "JD",
          "College",
          "JD",
          "JD",
          "Masters",
          "JD",
          "JD",
          "PhD",
          "MD",
          "High School",
          "PhD",
          "PhD",
          "High School",
          "Associate",
          "JD",
          "Masters",
          "High School",
          "MD",
          "College",
          "JD",
          "Masters",
          "Associate",
          "College",
          "Associate",
          "College",
          "JD",
          "High School",
          "JD",
          "College",
          "JD",
          "High School",
          "Masters",
          "High School",
          "Masters",
          "JD",
          "Masters",
          "JD",
          "High School",
          "Associate",
          "Masters",
          "MD",
          "Masters",
          "Masters",
          "MD",
          "Associate",
          "High School",
          "MD",
          "High School",
          "JD",
          "MD",
          "JD",
          "Associate",
          "MD",
          "Masters",
          "MD",
          "High School",
          "Associate",
          "MD",
          "Masters",
          "Associate",
          "JD",
          "High School",
          "MD",
          "Associate",
          "Masters",
          "MD",
          "Masters",
          "High School",
          "High School",
          "Masters",
          "PhD",
          "Associate",
          "Masters",
          "JD",
          "High School",
          "Masters",
          "College",
          "MD",
          "High School",
          "College",
          "Associate",
          "MD",
          "High School",
          "College",
          "College",
          "High School",
          "High School",
          "Associate",
          "Associate",
          "High School",
          "Associate",
          "JD",
          "College",
          "College",
          "PhD",
          "High School",
          "Masters",
          "Associate",
          "Masters",
          "JD",
          "Masters",
          "JD",
          "MD",
          "Masters",
          "Masters",
          "College",
          "College",
          "High School",
          "MD",
          "JD",
          "High School",
          "Masters",
          "MD",
          "Associate",
          "JD",
          "High School",
          "College",
          "Masters",
          "High School",
          "JD",
          "High School",
          "PhD",
          "PhD",
          "High School",
          "JD",
          "PhD",
          "High School",
          "Masters",
          "College",
          "Associate",
          "Associate",
          "Masters",
          "MD",
          "Associate",
          "High School",
          "High School",
          "Masters",
          "JD",
          "Masters",
          "High School",
          "MD",
          "College",
          "Associate",
          "JD",
          "MD",
          "High School",
          "Masters",
          "College",
          "MD",
          "Masters",
          "Masters",
          "Associate",
          "Associate",
          "Masters",
          "Associate",
          "Associate",
          "PhD",
          "College",
          "PhD",
          "JD",
          "College",
          "College",
          "MD",
          "High School",
          "Associate",
          "PhD",
          "JD",
          "MD",
          "JD",
          "High School",
          "College",
          "Associate",
          "MD",
          "College",
          "PhD",
          "PhD",
          "MD",
          "Masters",
          "PhD",
          "MD",
          "College",
          "MD",
          "Associate",
          "PhD",
          "PhD",
          "JD",
          "MD",
          "High School",
          "Masters",
          "College",
          "High School",
          "Associate",
          "Masters",
          "College",
          "PhD",
          "College",
          "High School",
          "JD",
          "JD",
          "MD",
          "High School",
          "JD",
          "JD",
          "PhD",
          "MD",
          "College",
          "High School",
          "MD",
          "High School",
          "JD",
          "PhD",
          "High School",
          "Masters",
          "MD",
          "Associate",
          "PhD",
          "MD",
          "Associate",
          "College",
          "College",
          "College",
          "JD",
          "Masters",
          "Associate",
          "High School",
          "Masters",
          "College",
          "MD",
          "Masters",
          "PhD",
          "High School",
          "MD",
          "College",
          "JD",
          "College",
          "Masters",
          "MD",
          "Masters",
          "College",
          "JD",
          "JD",
          "Associate",
          "PhD",
          "Masters",
          "Masters",
          "MD",
          "Masters",
          "PhD",
          "College",
          "High School",
          "College",
          "High School",
          "High School",
          "PhD",
          "JD",
          "PhD",
          "MD",
          "JD",
          "PhD",
          "MD",
          "Associate",
          "Masters",
          "MD",
          "JD",
          "JD",
          "JD",
          "PhD",
          "JD",
          "JD",
          "PhD",
          "PhD",
          "Associate",
          "High School",
          "JD",
          "JD",
          "Masters",
          "Associate",
          "Masters",
          "Associate",
          "Associate",
          "MD",
          "Associate",
          "Associate",
          "MD",
          "MD",
          "Associate",
          "College",
          "High School",
          "Associate",
          "MD",
          "College",
          "PhD",
          "MD",
          "Masters",
          "College",
          "Associate",
          "Associate",
          "Associate",
          "JD",
          "JD",
          "College",
          "JD",
          "JD",
          "JD",
          "Associate",
          "PhD",
          "JD",
          "MD",
          "Masters",
          "MD",
          "PhD",
          "MD",
          "MD",
          "MD",
          "High School",
          "Associate",
          "JD",
          "JD",
          "High School",
          "College",
          "MD",
          "Masters",
          "JD",
          "MD",
          "Masters",
          "High School",
          "MD",
          "High School",
          "Associate",
          "JD",
          "PhD",
          "Associate",
          "Associate",
          "High School",
          "JD",
          "PhD",
          "High School",
          "Associate",
          "JD",
          "High School",
          "MD",
          "Masters",
          "College",
          "JD",
          "Masters",
          "MD",
          "JD",
          "High School",
          "High School",
          "PhD",
          "College",
          "High School",
          "JD",
          "College",
          "MD",
          "PhD",
          "MD",
          "Associate",
          "Masters",
          "Masters",
          "Associate",
          "JD",
          "JD",
          "College",
          "JD",
          "Masters",
          "College",
          "JD",
          "High School",
          "High School",
          "PhD",
          "MD",
          "Associate",
          "PhD",
          "PhD",
          "Associate",
          "Associate",
          "High School",
          "JD",
          "Masters",
          "Masters",
          "PhD",
          "College",
          "Masters",
          "JD",
          "High School",
          "JD",
          "JD",
          "Masters",
          "High School",
          "Masters",
          "High School",
          "JD",
          "Associate",
          "PhD",
          "MD",
          "High School",
          "Masters",
          "MD",
          "Associate",
          "MD",
          "High School",
          "MD",
          "Associate",
          "College",
          "PhD",
          "JD",
          "JD",
          "Associate",
          "Associate",
          "High School",
          "Masters",
          "PhD",
          "College",
          "High School",
          "JD",
          "MD",
          "High School",
          "College",
          "JD",
          "High School",
          "High School",
          "MD",
          "MD",
          "MD",
          "MD",
          "High School",
          "Masters",
          "PhD",
          "Masters",
          "Associate",
          "Associate"
         ],
         "xaxis": "x",
         "yaxis": "y"
        }
       ],
       "layout": {
        "barmode": "relative",
        "legend": {
         "tracegroupgap": 0
        },
        "margin": {
         "t": 60
        },
        "template": {
         "data": {
          "bar": [
           {
            "error_x": {
             "color": "#2a3f5f"
            },
            "error_y": {
             "color": "#2a3f5f"
            },
            "marker": {
             "line": {
              "color": "#E5ECF6",
              "width": 0.5
             },
             "pattern": {
              "fillmode": "overlay",
              "size": 10,
              "solidity": 0.2
             }
            },
            "type": "bar"
           }
          ],
          "barpolar": [
           {
            "marker": {
             "line": {
              "color": "#E5ECF6",
              "width": 0.5
             },
             "pattern": {
              "fillmode": "overlay",
              "size": 10,
              "solidity": 0.2
             }
            },
            "type": "barpolar"
           }
          ],
          "carpet": [
           {
            "aaxis": {
             "endlinecolor": "#2a3f5f",
             "gridcolor": "white",
             "linecolor": "white",
             "minorgridcolor": "white",
             "startlinecolor": "#2a3f5f"
            },
            "baxis": {
             "endlinecolor": "#2a3f5f",
             "gridcolor": "white",
             "linecolor": "white",
             "minorgridcolor": "white",
             "startlinecolor": "#2a3f5f"
            },
            "type": "carpet"
           }
          ],
          "choropleth": [
           {
            "colorbar": {
             "outlinewidth": 0,
             "ticks": ""
            },
            "type": "choropleth"
           }
          ],
          "contour": [
           {
            "colorbar": {
             "outlinewidth": 0,
             "ticks": ""
            },
            "colorscale": [
             [
              0,
              "#0d0887"
             ],
             [
              0.1111111111111111,
              "#46039f"
             ],
             [
              0.2222222222222222,
              "#7201a8"
             ],
             [
              0.3333333333333333,
              "#9c179e"
             ],
             [
              0.4444444444444444,
              "#bd3786"
             ],
             [
              0.5555555555555556,
              "#d8576b"
             ],
             [
              0.6666666666666666,
              "#ed7953"
             ],
             [
              0.7777777777777778,
              "#fb9f3a"
             ],
             [
              0.8888888888888888,
              "#fdca26"
             ],
             [
              1,
              "#f0f921"
             ]
            ],
            "type": "contour"
           }
          ],
          "contourcarpet": [
           {
            "colorbar": {
             "outlinewidth": 0,
             "ticks": ""
            },
            "type": "contourcarpet"
           }
          ],
          "heatmap": [
           {
            "colorbar": {
             "outlinewidth": 0,
             "ticks": ""
            },
            "colorscale": [
             [
              0,
              "#0d0887"
             ],
             [
              0.1111111111111111,
              "#46039f"
             ],
             [
              0.2222222222222222,
              "#7201a8"
             ],
             [
              0.3333333333333333,
              "#9c179e"
             ],
             [
              0.4444444444444444,
              "#bd3786"
             ],
             [
              0.5555555555555556,
              "#d8576b"
             ],
             [
              0.6666666666666666,
              "#ed7953"
             ],
             [
              0.7777777777777778,
              "#fb9f3a"
             ],
             [
              0.8888888888888888,
              "#fdca26"
             ],
             [
              1,
              "#f0f921"
             ]
            ],
            "type": "heatmap"
           }
          ],
          "heatmapgl": [
           {
            "colorbar": {
             "outlinewidth": 0,
             "ticks": ""
            },
            "colorscale": [
             [
              0,
              "#0d0887"
             ],
             [
              0.1111111111111111,
              "#46039f"
             ],
             [
              0.2222222222222222,
              "#7201a8"
             ],
             [
              0.3333333333333333,
              "#9c179e"
             ],
             [
              0.4444444444444444,
              "#bd3786"
             ],
             [
              0.5555555555555556,
              "#d8576b"
             ],
             [
              0.6666666666666666,
              "#ed7953"
             ],
             [
              0.7777777777777778,
              "#fb9f3a"
             ],
             [
              0.8888888888888888,
              "#fdca26"
             ],
             [
              1,
              "#f0f921"
             ]
            ],
            "type": "heatmapgl"
           }
          ],
          "histogram": [
           {
            "marker": {
             "pattern": {
              "fillmode": "overlay",
              "size": 10,
              "solidity": 0.2
             }
            },
            "type": "histogram"
           }
          ],
          "histogram2d": [
           {
            "colorbar": {
             "outlinewidth": 0,
             "ticks": ""
            },
            "colorscale": [
             [
              0,
              "#0d0887"
             ],
             [
              0.1111111111111111,
              "#46039f"
             ],
             [
              0.2222222222222222,
              "#7201a8"
             ],
             [
              0.3333333333333333,
              "#9c179e"
             ],
             [
              0.4444444444444444,
              "#bd3786"
             ],
             [
              0.5555555555555556,
              "#d8576b"
             ],
             [
              0.6666666666666666,
              "#ed7953"
             ],
             [
              0.7777777777777778,
              "#fb9f3a"
             ],
             [
              0.8888888888888888,
              "#fdca26"
             ],
             [
              1,
              "#f0f921"
             ]
            ],
            "type": "histogram2d"
           }
          ],
          "histogram2dcontour": [
           {
            "colorbar": {
             "outlinewidth": 0,
             "ticks": ""
            },
            "colorscale": [
             [
              0,
              "#0d0887"
             ],
             [
              0.1111111111111111,
              "#46039f"
             ],
             [
              0.2222222222222222,
              "#7201a8"
             ],
             [
              0.3333333333333333,
              "#9c179e"
             ],
             [
              0.4444444444444444,
              "#bd3786"
             ],
             [
              0.5555555555555556,
              "#d8576b"
             ],
             [
              0.6666666666666666,
              "#ed7953"
             ],
             [
              0.7777777777777778,
              "#fb9f3a"
             ],
             [
              0.8888888888888888,
              "#fdca26"
             ],
             [
              1,
              "#f0f921"
             ]
            ],
            "type": "histogram2dcontour"
           }
          ],
          "mesh3d": [
           {
            "colorbar": {
             "outlinewidth": 0,
             "ticks": ""
            },
            "type": "mesh3d"
           }
          ],
          "parcoords": [
           {
            "line": {
             "colorbar": {
              "outlinewidth": 0,
              "ticks": ""
             }
            },
            "type": "parcoords"
           }
          ],
          "pie": [
           {
            "automargin": true,
            "type": "pie"
           }
          ],
          "scatter": [
           {
            "fillpattern": {
             "fillmode": "overlay",
             "size": 10,
             "solidity": 0.2
            },
            "type": "scatter"
           }
          ],
          "scatter3d": [
           {
            "line": {
             "colorbar": {
              "outlinewidth": 0,
              "ticks": ""
             }
            },
            "marker": {
             "colorbar": {
              "outlinewidth": 0,
              "ticks": ""
             }
            },
            "type": "scatter3d"
           }
          ],
          "scattercarpet": [
           {
            "marker": {
             "colorbar": {
              "outlinewidth": 0,
              "ticks": ""
             }
            },
            "type": "scattercarpet"
           }
          ],
          "scattergeo": [
           {
            "marker": {
             "colorbar": {
              "outlinewidth": 0,
              "ticks": ""
             }
            },
            "type": "scattergeo"
           }
          ],
          "scattergl": [
           {
            "marker": {
             "colorbar": {
              "outlinewidth": 0,
              "ticks": ""
             }
            },
            "type": "scattergl"
           }
          ],
          "scattermapbox": [
           {
            "marker": {
             "colorbar": {
              "outlinewidth": 0,
              "ticks": ""
             }
            },
            "type": "scattermapbox"
           }
          ],
          "scatterpolar": [
           {
            "marker": {
             "colorbar": {
              "outlinewidth": 0,
              "ticks": ""
             }
            },
            "type": "scatterpolar"
           }
          ],
          "scatterpolargl": [
           {
            "marker": {
             "colorbar": {
              "outlinewidth": 0,
              "ticks": ""
             }
            },
            "type": "scatterpolargl"
           }
          ],
          "scatterternary": [
           {
            "marker": {
             "colorbar": {
              "outlinewidth": 0,
              "ticks": ""
             }
            },
            "type": "scatterternary"
           }
          ],
          "surface": [
           {
            "colorbar": {
             "outlinewidth": 0,
             "ticks": ""
            },
            "colorscale": [
             [
              0,
              "#0d0887"
             ],
             [
              0.1111111111111111,
              "#46039f"
             ],
             [
              0.2222222222222222,
              "#7201a8"
             ],
             [
              0.3333333333333333,
              "#9c179e"
             ],
             [
              0.4444444444444444,
              "#bd3786"
             ],
             [
              0.5555555555555556,
              "#d8576b"
             ],
             [
              0.6666666666666666,
              "#ed7953"
             ],
             [
              0.7777777777777778,
              "#fb9f3a"
             ],
             [
              0.8888888888888888,
              "#fdca26"
             ],
             [
              1,
              "#f0f921"
             ]
            ],
            "type": "surface"
           }
          ],
          "table": [
           {
            "cells": {
             "fill": {
              "color": "#EBF0F8"
             },
             "line": {
              "color": "white"
             }
            },
            "header": {
             "fill": {
              "color": "#C8D4E3"
             },
             "line": {
              "color": "white"
             }
            },
            "type": "table"
           }
          ]
         },
         "layout": {
          "annotationdefaults": {
           "arrowcolor": "#2a3f5f",
           "arrowhead": 0,
           "arrowwidth": 1
          },
          "autotypenumbers": "strict",
          "coloraxis": {
           "colorbar": {
            "outlinewidth": 0,
            "ticks": ""
           }
          },
          "colorscale": {
           "diverging": [
            [
             0,
             "#8e0152"
            ],
            [
             0.1,
             "#c51b7d"
            ],
            [
             0.2,
             "#de77ae"
            ],
            [
             0.3,
             "#f1b6da"
            ],
            [
             0.4,
             "#fde0ef"
            ],
            [
             0.5,
             "#f7f7f7"
            ],
            [
             0.6,
             "#e6f5d0"
            ],
            [
             0.7,
             "#b8e186"
            ],
            [
             0.8,
             "#7fbc41"
            ],
            [
             0.9,
             "#4d9221"
            ],
            [
             1,
             "#276419"
            ]
           ],
           "sequential": [
            [
             0,
             "#0d0887"
            ],
            [
             0.1111111111111111,
             "#46039f"
            ],
            [
             0.2222222222222222,
             "#7201a8"
            ],
            [
             0.3333333333333333,
             "#9c179e"
            ],
            [
             0.4444444444444444,
             "#bd3786"
            ],
            [
             0.5555555555555556,
             "#d8576b"
            ],
            [
             0.6666666666666666,
             "#ed7953"
            ],
            [
             0.7777777777777778,
             "#fb9f3a"
            ],
            [
             0.8888888888888888,
             "#fdca26"
            ],
            [
             1,
             "#f0f921"
            ]
           ],
           "sequentialminus": [
            [
             0,
             "#0d0887"
            ],
            [
             0.1111111111111111,
             "#46039f"
            ],
            [
             0.2222222222222222,
             "#7201a8"
            ],
            [
             0.3333333333333333,
             "#9c179e"
            ],
            [
             0.4444444444444444,
             "#bd3786"
            ],
            [
             0.5555555555555556,
             "#d8576b"
            ],
            [
             0.6666666666666666,
             "#ed7953"
            ],
            [
             0.7777777777777778,
             "#fb9f3a"
            ],
            [
             0.8888888888888888,
             "#fdca26"
            ],
            [
             1,
             "#f0f921"
            ]
           ]
          },
          "colorway": [
           "#636efa",
           "#EF553B",
           "#00cc96",
           "#ab63fa",
           "#FFA15A",
           "#19d3f3",
           "#FF6692",
           "#B6E880",
           "#FF97FF",
           "#FECB52"
          ],
          "font": {
           "color": "#2a3f5f"
          },
          "geo": {
           "bgcolor": "white",
           "lakecolor": "white",
           "landcolor": "#E5ECF6",
           "showlakes": true,
           "showland": true,
           "subunitcolor": "white"
          },
          "hoverlabel": {
           "align": "left"
          },
          "hovermode": "closest",
          "mapbox": {
           "style": "light"
          },
          "paper_bgcolor": "white",
          "plot_bgcolor": "#E5ECF6",
          "polar": {
           "angularaxis": {
            "gridcolor": "white",
            "linecolor": "white",
            "ticks": ""
           },
           "bgcolor": "#E5ECF6",
           "radialaxis": {
            "gridcolor": "white",
            "linecolor": "white",
            "ticks": ""
           }
          },
          "scene": {
           "xaxis": {
            "backgroundcolor": "#E5ECF6",
            "gridcolor": "white",
            "gridwidth": 2,
            "linecolor": "white",
            "showbackground": true,
            "ticks": "",
            "zerolinecolor": "white"
           },
           "yaxis": {
            "backgroundcolor": "#E5ECF6",
            "gridcolor": "white",
            "gridwidth": 2,
            "linecolor": "white",
            "showbackground": true,
            "ticks": "",
            "zerolinecolor": "white"
           },
           "zaxis": {
            "backgroundcolor": "#E5ECF6",
            "gridcolor": "white",
            "gridwidth": 2,
            "linecolor": "white",
            "showbackground": true,
            "ticks": "",
            "zerolinecolor": "white"
           }
          },
          "shapedefaults": {
           "line": {
            "color": "#2a3f5f"
           }
          },
          "ternary": {
           "aaxis": {
            "gridcolor": "white",
            "linecolor": "white",
            "ticks": ""
           },
           "baxis": {
            "gridcolor": "white",
            "linecolor": "white",
            "ticks": ""
           },
           "bgcolor": "#E5ECF6",
           "caxis": {
            "gridcolor": "white",
            "linecolor": "white",
            "ticks": ""
           }
          },
          "title": {
           "x": 0.05
          },
          "xaxis": {
           "automargin": true,
           "gridcolor": "white",
           "linecolor": "white",
           "ticks": "",
           "title": {
            "standoff": 15
           },
           "zerolinecolor": "white",
           "zerolinewidth": 2
          },
          "yaxis": {
           "automargin": true,
           "gridcolor": "white",
           "linecolor": "white",
           "ticks": "",
           "title": {
            "standoff": 15
           },
           "zerolinecolor": "white",
           "zerolinewidth": 2
          }
         }
        },
        "xaxis": {
         "anchor": "y",
         "domain": [
          0,
          1
         ],
         "title": {
          "text": "insured_education_level"
         }
        },
        "yaxis": {
         "anchor": "x",
         "domain": [
          0,
          1
         ],
         "title": {
          "text": "count"
         }
        }
       }
      },
      "text/html": [
       "<div>                            <div id=\"c70ab274-6d7c-4341-bd07-358f24fe5bb9\" class=\"plotly-graph-div\" style=\"height:525px; width:100%;\"></div>            <script type=\"text/javascript\">                require([\"plotly\"], function(Plotly) {                    window.PLOTLYENV=window.PLOTLYENV || {};                                    if (document.getElementById(\"c70ab274-6d7c-4341-bd07-358f24fe5bb9\")) {                    Plotly.newPlot(                        \"c70ab274-6d7c-4341-bd07-358f24fe5bb9\",                        [{\"alignmentgroup\":\"True\",\"bingroup\":\"x\",\"hovertemplate\":\"insured_education_level=%{x}<br>count=%{y}<extra></extra>\",\"legendgroup\":\"\",\"marker\":{\"color\":\"#636efa\",\"pattern\":{\"shape\":\"\"}},\"name\":\"\",\"offsetgroup\":\"\",\"orientation\":\"v\",\"showlegend\":false,\"x\":[\"MD\",\"MD\",\"PhD\",\"PhD\",\"Associate\",\"PhD\",\"PhD\",\"Associate\",\"PhD\",\"PhD\",\"Masters\",\"High School\",\"MD\",\"MD\",\"College\",\"MD\",\"College\",\"High School\",\"MD\",\"High School\",\"JD\",\"Associate\",\"High School\",\"MD\",\"College\",\"Masters\",\"High School\",\"JD\",\"JD\",\"PhD\",\"Masters\",\"JD\",\"Associate\",\"High School\",\"PhD\",\"High School\",\"Masters\",\"JD\",\"MD\",\"JD\",\"Associate\",\"Associate\",\"College\",\"PhD\",\"JD\",\"MD\",\"Associate\",\"College\",\"PhD\",\"Masters\",\"MD\",\"JD\",\"College\",\"JD\",\"PhD\",\"PhD\",\"PhD\",\"Masters\",\"PhD\",\"MD\",\"PhD\",\"JD\",\"High School\",\"JD\",\"PhD\",\"MD\",\"High School\",\"Associate\",\"MD\",\"MD\",\"Associate\",\"MD\",\"Associate\",\"College\",\"Associate\",\"High School\",\"College\",\"College\",\"JD\",\"PhD\",\"High School\",\"Masters\",\"Masters\",\"High School\",\"Masters\",\"High School\",\"Associate\",\"MD\",\"College\",\"College\",\"High School\",\"Associate\",\"PhD\",\"MD\",\"High School\",\"PhD\",\"Associate\",\"Masters\",\"College\",\"College\",\"College\",\"College\",\"JD\",\"Associate\",\"College\",\"College\",\"Associate\",\"High School\",\"PhD\",\"Masters\",\"College\",\"PhD\",\"High School\",\"MD\",\"Associate\",\"MD\",\"PhD\",\"High School\",\"PhD\",\"Associate\",\"High School\",\"MD\",\"Masters\",\"College\",\"JD\",\"JD\",\"MD\",\"High School\",\"College\",\"Masters\",\"JD\",\"Masters\",\"Masters\",\"High School\",\"PhD\",\"College\",\"High School\",\"PhD\",\"High School\",\"MD\",\"Masters\",\"Masters\",\"PhD\",\"MD\",\"JD\",\"Associate\",\"Masters\",\"MD\",\"PhD\",\"JD\",\"PhD\",\"Masters\",\"High School\",\"Masters\",\"Masters\",\"Associate\",\"JD\",\"JD\",\"Masters\",\"JD\",\"Associate\",\"MD\",\"MD\",\"Masters\",\"Masters\",\"PhD\",\"Associate\",\"High School\",\"Masters\",\"High School\",\"Associate\",\"High School\",\"College\",\"MD\",\"PhD\",\"MD\",\"Masters\",\"PhD\",\"Masters\",\"MD\",\"Associate\",\"Masters\",\"Masters\",\"JD\",\"Masters\",\"JD\",\"JD\",\"JD\",\"High School\",\"High School\",\"Associate\",\"JD\",\"MD\",\"High School\",\"MD\",\"High School\",\"MD\",\"MD\",\"Masters\",\"College\",\"PhD\",\"PhD\",\"High School\",\"PhD\",\"JD\",\"Masters\",\"College\",\"Masters\",\"JD\",\"Associate\",\"High School\",\"High School\",\"High School\",\"MD\",\"JD\",\"PhD\",\"High School\",\"Masters\",\"MD\",\"College\",\"College\",\"College\",\"High School\",\"Associate\",\"Associate\",\"Masters\",\"High School\",\"Associate\",\"MD\",\"MD\",\"High School\",\"JD\",\"Masters\",\"MD\",\"JD\",\"Masters\",\"JD\",\"MD\",\"Associate\",\"Masters\",\"MD\",\"College\",\"JD\",\"College\",\"Associate\",\"Associate\",\"JD\",\"JD\",\"Masters\",\"High School\",\"Associate\",\"MD\",\"High School\",\"PhD\",\"JD\",\"High School\",\"Associate\",\"Associate\",\"MD\",\"PhD\",\"Masters\",\"PhD\",\"College\",\"Masters\",\"MD\",\"High School\",\"JD\",\"JD\",\"Associate\",\"Associate\",\"College\",\"Associate\",\"MD\",\"JD\",\"Masters\",\"Associate\",\"Associate\",\"PhD\",\"JD\",\"College\",\"JD\",\"Associate\",\"PhD\",\"PhD\",\"MD\",\"High School\",\"JD\",\"Associate\",\"JD\",\"College\",\"Associate\",\"College\",\"High School\",\"High School\",\"High School\",\"Associate\",\"College\",\"College\",\"MD\",\"High School\",\"Masters\",\"Associate\",\"College\",\"JD\",\"High School\",\"JD\",\"PhD\",\"Associate\",\"Associate\",\"Masters\",\"PhD\",\"MD\",\"Associate\",\"PhD\",\"Masters\",\"MD\",\"High School\",\"Associate\",\"High School\",\"Associate\",\"High School\",\"JD\",\"High School\",\"Masters\",\"College\",\"JD\",\"High School\",\"PhD\",\"MD\",\"PhD\",\"Masters\",\"PhD\",\"JD\",\"MD\",\"College\",\"JD\",\"College\",\"Associate\",\"Associate\",\"MD\",\"JD\",\"Associate\",\"College\",\"Masters\",\"Associate\",\"PhD\",\"Associate\",\"PhD\",\"JD\",\"MD\",\"JD\",\"Associate\",\"High School\",\"Masters\",\"High School\",\"MD\",\"MD\",\"College\",\"College\",\"PhD\",\"Associate\",\"College\",\"MD\",\"Associate\",\"High School\",\"Masters\",\"Masters\",\"Associate\",\"JD\",\"PhD\",\"High School\",\"PhD\",\"PhD\",\"JD\",\"College\",\"Masters\",\"Associate\",\"JD\",\"JD\",\"College\",\"Associate\",\"PhD\",\"PhD\",\"JD\",\"Masters\",\"High School\",\"College\",\"Associate\",\"JD\",\"JD\",\"JD\",\"PhD\",\"High School\",\"MD\",\"High School\",\"PhD\",\"High School\",\"Masters\",\"High School\",\"MD\",\"Masters\",\"MD\",\"College\",\"Associate\",\"College\",\"College\",\"MD\",\"High School\",\"Masters\",\"College\",\"Associate\",\"High School\",\"College\",\"Masters\",\"Associate\",\"High School\",\"Masters\",\"JD\",\"High School\",\"JD\",\"College\",\"MD\",\"High School\",\"MD\",\"Masters\",\"College\",\"Masters\",\"High School\",\"Masters\",\"Masters\",\"JD\",\"PhD\",\"Masters\",\"College\",\"Associate\",\"MD\",\"JD\",\"PhD\",\"PhD\",\"JD\",\"Masters\",\"MD\",\"PhD\",\"JD\",\"Associate\",\"High School\",\"JD\",\"Associate\",\"PhD\",\"Masters\",\"PhD\",\"College\",\"College\",\"Associate\",\"Associate\",\"Associate\",\"Masters\",\"Masters\",\"MD\",\"PhD\",\"High School\",\"MD\",\"PhD\",\"JD\",\"PhD\",\"Associate\",\"Masters\",\"College\",\"High School\",\"PhD\",\"JD\",\"MD\",\"PhD\",\"PhD\",\"JD\",\"Masters\",\"High School\",\"MD\",\"Masters\",\"MD\",\"College\",\"Masters\",\"JD\",\"JD\",\"High School\",\"Associate\",\"High School\",\"High School\",\"College\",\"JD\",\"High School\",\"High School\",\"MD\",\"Masters\",\"Associate\",\"PhD\",\"Associate\",\"College\",\"MD\",\"PhD\",\"JD\",\"Masters\",\"Associate\",\"PhD\",\"JD\",\"MD\",\"PhD\",\"High School\",\"High School\",\"College\",\"High School\",\"JD\",\"JD\",\"College\",\"College\",\"JD\",\"College\",\"High School\",\"JD\",\"Associate\",\"JD\",\"PhD\",\"College\",\"MD\",\"Associate\",\"JD\",\"High School\",\"Masters\",\"Associate\",\"High School\",\"Masters\",\"College\",\"PhD\",\"JD\",\"PhD\",\"College\",\"MD\",\"Associate\",\"High School\",\"College\",\"PhD\",\"JD\",\"MD\",\"Masters\",\"MD\",\"Associate\",\"MD\",\"MD\",\"JD\",\"PhD\",\"High School\",\"Associate\",\"Masters\",\"High School\",\"JD\",\"Masters\",\"College\",\"PhD\",\"College\",\"PhD\",\"Masters\",\"MD\",\"College\",\"Associate\",\"JD\",\"PhD\",\"High School\",\"High School\",\"JD\",\"College\",\"JD\",\"JD\",\"Masters\",\"JD\",\"JD\",\"PhD\",\"MD\",\"High School\",\"PhD\",\"PhD\",\"High School\",\"Associate\",\"JD\",\"Masters\",\"High School\",\"MD\",\"College\",\"JD\",\"Masters\",\"Associate\",\"College\",\"Associate\",\"College\",\"JD\",\"High School\",\"JD\",\"College\",\"JD\",\"High School\",\"Masters\",\"High School\",\"Masters\",\"JD\",\"Masters\",\"JD\",\"High School\",\"Associate\",\"Masters\",\"MD\",\"Masters\",\"Masters\",\"MD\",\"Associate\",\"High School\",\"MD\",\"High School\",\"JD\",\"MD\",\"JD\",\"Associate\",\"MD\",\"Masters\",\"MD\",\"High School\",\"Associate\",\"MD\",\"Masters\",\"Associate\",\"JD\",\"High School\",\"MD\",\"Associate\",\"Masters\",\"MD\",\"Masters\",\"High School\",\"High School\",\"Masters\",\"PhD\",\"Associate\",\"Masters\",\"JD\",\"High School\",\"Masters\",\"College\",\"MD\",\"High School\",\"College\",\"Associate\",\"MD\",\"High School\",\"College\",\"College\",\"High School\",\"High School\",\"Associate\",\"Associate\",\"High School\",\"Associate\",\"JD\",\"College\",\"College\",\"PhD\",\"High School\",\"Masters\",\"Associate\",\"Masters\",\"JD\",\"Masters\",\"JD\",\"MD\",\"Masters\",\"Masters\",\"College\",\"College\",\"High School\",\"MD\",\"JD\",\"High School\",\"Masters\",\"MD\",\"Associate\",\"JD\",\"High School\",\"College\",\"Masters\",\"High School\",\"JD\",\"High School\",\"PhD\",\"PhD\",\"High School\",\"JD\",\"PhD\",\"High School\",\"Masters\",\"College\",\"Associate\",\"Associate\",\"Masters\",\"MD\",\"Associate\",\"High School\",\"High School\",\"Masters\",\"JD\",\"Masters\",\"High School\",\"MD\",\"College\",\"Associate\",\"JD\",\"MD\",\"High School\",\"Masters\",\"College\",\"MD\",\"Masters\",\"Masters\",\"Associate\",\"Associate\",\"Masters\",\"Associate\",\"Associate\",\"PhD\",\"College\",\"PhD\",\"JD\",\"College\",\"College\",\"MD\",\"High School\",\"Associate\",\"PhD\",\"JD\",\"MD\",\"JD\",\"High School\",\"College\",\"Associate\",\"MD\",\"College\",\"PhD\",\"PhD\",\"MD\",\"Masters\",\"PhD\",\"MD\",\"College\",\"MD\",\"Associate\",\"PhD\",\"PhD\",\"JD\",\"MD\",\"High School\",\"Masters\",\"College\",\"High School\",\"Associate\",\"Masters\",\"College\",\"PhD\",\"College\",\"High School\",\"JD\",\"JD\",\"MD\",\"High School\",\"JD\",\"JD\",\"PhD\",\"MD\",\"College\",\"High School\",\"MD\",\"High School\",\"JD\",\"PhD\",\"High School\",\"Masters\",\"MD\",\"Associate\",\"PhD\",\"MD\",\"Associate\",\"College\",\"College\",\"College\",\"JD\",\"Masters\",\"Associate\",\"High School\",\"Masters\",\"College\",\"MD\",\"Masters\",\"PhD\",\"High School\",\"MD\",\"College\",\"JD\",\"College\",\"Masters\",\"MD\",\"Masters\",\"College\",\"JD\",\"JD\",\"Associate\",\"PhD\",\"Masters\",\"Masters\",\"MD\",\"Masters\",\"PhD\",\"College\",\"High School\",\"College\",\"High School\",\"High School\",\"PhD\",\"JD\",\"PhD\",\"MD\",\"JD\",\"PhD\",\"MD\",\"Associate\",\"Masters\",\"MD\",\"JD\",\"JD\",\"JD\",\"PhD\",\"JD\",\"JD\",\"PhD\",\"PhD\",\"Associate\",\"High School\",\"JD\",\"JD\",\"Masters\",\"Associate\",\"Masters\",\"Associate\",\"Associate\",\"MD\",\"Associate\",\"Associate\",\"MD\",\"MD\",\"Associate\",\"College\",\"High School\",\"Associate\",\"MD\",\"College\",\"PhD\",\"MD\",\"Masters\",\"College\",\"Associate\",\"Associate\",\"Associate\",\"JD\",\"JD\",\"College\",\"JD\",\"JD\",\"JD\",\"Associate\",\"PhD\",\"JD\",\"MD\",\"Masters\",\"MD\",\"PhD\",\"MD\",\"MD\",\"MD\",\"High School\",\"Associate\",\"JD\",\"JD\",\"High School\",\"College\",\"MD\",\"Masters\",\"JD\",\"MD\",\"Masters\",\"High School\",\"MD\",\"High School\",\"Associate\",\"JD\",\"PhD\",\"Associate\",\"Associate\",\"High School\",\"JD\",\"PhD\",\"High School\",\"Associate\",\"JD\",\"High School\",\"MD\",\"Masters\",\"College\",\"JD\",\"Masters\",\"MD\",\"JD\",\"High School\",\"High School\",\"PhD\",\"College\",\"High School\",\"JD\",\"College\",\"MD\",\"PhD\",\"MD\",\"Associate\",\"Masters\",\"Masters\",\"Associate\",\"JD\",\"JD\",\"College\",\"JD\",\"Masters\",\"College\",\"JD\",\"High School\",\"High School\",\"PhD\",\"MD\",\"Associate\",\"PhD\",\"PhD\",\"Associate\",\"Associate\",\"High School\",\"JD\",\"Masters\",\"Masters\",\"PhD\",\"College\",\"Masters\",\"JD\",\"High School\",\"JD\",\"JD\",\"Masters\",\"High School\",\"Masters\",\"High School\",\"JD\",\"Associate\",\"PhD\",\"MD\",\"High School\",\"Masters\",\"MD\",\"Associate\",\"MD\",\"High School\",\"MD\",\"Associate\",\"College\",\"PhD\",\"JD\",\"JD\",\"Associate\",\"Associate\",\"High School\",\"Masters\",\"PhD\",\"College\",\"High School\",\"JD\",\"MD\",\"High School\",\"College\",\"JD\",\"High School\",\"High School\",\"MD\",\"MD\",\"MD\",\"MD\",\"High School\",\"Masters\",\"PhD\",\"Masters\",\"Associate\",\"Associate\"],\"xaxis\":\"x\",\"yaxis\":\"y\",\"type\":\"histogram\"}],                        {\"template\":{\"data\":{\"histogram2dcontour\":[{\"type\":\"histogram2dcontour\",\"colorbar\":{\"outlinewidth\":0,\"ticks\":\"\"},\"colorscale\":[[0.0,\"#0d0887\"],[0.1111111111111111,\"#46039f\"],[0.2222222222222222,\"#7201a8\"],[0.3333333333333333,\"#9c179e\"],[0.4444444444444444,\"#bd3786\"],[0.5555555555555556,\"#d8576b\"],[0.6666666666666666,\"#ed7953\"],[0.7777777777777778,\"#fb9f3a\"],[0.8888888888888888,\"#fdca26\"],[1.0,\"#f0f921\"]]}],\"choropleth\":[{\"type\":\"choropleth\",\"colorbar\":{\"outlinewidth\":0,\"ticks\":\"\"}}],\"histogram2d\":[{\"type\":\"histogram2d\",\"colorbar\":{\"outlinewidth\":0,\"ticks\":\"\"},\"colorscale\":[[0.0,\"#0d0887\"],[0.1111111111111111,\"#46039f\"],[0.2222222222222222,\"#7201a8\"],[0.3333333333333333,\"#9c179e\"],[0.4444444444444444,\"#bd3786\"],[0.5555555555555556,\"#d8576b\"],[0.6666666666666666,\"#ed7953\"],[0.7777777777777778,\"#fb9f3a\"],[0.8888888888888888,\"#fdca26\"],[1.0,\"#f0f921\"]]}],\"heatmap\":[{\"type\":\"heatmap\",\"colorbar\":{\"outlinewidth\":0,\"ticks\":\"\"},\"colorscale\":[[0.0,\"#0d0887\"],[0.1111111111111111,\"#46039f\"],[0.2222222222222222,\"#7201a8\"],[0.3333333333333333,\"#9c179e\"],[0.4444444444444444,\"#bd3786\"],[0.5555555555555556,\"#d8576b\"],[0.6666666666666666,\"#ed7953\"],[0.7777777777777778,\"#fb9f3a\"],[0.8888888888888888,\"#fdca26\"],[1.0,\"#f0f921\"]]}],\"heatmapgl\":[{\"type\":\"heatmapgl\",\"colorbar\":{\"outlinewidth\":0,\"ticks\":\"\"},\"colorscale\":[[0.0,\"#0d0887\"],[0.1111111111111111,\"#46039f\"],[0.2222222222222222,\"#7201a8\"],[0.3333333333333333,\"#9c179e\"],[0.4444444444444444,\"#bd3786\"],[0.5555555555555556,\"#d8576b\"],[0.6666666666666666,\"#ed7953\"],[0.7777777777777778,\"#fb9f3a\"],[0.8888888888888888,\"#fdca26\"],[1.0,\"#f0f921\"]]}],\"contourcarpet\":[{\"type\":\"contourcarpet\",\"colorbar\":{\"outlinewidth\":0,\"ticks\":\"\"}}],\"contour\":[{\"type\":\"contour\",\"colorbar\":{\"outlinewidth\":0,\"ticks\":\"\"},\"colorscale\":[[0.0,\"#0d0887\"],[0.1111111111111111,\"#46039f\"],[0.2222222222222222,\"#7201a8\"],[0.3333333333333333,\"#9c179e\"],[0.4444444444444444,\"#bd3786\"],[0.5555555555555556,\"#d8576b\"],[0.6666666666666666,\"#ed7953\"],[0.7777777777777778,\"#fb9f3a\"],[0.8888888888888888,\"#fdca26\"],[1.0,\"#f0f921\"]]}],\"surface\":[{\"type\":\"surface\",\"colorbar\":{\"outlinewidth\":0,\"ticks\":\"\"},\"colorscale\":[[0.0,\"#0d0887\"],[0.1111111111111111,\"#46039f\"],[0.2222222222222222,\"#7201a8\"],[0.3333333333333333,\"#9c179e\"],[0.4444444444444444,\"#bd3786\"],[0.5555555555555556,\"#d8576b\"],[0.6666666666666666,\"#ed7953\"],[0.7777777777777778,\"#fb9f3a\"],[0.8888888888888888,\"#fdca26\"],[1.0,\"#f0f921\"]]}],\"mesh3d\":[{\"type\":\"mesh3d\",\"colorbar\":{\"outlinewidth\":0,\"ticks\":\"\"}}],\"scatter\":[{\"fillpattern\":{\"fillmode\":\"overlay\",\"size\":10,\"solidity\":0.2},\"type\":\"scatter\"}],\"parcoords\":[{\"type\":\"parcoords\",\"line\":{\"colorbar\":{\"outlinewidth\":0,\"ticks\":\"\"}}}],\"scatterpolargl\":[{\"type\":\"scatterpolargl\",\"marker\":{\"colorbar\":{\"outlinewidth\":0,\"ticks\":\"\"}}}],\"bar\":[{\"error_x\":{\"color\":\"#2a3f5f\"},\"error_y\":{\"color\":\"#2a3f5f\"},\"marker\":{\"line\":{\"color\":\"#E5ECF6\",\"width\":0.5},\"pattern\":{\"fillmode\":\"overlay\",\"size\":10,\"solidity\":0.2}},\"type\":\"bar\"}],\"scattergeo\":[{\"type\":\"scattergeo\",\"marker\":{\"colorbar\":{\"outlinewidth\":0,\"ticks\":\"\"}}}],\"scatterpolar\":[{\"type\":\"scatterpolar\",\"marker\":{\"colorbar\":{\"outlinewidth\":0,\"ticks\":\"\"}}}],\"histogram\":[{\"marker\":{\"pattern\":{\"fillmode\":\"overlay\",\"size\":10,\"solidity\":0.2}},\"type\":\"histogram\"}],\"scattergl\":[{\"type\":\"scattergl\",\"marker\":{\"colorbar\":{\"outlinewidth\":0,\"ticks\":\"\"}}}],\"scatter3d\":[{\"type\":\"scatter3d\",\"line\":{\"colorbar\":{\"outlinewidth\":0,\"ticks\":\"\"}},\"marker\":{\"colorbar\":{\"outlinewidth\":0,\"ticks\":\"\"}}}],\"scattermapbox\":[{\"type\":\"scattermapbox\",\"marker\":{\"colorbar\":{\"outlinewidth\":0,\"ticks\":\"\"}}}],\"scatterternary\":[{\"type\":\"scatterternary\",\"marker\":{\"colorbar\":{\"outlinewidth\":0,\"ticks\":\"\"}}}],\"scattercarpet\":[{\"type\":\"scattercarpet\",\"marker\":{\"colorbar\":{\"outlinewidth\":0,\"ticks\":\"\"}}}],\"carpet\":[{\"aaxis\":{\"endlinecolor\":\"#2a3f5f\",\"gridcolor\":\"white\",\"linecolor\":\"white\",\"minorgridcolor\":\"white\",\"startlinecolor\":\"#2a3f5f\"},\"baxis\":{\"endlinecolor\":\"#2a3f5f\",\"gridcolor\":\"white\",\"linecolor\":\"white\",\"minorgridcolor\":\"white\",\"startlinecolor\":\"#2a3f5f\"},\"type\":\"carpet\"}],\"table\":[{\"cells\":{\"fill\":{\"color\":\"#EBF0F8\"},\"line\":{\"color\":\"white\"}},\"header\":{\"fill\":{\"color\":\"#C8D4E3\"},\"line\":{\"color\":\"white\"}},\"type\":\"table\"}],\"barpolar\":[{\"marker\":{\"line\":{\"color\":\"#E5ECF6\",\"width\":0.5},\"pattern\":{\"fillmode\":\"overlay\",\"size\":10,\"solidity\":0.2}},\"type\":\"barpolar\"}],\"pie\":[{\"automargin\":true,\"type\":\"pie\"}]},\"layout\":{\"autotypenumbers\":\"strict\",\"colorway\":[\"#636efa\",\"#EF553B\",\"#00cc96\",\"#ab63fa\",\"#FFA15A\",\"#19d3f3\",\"#FF6692\",\"#B6E880\",\"#FF97FF\",\"#FECB52\"],\"font\":{\"color\":\"#2a3f5f\"},\"hovermode\":\"closest\",\"hoverlabel\":{\"align\":\"left\"},\"paper_bgcolor\":\"white\",\"plot_bgcolor\":\"#E5ECF6\",\"polar\":{\"bgcolor\":\"#E5ECF6\",\"angularaxis\":{\"gridcolor\":\"white\",\"linecolor\":\"white\",\"ticks\":\"\"},\"radialaxis\":{\"gridcolor\":\"white\",\"linecolor\":\"white\",\"ticks\":\"\"}},\"ternary\":{\"bgcolor\":\"#E5ECF6\",\"aaxis\":{\"gridcolor\":\"white\",\"linecolor\":\"white\",\"ticks\":\"\"},\"baxis\":{\"gridcolor\":\"white\",\"linecolor\":\"white\",\"ticks\":\"\"},\"caxis\":{\"gridcolor\":\"white\",\"linecolor\":\"white\",\"ticks\":\"\"}},\"coloraxis\":{\"colorbar\":{\"outlinewidth\":0,\"ticks\":\"\"}},\"colorscale\":{\"sequential\":[[0.0,\"#0d0887\"],[0.1111111111111111,\"#46039f\"],[0.2222222222222222,\"#7201a8\"],[0.3333333333333333,\"#9c179e\"],[0.4444444444444444,\"#bd3786\"],[0.5555555555555556,\"#d8576b\"],[0.6666666666666666,\"#ed7953\"],[0.7777777777777778,\"#fb9f3a\"],[0.8888888888888888,\"#fdca26\"],[1.0,\"#f0f921\"]],\"sequentialminus\":[[0.0,\"#0d0887\"],[0.1111111111111111,\"#46039f\"],[0.2222222222222222,\"#7201a8\"],[0.3333333333333333,\"#9c179e\"],[0.4444444444444444,\"#bd3786\"],[0.5555555555555556,\"#d8576b\"],[0.6666666666666666,\"#ed7953\"],[0.7777777777777778,\"#fb9f3a\"],[0.8888888888888888,\"#fdca26\"],[1.0,\"#f0f921\"]],\"diverging\":[[0,\"#8e0152\"],[0.1,\"#c51b7d\"],[0.2,\"#de77ae\"],[0.3,\"#f1b6da\"],[0.4,\"#fde0ef\"],[0.5,\"#f7f7f7\"],[0.6,\"#e6f5d0\"],[0.7,\"#b8e186\"],[0.8,\"#7fbc41\"],[0.9,\"#4d9221\"],[1,\"#276419\"]]},\"xaxis\":{\"gridcolor\":\"white\",\"linecolor\":\"white\",\"ticks\":\"\",\"title\":{\"standoff\":15},\"zerolinecolor\":\"white\",\"automargin\":true,\"zerolinewidth\":2},\"yaxis\":{\"gridcolor\":\"white\",\"linecolor\":\"white\",\"ticks\":\"\",\"title\":{\"standoff\":15},\"zerolinecolor\":\"white\",\"automargin\":true,\"zerolinewidth\":2},\"scene\":{\"xaxis\":{\"backgroundcolor\":\"#E5ECF6\",\"gridcolor\":\"white\",\"linecolor\":\"white\",\"showbackground\":true,\"ticks\":\"\",\"zerolinecolor\":\"white\",\"gridwidth\":2},\"yaxis\":{\"backgroundcolor\":\"#E5ECF6\",\"gridcolor\":\"white\",\"linecolor\":\"white\",\"showbackground\":true,\"ticks\":\"\",\"zerolinecolor\":\"white\",\"gridwidth\":2},\"zaxis\":{\"backgroundcolor\":\"#E5ECF6\",\"gridcolor\":\"white\",\"linecolor\":\"white\",\"showbackground\":true,\"ticks\":\"\",\"zerolinecolor\":\"white\",\"gridwidth\":2}},\"shapedefaults\":{\"line\":{\"color\":\"#2a3f5f\"}},\"annotationdefaults\":{\"arrowcolor\":\"#2a3f5f\",\"arrowhead\":0,\"arrowwidth\":1},\"geo\":{\"bgcolor\":\"white\",\"landcolor\":\"#E5ECF6\",\"subunitcolor\":\"white\",\"showland\":true,\"showlakes\":true,\"lakecolor\":\"white\"},\"title\":{\"x\":0.05},\"mapbox\":{\"style\":\"light\"}}},\"xaxis\":{\"anchor\":\"y\",\"domain\":[0.0,1.0],\"title\":{\"text\":\"insured_education_level\"}},\"yaxis\":{\"anchor\":\"x\",\"domain\":[0.0,1.0],\"title\":{\"text\":\"count\"}},\"legend\":{\"tracegroupgap\":0},\"margin\":{\"t\":60},\"barmode\":\"relative\"},                        {\"responsive\": true}                    ).then(function(){\n",
       "                            \n",
       "var gd = document.getElementById('c70ab274-6d7c-4341-bd07-358f24fe5bb9');\n",
       "var x = new MutationObserver(function (mutations, observer) {{\n",
       "        var display = window.getComputedStyle(gd).display;\n",
       "        if (!display || display === 'none') {{\n",
       "            console.log([gd, 'removed!']);\n",
       "            Plotly.purge(gd);\n",
       "            observer.disconnect();\n",
       "        }}\n",
       "}});\n",
       "\n",
       "// Listen for the removal of the full notebook cells\n",
       "var notebookContainer = gd.closest('#notebook-container');\n",
       "if (notebookContainer) {{\n",
       "    x.observe(notebookContainer, {childList: true});\n",
       "}}\n",
       "\n",
       "// Listen for the clearing of the current output cell\n",
       "var outputEl = gd.closest('.output');\n",
       "if (outputEl) {{\n",
       "    x.observe(outputEl, {childList: true});\n",
       "}}\n",
       "\n",
       "                        })                };                });            </script>        </div>"
      ]
     },
     "metadata": {},
     "output_type": "display_data"
    }
   ],
   "source": [
    "px.histogram(data, x = 'insured_education_level')"
   ]
  },
  {
   "cell_type": "markdown",
   "id": "6099a91b",
   "metadata": {},
   "source": [
    "Observation: High School and JD education level Customers are more as compared to other education."
   ]
  },
  {
   "cell_type": "code",
   "execution_count": null,
   "id": "d78c9cf4",
   "metadata": {},
   "outputs": [
    {
     "name": "stderr",
     "output_type": "stream",
     "text": [
      "C:\\Users\\Aniket Pc\\AppData\\Local\\Programs\\Python\\Python310\\lib\\site-packages\\seaborn\\_decorators.py:36: FutureWarning:\n",
      "\n",
      "Pass the following variable as a keyword arg: x. From version 0.12, the only valid positional argument will be `data`, and passing other arguments without an explicit keyword will result in an error or misinterpretation.\n",
      "\n"
     ]
    },
    {
     "data": {
      "text/plain": [
       "(array([ 0,  1,  2,  3,  4,  5,  6,  7,  8,  9, 10, 11, 12, 13]),\n",
       " [Text(0, 0, 'craft-repair'),\n",
       "  Text(1, 0, 'machine-op-inspct'),\n",
       "  Text(2, 0, 'sales'),\n",
       "  Text(3, 0, 'armed-forces'),\n",
       "  Text(4, 0, 'tech-support'),\n",
       "  Text(5, 0, 'prof-specialty'),\n",
       "  Text(6, 0, 'other-service'),\n",
       "  Text(7, 0, 'priv-house-serv'),\n",
       "  Text(8, 0, 'exec-managerial'),\n",
       "  Text(9, 0, 'protective-serv'),\n",
       "  Text(10, 0, 'transport-moving'),\n",
       "  Text(11, 0, 'handlers-cleaners'),\n",
       "  Text(12, 0, 'adm-clerical'),\n",
       "  Text(13, 0, 'farming-fishing')])"
      ]
     },
     "execution_count": 17,
     "metadata": {},
     "output_type": "execute_result"
    },
    {
     "data": {
      "image/png": "[encoded data removed]",
      "text/plain": [
       "<Figure size 1080x576 with 1 Axes>"
      ]
     },
     "metadata": {
      "needs_background": "light"
     },
     "output_type": "display_data"
    }
   ],
   "source": [
    "plt.subplots(figsize = (15,8))\n",
    "sns.countplot(data['insured_occupation'], palette='rocket')\n",
    "plt.xticks(rotation = 90)"
   ]
  },
  {
   "cell_type": "markdown",
   "id": "46412036",
   "metadata": {},
   "source": [
    "Observation: Machine-op-inspct most of the customers have this Occupation."
   ]
  },
  {
   "cell_type": "code",
   "execution_count": null,
   "id": "28515379",
   "metadata": {},
   "outputs": [],
   "source": [
    "df.loc[df['insured_sex'] == 'FEMALE','insured_sex'] = 0\n",
    "df.loc[df['insured_sex'] == 'MALE','insured_sex'] = 1\n",
    "\n",
    "df['insured_sex'] = df['insured_sex'].astype(int)"
   ]
  },
  {
   "cell_type": "code",
   "execution_count": null,
   "id": "56bb133a",
   "metadata": {},
   "outputs": [],
   "source": [
    "df.loc[df['fraud_reported'] == 'N','fraud_reported'] = 0\n",
    "df.loc[df['fraud_reported'] == 'Y','fraud_reported'] = 1\n",
    "\n",
    "df['fraud_reported'] = df['fraud_reported'].astype(int)"
   ]
  },
  {
   "cell_type": "markdown",
   "id": "2d1c0267",
   "metadata": {},
   "source": [
    "I have converted these 2 features from object to int."
   ]
  },
  {
   "cell_type": "code",
   "execution_count": null,
   "id": "a274d61d",
   "metadata": {},
   "outputs": [],
   "source": [
    "gender = df.groupby('insured_sex')['fraud_reported'].sum()"
   ]
  },
  {
   "cell_type": "code",
   "execution_count": null,
   "id": "22a1b8c8",
   "metadata": {},
   "outputs": [],
   "source": [
    "gender_value = gender.values"
   ]
  },
  {
   "cell_type": "code",
   "execution_count": null,
   "id": "1e6d615b",
   "metadata": {},
   "outputs": [],
   "source": [
    "label_gender = data.insured_sex.value_counts().index"
   ]
  },
  {
   "cell_type": "code",
   "execution_count": null,
   "id": "4b193161",
   "metadata": {},
   "outputs": [
    {
     "data": {
      "application/vnd.plotly.v1+json": {
       "config": {
        "plotlyServerURL": "https://plot.ly"
       },
       "data": [
        {
         "domain": {
          "x": [
           0,
           1
          ],
          "y": [
           0,
           1
          ]
         },
         "hovertemplate": "label=%{label}<br>value=%{value}<extra></extra>",
         "labels": [
          "FEMALE",
          "MALE"
         ],
         "legendgroup": "",
         "name": "",
         "showlegend": true,
         "type": "pie",
         "values": [
          126,
          121
         ]
        }
       ],
       "layout": {
        "legend": {
         "tracegroupgap": 0
        },
        "margin": {
         "t": 60
        },
        "template": {
         "data": {
          "bar": [
           {
            "error_x": {
             "color": "#2a3f5f"
            },
            "error_y": {
             "color": "#2a3f5f"
            },
            "marker": {
             "line": {
              "color": "#E5ECF6",
              "width": 0.5
             },
             "pattern": {
              "fillmode": "overlay",
              "size": 10,
              "solidity": 0.2
             }
            },
            "type": "bar"
           }
          ],
          "barpolar": [
           {
            "marker": {
             "line": {
              "color": "#E5ECF6",
              "width": 0.5
             },
             "pattern": {
              "fillmode": "overlay",
              "size": 10,
              "solidity": 0.2
             }
            },
            "type": "barpolar"
           }
          ],
          "carpet": [
           {
            "aaxis": {
             "endlinecolor": "#2a3f5f",
             "gridcolor": "white",
             "linecolor": "white",
             "minorgridcolor": "white",
             "startlinecolor": "#2a3f5f"
            },
            "baxis": {
             "endlinecolor": "#2a3f5f",
             "gridcolor": "white",
             "linecolor": "white",
             "minorgridcolor": "white",
             "startlinecolor": "#2a3f5f"
            },
            "type": "carpet"
           }
          ],
          "choropleth": [
           {
            "colorbar": {
             "outlinewidth": 0,
             "ticks": ""
            },
            "type": "choropleth"
           }
          ],
          "contour": [
           {
            "colorbar": {
             "outlinewidth": 0,
             "ticks": ""
            },
            "colorscale": [
             [
              0,
              "#0d0887"
             ],
             [
              0.1111111111111111,
              "#46039f"
             ],
             [
              0.2222222222222222,
              "#7201a8"
             ],
             [
              0.3333333333333333,
              "#9c179e"
             ],
             [
              0.4444444444444444,
              "#bd3786"
             ],
             [
              0.5555555555555556,
              "#d8576b"
             ],
             [
              0.6666666666666666,
              "#ed7953"
             ],
             [
              0.7777777777777778,
              "#fb9f3a"
             ],
             [
              0.8888888888888888,
              "#fdca26"
             ],
             [
              1,
              "#f0f921"
             ]
            ],
            "type": "contour"
           }
          ],
          "contourcarpet": [
           {
            "colorbar": {
             "outlinewidth": 0,
             "ticks": ""
            },
            "type": "contourcarpet"
           }
          ],
          "heatmap": [
           {
            "colorbar": {
             "outlinewidth": 0,
             "ticks": ""
            },
            "colorscale": [
             [
              0,
              "#0d0887"
             ],
             [
              0.1111111111111111,
              "#46039f"
             ],
             [
              0.2222222222222222,
              "#7201a8"
             ],
             [
              0.3333333333333333,
              "#9c179e"
             ],
             [
              0.4444444444444444,
              "#bd3786"
             ],
             [
              0.5555555555555556,
              "#d8576b"
             ],
             [
              0.6666666666666666,
              "#ed7953"
             ],
             [
              0.7777777777777778,
              "#fb9f3a"
             ],
             [
              0.8888888888888888,
              "#fdca26"
             ],
             [
              1,
              "#f0f921"
             ]
            ],
            "type": "heatmap"
           }
          ],
          "heatmapgl": [
           {
            "colorbar": {
             "outlinewidth": 0,
             "ticks": ""
            },
            "colorscale": [
             [
              0,
              "#0d0887"
             ],
             [
              0.1111111111111111,
              "#46039f"
             ],
             [
              0.2222222222222222,
              "#7201a8"
             ],
             [
              0.3333333333333333,
              "#9c179e"
             ],
             [
              0.4444444444444444,
              "#bd3786"
             ],
             [
              0.5555555555555556,
              "#d8576b"
             ],
             [
              0.6666666666666666,
              "#ed7953"
             ],
             [
              0.7777777777777778,
              "#fb9f3a"
             ],
             [
              0.8888888888888888,
              "#fdca26"
             ],
             [
              1,
              "#f0f921"
             ]
            ],
            "type": "heatmapgl"
           }
          ],
          "histogram": [
           {
            "marker": {
             "pattern": {
              "fillmode": "overlay",
              "size": 10,
              "solidity": 0.2
             }
            },
            "type": "histogram"
           }
          ],
          "histogram2d": [
           {
            "colorbar": {
             "outlinewidth": 0,
             "ticks": ""
            },
            "colorscale": [
             [
              0,
              "#0d0887"
             ],
             [
              0.1111111111111111,
              "#46039f"
             ],
             [
              0.2222222222222222,
              "#7201a8"
             ],
             [
              0.3333333333333333,
              "#9c179e"
             ],
             [
              0.4444444444444444,
              "#bd3786"
             ],
             [
              0.5555555555555556,
              "#d8576b"
             ],
             [
              0.6666666666666666,
              "#ed7953"
             ],
             [
              0.7777777777777778,
              "#fb9f3a"
             ],
             [
              0.8888888888888888,
              "#fdca26"
             ],
             [
              1,
              "#f0f921"
             ]
            ],
            "type": "histogram2d"
           }
          ],
          "histogram2dcontour": [
           {
            "colorbar": {
             "outlinewidth": 0,
             "ticks": ""
            },
            "colorscale": [
             [
              0,
              "#0d0887"
             ],
             [
              0.1111111111111111,
              "#46039f"
             ],
             [
              0.2222222222222222,
              "#7201a8"
             ],
             [
              0.3333333333333333,
              "#9c179e"
             ],
             [
              0.4444444444444444,
              "#bd3786"
             ],
             [
              0.5555555555555556,
              "#d8576b"
             ],
             [
              0.6666666666666666,
              "#ed7953"
             ],
             [
              0.7777777777777778,
              "#fb9f3a"
             ],
             [
              0.8888888888888888,
              "#fdca26"
             ],
             [
              1,
              "#f0f921"
             ]
            ],
            "type": "histogram2dcontour"
           }
          ],
          "mesh3d": [
           {
            "colorbar": {
             "outlinewidth": 0,
             "ticks": ""
            },
            "type": "mesh3d"
           }
          ],
          "parcoords": [
           {
            "line": {
             "colorbar": {
              "outlinewidth": 0,
              "ticks": ""
             }
            },
            "type": "parcoords"
           }
          ],
          "pie": [
           {
            "automargin": true,
            "type": "pie"
           }
          ],
          "scatter": [
           {
            "fillpattern": {
             "fillmode": "overlay",
             "size": 10,
             "solidity": 0.2
            },
            "type": "scatter"
           }
          ],
          "scatter3d": [
           {
            "line": {
             "colorbar": {
              "outlinewidth": 0,
              "ticks": ""
             }
            },
            "marker": {
             "colorbar": {
              "outlinewidth": 0,
              "ticks": ""
             }
            },
            "type": "scatter3d"
           }
          ],
          "scattercarpet": [
           {
            "marker": {
             "colorbar": {
              "outlinewidth": 0,
              "ticks": ""
             }
            },
            "type": "scattercarpet"
           }
          ],
          "scattergeo": [
           {
            "marker": {
             "colorbar": {
              "outlinewidth": 0,
              "ticks": ""
             }
            },
            "type": "scattergeo"
           }
          ],
          "scattergl": [
           {
            "marker": {
             "colorbar": {
              "outlinewidth": 0,
              "ticks": ""
             }
            },
            "type": "scattergl"
           }
          ],
          "scattermapbox": [
           {
            "marker": {
             "colorbar": {
              "outlinewidth": 0,
              "ticks": ""
             }
            },
            "type": "scattermapbox"
           }
          ],
          "scatterpolar": [
           {
            "marker": {
             "colorbar": {
              "outlinewidth": 0,
              "ticks": ""
             }
            },
            "type": "scatterpolar"
           }
          ],
          "scatterpolargl": [
           {
            "marker": {
             "colorbar": {
              "outlinewidth": 0,
              "ticks": ""
             }
            },
            "type": "scatterpolargl"
           }
          ],
          "scatterternary": [
           {
            "marker": {
             "colorbar": {
              "outlinewidth": 0,
              "ticks": ""
             }
            },
            "type": "scatterternary"
           }
          ],
          "surface": [
           {
            "colorbar": {
             "outlinewidth": 0,
             "ticks": ""
            },
            "colorscale": [
             [
              0,
              "#0d0887"
             ],
             [
              0.1111111111111111,
              "#46039f"
             ],
             [
              0.2222222222222222,
              "#7201a8"
             ],
             [
              0.3333333333333333,
              "#9c179e"
             ],
             [
              0.4444444444444444,
              "#bd3786"
             ],
             [
              0.5555555555555556,
              "#d8576b"
             ],
             [
              0.6666666666666666,
              "#ed7953"
             ],
             [
              0.7777777777777778,
              "#fb9f3a"
             ],
             [
              0.8888888888888888,
              "#fdca26"
             ],
             [
              1,
              "#f0f921"
             ]
            ],
            "type": "surface"
           }
          ],
          "table": [
           {
            "cells": {
             "fill": {
              "color": "#EBF0F8"
             },
             "line": {
              "color": "white"
             }
            },
            "header": {
             "fill": {
              "color": "#C8D4E3"
             },
             "line": {
              "color": "white"
             }
            },
            "type": "table"
           }
          ]
         },
         "layout": {
          "annotationdefaults": {
           "arrowcolor": "#2a3f5f",
           "arrowhead": 0,
           "arrowwidth": 1
          },
          "autotypenumbers": "strict",
          "coloraxis": {
           "colorbar": {
            "outlinewidth": 0,
            "ticks": ""
           }
          },
          "colorscale": {
           "diverging": [
            [
             0,
             "#8e0152"
            ],
            [
             0.1,
             "#c51b7d"
            ],
            [
             0.2,
             "#de77ae"
            ],
            [
             0.3,
             "#f1b6da"
            ],
            [
             0.4,
             "#fde0ef"
            ],
            [
             0.5,
             "#f7f7f7"
            ],
            [
             0.6,
             "#e6f5d0"
            ],
            [
             0.7,
             "#b8e186"
            ],
            [
             0.8,
             "#7fbc41"
            ],
            [
             0.9,
             "#4d9221"
            ],
            [
             1,
             "#276419"
            ]
           ],
           "sequential": [
            [
             0,
             "#0d0887"
            ],
            [
             0.1111111111111111,
             "#46039f"
            ],
            [
             0.2222222222222222,
             "#7201a8"
            ],
            [
             0.3333333333333333,
             "#9c179e"
            ],
            [
             0.4444444444444444,
             "#bd3786"
            ],
            [
             0.5555555555555556,
             "#d8576b"
            ],
            [
             0.6666666666666666,
             "#ed7953"
            ],
            [
             0.7777777777777778,
             "#fb9f3a"
            ],
            [
             0.8888888888888888,
             "#fdca26"
            ],
            [
             1,
             "#f0f921"
            ]
           ],
           "sequentialminus": [
            [
             0,
             "#0d0887"
            ],
            [
             0.1111111111111111,
             "#46039f"
            ],
            [
             0.2222222222222222,
             "#7201a8"
            ],
            [
             0.3333333333333333,
             "#9c179e"
            ],
            [
             0.4444444444444444,
             "#bd3786"
            ],
            [
             0.5555555555555556,
             "#d8576b"
            ],
            [
             0.6666666666666666,
             "#ed7953"
            ],
            [
             0.7777777777777778,
             "#fb9f3a"
            ],
            [
             0.8888888888888888,
             "#fdca26"
            ],
            [
             1,
             "#f0f921"
            ]
           ]
          },
          "colorway": [
           "#636efa",
           "#EF553B",
           "#00cc96",
           "#ab63fa",
           "#FFA15A",
           "#19d3f3",
           "#FF6692",
           "#B6E880",
           "#FF97FF",
           "#FECB52"
          ],
          "font": {
           "color": "#2a3f5f"
          },
          "geo": {
           "bgcolor": "white",
           "lakecolor": "white",
           "landcolor": "#E5ECF6",
           "showlakes": true,
           "showland": true,
           "subunitcolor": "white"
          },
          "hoverlabel": {
           "align": "left"
          },
          "hovermode": "closest",
          "mapbox": {
           "style": "light"
          },
          "paper_bgcolor": "white",
          "plot_bgcolor": "#E5ECF6",
          "polar": {
           "angularaxis": {
            "gridcolor": "white",
            "linecolor": "white",
            "ticks": ""
           },
           "bgcolor": "#E5ECF6",
           "radialaxis": {
            "gridcolor": "white",
            "linecolor": "white",
            "ticks": ""
           }
          },
          "scene": {
           "xaxis": {
            "backgroundcolor": "#E5ECF6",
            "gridcolor": "white",
            "gridwidth": 2,
            "linecolor": "white",
            "showbackground": true,
            "ticks": "",
            "zerolinecolor": "white"
           },
           "yaxis": {
            "backgroundcolor": "#E5ECF6",
            "gridcolor": "white",
            "gridwidth": 2,
            "linecolor": "white",
            "showbackground": true,
            "ticks": "",
            "zerolinecolor": "white"
           },
           "zaxis": {
            "backgroundcolor": "#E5ECF6",
            "gridcolor": "white",
            "gridwidth": 2,
            "linecolor": "white",
            "showbackground": true,
            "ticks": "",
            "zerolinecolor": "white"
           }
          },
          "shapedefaults": {
           "line": {
            "color": "#2a3f5f"
           }
          },
          "ternary": {
           "aaxis": {
            "gridcolor": "white",
            "linecolor": "white",
            "ticks": ""
           },
           "baxis": {
            "gridcolor": "white",
            "linecolor": "white",
            "ticks": ""
           },
           "bgcolor": "#E5ECF6",
           "caxis": {
            "gridcolor": "white",
            "linecolor": "white",
            "ticks": ""
           }
          },
          "title": {
           "x": 0.05
          },
          "xaxis": {
           "automargin": true,
           "gridcolor": "white",
           "linecolor": "white",
           "ticks": "",
           "title": {
            "standoff": 15
           },
           "zerolinecolor": "white",
           "zerolinewidth": 2
          },
          "yaxis": {
           "automargin": true,
           "gridcolor": "white",
           "linecolor": "white",
           "ticks": "",
           "title": {
            "standoff": 15
           },
           "zerolinecolor": "white",
           "zerolinewidth": 2
          }
         }
        }
       }
      },
      "text/html": [
       "<div>                            <div id=\"9a395f7e-5a1a-4e8b-8e4d-fc475216a4ed\" class=\"plotly-graph-div\" style=\"height:525px; width:100%;\"></div>            <script type=\"text/javascript\">                require([\"plotly\"], function(Plotly) {                    window.PLOTLYENV=window.PLOTLYENV || {};                                    if (document.getElementById(\"9a395f7e-5a1a-4e8b-8e4d-fc475216a4ed\")) {                    Plotly.newPlot(                        \"9a395f7e-5a1a-4e8b-8e4d-fc475216a4ed\",                        [{\"domain\":{\"x\":[0.0,1.0],\"y\":[0.0,1.0]},\"hovertemplate\":\"label=%{label}<br>value=%{value}<extra></extra>\",\"labels\":[\"FEMALE\",\"MALE\"],\"legendgroup\":\"\",\"name\":\"\",\"showlegend\":true,\"values\":[126,121],\"type\":\"pie\"}],                        {\"template\":{\"data\":{\"histogram2dcontour\":[{\"type\":\"histogram2dcontour\",\"colorbar\":{\"outlinewidth\":0,\"ticks\":\"\"},\"colorscale\":[[0.0,\"#0d0887\"],[0.1111111111111111,\"#46039f\"],[0.2222222222222222,\"#7201a8\"],[0.3333333333333333,\"#9c179e\"],[0.4444444444444444,\"#bd3786\"],[0.5555555555555556,\"#d8576b\"],[0.6666666666666666,\"#ed7953\"],[0.7777777777777778,\"#fb9f3a\"],[0.8888888888888888,\"#fdca26\"],[1.0,\"#f0f921\"]]}],\"choropleth\":[{\"type\":\"choropleth\",\"colorbar\":{\"outlinewidth\":0,\"ticks\":\"\"}}],\"histogram2d\":[{\"type\":\"histogram2d\",\"colorbar\":{\"outlinewidth\":0,\"ticks\":\"\"},\"colorscale\":[[0.0,\"#0d0887\"],[0.1111111111111111,\"#46039f\"],[0.2222222222222222,\"#7201a8\"],[0.3333333333333333,\"#9c179e\"],[0.4444444444444444,\"#bd3786\"],[0.5555555555555556,\"#d8576b\"],[0.6666666666666666,\"#ed7953\"],[0.7777777777777778,\"#fb9f3a\"],[0.8888888888888888,\"#fdca26\"],[1.0,\"#f0f921\"]]}],\"heatmap\":[{\"type\":\"heatmap\",\"colorbar\":{\"outlinewidth\":0,\"ticks\":\"\"},\"colorscale\":[[0.0,\"#0d0887\"],[0.1111111111111111,\"#46039f\"],[0.2222222222222222,\"#7201a8\"],[0.3333333333333333,\"#9c179e\"],[0.4444444444444444,\"#bd3786\"],[0.5555555555555556,\"#d8576b\"],[0.6666666666666666,\"#ed7953\"],[0.7777777777777778,\"#fb9f3a\"],[0.8888888888888888,\"#fdca26\"],[1.0,\"#f0f921\"]]}],\"heatmapgl\":[{\"type\":\"heatmapgl\",\"colorbar\":{\"outlinewidth\":0,\"ticks\":\"\"},\"colorscale\":[[0.0,\"#0d0887\"],[0.1111111111111111,\"#46039f\"],[0.2222222222222222,\"#7201a8\"],[0.3333333333333333,\"#9c179e\"],[0.4444444444444444,\"#bd3786\"],[0.5555555555555556,\"#d8576b\"],[0.6666666666666666,\"#ed7953\"],[0.7777777777777778,\"#fb9f3a\"],[0.8888888888888888,\"#fdca26\"],[1.0,\"#f0f921\"]]}],\"contourcarpet\":[{\"type\":\"contourcarpet\",\"colorbar\":{\"outlinewidth\":0,\"ticks\":\"\"}}],\"contour\":[{\"type\":\"contour\",\"colorbar\":{\"outlinewidth\":0,\"ticks\":\"\"},\"colorscale\":[[0.0,\"#0d0887\"],[0.1111111111111111,\"#46039f\"],[0.2222222222222222,\"#7201a8\"],[0.3333333333333333,\"#9c179e\"],[0.4444444444444444,\"#bd3786\"],[0.5555555555555556,\"#d8576b\"],[0.6666666666666666,\"#ed7953\"],[0.7777777777777778,\"#fb9f3a\"],[0.8888888888888888,\"#fdca26\"],[1.0,\"#f0f921\"]]}],\"surface\":[{\"type\":\"surface\",\"colorbar\":{\"outlinewidth\":0,\"ticks\":\"\"},\"colorscale\":[[0.0,\"#0d0887\"],[0.1111111111111111,\"#46039f\"],[0.2222222222222222,\"#7201a8\"],[0.3333333333333333,\"#9c179e\"],[0.4444444444444444,\"#bd3786\"],[0.5555555555555556,\"#d8576b\"],[0.6666666666666666,\"#ed7953\"],[0.7777777777777778,\"#fb9f3a\"],[0.8888888888888888,\"#fdca26\"],[1.0,\"#f0f921\"]]}],\"mesh3d\":[{\"type\":\"mesh3d\",\"colorbar\":{\"outlinewidth\":0,\"ticks\":\"\"}}],\"scatter\":[{\"fillpattern\":{\"fillmode\":\"overlay\",\"size\":10,\"solidity\":0.2},\"type\":\"scatter\"}],\"parcoords\":[{\"type\":\"parcoords\",\"line\":{\"colorbar\":{\"outlinewidth\":0,\"ticks\":\"\"}}}],\"scatterpolargl\":[{\"type\":\"scatterpolargl\",\"marker\":{\"colorbar\":{\"outlinewidth\":0,\"ticks\":\"\"}}}],\"bar\":[{\"error_x\":{\"color\":\"#2a3f5f\"},\"error_y\":{\"color\":\"#2a3f5f\"},\"marker\":{\"line\":{\"color\":\"#E5ECF6\",\"width\":0.5},\"pattern\":{\"fillmode\":\"overlay\",\"size\":10,\"solidity\":0.2}},\"type\":\"bar\"}],\"scattergeo\":[{\"type\":\"scattergeo\",\"marker\":{\"colorbar\":{\"outlinewidth\":0,\"ticks\":\"\"}}}],\"scatterpolar\":[{\"type\":\"scatterpolar\",\"marker\":{\"colorbar\":{\"outlinewidth\":0,\"ticks\":\"\"}}}],\"histogram\":[{\"marker\":{\"pattern\":{\"fillmode\":\"overlay\",\"size\":10,\"solidity\":0.2}},\"type\":\"histogram\"}],\"scattergl\":[{\"type\":\"scattergl\",\"marker\":{\"colorbar\":{\"outlinewidth\":0,\"ticks\":\"\"}}}],\"scatter3d\":[{\"type\":\"scatter3d\",\"line\":{\"colorbar\":{\"outlinewidth\":0,\"ticks\":\"\"}},\"marker\":{\"colorbar\":{\"outlinewidth\":0,\"ticks\":\"\"}}}],\"scattermapbox\":[{\"type\":\"scattermapbox\",\"marker\":{\"colorbar\":{\"outlinewidth\":0,\"ticks\":\"\"}}}],\"scatterternary\":[{\"type\":\"scatterternary\",\"marker\":{\"colorbar\":{\"outlinewidth\":0,\"ticks\":\"\"}}}],\"scattercarpet\":[{\"type\":\"scattercarpet\",\"marker\":{\"colorbar\":{\"outlinewidth\":0,\"ticks\":\"\"}}}],\"carpet\":[{\"aaxis\":{\"endlinecolor\":\"#2a3f5f\",\"gridcolor\":\"white\",\"linecolor\":\"white\",\"minorgridcolor\":\"white\",\"startlinecolor\":\"#2a3f5f\"},\"baxis\":{\"endlinecolor\":\"#2a3f5f\",\"gridcolor\":\"white\",\"linecolor\":\"white\",\"minorgridcolor\":\"white\",\"startlinecolor\":\"#2a3f5f\"},\"type\":\"carpet\"}],\"table\":[{\"cells\":{\"fill\":{\"color\":\"#EBF0F8\"},\"line\":{\"color\":\"white\"}},\"header\":{\"fill\":{\"color\":\"#C8D4E3\"},\"line\":{\"color\":\"white\"}},\"type\":\"table\"}],\"barpolar\":[{\"marker\":{\"line\":{\"color\":\"#E5ECF6\",\"width\":0.5},\"pattern\":{\"fillmode\":\"overlay\",\"size\":10,\"solidity\":0.2}},\"type\":\"barpolar\"}],\"pie\":[{\"automargin\":true,\"type\":\"pie\"}]},\"layout\":{\"autotypenumbers\":\"strict\",\"colorway\":[\"#636efa\",\"#EF553B\",\"#00cc96\",\"#ab63fa\",\"#FFA15A\",\"#19d3f3\",\"#FF6692\",\"#B6E880\",\"#FF97FF\",\"#FECB52\"],\"font\":{\"color\":\"#2a3f5f\"},\"hovermode\":\"closest\",\"hoverlabel\":{\"align\":\"left\"},\"paper_bgcolor\":\"white\",\"plot_bgcolor\":\"#E5ECF6\",\"polar\":{\"bgcolor\":\"#E5ECF6\",\"angularaxis\":{\"gridcolor\":\"white\",\"linecolor\":\"white\",\"ticks\":\"\"},\"radialaxis\":{\"gridcolor\":\"white\",\"linecolor\":\"white\",\"ticks\":\"\"}},\"ternary\":{\"bgcolor\":\"#E5ECF6\",\"aaxis\":{\"gridcolor\":\"white\",\"linecolor\":\"white\",\"ticks\":\"\"},\"baxis\":{\"gridcolor\":\"white\",\"linecolor\":\"white\",\"ticks\":\"\"},\"caxis\":{\"gridcolor\":\"white\",\"linecolor\":\"white\",\"ticks\":\"\"}},\"coloraxis\":{\"colorbar\":{\"outlinewidth\":0,\"ticks\":\"\"}},\"colorscale\":{\"sequential\":[[0.0,\"#0d0887\"],[0.1111111111111111,\"#46039f\"],[0.2222222222222222,\"#7201a8\"],[0.3333333333333333,\"#9c179e\"],[0.4444444444444444,\"#bd3786\"],[0.5555555555555556,\"#d8576b\"],[0.6666666666666666,\"#ed7953\"],[0.7777777777777778,\"#fb9f3a\"],[0.8888888888888888,\"#fdca26\"],[1.0,\"#f0f921\"]],\"sequentialminus\":[[0.0,\"#0d0887\"],[0.1111111111111111,\"#46039f\"],[0.2222222222222222,\"#7201a8\"],[0.3333333333333333,\"#9c179e\"],[0.4444444444444444,\"#bd3786\"],[0.5555555555555556,\"#d8576b\"],[0.6666666666666666,\"#ed7953\"],[0.7777777777777778,\"#fb9f3a\"],[0.8888888888888888,\"#fdca26\"],[1.0,\"#f0f921\"]],\"diverging\":[[0,\"#8e0152\"],[0.1,\"#c51b7d\"],[0.2,\"#de77ae\"],[0.3,\"#f1b6da\"],[0.4,\"#fde0ef\"],[0.5,\"#f7f7f7\"],[0.6,\"#e6f5d0\"],[0.7,\"#b8e186\"],[0.8,\"#7fbc41\"],[0.9,\"#4d9221\"],[1,\"#276419\"]]},\"xaxis\":{\"gridcolor\":\"white\",\"linecolor\":\"white\",\"ticks\":\"\",\"title\":{\"standoff\":15},\"zerolinecolor\":\"white\",\"automargin\":true,\"zerolinewidth\":2},\"yaxis\":{\"gridcolor\":\"white\",\"linecolor\":\"white\",\"ticks\":\"\",\"title\":{\"standoff\":15},\"zerolinecolor\":\"white\",\"automargin\":true,\"zerolinewidth\":2},\"scene\":{\"xaxis\":{\"backgroundcolor\":\"#E5ECF6\",\"gridcolor\":\"white\",\"linecolor\":\"white\",\"showbackground\":true,\"ticks\":\"\",\"zerolinecolor\":\"white\",\"gridwidth\":2},\"yaxis\":{\"backgroundcolor\":\"#E5ECF6\",\"gridcolor\":\"white\",\"linecolor\":\"white\",\"showbackground\":true,\"ticks\":\"\",\"zerolinecolor\":\"white\",\"gridwidth\":2},\"zaxis\":{\"backgroundcolor\":\"#E5ECF6\",\"gridcolor\":\"white\",\"linecolor\":\"white\",\"showbackground\":true,\"ticks\":\"\",\"zerolinecolor\":\"white\",\"gridwidth\":2}},\"shapedefaults\":{\"line\":{\"color\":\"#2a3f5f\"}},\"annotationdefaults\":{\"arrowcolor\":\"#2a3f5f\",\"arrowhead\":0,\"arrowwidth\":1},\"geo\":{\"bgcolor\":\"white\",\"landcolor\":\"#E5ECF6\",\"subunitcolor\":\"white\",\"showland\":true,\"showlakes\":true,\"lakecolor\":\"white\"},\"title\":{\"x\":0.05},\"mapbox\":{\"style\":\"light\"}}},\"legend\":{\"tracegroupgap\":0},\"margin\":{\"t\":60}},                        {\"responsive\": true}                    ).then(function(){\n",
       "                            \n",
       "var gd = document.getElementById('9a395f7e-5a1a-4e8b-8e4d-fc475216a4ed');\n",
       "var x = new MutationObserver(function (mutations, observer) {{\n",
       "        var display = window.getComputedStyle(gd).display;\n",
       "        if (!display || display === 'none') {{\n",
       "            console.log([gd, 'removed!']);\n",
       "            Plotly.purge(gd);\n",
       "            observer.disconnect();\n",
       "        }}\n",
       "}});\n",
       "\n",
       "// Listen for the removal of the full notebook cells\n",
       "var notebookContainer = gd.closest('#notebook-container');\n",
       "if (notebookContainer) {{\n",
       "    x.observe(notebookContainer, {childList: true});\n",
       "}}\n",
       "\n",
       "// Listen for the clearing of the current output cell\n",
       "var outputEl = gd.closest('.output');\n",
       "if (outputEl) {{\n",
       "    x.observe(outputEl, {childList: true});\n",
       "}}\n",
       "\n",
       "                        })                };                });            </script>        </div>"
      ]
     },
     "metadata": {},
     "output_type": "display_data"
    }
   ],
   "source": [
    "px.pie(data_frame=gender,names = label_gender, values = gender_value)"
   ]
  },
  {
   "cell_type": "markdown",
   "id": "718705f6",
   "metadata": {},
   "source": [
    "Observation: frauds by Females are slightly higher as compared to Men."
   ]
  },
  {
   "cell_type": "code",
   "execution_count": null,
   "id": "a0f1f15c",
   "metadata": {},
   "outputs": [
    {
     "data": {
      "text/plain": [
       "Multi-vehicle Collision     419\n",
       "Single Vehicle Collision    403\n",
       "Vehicle Theft                94\n",
       "Parked Car                   84\n",
       "Name: incident_type, dtype: int64"
      ]
     },
     "execution_count": 24,
     "metadata": {},
     "output_type": "execute_result"
    }
   ],
   "source": [
    "incident = data['incident_type'].value_counts()\n",
    "incident"
   ]
  },
  {
   "cell_type": "code",
   "execution_count": null,
   "id": "f57e9dfb",
   "metadata": {},
   "outputs": [
    {
     "data": {
      "text/plain": [
       "Index(['Multi-vehicle Collision', 'Single Vehicle Collision', 'Vehicle Theft',\n",
       "       'Parked Car'],\n",
       "      dtype='object')"
      ]
     },
     "execution_count": 25,
     "metadata": {},
     "output_type": "execute_result"
    }
   ],
   "source": [
    "label_incident = incident.index\n",
    "label_incident"
   ]
  },
  {
   "cell_type": "code",
   "execution_count": null,
   "id": "8d567503",
   "metadata": {},
   "outputs": [
    {
     "data": {
      "text/plain": [
       "array([419, 403,  94,  84], dtype=int64)"
      ]
     },
     "execution_count": 26,
     "metadata": {},
     "output_type": "execute_result"
    }
   ],
   "source": [
    "incident_values = incident.values\n",
    "incident_values"
   ]
  },
  {
   "cell_type": "code",
   "execution_count": null,
   "id": "b3380bc1",
   "metadata": {},
   "outputs": [
    {
     "data": {
      "application/vnd.plotly.v1+json": {
       "config": {
        "plotlyServerURL": "https://plot.ly"
       },
       "data": [
        {
         "domain": {
          "x": [
           0,
           1
          ],
          "y": [
           0,
           1
          ]
         },
         "hovertemplate": "index=%{label}<br>value=%{value}<extra></extra>",
         "labels": [
          "Multi-vehicle Collision",
          "Single Vehicle Collision",
          "Vehicle Theft",
          "Parked Car"
         ],
         "legendgroup": "",
         "name": "",
         "showlegend": true,
         "type": "pie",
         "values": [
          419,
          403,
          94,
          84
         ]
        }
       ],
       "layout": {
        "legend": {
         "tracegroupgap": 0
        },
        "margin": {
         "t": 60
        },
        "template": {
         "data": {
          "bar": [
           {
            "error_x": {
             "color": "#2a3f5f"
            },
            "error_y": {
             "color": "#2a3f5f"
            },
            "marker": {
             "line": {
              "color": "#E5ECF6",
              "width": 0.5
             },
             "pattern": {
              "fillmode": "overlay",
              "size": 10,
              "solidity": 0.2
             }
            },
            "type": "bar"
           }
          ],
          "barpolar": [
           {
            "marker": {
             "line": {
              "color": "#E5ECF6",
              "width": 0.5
             },
             "pattern": {
              "fillmode": "overlay",
              "size": 10,
              "solidity": 0.2
             }
            },
            "type": "barpolar"
           }
          ],
          "carpet": [
           {
            "aaxis": {
             "endlinecolor": "#2a3f5f",
             "gridcolor": "white",
             "linecolor": "white",
             "minorgridcolor": "white",
             "startlinecolor": "#2a3f5f"
            },
            "baxis": {
             "endlinecolor": "#2a3f5f",
             "gridcolor": "white",
             "linecolor": "white",
             "minorgridcolor": "white",
             "startlinecolor": "#2a3f5f"
            },
            "type": "carpet"
           }
          ],
          "choropleth": [
           {
            "colorbar": {
             "outlinewidth": 0,
             "ticks": ""
            },
            "type": "choropleth"
           }
          ],
          "contour": [
           {
            "colorbar": {
             "outlinewidth": 0,
             "ticks": ""
            },
            "colorscale": [
             [
              0,
              "#0d0887"
             ],
             [
              0.1111111111111111,
              "#46039f"
             ],
             [
              0.2222222222222222,
              "#7201a8"
             ],
             [
              0.3333333333333333,
              "#9c179e"
             ],
             [
              0.4444444444444444,
              "#bd3786"
             ],
             [
              0.5555555555555556,
              "#d8576b"
             ],
             [
              0.6666666666666666,
              "#ed7953"
             ],
             [
              0.7777777777777778,
              "#fb9f3a"
             ],
             [
              0.8888888888888888,
              "#fdca26"
             ],
             [
              1,
              "#f0f921"
             ]
            ],
            "type": "contour"
           }
          ],
          "contourcarpet": [
           {
            "colorbar": {
             "outlinewidth": 0,
             "ticks": ""
            },
            "type": "contourcarpet"
           }
          ],
          "heatmap": [
           {
            "colorbar": {
             "outlinewidth": 0,
             "ticks": ""
            },
            "colorscale": [
             [
              0,
              "#0d0887"
             ],
             [
              0.1111111111111111,
              "#46039f"
             ],
             [
              0.2222222222222222,
              "#7201a8"
             ],
             [
              0.3333333333333333,
              "#9c179e"
             ],
             [
              0.4444444444444444,
              "#bd3786"
             ],
             [
              0.5555555555555556,
              "#d8576b"
             ],
             [
              0.6666666666666666,
              "#ed7953"
             ],
             [
              0.7777777777777778,
              "#fb9f3a"
             ],
             [
              0.8888888888888888,
              "#fdca26"
             ],
             [
              1,
              "#f0f921"
             ]
            ],
            "type": "heatmap"
           }
          ],
          "heatmapgl": [
           {
            "colorbar": {
             "outlinewidth": 0,
             "ticks": ""
            },
            "colorscale": [
             [
              0,
              "#0d0887"
             ],
             [
              0.1111111111111111,
              "#46039f"
             ],
             [
              0.2222222222222222,
              "#7201a8"
             ],
             [
              0.3333333333333333,
              "#9c179e"
             ],
             [
              0.4444444444444444,
              "#bd3786"
             ],
             [
              0.5555555555555556,
              "#d8576b"
             ],
             [
              0.6666666666666666,
              "#ed7953"
             ],
             [
              0.7777777777777778,
              "#fb9f3a"
             ],
             [
              0.8888888888888888,
              "#fdca26"
             ],
             [
              1,
              "#f0f921"
             ]
            ],
            "type": "heatmapgl"
           }
          ],
          "histogram": [
           {
            "marker": {
             "pattern": {
              "fillmode": "overlay",
              "size": 10,
              "solidity": 0.2
             }
            },
            "type": "histogram"
           }
          ],
          "histogram2d": [
           {
            "colorbar": {
             "outlinewidth": 0,
             "ticks": ""
            },
            "colorscale": [
             [
              0,
              "#0d0887"
             ],
             [
              0.1111111111111111,
              "#46039f"
             ],
             [
              0.2222222222222222,
              "#7201a8"
             ],
             [
              0.3333333333333333,
              "#9c179e"
             ],
             [
              0.4444444444444444,
              "#bd3786"
             ],
             [
              0.5555555555555556,
              "#d8576b"
             ],
             [
              0.6666666666666666,
              "#ed7953"
             ],
             [
              0.7777777777777778,
              "#fb9f3a"
             ],
             [
              0.8888888888888888,
              "#fdca26"
             ],
             [
              1,
              "#f0f921"
             ]
            ],
            "type": "histogram2d"
           }
          ],
          "histogram2dcontour": [
           {
            "colorbar": {
             "outlinewidth": 0,
             "ticks": ""
            },
            "colorscale": [
             [
              0,
              "#0d0887"
             ],
             [
              0.1111111111111111,
              "#46039f"
             ],
             [
              0.2222222222222222,
              "#7201a8"
             ],
             [
              0.3333333333333333,
              "#9c179e"
             ],
             [
              0.4444444444444444,
              "#bd3786"
             ],
             [
              0.5555555555555556,
              "#d8576b"
             ],
             [
              0.6666666666666666,
              "#ed7953"
             ],
             [
              0.7777777777777778,
              "#fb9f3a"
             ],
             [
              0.8888888888888888,
              "#fdca26"
             ],
             [
              1,
              "#f0f921"
             ]
            ],
            "type": "histogram2dcontour"
           }
          ],
          "mesh3d": [
           {
            "colorbar": {
             "outlinewidth": 0,
             "ticks": ""
            },
            "type": "mesh3d"
           }
          ],
          "parcoords": [
           {
            "line": {
             "colorbar": {
              "outlinewidth": 0,
              "ticks": ""
             }
            },
            "type": "parcoords"
           }
          ],
          "pie": [
           {
            "automargin": true,
            "type": "pie"
           }
          ],
          "scatter": [
           {
            "fillpattern": {
             "fillmode": "overlay",
             "size": 10,
             "solidity": 0.2
            },
            "type": "scatter"
           }
          ],
          "scatter3d": [
           {
            "line": {
             "colorbar": {
              "outlinewidth": 0,
              "ticks": ""
             }
            },
            "marker": {
             "colorbar": {
              "outlinewidth": 0,
              "ticks": ""
             }
            },
            "type": "scatter3d"
           }
          ],
          "scattercarpet": [
           {
            "marker": {
             "colorbar": {
              "outlinewidth": 0,
              "ticks": ""
             }
            },
            "type": "scattercarpet"
           }
          ],
          "scattergeo": [
           {
            "marker": {
             "colorbar": {
              "outlinewidth": 0,
              "ticks": ""
             }
            },
            "type": "scattergeo"
           }
          ],
          "scattergl": [
           {
            "marker": {
             "colorbar": {
              "outlinewidth": 0,
              "ticks": ""
             }
            },
            "type": "scattergl"
           }
          ],
          "scattermapbox": [
           {
            "marker": {
             "colorbar": {
              "outlinewidth": 0,
              "ticks": ""
             }
            },
            "type": "scattermapbox"
           }
          ],
          "scatterpolar": [
           {
            "marker": {
             "colorbar": {
              "outlinewidth": 0,
              "ticks": ""
             }
            },
            "type": "scatterpolar"
           }
          ],
          "scatterpolargl": [
           {
            "marker": {
             "colorbar": {
              "outlinewidth": 0,
              "ticks": ""
             }
            },
            "type": "scatterpolargl"
           }
          ],
          "scatterternary": [
           {
            "marker": {
             "colorbar": {
              "outlinewidth": 0,
              "ticks": ""
             }
            },
            "type": "scatterternary"
           }
          ],
          "surface": [
           {
            "colorbar": {
             "outlinewidth": 0,
             "ticks": ""
            },
            "colorscale": [
             [
              0,
              "#0d0887"
             ],
             [
              0.1111111111111111,
              "#46039f"
             ],
             [
              0.2222222222222222,
              "#7201a8"
             ],
             [
              0.3333333333333333,
              "#9c179e"
             ],
             [
              0.4444444444444444,
              "#bd3786"
             ],
             [
              0.5555555555555556,
              "#d8576b"
             ],
             [
              0.6666666666666666,
              "#ed7953"
             ],
             [
              0.7777777777777778,
              "#fb9f3a"
             ],
             [
              0.8888888888888888,
              "#fdca26"
             ],
             [
              1,
              "#f0f921"
             ]
            ],
            "type": "surface"
           }
          ],
          "table": [
           {
            "cells": {
             "fill": {
              "color": "#EBF0F8"
             },
             "line": {
              "color": "white"
             }
            },
            "header": {
             "fill": {
              "color": "#C8D4E3"
             },
             "line": {
              "color": "white"
             }
            },
            "type": "table"
           }
          ]
         },
         "layout": {
          "annotationdefaults": {
           "arrowcolor": "#2a3f5f",
           "arrowhead": 0,
           "arrowwidth": 1
          },
          "autotypenumbers": "strict",
          "coloraxis": {
           "colorbar": {
            "outlinewidth": 0,
            "ticks": ""
           }
          },
          "colorscale": {
           "diverging": [
            [
             0,
             "#8e0152"
            ],
            [
             0.1,
             "#c51b7d"
            ],
            [
             0.2,
             "#de77ae"
            ],
            [
             0.3,
             "#f1b6da"
            ],
            [
             0.4,
             "#fde0ef"
            ],
            [
             0.5,
             "#f7f7f7"
            ],
            [
             0.6,
             "#e6f5d0"
            ],
            [
             0.7,
             "#b8e186"
            ],
            [
             0.8,
             "#7fbc41"
            ],
            [
             0.9,
             "#4d9221"
            ],
            [
             1,
             "#276419"
            ]
           ],
           "sequential": [
            [
             0,
             "#0d0887"
            ],
            [
             0.1111111111111111,
             "#46039f"
            ],
            [
             0.2222222222222222,
             "#7201a8"
            ],
            [
             0.3333333333333333,
             "#9c179e"
            ],
            [
             0.4444444444444444,
             "#bd3786"
            ],
            [
             0.5555555555555556,
             "#d8576b"
            ],
            [
             0.6666666666666666,
             "#ed7953"
            ],
            [
             0.7777777777777778,
             "#fb9f3a"
            ],
            [
             0.8888888888888888,
             "#fdca26"
            ],
            [
             1,
             "#f0f921"
            ]
           ],
           "sequentialminus": [
            [
             0,
             "#0d0887"
            ],
            [
             0.1111111111111111,
             "#46039f"
            ],
            [
             0.2222222222222222,
             "#7201a8"
            ],
            [
             0.3333333333333333,
             "#9c179e"
            ],
            [
             0.4444444444444444,
             "#bd3786"
            ],
            [
             0.5555555555555556,
             "#d8576b"
            ],
            [
             0.6666666666666666,
             "#ed7953"
            ],
            [
             0.7777777777777778,
             "#fb9f3a"
            ],
            [
             0.8888888888888888,
             "#fdca26"
            ],
            [
             1,
             "#f0f921"
            ]
           ]
          },
          "colorway": [
           "#636efa",
           "#EF553B",
           "#00cc96",
           "#ab63fa",
           "#FFA15A",
           "#19d3f3",
           "#FF6692",
           "#B6E880",
           "#FF97FF",
           "#FECB52"
          ],
          "font": {
           "color": "#2a3f5f"
          },
          "geo": {
           "bgcolor": "white",
           "lakecolor": "white",
           "landcolor": "#E5ECF6",
           "showlakes": true,
           "showland": true,
           "subunitcolor": "white"
          },
          "hoverlabel": {
           "align": "left"
          },
          "hovermode": "closest",
          "mapbox": {
           "style": "light"
          },
          "paper_bgcolor": "white",
          "plot_bgcolor": "#E5ECF6",
          "polar": {
           "angularaxis": {
            "gridcolor": "white",
            "linecolor": "white",
            "ticks": ""
           },
           "bgcolor": "#E5ECF6",
           "radialaxis": {
            "gridcolor": "white",
            "linecolor": "white",
            "ticks": ""
           }
          },
          "scene": {
           "xaxis": {
            "backgroundcolor": "#E5ECF6",
            "gridcolor": "white",
            "gridwidth": 2,
            "linecolor": "white",
            "showbackground": true,
            "ticks": "",
            "zerolinecolor": "white"
           },
           "yaxis": {
            "backgroundcolor": "#E5ECF6",
            "gridcolor": "white",
            "gridwidth": 2,
            "linecolor": "white",
            "showbackground": true,
            "ticks": "",
            "zerolinecolor": "white"
           },
           "zaxis": {
            "backgroundcolor": "#E5ECF6",
            "gridcolor": "white",
            "gridwidth": 2,
            "linecolor": "white",
            "showbackground": true,
            "ticks": "",
            "zerolinecolor": "white"
           }
          },
          "shapedefaults": {
           "line": {
            "color": "#2a3f5f"
           }
          },
          "ternary": {
           "aaxis": {
            "gridcolor": "white",
            "linecolor": "white",
            "ticks": ""
           },
           "baxis": {
            "gridcolor": "white",
            "linecolor": "white",
            "ticks": ""
           },
           "bgcolor": "#E5ECF6",
           "caxis": {
            "gridcolor": "white",
            "linecolor": "white",
            "ticks": ""
           }
          },
          "title": {
           "x": 0.05
          },
          "xaxis": {
           "automargin": true,
           "gridcolor": "white",
           "linecolor": "white",
           "ticks": "",
           "title": {
            "standoff": 15
           },
           "zerolinecolor": "white",
           "zerolinewidth": 2
          },
          "yaxis": {
           "automargin": true,
           "gridcolor": "white",
           "linecolor": "white",
           "ticks": "",
           "title": {
            "standoff": 15
           },
           "zerolinecolor": "white",
           "zerolinewidth": 2
          }
         }
        }
       }
      },
      "text/html": [
       "<div>                            <div id=\"c8bbd91e-8003-4c3b-843b-9ca0d8dc2635\" class=\"plotly-graph-div\" style=\"height:525px; width:100%;\"></div>            <script type=\"text/javascript\">                require([\"plotly\"], function(Plotly) {                    window.PLOTLYENV=window.PLOTLYENV || {};                                    if (document.getElementById(\"c8bbd91e-8003-4c3b-843b-9ca0d8dc2635\")) {                    Plotly.newPlot(                        \"c8bbd91e-8003-4c3b-843b-9ca0d8dc2635\",                        [{\"domain\":{\"x\":[0.0,1.0],\"y\":[0.0,1.0]},\"hovertemplate\":\"index=%{label}<br>value=%{value}<extra></extra>\",\"labels\":[\"Multi-vehicle Collision\",\"Single Vehicle Collision\",\"Vehicle Theft\",\"Parked Car\"],\"legendgroup\":\"\",\"name\":\"\",\"showlegend\":true,\"values\":[419,403,94,84],\"type\":\"pie\"}],                        {\"template\":{\"data\":{\"histogram2dcontour\":[{\"type\":\"histogram2dcontour\",\"colorbar\":{\"outlinewidth\":0,\"ticks\":\"\"},\"colorscale\":[[0.0,\"#0d0887\"],[0.1111111111111111,\"#46039f\"],[0.2222222222222222,\"#7201a8\"],[0.3333333333333333,\"#9c179e\"],[0.4444444444444444,\"#bd3786\"],[0.5555555555555556,\"#d8576b\"],[0.6666666666666666,\"#ed7953\"],[0.7777777777777778,\"#fb9f3a\"],[0.8888888888888888,\"#fdca26\"],[1.0,\"#f0f921\"]]}],\"choropleth\":[{\"type\":\"choropleth\",\"colorbar\":{\"outlinewidth\":0,\"ticks\":\"\"}}],\"histogram2d\":[{\"type\":\"histogram2d\",\"colorbar\":{\"outlinewidth\":0,\"ticks\":\"\"},\"colorscale\":[[0.0,\"#0d0887\"],[0.1111111111111111,\"#46039f\"],[0.2222222222222222,\"#7201a8\"],[0.3333333333333333,\"#9c179e\"],[0.4444444444444444,\"#bd3786\"],[0.5555555555555556,\"#d8576b\"],[0.6666666666666666,\"#ed7953\"],[0.7777777777777778,\"#fb9f3a\"],[0.8888888888888888,\"#fdca26\"],[1.0,\"#f0f921\"]]}],\"heatmap\":[{\"type\":\"heatmap\",\"colorbar\":{\"outlinewidth\":0,\"ticks\":\"\"},\"colorscale\":[[0.0,\"#0d0887\"],[0.1111111111111111,\"#46039f\"],[0.2222222222222222,\"#7201a8\"],[0.3333333333333333,\"#9c179e\"],[0.4444444444444444,\"#bd3786\"],[0.5555555555555556,\"#d8576b\"],[0.6666666666666666,\"#ed7953\"],[0.7777777777777778,\"#fb9f3a\"],[0.8888888888888888,\"#fdca26\"],[1.0,\"#f0f921\"]]}],\"heatmapgl\":[{\"type\":\"heatmapgl\",\"colorbar\":{\"outlinewidth\":0,\"ticks\":\"\"},\"colorscale\":[[0.0,\"#0d0887\"],[0.1111111111111111,\"#46039f\"],[0.2222222222222222,\"#7201a8\"],[0.3333333333333333,\"#9c179e\"],[0.4444444444444444,\"#bd3786\"],[0.5555555555555556,\"#d8576b\"],[0.6666666666666666,\"#ed7953\"],[0.7777777777777778,\"#fb9f3a\"],[0.8888888888888888,\"#fdca26\"],[1.0,\"#f0f921\"]]}],\"contourcarpet\":[{\"type\":\"contourcarpet\",\"colorbar\":{\"outlinewidth\":0,\"ticks\":\"\"}}],\"contour\":[{\"type\":\"contour\",\"colorbar\":{\"outlinewidth\":0,\"ticks\":\"\"},\"colorscale\":[[0.0,\"#0d0887\"],[0.1111111111111111,\"#46039f\"],[0.2222222222222222,\"#7201a8\"],[0.3333333333333333,\"#9c179e\"],[0.4444444444444444,\"#bd3786\"],[0.5555555555555556,\"#d8576b\"],[0.6666666666666666,\"#ed7953\"],[0.7777777777777778,\"#fb9f3a\"],[0.8888888888888888,\"#fdca26\"],[1.0,\"#f0f921\"]]}],\"surface\":[{\"type\":\"surface\",\"colorbar\":{\"outlinewidth\":0,\"ticks\":\"\"},\"colorscale\":[[0.0,\"#0d0887\"],[0.1111111111111111,\"#46039f\"],[0.2222222222222222,\"#7201a8\"],[0.3333333333333333,\"#9c179e\"],[0.4444444444444444,\"#bd3786\"],[0.5555555555555556,\"#d8576b\"],[0.6666666666666666,\"#ed7953\"],[0.7777777777777778,\"#fb9f3a\"],[0.8888888888888888,\"#fdca26\"],[1.0,\"#f0f921\"]]}],\"mesh3d\":[{\"type\":\"mesh3d\",\"colorbar\":{\"outlinewidth\":0,\"ticks\":\"\"}}],\"scatter\":[{\"fillpattern\":{\"fillmode\":\"overlay\",\"size\":10,\"solidity\":0.2},\"type\":\"scatter\"}],\"parcoords\":[{\"type\":\"parcoords\",\"line\":{\"colorbar\":{\"outlinewidth\":0,\"ticks\":\"\"}}}],\"scatterpolargl\":[{\"type\":\"scatterpolargl\",\"marker\":{\"colorbar\":{\"outlinewidth\":0,\"ticks\":\"\"}}}],\"bar\":[{\"error_x\":{\"color\":\"#2a3f5f\"},\"error_y\":{\"color\":\"#2a3f5f\"},\"marker\":{\"line\":{\"color\":\"#E5ECF6\",\"width\":0.5},\"pattern\":{\"fillmode\":\"overlay\",\"size\":10,\"solidity\":0.2}},\"type\":\"bar\"}],\"scattergeo\":[{\"type\":\"scattergeo\",\"marker\":{\"colorbar\":{\"outlinewidth\":0,\"ticks\":\"\"}}}],\"scatterpolar\":[{\"type\":\"scatterpolar\",\"marker\":{\"colorbar\":{\"outlinewidth\":0,\"ticks\":\"\"}}}],\"histogram\":[{\"marker\":{\"pattern\":{\"fillmode\":\"overlay\",\"size\":10,\"solidity\":0.2}},\"type\":\"histogram\"}],\"scattergl\":[{\"type\":\"scattergl\",\"marker\":{\"colorbar\":{\"outlinewidth\":0,\"ticks\":\"\"}}}],\"scatter3d\":[{\"type\":\"scatter3d\",\"line\":{\"colorbar\":{\"outlinewidth\":0,\"ticks\":\"\"}},\"marker\":{\"colorbar\":{\"outlinewidth\":0,\"ticks\":\"\"}}}],\"scattermapbox\":[{\"type\":\"scattermapbox\",\"marker\":{\"colorbar\":{\"outlinewidth\":0,\"ticks\":\"\"}}}],\"scatterternary\":[{\"type\":\"scatterternary\",\"marker\":{\"colorbar\":{\"outlinewidth\":0,\"ticks\":\"\"}}}],\"scattercarpet\":[{\"type\":\"scattercarpet\",\"marker\":{\"colorbar\":{\"outlinewidth\":0,\"ticks\":\"\"}}}],\"carpet\":[{\"aaxis\":{\"endlinecolor\":\"#2a3f5f\",\"gridcolor\":\"white\",\"linecolor\":\"white\",\"minorgridcolor\":\"white\",\"startlinecolor\":\"#2a3f5f\"},\"baxis\":{\"endlinecolor\":\"#2a3f5f\",\"gridcolor\":\"white\",\"linecolor\":\"white\",\"minorgridcolor\":\"white\",\"startlinecolor\":\"#2a3f5f\"},\"type\":\"carpet\"}],\"table\":[{\"cells\":{\"fill\":{\"color\":\"#EBF0F8\"},\"line\":{\"color\":\"white\"}},\"header\":{\"fill\":{\"color\":\"#C8D4E3\"},\"line\":{\"color\":\"white\"}},\"type\":\"table\"}],\"barpolar\":[{\"marker\":{\"line\":{\"color\":\"#E5ECF6\",\"width\":0.5},\"pattern\":{\"fillmode\":\"overlay\",\"size\":10,\"solidity\":0.2}},\"type\":\"barpolar\"}],\"pie\":[{\"automargin\":true,\"type\":\"pie\"}]},\"layout\":{\"autotypenumbers\":\"strict\",\"colorway\":[\"#636efa\",\"#EF553B\",\"#00cc96\",\"#ab63fa\",\"#FFA15A\",\"#19d3f3\",\"#FF6692\",\"#B6E880\",\"#FF97FF\",\"#FECB52\"],\"font\":{\"color\":\"#2a3f5f\"},\"hovermode\":\"closest\",\"hoverlabel\":{\"align\":\"left\"},\"paper_bgcolor\":\"white\",\"plot_bgcolor\":\"#E5ECF6\",\"polar\":{\"bgcolor\":\"#E5ECF6\",\"angularaxis\":{\"gridcolor\":\"white\",\"linecolor\":\"white\",\"ticks\":\"\"},\"radialaxis\":{\"gridcolor\":\"white\",\"linecolor\":\"white\",\"ticks\":\"\"}},\"ternary\":{\"bgcolor\":\"#E5ECF6\",\"aaxis\":{\"gridcolor\":\"white\",\"linecolor\":\"white\",\"ticks\":\"\"},\"baxis\":{\"gridcolor\":\"white\",\"linecolor\":\"white\",\"ticks\":\"\"},\"caxis\":{\"gridcolor\":\"white\",\"linecolor\":\"white\",\"ticks\":\"\"}},\"coloraxis\":{\"colorbar\":{\"outlinewidth\":0,\"ticks\":\"\"}},\"colorscale\":{\"sequential\":[[0.0,\"#0d0887\"],[0.1111111111111111,\"#46039f\"],[0.2222222222222222,\"#7201a8\"],[0.3333333333333333,\"#9c179e\"],[0.4444444444444444,\"#bd3786\"],[0.5555555555555556,\"#d8576b\"],[0.6666666666666666,\"#ed7953\"],[0.7777777777777778,\"#fb9f3a\"],[0.8888888888888888,\"#fdca26\"],[1.0,\"#f0f921\"]],\"sequentialminus\":[[0.0,\"#0d0887\"],[0.1111111111111111,\"#46039f\"],[0.2222222222222222,\"#7201a8\"],[0.3333333333333333,\"#9c179e\"],[0.4444444444444444,\"#bd3786\"],[0.5555555555555556,\"#d8576b\"],[0.6666666666666666,\"#ed7953\"],[0.7777777777777778,\"#fb9f3a\"],[0.8888888888888888,\"#fdca26\"],[1.0,\"#f0f921\"]],\"diverging\":[[0,\"#8e0152\"],[0.1,\"#c51b7d\"],[0.2,\"#de77ae\"],[0.3,\"#f1b6da\"],[0.4,\"#fde0ef\"],[0.5,\"#f7f7f7\"],[0.6,\"#e6f5d0\"],[0.7,\"#b8e186\"],[0.8,\"#7fbc41\"],[0.9,\"#4d9221\"],[1,\"#276419\"]]},\"xaxis\":{\"gridcolor\":\"white\",\"linecolor\":\"white\",\"ticks\":\"\",\"title\":{\"standoff\":15},\"zerolinecolor\":\"white\",\"automargin\":true,\"zerolinewidth\":2},\"yaxis\":{\"gridcolor\":\"white\",\"linecolor\":\"white\",\"ticks\":\"\",\"title\":{\"standoff\":15},\"zerolinecolor\":\"white\",\"automargin\":true,\"zerolinewidth\":2},\"scene\":{\"xaxis\":{\"backgroundcolor\":\"#E5ECF6\",\"gridcolor\":\"white\",\"linecolor\":\"white\",\"showbackground\":true,\"ticks\":\"\",\"zerolinecolor\":\"white\",\"gridwidth\":2},\"yaxis\":{\"backgroundcolor\":\"#E5ECF6\",\"gridcolor\":\"white\",\"linecolor\":\"white\",\"showbackground\":true,\"ticks\":\"\",\"zerolinecolor\":\"white\",\"gridwidth\":2},\"zaxis\":{\"backgroundcolor\":\"#E5ECF6\",\"gridcolor\":\"white\",\"linecolor\":\"white\",\"showbackground\":true,\"ticks\":\"\",\"zerolinecolor\":\"white\",\"gridwidth\":2}},\"shapedefaults\":{\"line\":{\"color\":\"#2a3f5f\"}},\"annotationdefaults\":{\"arrowcolor\":\"#2a3f5f\",\"arrowhead\":0,\"arrowwidth\":1},\"geo\":{\"bgcolor\":\"white\",\"landcolor\":\"#E5ECF6\",\"subunitcolor\":\"white\",\"showland\":true,\"showlakes\":true,\"lakecolor\":\"white\"},\"title\":{\"x\":0.05},\"mapbox\":{\"style\":\"light\"}}},\"legend\":{\"tracegroupgap\":0},\"margin\":{\"t\":60}},                        {\"responsive\": true}                    ).then(function(){\n",
       "                            \n",
       "var gd = document.getElementById('c8bbd91e-8003-4c3b-843b-9ca0d8dc2635');\n",
       "var x = new MutationObserver(function (mutations, observer) {{\n",
       "        var display = window.getComputedStyle(gd).display;\n",
       "        if (!display || display === 'none') {{\n",
       "            console.log([gd, 'removed!']);\n",
       "            Plotly.purge(gd);\n",
       "            observer.disconnect();\n",
       "        }}\n",
       "}});\n",
       "\n",
       "// Listen for the removal of the full notebook cells\n",
       "var notebookContainer = gd.closest('#notebook-container');\n",
       "if (notebookContainer) {{\n",
       "    x.observe(notebookContainer, {childList: true});\n",
       "}}\n",
       "\n",
       "// Listen for the clearing of the current output cell\n",
       "var outputEl = gd.closest('.output');\n",
       "if (outputEl) {{\n",
       "    x.observe(outputEl, {childList: true});\n",
       "}}\n",
       "\n",
       "                        })                };                });            </script>        </div>"
      ]
     },
     "metadata": {},
     "output_type": "display_data"
    }
   ],
   "source": [
    "px.pie(data_frame=incident,names=label_incident,values=incident_values)"
   ]
  },
  {
   "cell_type": "markdown",
   "id": "11c46fcc",
   "metadata": {},
   "source": [
    "Observation: looks like Collision type incident happens most as compare to park and theft."
   ]
  },
  {
   "cell_type": "code",
   "execution_count": null,
   "id": "283e52af",
   "metadata": {},
   "outputs": [
    {
     "data": {
      "application/vnd.plotly.v1+json": {
       "config": {
        "plotlyServerURL": "https://plot.ly"
       },
       "data": [
        {
         "hovertemplate": "insured_sex=MALE<br>total_claim_amount=%{x}<br>policy_annual_premium=%{y}<extra></extra>",
         "legendgroup": "MALE",
         "marker": {
          "color": "#636efa",
          "symbol": "circle"
         },
         "mode": "markers",
         "name": "MALE",
         "orientation": "v",
         "showlegend": true,
         "type": "scatter",
         "x": [
          71610,
          5070,
          6500,
          78650,
          51590,
          42300,
          56520,
          52110,
          77880,
          47160,
          71520,
          98160,
          77880,
          71500,
          9020,
          5720,
          75600,
          67140,
          77110,
          64800,
          53100,
          60170,
          40000,
          97080,
          56400,
          62800,
          81800,
          4300,
          2640,
          78900,
          65790,
          69480,
          44280,
          56300,
          68520,
          59130,
          68530,
          4300,
          59730,
          50800,
          7500,
          6490,
          60940,
          58300,
          5900,
          64890,
          5600,
          93480,
          4320,
          70000,
          81070,
          57720,
          7080,
          47700,
          70400,
          69300,
          36300,
          40320,
          63840,
          84720,
          61500,
          78120,
          52030,
          5170,
          8190,
          70800,
          64000,
          71680,
          48060,
          63570,
          37280,
          72100,
          78240,
          64000,
          6700,
          51740,
          53600,
          44910,
          79600,
          77040,
          4950,
          51100,
          81840,
          54900,
          88660,
          5390,
          50490,
          7040,
          40160,
          55680,
          5300,
          59400,
          5760,
          76700,
          64350,
          19080,
          72000,
          65070,
          8800,
          7080,
          34320,
          81070,
          7200,
          60190,
          61380,
          57060,
          73500,
          33550,
          79750,
          53600,
          76560,
          41130,
          78650,
          3200,
          5900,
          80850,
          53640,
          50500,
          57690,
          59000,
          70600,
          61490,
          53280,
          41490,
          85300,
          71760,
          64080,
          60390,
          59900,
          63910,
          94160,
          51570,
          101010,
          53400,
          77100,
          63720,
          93730,
          87300,
          5670,
          65800,
          77440,
          45700,
          31350,
          68000,
          90600,
          74280,
          63600,
          32800,
          50400,
          88400,
          65780,
          51810,
          55660,
          44640,
          53440,
          44280,
          70290,
          50380,
          57860,
          6240,
          70920,
          39480,
          67650,
          78000,
          65040,
          82800,
          61700,
          4500,
          77800,
          52560,
          62280,
          45500,
          53040,
          50800,
          49950,
          56430,
          49140,
          62460,
          62810,
          51480,
          65520,
          47700,
          73320,
          74900,
          76920,
          59670,
          82830,
          53020,
          43230,
          94560,
          7800,
          5000,
          81120,
          91260,
          64800,
          58200,
          55700,
          58500,
          59940,
          73400,
          41850,
          5900,
          57330,
          81960,
          68750,
          95150,
          7480,
          79800,
          59520,
          84590,
          61650,
          64620,
          90480,
          6490,
          63800,
          58160,
          6300,
          104610,
          69850,
          59670,
          81500,
          50000,
          48290,
          59070,
          65780,
          75400,
          2250,
          69480,
          80280,
          4680,
          39720,
          63580,
          49800,
          57330,
          62920,
          74160,
          80100,
          58800,
          87960,
          47800,
          77000,
          47740,
          79080,
          6820,
          63580,
          4700,
          43280,
          75460,
          69000,
          8640,
          67210,
          42500,
          86400,
          4620,
          77330,
          4950,
          5160,
          42900,
          84100,
          32280,
          84600,
          69700,
          36400,
          67770,
          47400,
          71100,
          69400,
          55000,
          51090,
          64200,
          67320,
          76120,
          68090,
          5100,
          4590,
          70900,
          66780,
          58500,
          43700,
          64080,
          55000,
          71640,
          61740,
          59400,
          54890,
          74030,
          79560,
          4900,
          77770,
          40600,
          45270,
          3200,
          78980,
          6160,
          72840,
          6050,
          53800,
          5490,
          7370,
          41520,
          53460,
          77440,
          68300,
          5060,
          59400,
          68750,
          95000,
          3900,
          59400,
          43600,
          62800,
          59500,
          62880,
          46200,
          58500,
          66240,
          64200,
          4320,
          4200,
          57970,
          4320,
          60480,
          2640,
          6050,
          42700,
          40260,
          50000,
          95900,
          56160,
          63030,
          6600,
          77200,
          47300,
          2640,
          60190,
          51390,
          70200,
          4900,
          50380,
          55400,
          49900,
          74880,
          7150,
          55800,
          5830,
          7110,
          36960,
          1920,
          86130,
          50700,
          51840,
          9100,
          40800,
          84500,
          71610,
          60600,
          81240,
          38640,
          41490,
          87900,
          53400,
          52030,
          82060,
          68200,
          60750,
          57900,
          37800,
          31680,
          60480,
          5060,
          50050,
          59070,
          28440,
          5830,
          46200,
          56160,
          44400,
          92730,
          34800,
          4950,
          48000,
          52200,
          55200,
          74800,
          4100,
          61490,
          7200,
          66660,
          84920,
          69080,
          5600,
          9000,
          51600,
          48870,
          54960,
          52700,
          90860,
          5700,
          94930,
          46800,
          83490,
          49410,
          66200,
          64080,
          48950,
          40810,
          44200,
          61440,
          58560,
          67300,
          36740,
          61320,
          79680,
          6400,
          2640,
          8970,
          6000,
          55200,
          7260,
          69400,
          60000,
          67320,
          64300,
          64400,
          5500,
          65430,
          42680,
          87780,
          3600,
          62640,
          69630,
          76010,
          44220,
          3080,
          74690,
          4620,
          51400,
          53400,
          70830,
          68040,
          60840,
          4620,
          45100,
          83160,
          48000,
          90400,
          6600,
          74140,
          55400,
          49100,
          53280,
          82170,
          61100,
          51900,
          51390,
          76900,
          77000,
          60320,
          46980,
          36700,
          60200,
          6480,
          46980
         ],
         "xaxis": "x",
         "y": [
          1406.91,
          1197.22,
          1583.91,
          1333.35,
          1137.03,
          1315.68,
          1215.36,
          1199.44,
          708.64,
          1187.96,
          972.18,
          1268.79,
          883.31,
          1266.92,
          1322.1,
          848.07,
          954.16,
          1337.28,
          1558.29,
          1415.68,
          1334.15,
          1262.08,
          1451.62,
          1737.66,
          1081.08,
          1273.7,
          1326.62,
          1530.52,
          1393.57,
          1276.57,
          1470.06,
          795.23,
          1168.2,
          993.51,
          1848.81,
          1641.73,
          1061.33,
          1279.08,
          1307.11,
          1340.43,
          1234.2,
          1318.06,
          769.95,
          1514.72,
          1322.78,
          1352.83,
          969.5,
          1495.1,
          1141.62,
          1298.91,
          1222.75,
          1059.52,
          1124.38,
          1110.37,
          1103.58,
          1167.3,
          1302.4,
          1588.55,
          1352.31,
          1397.67,
          823.17,
          1624.82,
          1221.22,
          968.74,
          1220.71,
          1238.62,
          1398.51,
          1384.51,
          1046.71,
          1158.03,
          1275.39,
          1402.75,
          1197.71,
          1362.29,
          1241.97,
          1124.6,
          1079.92,
          1447.78,
          897.89,
          1706.79,
          1046.58,
          1712.68,
          1382.88,
          1141.35,
          1054.83,
          1440.68,
          1086.21,
          1215.85,
          1191.19,
          1594.45,
          1463.07,
          1411.43,
          1153.35,
          1722.95,
          1011.92,
          1042.26,
          1301.72,
          1451.54,
          767.14,
          1048.46,
          1538.26,
          1279.13,
          1019.44,
          1515.18,
          1649.18,
          1198.34,
          1212,
          1138.42,
          1219.04,
          1371.78,
          1506.21,
          1058.21,
          932.14,
          773.99,
          433.33,
          1459.97,
          1050.76,
          1153.49,
          1281.25,
          1134.08,
          1483.91,
          1304.67,
          1665.45,
          1080.13,
          1589.54,
          1083.01,
          1219.27,
          1411.3,
          1407.01,
          1004.63,
          1338.54,
          782.23,
          1275.81,
          1090.65,
          972.47,
          1097.64,
          1018.73,
          1400.74,
          1155.53,
          1386.93,
          1086.48,
          1247.87,
          765.64,
          1338.55,
          1372.18,
          1454.42,
          1616.58,
          1611.83,
          1252.08,
          995.56,
          1724.09,
          1379.93,
          1554.64,
          1377.94,
          1399.27,
          1365.46,
          894.4,
          1123.89,
          988.29,
          1238.89,
          1595.07,
          1127.89,
          1829.63,
          1216.56,
          1573.93,
          1609.67,
          1097.57,
          1342.02,
          1527.95,
          1366.39,
          736.07,
          1260.32,
          1464.03,
          617.11,
          1091.73,
          1209.07,
          1757.21,
          1342.72,
          1209.41,
          1464.73,
          1117.04,
          1257.83,
          1191.8,
          1242.02,
          969.88,
          1245.61,
          1398.46,
          1140.31,
          1190.6,
          1523.17,
          984.45,
          1412.31,
          1306.78,
          1021.9,
          1354.5,
          1346.27,
          977.4,
          1442.27,
          1276.43,
          1075.41,
          1111.72,
          1115.27,
          1175.7,
          793.15,
          1793.16,
          1353.33,
          1175.51,
          1836.02,
          714.03,
          914.22,
          1601.47,
          1294.93,
          1152.12,
          1575.74,
          1861.43,
          1570.86,
          791.47,
          1012.78,
          1047.06,
          951.46,
          1226.78,
          1280.9,
          1472.77,
          1878.44,
          1532.8,
          1304.35,
          1551.61,
          862.92,
          870.55,
          1344.56,
          1377.04,
          1237.88,
          770.76,
          876.88,
          1409.06,
          916.13,
          1191.5,
          1193.45,
          1232.72,
          1800.76,
          1559.34,
          1281.72,
          1555.94,
          1570.77,
          1472.43,
          1292.3,
          1927.87,
          1221.14,
          1255.62,
          999.52,
          1380.89,
          1010.77,
          1205.86,
          1526.61,
          1268.35,
          1421.59,
          1500.04,
          1135.43,
          945.73,
          1317.97,
          1588.22,
          900.02,
          1744.64,
          1285.09,
          1537.07,
          1022.42,
          1558.86,
          1757.87,
          973.5,
          1430.8,
          1192.27,
          1163.83,
          1153.54,
          1252.48,
          1677.26,
          989.24,
          1733.56,
          1533.07,
          1202.28,
          671.92,
          1358.03,
          1141.1,
          1397,
          1063.67,
          709.14,
          1039.55,
          1202.75,
          1081.17,
          991.39,
          1354.83,
          830.31,
          1074.47,
          1230.76,
          1255.02,
          836.11,
          1450.98,
          1230.69,
          1609.11,
          1358.91,
          1161.03,
          1390.89,
          1616.26,
          1398.94,
          1238.92,
          968.46,
          912.3,
          1576.41,
          1172.82,
          1312.22,
          895.14,
          1373.21,
          1625.65,
          1064.49,
          1767.02,
          1285.01,
          1422.95,
          1539.06,
          1540.91,
          1381.88,
          1446.98,
          1220.86,
          1157.97,
          566.11,
          1060.88,
          1524.45,
          1556.17,
          1216.24,
          1203.81,
          1393.34,
          1484.48,
          1667.83,
          1497.41,
          1865.83,
          1351.72,
          817.28,
          1090.32,
          1780.67,
          1681.01,
          1471.44,
          1274.7,
          1330.39,
          1122.95,
          935.77,
          1192.04,
          990.11,
          914.85,
          1123.84,
          1300.68,
          1173.21,
          1267.4,
          1698.51,
          1423.34,
          1124.59,
          1569.33,
          1359.36,
          1607.36,
          1042.25,
          878.19,
          1145.85,
          1427.46,
          1592.41,
          1274.63,
          1362.31,
          995.55,
          1508.12,
          936.19,
          1264.99,
          1319.81,
          1133.85,
          1236.5,
          1306,
          1174.14,
          1231.01,
          1390.72,
          1140.15,
          1730.49,
          1616.65,
          1935.85,
          1370.92,
          1111.17,
          989.97,
          1114.23,
          1183.48,
          1055.6,
          999.43,
          1155.97,
          1726.91,
          1078.65,
          1270.55,
          785.82,
          1106.84,
          1389.13,
          1257.04,
          1524.18,
          1243.68,
          1389.13,
          1178.61,
          1166.62,
          1556.31,
          1452.27,
          1578.54,
          1096.39,
          1215.36,
          1482.57,
          1193.4,
          795.31,
          1406.52,
          1132.47,
          1143.46,
          1285.42,
          1305.26,
          1387.35,
          1083.64,
          1270.29,
          1125.4,
          1294.41,
          1459.5,
          1367.99,
          1594.37,
          1391.63,
          1468.82,
          1412.76,
          1140.91,
          1517.54,
          1144.3,
          1082.1,
          1185.44,
          1175.07,
          922.85,
          1107.59,
          1272.46,
          1340.24,
          1648,
          1198.44,
          1479.48,
          1827.38,
          809.11,
          1693.83,
          763.67,
          1042.56,
          1328.26,
          1585.54,
          1246.03,
          1356.64,
          1004.14,
          1343,
          862.19,
          871.46,
          1181.64,
          1060.74,
          1093.83,
          1361.45,
          1188.51,
          1101.83,
          1503.21,
          1722.5,
          944.03,
          1453.61,
          1280.88,
          722.66,
          1235.14,
          1347.04,
          1356.92
         ],
         "yaxis": "y"
        },
        {
         "alignmentgroup": "True",
         "hovertemplate": "insured_sex=MALE<br>total_claim_amount=%{x}<extra></extra>",
         "legendgroup": "MALE",
         "marker": {
          "color": "#636efa",
          "symbol": "circle"
         },
         "name": "MALE",
         "notched": true,
         "offsetgroup": "MALE",
         "showlegend": false,
         "type": "box",
         "x": [
          71610,
          5070,
          6500,
          78650,
          51590,
          42300,
          56520,
          52110,
          77880,
          47160,
          71520,
          98160,
          77880,
          71500,
          9020,
          5720,
          75600,
          67140,
          77110,
          64800,
          53100,
          60170,
          40000,
          97080,
          56400,
          62800,
          81800,
          4300,
          2640,
          78900,
          65790,
          69480,
          44280,
          56300,
          68520,
          59130,
          68530,
          4300,
          59730,
          50800,
          7500,
          6490,
          60940,
          58300,
          5900,
          64890,
          5600,
          93480,
          4320,
          70000,
          81070,
          57720,
          7080,
          47700,
          70400,
          69300,
          36300,
          40320,
          63840,
          84720,
          61500,
          78120,
          52030,
          5170,
          8190,
          70800,
          64000,
          71680,
          48060,
          63570,
          37280,
          72100,
          78240,
          64000,
          6700,
          51740,
          53600,
          44910,
          79600,
          77040,
          4950,
          51100,
          81840,
          54900,
          88660,
          5390,
          50490,
          7040,
          40160,
          55680,
          5300,
          59400,
          5760,
          76700,
          64350,
          19080,
          72000,
          65070,
          8800,
          7080,
          34320,
          81070,
          7200,
          60190,
          61380,
          57060,
          73500,
          33550,
          79750,
          53600,
          76560,
          41130,
          78650,
          3200,
          5900,
          80850,
          53640,
          50500,
          57690,
          59000,
          70600,
          61490,
          53280,
          41490,
          85300,
          71760,
          64080,
          60390,
          59900,
          63910,
          94160,
          51570,
          101010,
          53400,
          77100,
          63720,
          93730,
          87300,
          5670,
          65800,
          77440,
          45700,
          31350,
          68000,
          90600,
          74280,
          63600,
          32800,
          50400,
          88400,
          65780,
          51810,
          55660,
          44640,
          53440,
          44280,
          70290,
          50380,
          57860,
          6240,
          70920,
          39480,
          67650,
          78000,
          65040,
          82800,
          61700,
          4500,
          77800,
          52560,
          62280,
          45500,
          53040,
          50800,
          49950,
          56430,
          49140,
          62460,
          62810,
          51480,
          65520,
          47700,
          73320,
          74900,
          76920,
          59670,
          82830,
          53020,
          43230,
          94560,
          7800,
          5000,
          81120,
          91260,
          64800,
          58200,
          55700,
          58500,
          59940,
          73400,
          41850,
          5900,
          57330,
          81960,
          68750,
          95150,
          7480,
          79800,
          59520,
          84590,
          61650,
          64620,
          90480,
          6490,
          63800,
          58160,
          6300,
          104610,
          69850,
          59670,
          81500,
          50000,
          48290,
          59070,
          65780,
          75400,
          2250,
          69480,
          80280,
          4680,
          39720,
          63580,
          49800,
          57330,
          62920,
          74160,
          80100,
          58800,
          87960,
          47800,
          77000,
          47740,
          79080,
          6820,
          63580,
          4700,
          43280,
          75460,
          69000,
          8640,
          67210,
          42500,
          86400,
          4620,
          77330,
          4950,
          5160,
          42900,
          84100,
          32280,
          84600,
          69700,
          36400,
          67770,
          47400,
          71100,
          69400,
          55000,
          51090,
          64200,
          67320,
          76120,
          68090,
          5100,
          4590,
          70900,
          66780,
          58500,
          43700,
          64080,
          55000,
          71640,
          61740,
          59400,
          54890,
          74030,
          79560,
          4900,
          77770,
          40600,
          45270,
          3200,
          78980,
          6160,
          72840,
          6050,
          53800,
          5490,
          7370,
          41520,
          53460,
          77440,
          68300,
          5060,
          59400,
          68750,
          95000,
          3900,
          59400,
          43600,
          62800,
          59500,
          62880,
          46200,
          58500,
          66240,
          64200,
          4320,
          4200,
          57970,
          4320,
          60480,
          2640,
          6050,
          42700,
          40260,
          50000,
          95900,
          56160,
          63030,
          6600,
          77200,
          47300,
          2640,
          60190,
          51390,
          70200,
          4900,
          50380,
          55400,
          49900,
          74880,
          7150,
          55800,
          5830,
          7110,
          36960,
          1920,
          86130,
          50700,
          51840,
          9100,
          40800,
          84500,
          71610,
          60600,
          81240,
          38640,
          41490,
          87900,
          53400,
          52030,
          82060,
          68200,
          60750,
          57900,
          37800,
          31680,
          60480,
          5060,
          50050,
          59070,
          28440,
          5830,
          46200,
          56160,
          44400,
          92730,
          34800,
          4950,
          48000,
          52200,
          55200,
          74800,
          4100,
          61490,
          7200,
          66660,
          84920,
          69080,
          5600,
          9000,
          51600,
          48870,
          54960,
          52700,
          90860,
          5700,
          94930,
          46800,
          83490,
          49410,
          66200,
          64080,
          48950,
          40810,
          44200,
          61440,
          58560,
          67300,
          36740,
          61320,
          79680,
          6400,
          2640,
          8970,
          6000,
          55200,
          7260,
          69400,
          60000,
          67320,
          64300,
          64400,
          5500,
          65430,
          42680,
          87780,
          3600,
          62640,
          69630,
          76010,
          44220,
          3080,
          74690,
          4620,
          51400,
          53400,
          70830,
          68040,
          60840,
          4620,
          45100,
          83160,
          48000,
          90400,
          6600,
          74140,
          55400,
          49100,
          53280,
          82170,
          61100,
          51900,
          51390,
          76900,
          77000,
          60320,
          46980,
          36700,
          60200,
          6480,
          46980
         ],
         "xaxis": "x3",
         "yaxis": "y3"
        },
        {
         "alignmentgroup": "True",
         "bingroup": "y",
         "hovertemplate": "insured_sex=MALE<br>policy_annual_premium=%{y}<br>count=%{x}<extra></extra>",
         "legendgroup": "MALE",
         "marker": {
          "color": "#636efa"
         },
         "name": "MALE",
         "offsetgroup": "MALE",
         "opacity": 0.5,
         "showlegend": false,
         "type": "histogram",
         "xaxis": "x2",
         "y": [
          1406.91,
          1197.22,
          1583.91,
          1333.35,
          1137.03,
          1315.68,
          1215.36,
          1199.44,
          708.64,
          1187.96,
          972.18,
          1268.79,
          883.31,
          1266.92,
          1322.1,
          848.07,
          954.16,
          1337.28,
          1558.29,
          1415.68,
          1334.15,
          1262.08,
          1451.62,
          1737.66,
          1081.08,
          1273.7,
          1326.62,
          1530.52,
          1393.57,
          1276.57,
          1470.06,
          795.23,
          1168.2,
          993.51,
          1848.81,
          1641.73,
          1061.33,
          1279.08,
          1307.11,
          1340.43,
          1234.2,
          1318.06,
          769.95,
          1514.72,
          1322.78,
          1352.83,
          969.5,
          1495.1,
          1141.62,
          1298.91,
          1222.75,
          1059.52,
          1124.38,
          1110.37,
          1103.58,
          1167.3,
          1302.4,
          1588.55,
          1352.31,
          1397.67,
          823.17,
          1624.82,
          1221.22,
          968.74,
          1220.71,
          1238.62,
          1398.51,
          1384.51,
          1046.71,
          1158.03,
          1275.39,
          1402.75,
          1197.71,
          1362.29,
          1241.97,
          1124.6,
          1079.92,
          1447.78,
          897.89,
          1706.79,
          1046.58,
          1712.68,
          1382.88,
          1141.35,
          1054.83,
          1440.68,
          1086.21,
          1215.85,
          1191.19,
          1594.45,
          1463.07,
          1411.43,
          1153.35,
          1722.95,
          1011.92,
          1042.26,
          1301.72,
          1451.54,
          767.14,
          1048.46,
          1538.26,
          1279.13,
          1019.44,
          1515.18,
          1649.18,
          1198.34,
          1212,
          1138.42,
          1219.04,
          1371.78,
          1506.21,
          1058.21,
          932.14,
          773.99,
          433.33,
          1459.97,
          1050.76,
          1153.49,
          1281.25,
          1134.08,
          1483.91,
          1304.67,
          1665.45,
          1080.13,
          1589.54,
          1083.01,
          1219.27,
          1411.3,
          1407.01,
          1004.63,
          1338.54,
          782.23,
          1275.81,
          1090.65,
          972.47,
          1097.64,
          1018.73,
          1400.74,
          1155.53,
          1386.93,
          1086.48,
          1247.87,
          765.64,
          1338.55,
          1372.18,
          1454.42,
          1616.58,
          1611.83,
          1252.08,
          995.56,
          1724.09,
          1379.93,
          1554.64,
          1377.94,
          1399.27,
          1365.46,
          894.4,
          1123.89,
          988.29,
          1238.89,
          1595.07,
          1127.89,
          1829.63,
          1216.56,
          1573.93,
          1609.67,
          1097.57,
          1342.02,
          1527.95,
          1366.39,
          736.07,
          1260.32,
          1464.03,
          617.11,
          1091.73,
          1209.07,
          1757.21,
          1342.72,
          1209.41,
          1464.73,
          1117.04,
          1257.83,
          1191.8,
          1242.02,
          969.88,
          1245.61,
          1398.46,
          1140.31,
          1190.6,
          1523.17,
          984.45,
          1412.31,
          1306.78,
          1021.9,
          1354.5,
          1346.27,
          977.4,
          1442.27,
          1276.43,
          1075.41,
          1111.72,
          1115.27,
          1175.7,
          793.15,
          1793.16,
          1353.33,
          1175.51,
          1836.02,
          714.03,
          914.22,
          1601.47,
          1294.93,
          1152.12,
          1575.74,
          1861.43,
          1570.86,
          791.47,
          1012.78,
          1047.06,
          951.46,
          1226.78,
          1280.9,
          1472.77,
          1878.44,
          1532.8,
          1304.35,
          1551.61,
          862.92,
          870.55,
          1344.56,
          1377.04,
          1237.88,
          770.76,
          876.88,
          1409.06,
          916.13,
          1191.5,
          1193.45,
          1232.72,
          1800.76,
          1559.34,
          1281.72,
          1555.94,
          1570.77,
          1472.43,
          1292.3,
          1927.87,
          1221.14,
          1255.62,
          999.52,
          1380.89,
          1010.77,
          1205.86,
          1526.61,
          1268.35,
          1421.59,
          1500.04,
          1135.43,
          945.73,
          1317.97,
          1588.22,
          900.02,
          1744.64,
          1285.09,
          1537.07,
          1022.42,
          1558.86,
          1757.87,
          973.5,
          1430.8,
          1192.27,
          1163.83,
          1153.54,
          1252.48,
          1677.26,
          989.24,
          1733.56,
          1533.07,
          1202.28,
          671.92,
          1358.03,
          1141.1,
          1397,
          1063.67,
          709.14,
          1039.55,
          1202.75,
          1081.17,
          991.39,
          1354.83,
          830.31,
          1074.47,
          1230.76,
          1255.02,
          836.11,
          1450.98,
          1230.69,
          1609.11,
          1358.91,
          1161.03,
          1390.89,
          1616.26,
          1398.94,
          1238.92,
          968.46,
          912.3,
          1576.41,
          1172.82,
          1312.22,
          895.14,
          1373.21,
          1625.65,
          1064.49,
          1767.02,
          1285.01,
          1422.95,
          1539.06,
          1540.91,
          1381.88,
          1446.98,
          1220.86,
          1157.97,
          566.11,
          1060.88,
          1524.45,
          1556.17,
          1216.24,
          1203.81,
          1393.34,
          1484.48,
          1667.83,
          1497.41,
          1865.83,
          1351.72,
          817.28,
          1090.32,
          1780.67,
          1681.01,
          1471.44,
          1274.7,
          1330.39,
          1122.95,
          935.77,
          1192.04,
          990.11,
          914.85,
          1123.84,
          1300.68,
          1173.21,
          1267.4,
          1698.51,
          1423.34,
          1124.59,
          1569.33,
          1359.36,
          1607.36,
          1042.25,
          878.19,
          1145.85,
          1427.46,
          1592.41,
          1274.63,
          1362.31,
          995.55,
          1508.12,
          936.19,
          1264.99,
          1319.81,
          1133.85,
          1236.5,
          1306,
          1174.14,
          1231.01,
          1390.72,
          1140.15,
          1730.49,
          1616.65,
          1935.85,
          1370.92,
          1111.17,
          989.97,
          1114.23,
          1183.48,
          1055.6,
          999.43,
          1155.97,
          1726.91,
          1078.65,
          1270.55,
          785.82,
          1106.84,
          1389.13,
          1257.04,
          1524.18,
          1243.68,
          1389.13,
          1178.61,
          1166.62,
          1556.31,
          1452.27,
          1578.54,
          1096.39,
          1215.36,
          1482.57,
          1193.4,
          795.31,
          1406.52,
          1132.47,
          1143.46,
          1285.42,
          1305.26,
          1387.35,
          1083.64,
          1270.29,
          1125.4,
          1294.41,
          1459.5,
          1367.99,
          1594.37,
          1391.63,
          1468.82,
          1412.76,
          1140.91,
          1517.54,
          1144.3,
          1082.1,
          1185.44,
          1175.07,
          922.85,
          1107.59,
          1272.46,
          1340.24,
          1648,
          1198.44,
          1479.48,
          1827.38,
          809.11,
          1693.83,
          763.67,
          1042.56,
          1328.26,
          1585.54,
          1246.03,
          1356.64,
          1004.14,
          1343,
          862.19,
          871.46,
          1181.64,
          1060.74,
          1093.83,
          1361.45,
          1188.51,
          1101.83,
          1503.21,
          1722.5,
          944.03,
          1453.61,
          1280.88,
          722.66,
          1235.14,
          1347.04,
          1356.92
         ],
         "yaxis": "y2"
        },
        {
         "hovertemplate": "insured_sex=FEMALE<br>total_claim_amount=%{x}<br>policy_annual_premium=%{y}<extra></extra>",
         "legendgroup": "FEMALE",
         "marker": {
          "color": "#EF553B",
          "symbol": "circle"
         },
         "mode": "markers",
         "name": "FEMALE",
         "orientation": "v",
         "showlegend": true,
         "type": "scatter",
         "x": [
          34650,
          63400,
          64100,
          27700,
          87010,
          114920,
          7280,
          46200,
          63120,
          72930,
          60400,
          37840,
          69840,
          91650,
          29790,
          60200,
          5330,
          62300,
          51660,
          51120,
          55120,
          77110,
          7290,
          76600,
          7260,
          70510,
          56430,
          2400,
          62920,
          82320,
          89700,
          33930,
          68310,
          61290,
          30100,
          57120,
          42930,
          51210,
          89400,
          8060,
          72200,
          6600,
          68400,
          64240,
          4700,
          45120,
          66950,
          98340,
          70680,
          93720,
          6930,
          72930,
          5400,
          79300,
          52800,
          28800,
          2970,
          79800,
          74200,
          70590,
          60940,
          74700,
          51260,
          90000,
          72820,
          76560,
          55440,
          77130,
          42000,
          3960,
          44730,
          51000,
          46800,
          69200,
          3690,
          65500,
          76120,
          73560,
          45630,
          99320,
          47300,
          112320,
          82720,
          63240,
          54240,
          6500,
          6200,
          6160,
          76050,
          86060,
          107900,
          99990,
          61380,
          71280,
          5940,
          48100,
          6100,
          62590,
          85150,
          100800,
          90970,
          18000,
          5500,
          73920,
          101860,
          55500,
          5200,
          2520,
          5920,
          54400,
          59800,
          6120,
          53460,
          81360,
          63120,
          70290,
          28100,
          49060,
          77880,
          88920,
          47630,
          59040,
          79530,
          53680,
          69100,
          71060,
          38830,
          53500,
          73700,
          6300,
          65400,
          75400,
          58140,
          98670,
          64100,
          55440,
          7480,
          63250,
          59040,
          5940,
          47790,
          3850,
          57640,
          6890,
          78300,
          68970,
          3080,
          59700,
          64920,
          37530,
          64350,
          70900,
          46560,
          4730,
          6820,
          79560,
          70290,
          6400,
          66780,
          8760,
          52700,
          72120,
          3300,
          5940,
          7680,
          36720,
          52800,
          59100,
          80740,
          35000,
          84500,
          75500,
          64320,
          31700,
          80520,
          44190,
          66550,
          77660,
          5640,
          3190,
          65250,
          87100,
          64800,
          70400,
          66600,
          63240,
          74200,
          64900,
          35900,
          52200,
          67200,
          63250,
          68760,
          78100,
          65520,
          42700,
          5580,
          3600,
          2800,
          54000,
          48950,
          44110,
          74360,
          6120,
          26730,
          66200,
          44200,
          62920,
          100210,
          66840,
          54160,
          48400,
          51700,
          5220,
          3190,
          77990,
          44880,
          84480,
          79800,
          24200,
          3190,
          5850,
          6820,
          69480,
          61270,
          71440,
          55600,
          95810,
          69300,
          60600,
          66880,
          60570,
          69680,
          62370,
          54340,
          55170,
          6400,
          3190,
          70400,
          3770,
          7400,
          54810,
          49400,
          61500,
          76890,
          56070,
          56000,
          4290,
          60750,
          48730,
          103560,
          79500,
          76230,
          47760,
          81400,
          58410,
          38610,
          57600,
          53190,
          58300,
          7080,
          55900,
          62900,
          63300,
          54120,
          66950,
          64100,
          73370,
          86790,
          77440,
          42900,
          53820,
          53370,
          61600,
          6560,
          53730,
          60600,
          35750,
          42840,
          3840,
          88110,
          58960,
          2160,
          6890,
          78870,
          2700,
          75960,
          75570,
          90240,
          80960,
          62590,
          52400,
          61400,
          74140,
          83160,
          10790,
          48070,
          51030,
          76400,
          6930,
          41700,
          24570,
          53680,
          61560,
          44240,
          57700,
          108030,
          54300,
          37520,
          79090,
          85020,
          6030,
          72400,
          65100,
          64260,
          79970,
          56610,
          84590,
          5000,
          5000,
          54450,
          61920,
          4400,
          57500,
          8700,
          77100,
          61490,
          74700,
          47080,
          40700,
          34650,
          85250,
          87890,
          60500,
          88220,
          53680,
          54360,
          54340,
          2860,
          50800,
          89650,
          39690,
          62260,
          51920,
          57100,
          69930,
          77700,
          91080,
          48360,
          60210,
          53460,
          41690,
          63100,
          75400,
          65440,
          32320,
          33480,
          69300,
          32480,
          3840,
          63470,
          44440,
          57000,
          2700,
          55110,
          4320,
          68760,
          74400,
          35300,
          41580,
          58500,
          79320,
          82610,
          78600,
          66480,
          64350,
          105820,
          85900,
          64400,
          82170,
          50300,
          44200,
          66660,
          78320,
          105040,
          51210,
          52800,
          55200,
          67600,
          29300,
          76450,
          49400,
          90530,
          8030,
          63900,
          79090,
          48360,
          52290,
          65560,
          70290,
          45000,
          61800,
          64570,
          70500,
          57860,
          63300,
          44200,
          100,
          56340,
          69740,
          80880,
          49390,
          69360,
          3740,
          35860,
          45540,
          38700,
          57240,
          57700,
          30700,
          56600,
          3960,
          79500,
          56000,
          73260,
          73800,
          78200,
          57060,
          4680,
          53100,
          3520,
          72900,
          70700,
          60170,
          45100,
          76400,
          58300,
          57310,
          53100,
          74700,
          60500,
          61050,
          4560,
          67800,
          85320,
          5940,
          51370,
          5400,
          5590,
          39800,
          56160,
          68580,
          56320,
          57900,
          42500,
          58850,
          82400,
          54240,
          74200,
          47430,
          68200,
          63900,
          59300,
          66900,
          75400,
          4200,
          52650,
          42240,
          59490,
          7700,
          54400,
          85690,
          34160,
          61740,
          60600,
          56320,
          52250,
          53900,
          64680,
          59200,
          4700,
          40500,
          75690,
          97080,
          30700,
          33480,
          72800,
          71190,
          57200,
          75790,
          32670,
          3870,
          91520,
          55000,
          59400,
          55260,
          48780,
          52380,
          74360,
          71800,
          68240,
          61050,
          5590,
          46860,
          4290,
          78500,
          63600,
          43560,
          68160,
          5170,
          57700,
          89520,
          45180,
          86130,
          3300,
          57200,
          7590,
          80080,
          4800,
          3900,
          62900,
          54200,
          51800,
          67800,
          98280,
          66550,
          70400,
          84590,
          54560,
          3440,
          60700,
          53280,
          34290,
          87200,
          108480,
          67500,
          5060
         ],
         "xaxis": "x",
         "y": [
          1413.14,
          1415.74,
          1351.1,
          1442.99,
          1253.12,
          1137.16,
          936.61,
          1301.13,
          1131.4,
          1374.22,
          1475.73,
          875.15,
          1291.7,
          1104.5,
          1088.34,
          988.45,
          1222.48,
          1155.55,
          1475.93,
          538.17,
          1454.43,
          1240.47,
          1123.87,
          1245.89,
          1073.83,
          1201.41,
          1082.49,
          1414.74,
          870.63,
          1362.87,
          1239.22,
          835.02,
          1105.49,
          1055.53,
          895.83,
          1632.93,
          1405.99,
          1425.54,
          1038.09,
          1489.24,
          976.67,
          1267.81,
          873.64,
          1612.43,
          1318.24,
          1226.83,
          1326.44,
          1136.83,
          1483.25,
          1515.3,
          1075.18,
          1690.27,
          1148.73,
          1463.82,
          1474.17,
          1497.35,
          1427.14,
          1125.37,
          1207.36,
          1338.5,
          1074.07,
          1337.56,
          1374.22,
          1269.76,
          964.79,
          1625.45,
          1394.43,
          1053.24,
          1040.75,
          1399.26,
          1139,
          965.13,
          1922.84,
          1277.25,
          1439.34,
          1281.27,
          1348.83,
          1198.15,
          1320.75,
          990.98,
          1355.08,
          847.03,
          1000.06,
          1372.27,
          1053.04,
          1344.36,
          1203.24,
          1152.4,
          1142.62,
          1332.07,
          1166.54,
          1495.06,
          1337.92,
          1587.96,
          1448.84,
          1229.16,
          1226.49,
          1254.18,
          885.08,
          1097.71,
          1363.77,
          1057.77,
          1488.02,
          920.3,
          986.53,
          1367.68,
          1734.09,
          1512.58,
          1281.07,
          1235.1,
          768.91,
          1620.89,
          1217.69,
          1362.64,
          924.72,
          1314.6,
          1451.01,
          978.46,
          1003.23,
          1242.96,
          1053.02,
          1693.63,
          2047.59,
          1083.72,
          1072.62,
          1608.34,
          1728.56,
          1518.46,
          1540.19,
          965.21,
          1278.75,
          1532.47,
          1340.56,
          1297.75,
          1025.54,
          1264.77,
          1238.65,
          1711.72,
          865.33,
          1342.8,
          1443.32,
          1629.94,
          1035.79,
          1401.2,
          653.66,
          1346.18,
          1251.65,
          974.59,
          1399.85,
          1307.74,
          694.45,
          1006.77,
          1422.36,
          1348.32,
          1315.56,
          1388.58,
          1310.76,
          1134.91,
          1194,
          1248.25,
          1366.9,
          1326,
          806.31,
          1416.24,
          947.75,
          915.29,
          1239.55,
          1366.42,
          1312.75,
          1327.41,
          1316.63,
          1286.44,
          1447.77,
          903.32,
          1603.42,
          889.13,
          1347.92,
          1313.33,
          1259.02,
          1371.88,
          1061.98,
          956.69,
          1085.03,
          1437.33,
          1384.64,
          929.7,
          904.7,
          1243.84,
          1030.95,
          1285.03,
          966.26,
          1203.17,
          1212.12,
          1618.65,
          922.67,
          1195.01,
          994.74,
          1050.24,
          1313.51,
          1102.29,
          1185.78,
          1403.9,
          927.23,
          1554.86,
          974.16,
          973.8,
          1724.46,
          1161.31,
          1241.04,
          802.24,
          1141.71,
          1090.03,
          1118.58,
          1082.72,
          1075.71,
          1459.93,
          1462.76,
          1269.64,
          1455.65,
          1330.46,
          972.5,
          1161.91,
          1117.17,
          1101.51,
          1257,
          1434.51,
          1628,
          1362.87,
          1134.68,
          1538.6,
          1282.93,
          1338.4,
          949.44,
          1181.46,
          1187.53,
          845.16,
          814.96,
          1575.86,
          942.51,
          1056.71,
          1255.68,
          1335.13,
          1178.95,
          1008.38,
          1396.83,
          1402.78,
          1437.88,
          1313.64,
          1482.14,
          1171.75,
          1480.79,
          1453.92,
          1340.71,
          1376.16,
          1096.79,
          1078.22,
          1595.28,
          1217.84,
          1117.42,
          1567.37,
          1441.21,
          1233.96,
          1390.29,
          1418.5,
          1326.98,
          1331.69,
          1486.04,
          1525.86,
          854.58,
          1132.74,
          1173.37,
          1188.28,
          1143.95,
          1070.63,
          1474.66,
          1437.53,
          1304.83,
          1168.8,
          1164.97,
          1187.01,
          1137.02,
          796.35,
          1270.02,
          1383.13,
          1290.74,
          1216.68,
          1251.16,
          1586.41,
          1526.11,
          1028.44,
          1170.53,
          1099.95,
          1275.62,
          1009.37,
          1093.07,
          1325.44,
          1017.18,
          1221.17,
          978.27,
          1496.44,
          1256.2,
          1433.24,
          1231.25,
          1118.76,
          1231.98,
          1005.47,
          1108.97,
          1392.39,
          1260.56,
          1021.14,
          1003.15,
          1631.1,
          979.73,
          1389.86,
          1233.85,
          1320.39,
          1435.09,
          1448.54,
          1106.77,
          995.7,
          1298.85,
          1276.73,
          1008.79,
          1664.66,
          1151.39,
          1546.01,
          1339.39,
          984.02,
          987.42,
          1119.29,
          1048.39,
          1555.52,
          625.08,
          1133.27,
          1366.6,
          1439.9,
          1307.68,
          1124.69,
          1520.78,
          1295.87,
          1441.06,
          1097.99,
          1464.42,
          1543.68,
          1148.58,
          1045.12,
          1537.33,
          1007.28,
          1189.98,
          671.01,
          1295.63,
          1459.96,
          1219.94,
          959.83,
          1223.39,
          988.06,
          1740.57,
          948.1,
          1471.24,
          1484.72,
          1581.27,
          1281.25,
          803.36,
          1221.41,
          1434.27,
          1114.68,
          1218.56,
          1234.69,
          964.92,
          1389.59,
          1353.53,
          1294.04,
          840.81,
          998.19,
          1395.77,
          1265.72,
          1655.79,
          1422.21,
          838.02,
          985.97,
          1129.23,
          1194.83,
          1114.29,
          1509.04,
          664.86,
          1119.23,
          1422.78,
          1212.75,
          976.37,
          1453.95,
          1969.63,
          1156.19,
          1124.47,
          1493.5,
          1155.38,
          1261.28,
          919.37,
          1377.23,
          484.67,
          1561.41,
          1457.21,
          1128.71,
          1358.2,
          1232.79,
          1302.34,
          1467.76,
          1124.43,
          1482.53,
          1328.18,
          1463.95,
          1037.32,
          1562.8,
          1425.79,
          1615.14,
          1017.97,
          1299.18,
          1469.75,
          1694.09,
          1310.71,
          855.14,
          1568.47,
          1550.53,
          1363.59,
          828.42,
          1209.63,
          1347.31,
          1687.53,
          1537.13,
          1173.25,
          1361.16,
          1422.56,
          1143.06,
          1405.71,
          1354.2,
          1232.57,
          1324.78,
          1518.54,
          1239.06,
          1246.68,
          1622.67,
          1082.36,
          1236.32,
          1265.84,
          1508.9,
          974.84,
          1304.46,
          1257.36,
          719.52,
          1395.58,
          1189.04,
          1375.29,
          1387.51,
          1212.07,
          1488.26,
          954.18,
          1023.11,
          1524.45,
          1653.32,
          1022.46,
          1396.43,
          1521.55,
          1034.27,
          1255.35,
          1396.89,
          982.22,
          1074.07,
          1311.3,
          1277.12,
          1388.62,
          1558.29,
          1896.91,
          1073.83,
          1051.67,
          1851.78,
          1459.99,
          1253.44,
          1142.48,
          1188.45,
          1035.99,
          911.53,
          1319.97,
          915.41,
          1588.26,
          912.29,
          1281.43,
          1101.85,
          979.26,
          920.81,
          1381.14,
          951.27,
          1341.24,
          1177.57,
          1055.09,
          1169.62,
          1516.34,
          1270.21,
          1115.81,
          1457.65,
          1041.36,
          1685.69,
          1054.92,
          1333.97,
          1013.61,
          958.3,
          1112.04,
          1206.26,
          1263.48,
          1006.99,
          1250.08,
          982.7,
          1412.06,
          1066.7,
          1416.08,
          1387.7,
          1107.07,
          1429.96,
          1074.99,
          1007,
          1052.85,
          1200.33,
          1441.6,
          1433.42,
          1368.57,
          1863.04,
          951.56,
          1533.71,
          1200.09,
          988.93,
          1331.94,
          840.95,
          1672.88,
          1248.05,
          1564.43,
          1310.8,
          1436.79,
          1383.49,
          766.19
         ],
         "yaxis": "y"
        },
        {
         "alignmentgroup": "True",
         "hovertemplate": "insured_sex=FEMALE<br>total_claim_amount=%{x}<extra></extra>",
         "legendgroup": "FEMALE",
         "marker": {
          "color": "#EF553B",
          "symbol": "circle"
         },
         "name": "FEMALE",
         "notched": true,
         "offsetgroup": "FEMALE",
         "showlegend": false,
         "type": "box",
         "x": [
          34650,
          63400,
          64100,
          27700,
          87010,
          114920,
          7280,
          46200,
          63120,
          72930,
          60400,
          37840,
          69840,
          91650,
          29790,
          60200,
          5330,
          62300,
          51660,
          51120,
          55120,
          77110,
          7290,
          76600,
          7260,
          70510,
          56430,
          2400,
          62920,
          82320,
          89700,
          33930,
          68310,
          61290,
          30100,
          57120,
          42930,
          51210,
          89400,
          8060,
          72200,
          6600,
          68400,
          64240,
          4700,
          45120,
          66950,
          98340,
          70680,
          93720,
          6930,
          72930,
          5400,
          79300,
          52800,
          28800,
          2970,
          79800,
          74200,
          70590,
          60940,
          74700,
          51260,
          90000,
          72820,
          76560,
          55440,
          77130,
          42000,
          3960,
          44730,
          51000,
          46800,
          69200,
          3690,
          65500,
          76120,
          73560,
          45630,
          99320,
          47300,
          112320,
          82720,
          63240,
          54240,
          6500,
          6200,
          6160,
          76050,
          86060,
          107900,
          99990,
          61380,
          71280,
          5940,
          48100,
          6100,
          62590,
          85150,
          100800,
          90970,
          18000,
          5500,
          73920,
          101860,
          55500,
          5200,
          2520,
          5920,
          54400,
          59800,
          6120,
          53460,
          81360,
          63120,
          70290,
          28100,
          49060,
          77880,
          88920,
          47630,
          59040,
          79530,
          53680,
          69100,
          71060,
          38830,
          53500,
          73700,
          6300,
          65400,
          75400,
          58140,
          98670,
          64100,
          55440,
          7480,
          63250,
          59040,
          5940,
          47790,
          3850,
          57640,
          6890,
          78300,
          68970,
          3080,
          59700,
          64920,
          37530,
          64350,
          70900,
          46560,
          4730,
          6820,
          79560,
          70290,
          6400,
          66780,
          8760,
          52700,
          72120,
          3300,
          5940,
          7680,
          36720,
          52800,
          59100,
          80740,
          35000,
          84500,
          75500,
          64320,
          31700,
          80520,
          44190,
          66550,
          77660,
          5640,
          3190,
          65250,
          87100,
          64800,
          70400,
          66600,
          63240,
          74200,
          64900,
          35900,
          52200,
          67200,
          63250,
          68760,
          78100,
          65520,
          42700,
          5580,
          3600,
          2800,
          54000,
          48950,
          44110,
          74360,
          6120,
          26730,
          66200,
          44200,
          62920,
          100210,
          66840,
          54160,
          48400,
          51700,
          5220,
          3190,
          77990,
          44880,
          84480,
          79800,
          24200,
          3190,
          5850,
          6820,
          69480,
          61270,
          71440,
          55600,
          95810,
          69300,
          60600,
          66880,
          60570,
          69680,
          62370,
          54340,
          55170,
          6400,
          3190,
          70400,
          3770,
          7400,
          54810,
          49400,
          61500,
          76890,
          56070,
          56000,
          4290,
          60750,
          48730,
          103560,
          79500,
          76230,
          47760,
          81400,
          58410,
          38610,
          57600,
          53190,
          58300,
          7080,
          55900,
          62900,
          63300,
          54120,
          66950,
          64100,
          73370,
          86790,
          77440,
          42900,
          53820,
          53370,
          61600,
          6560,
          53730,
          60600,
          35750,
          42840,
          3840,
          88110,
          58960,
          2160,
          6890,
          78870,
          2700,
          75960,
          75570,
          90240,
          80960,
          62590,
          52400,
          61400,
          74140,
          83160,
          10790,
          48070,
          51030,
          76400,
          6930,
          41700,
          24570,
          53680,
          61560,
          44240,
          57700,
          108030,
          54300,
          37520,
          79090,
          85020,
          6030,
          72400,
          65100,
          64260,
          79970,
          56610,
          84590,
          5000,
          5000,
          54450,
          61920,
          4400,
          57500,
          8700,
          77100,
          61490,
          74700,
          47080,
          40700,
          34650,
          85250,
          87890,
          60500,
          88220,
          53680,
          54360,
          54340,
          2860,
          50800,
          89650,
          39690,
          62260,
          51920,
          57100,
          69930,
          77700,
          91080,
          48360,
          60210,
          53460,
          41690,
          63100,
          75400,
          65440,
          32320,
          33480,
          69300,
          32480,
          3840,
          63470,
          44440,
          57000,
          2700,
          55110,
          4320,
          68760,
          74400,
          35300,
          41580,
          58500,
          79320,
          82610,
          78600,
          66480,
          64350,
          105820,
          85900,
          64400,
          82170,
          50300,
          44200,
          66660,
          78320,
          105040,
          51210,
          52800,
          55200,
          67600,
          29300,
          76450,
          49400,
          90530,
          8030,
          63900,
          79090,
          48360,
          52290,
          65560,
          70290,
          45000,
          61800,
          64570,
          70500,
          57860,
          63300,
          44200,
          100,
          56340,
          69740,
          80880,
          49390,
          69360,
          3740,
          35860,
          45540,
          38700,
          57240,
          57700,
          30700,
          56600,
          3960,
          79500,
          56000,
          73260,
          73800,
          78200,
          57060,
          4680,
          53100,
          3520,
          72900,
          70700,
          60170,
          45100,
          76400,
          58300,
          57310,
          53100,
          74700,
          60500,
          61050,
          4560,
          67800,
          85320,
          5940,
          51370,
          5400,
          5590,
          39800,
          56160,
          68580,
          56320,
          57900,
          42500,
          58850,
          82400,
          54240,
          74200,
          47430,
          68200,
          63900,
          59300,
          66900,
          75400,
          4200,
          52650,
          42240,
          59490,
          7700,
          54400,
          85690,
          34160,
          61740,
          60600,
          56320,
          52250,
          53900,
          64680,
          59200,
          4700,
          40500,
          75690,
          97080,
          30700,
          33480,
          72800,
          71190,
          57200,
          75790,
          32670,
          3870,
          91520,
          55000,
          59400,
          55260,
          48780,
          52380,
          74360,
          71800,
          68240,
          61050,
          5590,
          46860,
          4290,
          78500,
          63600,
          43560,
          68160,
          5170,
          57700,
          89520,
          45180,
          86130,
          3300,
          57200,
          7590,
          80080,
          4800,
          3900,
          62900,
          54200,
          51800,
          67800,
          98280,
          66550,
          70400,
          84590,
          54560,
          3440,
          60700,
          53280,
          34290,
          87200,
          108480,
          67500,
          5060
         ],
         "xaxis": "x3",
         "yaxis": "y3"
        },
        {
         "alignmentgroup": "True",
         "bingroup": "y",
         "hovertemplate": "insured_sex=FEMALE<br>policy_annual_premium=%{y}<br>count=%{x}<extra></extra>",
         "legendgroup": "FEMALE",
         "marker": {
          "color": "#EF553B"
         },
         "name": "FEMALE",
         "offsetgroup": "FEMALE",
         "opacity": 0.5,
         "showlegend": false,
         "type": "histogram",
         "xaxis": "x2",
         "y": [
          1413.14,
          1415.74,
          1351.1,
          1442.99,
          1253.12,
          1137.16,
          936.61,
          1301.13,
          1131.4,
          1374.22,
          1475.73,
          875.15,
          1291.7,
          1104.5,
          1088.34,
          988.45,
          1222.48,
          1155.55,
          1475.93,
          538.17,
          1454.43,
          1240.47,
          1123.87,
          1245.89,
          1073.83,
          1201.41,
          1082.49,
          1414.74,
          870.63,
          1362.87,
          1239.22,
          835.02,
          1105.49,
          1055.53,
          895.83,
          1632.93,
          1405.99,
          1425.54,
          1038.09,
          1489.24,
          976.67,
          1267.81,
          873.64,
          1612.43,
          1318.24,
          1226.83,
          1326.44,
          1136.83,
          1483.25,
          1515.3,
          1075.18,
          1690.27,
          1148.73,
          1463.82,
          1474.17,
          1497.35,
          1427.14,
          1125.37,
          1207.36,
          1338.5,
          1074.07,
          1337.56,
          1374.22,
          1269.76,
          964.79,
          1625.45,
          1394.43,
          1053.24,
          1040.75,
          1399.26,
          1139,
          965.13,
          1922.84,
          1277.25,
          1439.34,
          1281.27,
          1348.83,
          1198.15,
          1320.75,
          990.98,
          1355.08,
          847.03,
          1000.06,
          1372.27,
          1053.04,
          1344.36,
          1203.24,
          1152.4,
          1142.62,
          1332.07,
          1166.54,
          1495.06,
          1337.92,
          1587.96,
          1448.84,
          1229.16,
          1226.49,
          1254.18,
          885.08,
          1097.71,
          1363.77,
          1057.77,
          1488.02,
          920.3,
          986.53,
          1367.68,
          1734.09,
          1512.58,
          1281.07,
          1235.1,
          768.91,
          1620.89,
          1217.69,
          1362.64,
          924.72,
          1314.6,
          1451.01,
          978.46,
          1003.23,
          1242.96,
          1053.02,
          1693.63,
          2047.59,
          1083.72,
          1072.62,
          1608.34,
          1728.56,
          1518.46,
          1540.19,
          965.21,
          1278.75,
          1532.47,
          1340.56,
          1297.75,
          1025.54,
          1264.77,
          1238.65,
          1711.72,
          865.33,
          1342.8,
          1443.32,
          1629.94,
          1035.79,
          1401.2,
          653.66,
          1346.18,
          1251.65,
          974.59,
          1399.85,
          1307.74,
          694.45,
          1006.77,
          1422.36,
          1348.32,
          1315.56,
          1388.58,
          1310.76,
          1134.91,
          1194,
          1248.25,
          1366.9,
          1326,
          806.31,
          1416.24,
          947.75,
          915.29,
          1239.55,
          1366.42,
          1312.75,
          1327.41,
          1316.63,
          1286.44,
          1447.77,
          903.32,
          1603.42,
          889.13,
          1347.92,
          1313.33,
          1259.02,
          1371.88,
          1061.98,
          956.69,
          1085.03,
          1437.33,
          1384.64,
          929.7,
          904.7,
          1243.84,
          1030.95,
          1285.03,
          966.26,
          1203.17,
          1212.12,
          1618.65,
          922.67,
          1195.01,
          994.74,
          1050.24,
          1313.51,
          1102.29,
          1185.78,
          1403.9,
          927.23,
          1554.86,
          974.16,
          973.8,
          1724.46,
          1161.31,
          1241.04,
          802.24,
          1141.71,
          1090.03,
          1118.58,
          1082.72,
          1075.71,
          1459.93,
          1462.76,
          1269.64,
          1455.65,
          1330.46,
          972.5,
          1161.91,
          1117.17,
          1101.51,
          1257,
          1434.51,
          1628,
          1362.87,
          1134.68,
          1538.6,
          1282.93,
          1338.4,
          949.44,
          1181.46,
          1187.53,
          845.16,
          814.96,
          1575.86,
          942.51,
          1056.71,
          1255.68,
          1335.13,
          1178.95,
          1008.38,
          1396.83,
          1402.78,
          1437.88,
          1313.64,
          1482.14,
          1171.75,
          1480.79,
          1453.92,
          1340.71,
          1376.16,
          1096.79,
          1078.22,
          1595.28,
          1217.84,
          1117.42,
          1567.37,
          1441.21,
          1233.96,
          1390.29,
          1418.5,
          1326.98,
          1331.69,
          1486.04,
          1525.86,
          854.58,
          1132.74,
          1173.37,
          1188.28,
          1143.95,
          1070.63,
          1474.66,
          1437.53,
          1304.83,
          1168.8,
          1164.97,
          1187.01,
          1137.02,
          796.35,
          1270.02,
          1383.13,
          1290.74,
          1216.68,
          1251.16,
          1586.41,
          1526.11,
          1028.44,
          1170.53,
          1099.95,
          1275.62,
          1009.37,
          1093.07,
          1325.44,
          1017.18,
          1221.17,
          978.27,
          1496.44,
          1256.2,
          1433.24,
          1231.25,
          1118.76,
          1231.98,
          1005.47,
          1108.97,
          1392.39,
          1260.56,
          1021.14,
          1003.15,
          1631.1,
          979.73,
          1389.86,
          1233.85,
          1320.39,
          1435.09,
          1448.54,
          1106.77,
          995.7,
          1298.85,
          1276.73,
          1008.79,
          1664.66,
          1151.39,
          1546.01,
          1339.39,
          984.02,
          987.42,
          1119.29,
          1048.39,
          1555.52,
          625.08,
          1133.27,
          1366.6,
          1439.9,
          1307.68,
          1124.69,
          1520.78,
          1295.87,
          1441.06,
          1097.99,
          1464.42,
          1543.68,
          1148.58,
          1045.12,
          1537.33,
          1007.28,
          1189.98,
          671.01,
          1295.63,
          1459.96,
          1219.94,
          959.83,
          1223.39,
          988.06,
          1740.57,
          948.1,
          1471.24,
          1484.72,
          1581.27,
          1281.25,
          803.36,
          1221.41,
          1434.27,
          1114.68,
          1218.56,
          1234.69,
          964.92,
          1389.59,
          1353.53,
          1294.04,
          840.81,
          998.19,
          1395.77,
          1265.72,
          1655.79,
          1422.21,
          838.02,
          985.97,
          1129.23,
          1194.83,
          1114.29,
          1509.04,
          664.86,
          1119.23,
          1422.78,
          1212.75,
          976.37,
          1453.95,
          1969.63,
          1156.19,
          1124.47,
          1493.5,
          1155.38,
          1261.28,
          919.37,
          1377.23,
          484.67,
          1561.41,
          1457.21,
          1128.71,
          1358.2,
          1232.79,
          1302.34,
          1467.76,
          1124.43,
          1482.53,
          1328.18,
          1463.95,
          1037.32,
          1562.8,
          1425.79,
          1615.14,
          1017.97,
          1299.18,
          1469.75,
          1694.09,
          1310.71,
          855.14,
          1568.47,
          1550.53,
          1363.59,
          828.42,
          1209.63,
          1347.31,
          1687.53,
          1537.13,
          1173.25,
          1361.16,
          1422.56,
          1143.06,
          1405.71,
          1354.2,
          1232.57,
          1324.78,
          1518.54,
          1239.06,
          1246.68,
          1622.67,
          1082.36,
          1236.32,
          1265.84,
          1508.9,
          974.84,
          1304.46,
          1257.36,
          719.52,
          1395.58,
          1189.04,
          1375.29,
          1387.51,
          1212.07,
          1488.26,
          954.18,
          1023.11,
          1524.45,
          1653.32,
          1022.46,
          1396.43,
          1521.55,
          1034.27,
          1255.35,
          1396.89,
          982.22,
          1074.07,
          1311.3,
          1277.12,
          1388.62,
          1558.29,
          1896.91,
          1073.83,
          1051.67,
          1851.78,
          1459.99,
          1253.44,
          1142.48,
          1188.45,
          1035.99,
          911.53,
          1319.97,
          915.41,
          1588.26,
          912.29,
          1281.43,
          1101.85,
          979.26,
          920.81,
          1381.14,
          951.27,
          1341.24,
          1177.57,
          1055.09,
          1169.62,
          1516.34,
          1270.21,
          1115.81,
          1457.65,
          1041.36,
          1685.69,
          1054.92,
          1333.97,
          1013.61,
          958.3,
          1112.04,
          1206.26,
          1263.48,
          1006.99,
          1250.08,
          982.7,
          1412.06,
          1066.7,
          1416.08,
          1387.7,
          1107.07,
          1429.96,
          1074.99,
          1007,
          1052.85,
          1200.33,
          1441.6,
          1433.42,
          1368.57,
          1863.04,
          951.56,
          1533.71,
          1200.09,
          988.93,
          1331.94,
          840.95,
          1672.88,
          1248.05,
          1564.43,
          1310.8,
          1436.79,
          1383.49,
          766.19
         ],
         "yaxis": "y2"
        }
       ],
       "layout": {
        "barmode": "overlay",
        "legend": {
         "title": {
          "text": "insured_sex"
         },
         "tracegroupgap": 0
        },
        "margin": {
         "t": 60
        },
        "template": {
         "data": {
          "bar": [
           {
            "error_x": {
             "color": "#2a3f5f"
            },
            "error_y": {
             "color": "#2a3f5f"
            },
            "marker": {
             "line": {
              "color": "#E5ECF6",
              "width": 0.5
             },
             "pattern": {
              "fillmode": "overlay",
              "size": 10,
              "solidity": 0.2
             }
            },
            "type": "bar"
           }
          ],
          "barpolar": [
           {
            "marker": {
             "line": {
              "color": "#E5ECF6",
              "width": 0.5
             },
             "pattern": {
              "fillmode": "overlay",
              "size": 10,
              "solidity": 0.2
             }
            },
            "type": "barpolar"
           }
          ],
          "carpet": [
           {
            "aaxis": {
             "endlinecolor": "#2a3f5f",
             "gridcolor": "white",
             "linecolor": "white",
             "minorgridcolor": "white",
             "startlinecolor": "#2a3f5f"
            },
            "baxis": {
             "endlinecolor": "#2a3f5f",
             "gridcolor": "white",
             "linecolor": "white",
             "minorgridcolor": "white",
             "startlinecolor": "#2a3f5f"
            },
            "type": "carpet"
           }
          ],
          "choropleth": [
           {
            "colorbar": {
             "outlinewidth": 0,
             "ticks": ""
            },
            "type": "choropleth"
           }
          ],
          "contour": [
           {
            "colorbar": {
             "outlinewidth": 0,
             "ticks": ""
            },
            "colorscale": [
             [
              0,
              "#0d0887"
             ],
             [
              0.1111111111111111,
              "#46039f"
             ],
             [
              0.2222222222222222,
              "#7201a8"
             ],
             [
              0.3333333333333333,
              "#9c179e"
             ],
             [
              0.4444444444444444,
              "#bd3786"
             ],
             [
              0.5555555555555556,
              "#d8576b"
             ],
             [
              0.6666666666666666,
              "#ed7953"
             ],
             [
              0.7777777777777778,
              "#fb9f3a"
             ],
             [
              0.8888888888888888,
              "#fdca26"
             ],
             [
              1,
              "#f0f921"
             ]
            ],
            "type": "contour"
           }
          ],
          "contourcarpet": [
           {
            "colorbar": {
             "outlinewidth": 0,
             "ticks": ""
            },
            "type": "contourcarpet"
           }
          ],
          "heatmap": [
           {
            "colorbar": {
             "outlinewidth": 0,
             "ticks": ""
            },
            "colorscale": [
             [
              0,
              "#0d0887"
             ],
             [
              0.1111111111111111,
              "#46039f"
             ],
             [
              0.2222222222222222,
              "#7201a8"
             ],
             [
              0.3333333333333333,
              "#9c179e"
             ],
             [
              0.4444444444444444,
              "#bd3786"
             ],
             [
              0.5555555555555556,
              "#d8576b"
             ],
             [
              0.6666666666666666,
              "#ed7953"
             ],
             [
              0.7777777777777778,
              "#fb9f3a"
             ],
             [
              0.8888888888888888,
              "#fdca26"
             ],
             [
              1,
              "#f0f921"
             ]
            ],
            "type": "heatmap"
           }
          ],
          "heatmapgl": [
           {
            "colorbar": {
             "outlinewidth": 0,
             "ticks": ""
            },
            "colorscale": [
             [
              0,
              "#0d0887"
             ],
             [
              0.1111111111111111,
              "#46039f"
             ],
             [
              0.2222222222222222,
              "#7201a8"
             ],
             [
              0.3333333333333333,
              "#9c179e"
             ],
             [
              0.4444444444444444,
              "#bd3786"
             ],
             [
              0.5555555555555556,
              "#d8576b"
             ],
             [
              0.6666666666666666,
              "#ed7953"
             ],
             [
              0.7777777777777778,
              "#fb9f3a"
             ],
             [
              0.8888888888888888,
              "#fdca26"
             ],
             [
              1,
              "#f0f921"
             ]
            ],
            "type": "heatmapgl"
           }
          ],
          "histogram": [
           {
            "marker": {
             "pattern": {
              "fillmode": "overlay",
              "size": 10,
              "solidity": 0.2
             }
            },
            "type": "histogram"
           }
          ],
          "histogram2d": [
           {
            "colorbar": {
             "outlinewidth": 0,
             "ticks": ""
            },
            "colorscale": [
             [
              0,
              "#0d0887"
             ],
             [
              0.1111111111111111,
              "#46039f"
             ],
             [
              0.2222222222222222,
              "#7201a8"
             ],
             [
              0.3333333333333333,
              "#9c179e"
             ],
             [
              0.4444444444444444,
              "#bd3786"
             ],
             [
              0.5555555555555556,
              "#d8576b"
             ],
             [
              0.6666666666666666,
              "#ed7953"
             ],
             [
              0.7777777777777778,
              "#fb9f3a"
             ],
             [
              0.8888888888888888,
              "#fdca26"
             ],
             [
              1,
              "#f0f921"
             ]
            ],
            "type": "histogram2d"
           }
          ],
          "histogram2dcontour": [
           {
            "colorbar": {
             "outlinewidth": 0,
             "ticks": ""
            },
            "colorscale": [
             [
              0,
              "#0d0887"
             ],
             [
              0.1111111111111111,
              "#46039f"
             ],
             [
              0.2222222222222222,
              "#7201a8"
             ],
             [
              0.3333333333333333,
              "#9c179e"
             ],
             [
              0.4444444444444444,
              "#bd3786"
             ],
             [
              0.5555555555555556,
              "#d8576b"
             ],
             [
              0.6666666666666666,
              "#ed7953"
             ],
             [
              0.7777777777777778,
              "#fb9f3a"
             ],
             [
              0.8888888888888888,
              "#fdca26"
             ],
             [
              1,
              "#f0f921"
             ]
            ],
            "type": "histogram2dcontour"
           }
          ],
          "mesh3d": [
           {
            "colorbar": {
             "outlinewidth": 0,
             "ticks": ""
            },
            "type": "mesh3d"
           }
          ],
          "parcoords": [
           {
            "line": {
             "colorbar": {
              "outlinewidth": 0,
              "ticks": ""
             }
            },
            "type": "parcoords"
           }
          ],
          "pie": [
           {
            "automargin": true,
            "type": "pie"
           }
          ],
          "scatter": [
           {
            "fillpattern": {
             "fillmode": "overlay",
             "size": 10,
             "solidity": 0.2
            },
            "type": "scatter"
           }
          ],
          "scatter3d": [
           {
            "line": {
             "colorbar": {
              "outlinewidth": 0,
              "ticks": ""
             }
            },
            "marker": {
             "colorbar": {
              "outlinewidth": 0,
              "ticks": ""
             }
            },
            "type": "scatter3d"
           }
          ],
          "scattercarpet": [
           {
            "marker": {
             "colorbar": {
              "outlinewidth": 0,
              "ticks": ""
             }
            },
            "type": "scattercarpet"
           }
          ],
          "scattergeo": [
           {
            "marker": {
             "colorbar": {
              "outlinewidth": 0,
              "ticks": ""
             }
            },
            "type": "scattergeo"
           }
          ],
          "scattergl": [
           {
            "marker": {
             "colorbar": {
              "outlinewidth": 0,
              "ticks": ""
             }
            },
            "type": "scattergl"
           }
          ],
          "scattermapbox": [
           {
            "marker": {
             "colorbar": {
              "outlinewidth": 0,
              "ticks": ""
             }
            },
            "type": "scattermapbox"
           }
          ],
          "scatterpolar": [
           {
            "marker": {
             "colorbar": {
              "outlinewidth": 0,
              "ticks": ""
             }
            },
            "type": "scatterpolar"
           }
          ],
          "scatterpolargl": [
           {
            "marker": {
             "colorbar": {
              "outlinewidth": 0,
              "ticks": ""
             }
            },
            "type": "scatterpolargl"
           }
          ],
          "scatterternary": [
           {
            "marker": {
             "colorbar": {
              "outlinewidth": 0,
              "ticks": ""
             }
            },
            "type": "scatterternary"
           }
          ],
          "surface": [
           {
            "colorbar": {
             "outlinewidth": 0,
             "ticks": ""
            },
            "colorscale": [
             [
              0,
              "#0d0887"
             ],
             [
              0.1111111111111111,
              "#46039f"
             ],
             [
              0.2222222222222222,
              "#7201a8"
             ],
             [
              0.3333333333333333,
              "#9c179e"
             ],
             [
              0.4444444444444444,
              "#bd3786"
             ],
             [
              0.5555555555555556,
              "#d8576b"
             ],
             [
              0.6666666666666666,
              "#ed7953"
             ],
             [
              0.7777777777777778,
              "#fb9f3a"
             ],
             [
              0.8888888888888888,
              "#fdca26"
             ],
             [
              1,
              "#f0f921"
             ]
            ],
            "type": "surface"
           }
          ],
          "table": [
           {
            "cells": {
             "fill": {
              "color": "#EBF0F8"
             },
             "line": {
              "color": "white"
             }
            },
            "header": {
             "fill": {
              "color": "#C8D4E3"
             },
             "line": {
              "color": "white"
             }
            },
            "type": "table"
           }
          ]
         },
         "layout": {
          "annotationdefaults": {
           "arrowcolor": "#2a3f5f",
           "arrowhead": 0,
           "arrowwidth": 1
          },
          "autotypenumbers": "strict",
          "coloraxis": {
           "colorbar": {
            "outlinewidth": 0,
            "ticks": ""
           }
          },
          "colorscale": {
           "diverging": [
            [
             0,
             "#8e0152"
            ],
            [
             0.1,
             "#c51b7d"
            ],
            [
             0.2,
             "#de77ae"
            ],
            [
             0.3,
             "#f1b6da"
            ],
            [
             0.4,
             "#fde0ef"
            ],
            [
             0.5,
             "#f7f7f7"
            ],
            [
             0.6,
             "#e6f5d0"
            ],
            [
             0.7,
             "#b8e186"
            ],
            [
             0.8,
             "#7fbc41"
            ],
            [
             0.9,
             "#4d9221"
            ],
            [
             1,
             "#276419"
            ]
           ],
           "sequential": [
            [
             0,
             "#0d0887"
            ],
            [
             0.1111111111111111,
             "#46039f"
            ],
            [
             0.2222222222222222,
             "#7201a8"
            ],
            [
             0.3333333333333333,
             "#9c179e"
            ],
            [
             0.4444444444444444,
             "#bd3786"
            ],
            [
             0.5555555555555556,
             "#d8576b"
            ],
            [
             0.6666666666666666,
             "#ed7953"
            ],
            [
             0.7777777777777778,
             "#fb9f3a"
            ],
            [
             0.8888888888888888,
             "#fdca26"
            ],
            [
             1,
             "#f0f921"
            ]
           ],
           "sequentialminus": [
            [
             0,
             "#0d0887"
            ],
            [
             0.1111111111111111,
             "#46039f"
            ],
            [
             0.2222222222222222,
             "#7201a8"
            ],
            [
             0.3333333333333333,
             "#9c179e"
            ],
            [
             0.4444444444444444,
             "#bd3786"
            ],
            [
             0.5555555555555556,
             "#d8576b"
            ],
            [
             0.6666666666666666,
             "#ed7953"
            ],
            [
             0.7777777777777778,
             "#fb9f3a"
            ],
            [
             0.8888888888888888,
             "#fdca26"
            ],
            [
             1,
             "#f0f921"
            ]
           ]
          },
          "colorway": [
           "#636efa",
           "#EF553B",
           "#00cc96",
           "#ab63fa",
           "#FFA15A",
           "#19d3f3",
           "#FF6692",
           "#B6E880",
           "#FF97FF",
           "#FECB52"
          ],
          "font": {
           "color": "#2a3f5f"
          },
          "geo": {
           "bgcolor": "white",
           "lakecolor": "white",
           "landcolor": "#E5ECF6",
           "showlakes": true,
           "showland": true,
           "subunitcolor": "white"
          },
          "hoverlabel": {
           "align": "left"
          },
          "hovermode": "closest",
          "mapbox": {
           "style": "light"
          },
          "paper_bgcolor": "white",
          "plot_bgcolor": "#E5ECF6",
          "polar": {
           "angularaxis": {
            "gridcolor": "white",
            "linecolor": "white",
            "ticks": ""
           },
           "bgcolor": "#E5ECF6",
           "radialaxis": {
            "gridcolor": "white",
            "linecolor": "white",
            "ticks": ""
           }
          },
          "scene": {
           "xaxis": {
            "backgroundcolor": "#E5ECF6",
            "gridcolor": "white",
            "gridwidth": 2,
            "linecolor": "white",
            "showbackground": true,
            "ticks": "",
            "zerolinecolor": "white"
           },
           "yaxis": {
            "backgroundcolor": "#E5ECF6",
            "gridcolor": "white",
            "gridwidth": 2,
            "linecolor": "white",
            "showbackground": true,
            "ticks": "",
            "zerolinecolor": "white"
           },
           "zaxis": {
            "backgroundcolor": "#E5ECF6",
            "gridcolor": "white",
            "gridwidth": 2,
            "linecolor": "white",
            "showbackground": true,
            "ticks": "",
            "zerolinecolor": "white"
           }
          },
          "shapedefaults": {
           "line": {
            "color": "#2a3f5f"
           }
          },
          "ternary": {
           "aaxis": {
            "gridcolor": "white",
            "linecolor": "white",
            "ticks": ""
           },
           "baxis": {
            "gridcolor": "white",
            "linecolor": "white",
            "ticks": ""
           },
           "bgcolor": "#E5ECF6",
           "caxis": {
            "gridcolor": "white",
            "linecolor": "white",
            "ticks": ""
           }
          },
          "title": {
           "x": 0.05
          },
          "xaxis": {
           "automargin": true,
           "gridcolor": "white",
           "linecolor": "white",
           "ticks": "",
           "title": {
            "standoff": 15
           },
           "zerolinecolor": "white",
           "zerolinewidth": 2
          },
          "yaxis": {
           "automargin": true,
           "gridcolor": "white",
           "linecolor": "white",
           "ticks": "",
           "title": {
            "standoff": 15
           },
           "zerolinecolor": "white",
           "zerolinewidth": 2
          }
         }
        },
        "xaxis": {
         "anchor": "y",
         "domain": [
          0,
          0.7363
         ],
         "title": {
          "text": "total_claim_amount"
         }
        },
        "xaxis2": {
         "anchor": "y2",
         "domain": [
          0.7413,
          1
         ],
         "matches": "x2",
         "showgrid": true,
         "showline": false,
         "showticklabels": false,
         "ticks": ""
        },
        "xaxis3": {
         "anchor": "y3",
         "domain": [
          0,
          0.7363
         ],
         "matches": "x",
         "showgrid": true,
         "showticklabels": false
        },
        "xaxis4": {
         "anchor": "y4",
         "domain": [
          0.7413,
          1
         ],
         "matches": "x2",
         "showgrid": true,
         "showline": false,
         "showticklabels": false,
         "ticks": ""
        },
        "yaxis": {
         "anchor": "x",
         "domain": [
          0,
          0.7326
         ],
         "title": {
          "text": "policy_annual_premium"
         }
        },
        "yaxis2": {
         "anchor": "x2",
         "domain": [
          0,
          0.7326
         ],
         "matches": "y",
         "showgrid": true,
         "showticklabels": false
        },
        "yaxis3": {
         "anchor": "x3",
         "domain": [
          0.7426,
          1
         ],
         "matches": "y3",
         "showgrid": false,
         "showline": false,
         "showticklabels": false,
         "ticks": ""
        },
        "yaxis4": {
         "anchor": "x4",
         "domain": [
          0.7426,
          1
         ],
         "matches": "y3",
         "showgrid": true,
         "showline": false,
         "showticklabels": false,
         "ticks": ""
        }
       }
      },
      "text/html": [
       "<div>                            <div id=\"79c5a940-c2e8-4bda-bf7c-a5f7763cbf7f\" class=\"plotly-graph-div\" style=\"height:525px; width:100%;\"></div>            <script type=\"text/javascript\">                require([\"plotly\"], function(Plotly) {                    window.PLOTLYENV=window.PLOTLYENV || {};                                    if (document.getElementById(\"79c5a940-c2e8-4bda-bf7c-a5f7763cbf7f\")) {                    Plotly.newPlot(                        \"79c5a940-c2e8-4bda-bf7c-a5f7763cbf7f\",                        [{\"hovertemplate\":\"insured_sex=MALE<br>total_claim_amount=%{x}<br>policy_annual_premium=%{y}<extra></extra>\",\"legendgroup\":\"MALE\",\"marker\":{\"color\":\"#636efa\",\"symbol\":\"circle\"},\"mode\":\"markers\",\"name\":\"MALE\",\"orientation\":\"v\",\"showlegend\":true,\"x\":[71610,5070,6500,78650,51590,42300,56520,52110,77880,47160,71520,98160,77880,71500,9020,5720,75600,67140,77110,64800,53100,60170,40000,97080,56400,62800,81800,4300,2640,78900,65790,69480,44280,56300,68520,59130,68530,4300,59730,50800,7500,6490,60940,58300,5900,64890,5600,93480,4320,70000,81070,57720,7080,47700,70400,69300,36300,40320,63840,84720,61500,78120,52030,5170,8190,70800,64000,71680,48060,63570,37280,72100,78240,64000,6700,51740,53600,44910,79600,77040,4950,51100,81840,54900,88660,5390,50490,7040,40160,55680,5300,59400,5760,76700,64350,19080,72000,65070,8800,7080,34320,81070,7200,60190,61380,57060,73500,33550,79750,53600,76560,41130,78650,3200,5900,80850,53640,50500,57690,59000,70600,61490,53280,41490,85300,71760,64080,60390,59900,63910,94160,51570,101010,53400,77100,63720,93730,87300,5670,65800,77440,45700,31350,68000,90600,74280,63600,32800,50400,88400,65780,51810,55660,44640,53440,44280,70290,50380,57860,6240,70920,39480,67650,78000,65040,82800,61700,4500,77800,52560,62280,45500,53040,50800,49950,56430,49140,62460,62810,51480,65520,47700,73320,74900,76920,59670,82830,53020,43230,94560,7800,5000,81120,91260,64800,58200,55700,58500,59940,73400,41850,5900,57330,81960,68750,95150,7480,79800,59520,84590,61650,64620,90480,6490,63800,58160,6300,104610,69850,59670,81500,50000,48290,59070,65780,75400,2250,69480,80280,4680,39720,63580,49800,57330,62920,74160,80100,58800,87960,47800,77000,47740,79080,6820,63580,4700,43280,75460,69000,8640,67210,42500,86400,4620,77330,4950,5160,42900,84100,32280,84600,69700,36400,67770,47400,71100,69400,55000,51090,64200,67320,76120,68090,5100,4590,70900,66780,58500,43700,64080,55000,71640,61740,59400,54890,74030,79560,4900,77770,40600,45270,3200,78980,6160,72840,6050,53800,5490,7370,41520,53460,77440,68300,5060,59400,68750,95000,3900,59400,43600,62800,59500,62880,46200,58500,66240,64200,4320,4200,57970,4320,60480,2640,6050,42700,40260,50000,95900,56160,63030,6600,77200,47300,2640,60190,51390,70200,4900,50380,55400,49900,74880,7150,55800,5830,7110,36960,1920,86130,50700,51840,9100,40800,84500,71610,60600,81240,38640,41490,87900,53400,52030,82060,68200,60750,57900,37800,31680,60480,5060,50050,59070,28440,5830,46200,56160,44400,92730,34800,4950,48000,52200,55200,74800,4100,61490,7200,66660,84920,69080,5600,9000,51600,48870,54960,52700,90860,5700,94930,46800,83490,49410,66200,64080,48950,40810,44200,61440,58560,67300,36740,61320,79680,6400,2640,8970,6000,55200,7260,69400,60000,67320,64300,64400,5500,65430,42680,87780,3600,62640,69630,76010,44220,3080,74690,4620,51400,53400,70830,68040,60840,4620,45100,83160,48000,90400,6600,74140,55400,49100,53280,82170,61100,51900,51390,76900,77000,60320,46980,36700,60200,6480,46980],\"xaxis\":\"x\",\"y\":[1406.91,1197.22,1583.91,1333.35,1137.03,1315.68,1215.36,1199.44,708.64,1187.96,972.18,1268.79,883.31,1266.92,1322.1,848.07,954.16,1337.28,1558.29,1415.68,1334.15,1262.08,1451.62,1737.66,1081.08,1273.7,1326.62,1530.52,1393.57,1276.57,1470.06,795.23,1168.2,993.51,1848.81,1641.73,1061.33,1279.08,1307.11,1340.43,1234.2,1318.06,769.95,1514.72,1322.78,1352.83,969.5,1495.1,1141.62,1298.91,1222.75,1059.52,1124.38,1110.37,1103.58,1167.3,1302.4,1588.55,1352.31,1397.67,823.17,1624.82,1221.22,968.74,1220.71,1238.62,1398.51,1384.51,1046.71,1158.03,1275.39,1402.75,1197.71,1362.29,1241.97,1124.6,1079.92,1447.78,897.89,1706.79,1046.58,1712.68,1382.88,1141.35,1054.83,1440.68,1086.21,1215.85,1191.19,1594.45,1463.07,1411.43,1153.35,1722.95,1011.92,1042.26,1301.72,1451.54,767.14,1048.46,1538.26,1279.13,1019.44,1515.18,1649.18,1198.34,1212.0,1138.42,1219.04,1371.78,1506.21,1058.21,932.14,773.99,433.33,1459.97,1050.76,1153.49,1281.25,1134.08,1483.91,1304.67,1665.45,1080.13,1589.54,1083.01,1219.27,1411.3,1407.01,1004.63,1338.54,782.23,1275.81,1090.65,972.47,1097.64,1018.73,1400.74,1155.53,1386.93,1086.48,1247.87,765.64,1338.55,1372.18,1454.42,1616.58,1611.83,1252.08,995.56,1724.09,1379.93,1554.64,1377.94,1399.27,1365.46,894.4,1123.89,988.29,1238.89,1595.07,1127.89,1829.63,1216.56,1573.93,1609.67,1097.57,1342.02,1527.95,1366.39,736.07,1260.32,1464.03,617.11,1091.73,1209.07,1757.21,1342.72,1209.41,1464.73,1117.04,1257.83,1191.8,1242.02,969.88,1245.61,1398.46,1140.31,1190.6,1523.17,984.45,1412.31,1306.78,1021.9,1354.5,1346.27,977.4,1442.27,1276.43,1075.41,1111.72,1115.27,1175.7,793.15,1793.16,1353.33,1175.51,1836.02,714.03,914.22,1601.47,1294.93,1152.12,1575.74,1861.43,1570.86,791.47,1012.78,1047.06,951.46,1226.78,1280.9,1472.77,1878.44,1532.8,1304.35,1551.61,862.92,870.55,1344.56,1377.04,1237.88,770.76,876.88,1409.06,916.13,1191.5,1193.45,1232.72,1800.76,1559.34,1281.72,1555.94,1570.77,1472.43,1292.3,1927.87,1221.14,1255.62,999.52,1380.89,1010.77,1205.86,1526.61,1268.35,1421.59,1500.04,1135.43,945.73,1317.97,1588.22,900.02,1744.64,1285.09,1537.07,1022.42,1558.86,1757.87,973.5,1430.8,1192.27,1163.83,1153.54,1252.48,1677.26,989.24,1733.56,1533.07,1202.28,671.92,1358.03,1141.1,1397.0,1063.67,709.14,1039.55,1202.75,1081.17,991.39,1354.83,830.31,1074.47,1230.76,1255.02,836.11,1450.98,1230.69,1609.11,1358.91,1161.03,1390.89,1616.26,1398.94,1238.92,968.46,912.3,1576.41,1172.82,1312.22,895.14,1373.21,1625.65,1064.49,1767.02,1285.01,1422.95,1539.06,1540.91,1381.88,1446.98,1220.86,1157.97,566.11,1060.88,1524.45,1556.17,1216.24,1203.81,1393.34,1484.48,1667.83,1497.41,1865.83,1351.72,817.28,1090.32,1780.67,1681.01,1471.44,1274.7,1330.39,1122.95,935.77,1192.04,990.11,914.85,1123.84,1300.68,1173.21,1267.4,1698.51,1423.34,1124.59,1569.33,1359.36,1607.36,1042.25,878.19,1145.85,1427.46,1592.41,1274.63,1362.31,995.55,1508.12,936.19,1264.99,1319.81,1133.85,1236.5,1306.0,1174.14,1231.01,1390.72,1140.15,1730.49,1616.65,1935.85,1370.92,1111.17,989.97,1114.23,1183.48,1055.6,999.43,1155.97,1726.91,1078.65,1270.55,785.82,1106.84,1389.13,1257.04,1524.18,1243.68,1389.13,1178.61,1166.62,1556.31,1452.27,1578.54,1096.39,1215.36,1482.57,1193.4,795.31,1406.52,1132.47,1143.46,1285.42,1305.26,1387.35,1083.64,1270.29,1125.4,1294.41,1459.5,1367.99,1594.37,1391.63,1468.82,1412.76,1140.91,1517.54,1144.3,1082.1,1185.44,1175.07,922.85,1107.59,1272.46,1340.24,1648.0,1198.44,1479.48,1827.38,809.11,1693.83,763.67,1042.56,1328.26,1585.54,1246.03,1356.64,1004.14,1343.0,862.19,871.46,1181.64,1060.74,1093.83,1361.45,1188.51,1101.83,1503.21,1722.5,944.03,1453.61,1280.88,722.66,1235.14,1347.04,1356.92],\"yaxis\":\"y\",\"type\":\"scatter\"},{\"alignmentgroup\":\"True\",\"hovertemplate\":\"insured_sex=MALE<br>total_claim_amount=%{x}<extra></extra>\",\"legendgroup\":\"MALE\",\"marker\":{\"color\":\"#636efa\",\"symbol\":\"circle\"},\"name\":\"MALE\",\"notched\":true,\"offsetgroup\":\"MALE\",\"showlegend\":false,\"x\":[71610,5070,6500,78650,51590,42300,56520,52110,77880,47160,71520,98160,77880,71500,9020,5720,75600,67140,77110,64800,53100,60170,40000,97080,56400,62800,81800,4300,2640,78900,65790,69480,44280,56300,68520,59130,68530,4300,59730,50800,7500,6490,60940,58300,5900,64890,5600,93480,4320,70000,81070,57720,7080,47700,70400,69300,36300,40320,63840,84720,61500,78120,52030,5170,8190,70800,64000,71680,48060,63570,37280,72100,78240,64000,6700,51740,53600,44910,79600,77040,4950,51100,81840,54900,88660,5390,50490,7040,40160,55680,5300,59400,5760,76700,64350,19080,72000,65070,8800,7080,34320,81070,7200,60190,61380,57060,73500,33550,79750,53600,76560,41130,78650,3200,5900,80850,53640,50500,57690,59000,70600,61490,53280,41490,85300,71760,64080,60390,59900,63910,94160,51570,101010,53400,77100,63720,93730,87300,5670,65800,77440,45700,31350,68000,90600,74280,63600,32800,50400,88400,65780,51810,55660,44640,53440,44280,70290,50380,57860,6240,70920,39480,67650,78000,65040,82800,61700,4500,77800,52560,62280,45500,53040,50800,49950,56430,49140,62460,62810,51480,65520,47700,73320,74900,76920,59670,82830,53020,43230,94560,7800,5000,81120,91260,64800,58200,55700,58500,59940,73400,41850,5900,57330,81960,68750,95150,7480,79800,59520,84590,61650,64620,90480,6490,63800,58160,6300,104610,69850,59670,81500,50000,48290,59070,65780,75400,2250,69480,80280,4680,39720,63580,49800,57330,62920,74160,80100,58800,87960,47800,77000,47740,79080,6820,63580,4700,43280,75460,69000,8640,67210,42500,86400,4620,77330,4950,5160,42900,84100,32280,84600,69700,36400,67770,47400,71100,69400,55000,51090,64200,67320,76120,68090,5100,4590,70900,66780,58500,43700,64080,55000,71640,61740,59400,54890,74030,79560,4900,77770,40600,45270,3200,78980,6160,72840,6050,53800,5490,7370,41520,53460,77440,68300,5060,59400,68750,95000,3900,59400,43600,62800,59500,62880,46200,58500,66240,64200,4320,4200,57970,4320,60480,2640,6050,42700,40260,50000,95900,56160,63030,6600,77200,47300,2640,60190,51390,70200,4900,50380,55400,49900,74880,7150,55800,5830,7110,36960,1920,86130,50700,51840,9100,40800,84500,71610,60600,81240,38640,41490,87900,53400,52030,82060,68200,60750,57900,37800,31680,60480,5060,50050,59070,28440,5830,46200,56160,44400,92730,34800,4950,48000,52200,55200,74800,4100,61490,7200,66660,84920,69080,5600,9000,51600,48870,54960,52700,90860,5700,94930,46800,83490,49410,66200,64080,48950,40810,44200,61440,58560,67300,36740,61320,79680,6400,2640,8970,6000,55200,7260,69400,60000,67320,64300,64400,5500,65430,42680,87780,3600,62640,69630,76010,44220,3080,74690,4620,51400,53400,70830,68040,60840,4620,45100,83160,48000,90400,6600,74140,55400,49100,53280,82170,61100,51900,51390,76900,77000,60320,46980,36700,60200,6480,46980],\"xaxis\":\"x3\",\"yaxis\":\"y3\",\"type\":\"box\"},{\"alignmentgroup\":\"True\",\"bingroup\":\"y\",\"hovertemplate\":\"insured_sex=MALE<br>policy_annual_premium=%{y}<br>count=%{x}<extra></extra>\",\"legendgroup\":\"MALE\",\"marker\":{\"color\":\"#636efa\"},\"name\":\"MALE\",\"offsetgroup\":\"MALE\",\"opacity\":0.5,\"showlegend\":false,\"xaxis\":\"x2\",\"y\":[1406.91,1197.22,1583.91,1333.35,1137.03,1315.68,1215.36,1199.44,708.64,1187.96,972.18,1268.79,883.31,1266.92,1322.1,848.07,954.16,1337.28,1558.29,1415.68,1334.15,1262.08,1451.62,1737.66,1081.08,1273.7,1326.62,1530.52,1393.57,1276.57,1470.06,795.23,1168.2,993.51,1848.81,1641.73,1061.33,1279.08,1307.11,1340.43,1234.2,1318.06,769.95,1514.72,1322.78,1352.83,969.5,1495.1,1141.62,1298.91,1222.75,1059.52,1124.38,1110.37,1103.58,1167.3,1302.4,1588.55,1352.31,1397.67,823.17,1624.82,1221.22,968.74,1220.71,1238.62,1398.51,1384.51,1046.71,1158.03,1275.39,1402.75,1197.71,1362.29,1241.97,1124.6,1079.92,1447.78,897.89,1706.79,1046.58,1712.68,1382.88,1141.35,1054.83,1440.68,1086.21,1215.85,1191.19,1594.45,1463.07,1411.43,1153.35,1722.95,1011.92,1042.26,1301.72,1451.54,767.14,1048.46,1538.26,1279.13,1019.44,1515.18,1649.18,1198.34,1212.0,1138.42,1219.04,1371.78,1506.21,1058.21,932.14,773.99,433.33,1459.97,1050.76,1153.49,1281.25,1134.08,1483.91,1304.67,1665.45,1080.13,1589.54,1083.01,1219.27,1411.3,1407.01,1004.63,1338.54,782.23,1275.81,1090.65,972.47,1097.64,1018.73,1400.74,1155.53,1386.93,1086.48,1247.87,765.64,1338.55,1372.18,1454.42,1616.58,1611.83,1252.08,995.56,1724.09,1379.93,1554.64,1377.94,1399.27,1365.46,894.4,1123.89,988.29,1238.89,1595.07,1127.89,1829.63,1216.56,1573.93,1609.67,1097.57,1342.02,1527.95,1366.39,736.07,1260.32,1464.03,617.11,1091.73,1209.07,1757.21,1342.72,1209.41,1464.73,1117.04,1257.83,1191.8,1242.02,969.88,1245.61,1398.46,1140.31,1190.6,1523.17,984.45,1412.31,1306.78,1021.9,1354.5,1346.27,977.4,1442.27,1276.43,1075.41,1111.72,1115.27,1175.7,793.15,1793.16,1353.33,1175.51,1836.02,714.03,914.22,1601.47,1294.93,1152.12,1575.74,1861.43,1570.86,791.47,1012.78,1047.06,951.46,1226.78,1280.9,1472.77,1878.44,1532.8,1304.35,1551.61,862.92,870.55,1344.56,1377.04,1237.88,770.76,876.88,1409.06,916.13,1191.5,1193.45,1232.72,1800.76,1559.34,1281.72,1555.94,1570.77,1472.43,1292.3,1927.87,1221.14,1255.62,999.52,1380.89,1010.77,1205.86,1526.61,1268.35,1421.59,1500.04,1135.43,945.73,1317.97,1588.22,900.02,1744.64,1285.09,1537.07,1022.42,1558.86,1757.87,973.5,1430.8,1192.27,1163.83,1153.54,1252.48,1677.26,989.24,1733.56,1533.07,1202.28,671.92,1358.03,1141.1,1397.0,1063.67,709.14,1039.55,1202.75,1081.17,991.39,1354.83,830.31,1074.47,1230.76,1255.02,836.11,1450.98,1230.69,1609.11,1358.91,1161.03,1390.89,1616.26,1398.94,1238.92,968.46,912.3,1576.41,1172.82,1312.22,895.14,1373.21,1625.65,1064.49,1767.02,1285.01,1422.95,1539.06,1540.91,1381.88,1446.98,1220.86,1157.97,566.11,1060.88,1524.45,1556.17,1216.24,1203.81,1393.34,1484.48,1667.83,1497.41,1865.83,1351.72,817.28,1090.32,1780.67,1681.01,1471.44,1274.7,1330.39,1122.95,935.77,1192.04,990.11,914.85,1123.84,1300.68,1173.21,1267.4,1698.51,1423.34,1124.59,1569.33,1359.36,1607.36,1042.25,878.19,1145.85,1427.46,1592.41,1274.63,1362.31,995.55,1508.12,936.19,1264.99,1319.81,1133.85,1236.5,1306.0,1174.14,1231.01,1390.72,1140.15,1730.49,1616.65,1935.85,1370.92,1111.17,989.97,1114.23,1183.48,1055.6,999.43,1155.97,1726.91,1078.65,1270.55,785.82,1106.84,1389.13,1257.04,1524.18,1243.68,1389.13,1178.61,1166.62,1556.31,1452.27,1578.54,1096.39,1215.36,1482.57,1193.4,795.31,1406.52,1132.47,1143.46,1285.42,1305.26,1387.35,1083.64,1270.29,1125.4,1294.41,1459.5,1367.99,1594.37,1391.63,1468.82,1412.76,1140.91,1517.54,1144.3,1082.1,1185.44,1175.07,922.85,1107.59,1272.46,1340.24,1648.0,1198.44,1479.48,1827.38,809.11,1693.83,763.67,1042.56,1328.26,1585.54,1246.03,1356.64,1004.14,1343.0,862.19,871.46,1181.64,1060.74,1093.83,1361.45,1188.51,1101.83,1503.21,1722.5,944.03,1453.61,1280.88,722.66,1235.14,1347.04,1356.92],\"yaxis\":\"y2\",\"type\":\"histogram\"},{\"hovertemplate\":\"insured_sex=FEMALE<br>total_claim_amount=%{x}<br>policy_annual_premium=%{y}<extra></extra>\",\"legendgroup\":\"FEMALE\",\"marker\":{\"color\":\"#EF553B\",\"symbol\":\"circle\"},\"mode\":\"markers\",\"name\":\"FEMALE\",\"orientation\":\"v\",\"showlegend\":true,\"x\":[34650,63400,64100,27700,87010,114920,7280,46200,63120,72930,60400,37840,69840,91650,29790,60200,5330,62300,51660,51120,55120,77110,7290,76600,7260,70510,56430,2400,62920,82320,89700,33930,68310,61290,30100,57120,42930,51210,89400,8060,72200,6600,68400,64240,4700,45120,66950,98340,70680,93720,6930,72930,5400,79300,52800,28800,2970,79800,74200,70590,60940,74700,51260,90000,72820,76560,55440,77130,42000,3960,44730,51000,46800,69200,3690,65500,76120,73560,45630,99320,47300,112320,82720,63240,54240,6500,6200,6160,76050,86060,107900,99990,61380,71280,5940,48100,6100,62590,85150,100800,90970,18000,5500,73920,101860,55500,5200,2520,5920,54400,59800,6120,53460,81360,63120,70290,28100,49060,77880,88920,47630,59040,79530,53680,69100,71060,38830,53500,73700,6300,65400,75400,58140,98670,64100,55440,7480,63250,59040,5940,47790,3850,57640,6890,78300,68970,3080,59700,64920,37530,64350,70900,46560,4730,6820,79560,70290,6400,66780,8760,52700,72120,3300,5940,7680,36720,52800,59100,80740,35000,84500,75500,64320,31700,80520,44190,66550,77660,5640,3190,65250,87100,64800,70400,66600,63240,74200,64900,35900,52200,67200,63250,68760,78100,65520,42700,5580,3600,2800,54000,48950,44110,74360,6120,26730,66200,44200,62920,100210,66840,54160,48400,51700,5220,3190,77990,44880,84480,79800,24200,3190,5850,6820,69480,61270,71440,55600,95810,69300,60600,66880,60570,69680,62370,54340,55170,6400,3190,70400,3770,7400,54810,49400,61500,76890,56070,56000,4290,60750,48730,103560,79500,76230,47760,81400,58410,38610,57600,53190,58300,7080,55900,62900,63300,54120,66950,64100,73370,86790,77440,42900,53820,53370,61600,6560,53730,60600,35750,42840,3840,88110,58960,2160,6890,78870,2700,75960,75570,90240,80960,62590,52400,61400,74140,83160,10790,48070,51030,76400,6930,41700,24570,53680,61560,44240,57700,108030,54300,37520,79090,85020,6030,72400,65100,64260,79970,56610,84590,5000,5000,54450,61920,4400,57500,8700,77100,61490,74700,47080,40700,34650,85250,87890,60500,88220,53680,54360,54340,2860,50800,89650,39690,62260,51920,57100,69930,77700,91080,48360,60210,53460,41690,63100,75400,65440,32320,33480,69300,32480,3840,63470,44440,57000,2700,55110,4320,68760,74400,35300,41580,58500,79320,82610,78600,66480,64350,105820,85900,64400,82170,50300,44200,66660,78320,105040,51210,52800,55200,67600,29300,76450,49400,90530,8030,63900,79090,48360,52290,65560,70290,45000,61800,64570,70500,57860,63300,44200,100,56340,69740,80880,49390,69360,3740,35860,45540,38700,57240,57700,30700,56600,3960,79500,56000,73260,73800,78200,57060,4680,53100,3520,72900,70700,60170,45100,76400,58300,57310,53100,74700,60500,61050,4560,67800,85320,5940,51370,5400,5590,39800,56160,68580,56320,57900,42500,58850,82400,54240,74200,47430,68200,63900,59300,66900,75400,4200,52650,42240,59490,7700,54400,85690,34160,61740,60600,56320,52250,53900,64680,59200,4700,40500,75690,97080,30700,33480,72800,71190,57200,75790,32670,3870,91520,55000,59400,55260,48780,52380,74360,71800,68240,61050,5590,46860,4290,78500,63600,43560,68160,5170,57700,89520,45180,86130,3300,57200,7590,80080,4800,3900,62900,54200,51800,67800,98280,66550,70400,84590,54560,3440,60700,53280,34290,87200,108480,67500,5060],\"xaxis\":\"x\",\"y\":[1413.14,1415.74,1351.1,1442.99,1253.12,1137.16,936.61,1301.13,1131.4,1374.22,1475.73,875.15,1291.7,1104.5,1088.34,988.45,1222.48,1155.55,1475.93,538.17,1454.43,1240.47,1123.87,1245.89,1073.83,1201.41,1082.49,1414.74,870.63,1362.87,1239.22,835.02,1105.49,1055.53,895.83,1632.93,1405.99,1425.54,1038.09,1489.24,976.67,1267.81,873.64,1612.43,1318.24,1226.83,1326.44,1136.83,1483.25,1515.3,1075.18,1690.27,1148.73,1463.82,1474.17,1497.35,1427.14,1125.37,1207.36,1338.5,1074.07,1337.56,1374.22,1269.76,964.79,1625.45,1394.43,1053.24,1040.75,1399.26,1139.0,965.13,1922.84,1277.25,1439.34,1281.27,1348.83,1198.15,1320.75,990.98,1355.08,847.03,1000.06,1372.27,1053.04,1344.36,1203.24,1152.4,1142.62,1332.07,1166.54,1495.06,1337.92,1587.96,1448.84,1229.16,1226.49,1254.18,885.08,1097.71,1363.77,1057.77,1488.02,920.3,986.53,1367.68,1734.09,1512.58,1281.07,1235.1,768.91,1620.89,1217.69,1362.64,924.72,1314.6,1451.01,978.46,1003.23,1242.96,1053.02,1693.63,2047.59,1083.72,1072.62,1608.34,1728.56,1518.46,1540.19,965.21,1278.75,1532.47,1340.56,1297.75,1025.54,1264.77,1238.65,1711.72,865.33,1342.8,1443.32,1629.94,1035.79,1401.2,653.66,1346.18,1251.65,974.59,1399.85,1307.74,694.45,1006.77,1422.36,1348.32,1315.56,1388.58,1310.76,1134.91,1194.0,1248.25,1366.9,1326.0,806.31,1416.24,947.75,915.29,1239.55,1366.42,1312.75,1327.41,1316.63,1286.44,1447.77,903.32,1603.42,889.13,1347.92,1313.33,1259.02,1371.88,1061.98,956.69,1085.03,1437.33,1384.64,929.7,904.7,1243.84,1030.95,1285.03,966.26,1203.17,1212.12,1618.65,922.67,1195.01,994.74,1050.24,1313.51,1102.29,1185.78,1403.9,927.23,1554.86,974.16,973.8,1724.46,1161.31,1241.04,802.24,1141.71,1090.03,1118.58,1082.72,1075.71,1459.93,1462.76,1269.64,1455.65,1330.46,972.5,1161.91,1117.17,1101.51,1257.0,1434.51,1628.0,1362.87,1134.68,1538.6,1282.93,1338.4,949.44,1181.46,1187.53,845.16,814.96,1575.86,942.51,1056.71,1255.68,1335.13,1178.95,1008.38,1396.83,1402.78,1437.88,1313.64,1482.14,1171.75,1480.79,1453.92,1340.71,1376.16,1096.79,1078.22,1595.28,1217.84,1117.42,1567.37,1441.21,1233.96,1390.29,1418.5,1326.98,1331.69,1486.04,1525.86,854.58,1132.74,1173.37,1188.28,1143.95,1070.63,1474.66,1437.53,1304.83,1168.8,1164.97,1187.01,1137.02,796.35,1270.02,1383.13,1290.74,1216.68,1251.16,1586.41,1526.11,1028.44,1170.53,1099.95,1275.62,1009.37,1093.07,1325.44,1017.18,1221.17,978.27,1496.44,1256.2,1433.24,1231.25,1118.76,1231.98,1005.47,1108.97,1392.39,1260.56,1021.14,1003.15,1631.1,979.73,1389.86,1233.85,1320.39,1435.09,1448.54,1106.77,995.7,1298.85,1276.73,1008.79,1664.66,1151.39,1546.01,1339.39,984.02,987.42,1119.29,1048.39,1555.52,625.08,1133.27,1366.6,1439.9,1307.68,1124.69,1520.78,1295.87,1441.06,1097.99,1464.42,1543.68,1148.58,1045.12,1537.33,1007.28,1189.98,671.01,1295.63,1459.96,1219.94,959.83,1223.39,988.06,1740.57,948.1,1471.24,1484.72,1581.27,1281.25,803.36,1221.41,1434.27,1114.68,1218.56,1234.69,964.92,1389.59,1353.53,1294.04,840.81,998.19,1395.77,1265.72,1655.79,1422.21,838.02,985.97,1129.23,1194.83,1114.29,1509.04,664.86,1119.23,1422.78,1212.75,976.37,1453.95,1969.63,1156.19,1124.47,1493.5,1155.38,1261.28,919.37,1377.23,484.67,1561.41,1457.21,1128.71,1358.2,1232.79,1302.34,1467.76,1124.43,1482.53,1328.18,1463.95,1037.32,1562.8,1425.79,1615.14,1017.97,1299.18,1469.75,1694.09,1310.71,855.14,1568.47,1550.53,1363.59,828.42,1209.63,1347.31,1687.53,1537.13,1173.25,1361.16,1422.56,1143.06,1405.71,1354.2,1232.57,1324.78,1518.54,1239.06,1246.68,1622.67,1082.36,1236.32,1265.84,1508.9,974.84,1304.46,1257.36,719.52,1395.58,1189.04,1375.29,1387.51,1212.07,1488.26,954.18,1023.11,1524.45,1653.32,1022.46,1396.43,1521.55,1034.27,1255.35,1396.89,982.22,1074.07,1311.3,1277.12,1388.62,1558.29,1896.91,1073.83,1051.67,1851.78,1459.99,1253.44,1142.48,1188.45,1035.99,911.53,1319.97,915.41,1588.26,912.29,1281.43,1101.85,979.26,920.81,1381.14,951.27,1341.24,1177.57,1055.09,1169.62,1516.34,1270.21,1115.81,1457.65,1041.36,1685.69,1054.92,1333.97,1013.61,958.3,1112.04,1206.26,1263.48,1006.99,1250.08,982.7,1412.06,1066.7,1416.08,1387.7,1107.07,1429.96,1074.99,1007.0,1052.85,1200.33,1441.6,1433.42,1368.57,1863.04,951.56,1533.71,1200.09,988.93,1331.94,840.95,1672.88,1248.05,1564.43,1310.8,1436.79,1383.49,766.19],\"yaxis\":\"y\",\"type\":\"scatter\"},{\"alignmentgroup\":\"True\",\"hovertemplate\":\"insured_sex=FEMALE<br>total_claim_amount=%{x}<extra></extra>\",\"legendgroup\":\"FEMALE\",\"marker\":{\"color\":\"#EF553B\",\"symbol\":\"circle\"},\"name\":\"FEMALE\",\"notched\":true,\"offsetgroup\":\"FEMALE\",\"showlegend\":false,\"x\":[34650,63400,64100,27700,87010,114920,7280,46200,63120,72930,60400,37840,69840,91650,29790,60200,5330,62300,51660,51120,55120,77110,7290,76600,7260,70510,56430,2400,62920,82320,89700,33930,68310,61290,30100,57120,42930,51210,89400,8060,72200,6600,68400,64240,4700,45120,66950,98340,70680,93720,6930,72930,5400,79300,52800,28800,2970,79800,74200,70590,60940,74700,51260,90000,72820,76560,55440,77130,42000,3960,44730,51000,46800,69200,3690,65500,76120,73560,45630,99320,47300,112320,82720,63240,54240,6500,6200,6160,76050,86060,107900,99990,61380,71280,5940,48100,6100,62590,85150,100800,90970,18000,5500,73920,101860,55500,5200,2520,5920,54400,59800,6120,53460,81360,63120,70290,28100,49060,77880,88920,47630,59040,79530,53680,69100,71060,38830,53500,73700,6300,65400,75400,58140,98670,64100,55440,7480,63250,59040,5940,47790,3850,57640,6890,78300,68970,3080,59700,64920,37530,64350,70900,46560,4730,6820,79560,70290,6400,66780,8760,52700,72120,3300,5940,7680,36720,52800,59100,80740,35000,84500,75500,64320,31700,80520,44190,66550,77660,5640,3190,65250,87100,64800,70400,66600,63240,74200,64900,35900,52200,67200,63250,68760,78100,65520,42700,5580,3600,2800,54000,48950,44110,74360,6120,26730,66200,44200,62920,100210,66840,54160,48400,51700,5220,3190,77990,44880,84480,79800,24200,3190,5850,6820,69480,61270,71440,55600,95810,69300,60600,66880,60570,69680,62370,54340,55170,6400,3190,70400,3770,7400,54810,49400,61500,76890,56070,56000,4290,60750,48730,103560,79500,76230,47760,81400,58410,38610,57600,53190,58300,7080,55900,62900,63300,54120,66950,64100,73370,86790,77440,42900,53820,53370,61600,6560,53730,60600,35750,42840,3840,88110,58960,2160,6890,78870,2700,75960,75570,90240,80960,62590,52400,61400,74140,83160,10790,48070,51030,76400,6930,41700,24570,53680,61560,44240,57700,108030,54300,37520,79090,85020,6030,72400,65100,64260,79970,56610,84590,5000,5000,54450,61920,4400,57500,8700,77100,61490,74700,47080,40700,34650,85250,87890,60500,88220,53680,54360,54340,2860,50800,89650,39690,62260,51920,57100,69930,77700,91080,48360,60210,53460,41690,63100,75400,65440,32320,33480,69300,32480,3840,63470,44440,57000,2700,55110,4320,68760,74400,35300,41580,58500,79320,82610,78600,66480,64350,105820,85900,64400,82170,50300,44200,66660,78320,105040,51210,52800,55200,67600,29300,76450,49400,90530,8030,63900,79090,48360,52290,65560,70290,45000,61800,64570,70500,57860,63300,44200,100,56340,69740,80880,49390,69360,3740,35860,45540,38700,57240,57700,30700,56600,3960,79500,56000,73260,73800,78200,57060,4680,53100,3520,72900,70700,60170,45100,76400,58300,57310,53100,74700,60500,61050,4560,67800,85320,5940,51370,5400,5590,39800,56160,68580,56320,57900,42500,58850,82400,54240,74200,47430,68200,63900,59300,66900,75400,4200,52650,42240,59490,7700,54400,85690,34160,61740,60600,56320,52250,53900,64680,59200,4700,40500,75690,97080,30700,33480,72800,71190,57200,75790,32670,3870,91520,55000,59400,55260,48780,52380,74360,71800,68240,61050,5590,46860,4290,78500,63600,43560,68160,5170,57700,89520,45180,86130,3300,57200,7590,80080,4800,3900,62900,54200,51800,67800,98280,66550,70400,84590,54560,3440,60700,53280,34290,87200,108480,67500,5060],\"xaxis\":\"x3\",\"yaxis\":\"y3\",\"type\":\"box\"},{\"alignmentgroup\":\"True\",\"bingroup\":\"y\",\"hovertemplate\":\"insured_sex=FEMALE<br>policy_annual_premium=%{y}<br>count=%{x}<extra></extra>\",\"legendgroup\":\"FEMALE\",\"marker\":{\"color\":\"#EF553B\"},\"name\":\"FEMALE\",\"offsetgroup\":\"FEMALE\",\"opacity\":0.5,\"showlegend\":false,\"xaxis\":\"x2\",\"y\":[1413.14,1415.74,1351.1,1442.99,1253.12,1137.16,936.61,1301.13,1131.4,1374.22,1475.73,875.15,1291.7,1104.5,1088.34,988.45,1222.48,1155.55,1475.93,538.17,1454.43,1240.47,1123.87,1245.89,1073.83,1201.41,1082.49,1414.74,870.63,1362.87,1239.22,835.02,1105.49,1055.53,895.83,1632.93,1405.99,1425.54,1038.09,1489.24,976.67,1267.81,873.64,1612.43,1318.24,1226.83,1326.44,1136.83,1483.25,1515.3,1075.18,1690.27,1148.73,1463.82,1474.17,1497.35,1427.14,1125.37,1207.36,1338.5,1074.07,1337.56,1374.22,1269.76,964.79,1625.45,1394.43,1053.24,1040.75,1399.26,1139.0,965.13,1922.84,1277.25,1439.34,1281.27,1348.83,1198.15,1320.75,990.98,1355.08,847.03,1000.06,1372.27,1053.04,1344.36,1203.24,1152.4,1142.62,1332.07,1166.54,1495.06,1337.92,1587.96,1448.84,1229.16,1226.49,1254.18,885.08,1097.71,1363.77,1057.77,1488.02,920.3,986.53,1367.68,1734.09,1512.58,1281.07,1235.1,768.91,1620.89,1217.69,1362.64,924.72,1314.6,1451.01,978.46,1003.23,1242.96,1053.02,1693.63,2047.59,1083.72,1072.62,1608.34,1728.56,1518.46,1540.19,965.21,1278.75,1532.47,1340.56,1297.75,1025.54,1264.77,1238.65,1711.72,865.33,1342.8,1443.32,1629.94,1035.79,1401.2,653.66,1346.18,1251.65,974.59,1399.85,1307.74,694.45,1006.77,1422.36,1348.32,1315.56,1388.58,1310.76,1134.91,1194.0,1248.25,1366.9,1326.0,806.31,1416.24,947.75,915.29,1239.55,1366.42,1312.75,1327.41,1316.63,1286.44,1447.77,903.32,1603.42,889.13,1347.92,1313.33,1259.02,1371.88,1061.98,956.69,1085.03,1437.33,1384.64,929.7,904.7,1243.84,1030.95,1285.03,966.26,1203.17,1212.12,1618.65,922.67,1195.01,994.74,1050.24,1313.51,1102.29,1185.78,1403.9,927.23,1554.86,974.16,973.8,1724.46,1161.31,1241.04,802.24,1141.71,1090.03,1118.58,1082.72,1075.71,1459.93,1462.76,1269.64,1455.65,1330.46,972.5,1161.91,1117.17,1101.51,1257.0,1434.51,1628.0,1362.87,1134.68,1538.6,1282.93,1338.4,949.44,1181.46,1187.53,845.16,814.96,1575.86,942.51,1056.71,1255.68,1335.13,1178.95,1008.38,1396.83,1402.78,1437.88,1313.64,1482.14,1171.75,1480.79,1453.92,1340.71,1376.16,1096.79,1078.22,1595.28,1217.84,1117.42,1567.37,1441.21,1233.96,1390.29,1418.5,1326.98,1331.69,1486.04,1525.86,854.58,1132.74,1173.37,1188.28,1143.95,1070.63,1474.66,1437.53,1304.83,1168.8,1164.97,1187.01,1137.02,796.35,1270.02,1383.13,1290.74,1216.68,1251.16,1586.41,1526.11,1028.44,1170.53,1099.95,1275.62,1009.37,1093.07,1325.44,1017.18,1221.17,978.27,1496.44,1256.2,1433.24,1231.25,1118.76,1231.98,1005.47,1108.97,1392.39,1260.56,1021.14,1003.15,1631.1,979.73,1389.86,1233.85,1320.39,1435.09,1448.54,1106.77,995.7,1298.85,1276.73,1008.79,1664.66,1151.39,1546.01,1339.39,984.02,987.42,1119.29,1048.39,1555.52,625.08,1133.27,1366.6,1439.9,1307.68,1124.69,1520.78,1295.87,1441.06,1097.99,1464.42,1543.68,1148.58,1045.12,1537.33,1007.28,1189.98,671.01,1295.63,1459.96,1219.94,959.83,1223.39,988.06,1740.57,948.1,1471.24,1484.72,1581.27,1281.25,803.36,1221.41,1434.27,1114.68,1218.56,1234.69,964.92,1389.59,1353.53,1294.04,840.81,998.19,1395.77,1265.72,1655.79,1422.21,838.02,985.97,1129.23,1194.83,1114.29,1509.04,664.86,1119.23,1422.78,1212.75,976.37,1453.95,1969.63,1156.19,1124.47,1493.5,1155.38,1261.28,919.37,1377.23,484.67,1561.41,1457.21,1128.71,1358.2,1232.79,1302.34,1467.76,1124.43,1482.53,1328.18,1463.95,1037.32,1562.8,1425.79,1615.14,1017.97,1299.18,1469.75,1694.09,1310.71,855.14,1568.47,1550.53,1363.59,828.42,1209.63,1347.31,1687.53,1537.13,1173.25,1361.16,1422.56,1143.06,1405.71,1354.2,1232.57,1324.78,1518.54,1239.06,1246.68,1622.67,1082.36,1236.32,1265.84,1508.9,974.84,1304.46,1257.36,719.52,1395.58,1189.04,1375.29,1387.51,1212.07,1488.26,954.18,1023.11,1524.45,1653.32,1022.46,1396.43,1521.55,1034.27,1255.35,1396.89,982.22,1074.07,1311.3,1277.12,1388.62,1558.29,1896.91,1073.83,1051.67,1851.78,1459.99,1253.44,1142.48,1188.45,1035.99,911.53,1319.97,915.41,1588.26,912.29,1281.43,1101.85,979.26,920.81,1381.14,951.27,1341.24,1177.57,1055.09,1169.62,1516.34,1270.21,1115.81,1457.65,1041.36,1685.69,1054.92,1333.97,1013.61,958.3,1112.04,1206.26,1263.48,1006.99,1250.08,982.7,1412.06,1066.7,1416.08,1387.7,1107.07,1429.96,1074.99,1007.0,1052.85,1200.33,1441.6,1433.42,1368.57,1863.04,951.56,1533.71,1200.09,988.93,1331.94,840.95,1672.88,1248.05,1564.43,1310.8,1436.79,1383.49,766.19],\"yaxis\":\"y2\",\"type\":\"histogram\"}],                        {\"template\":{\"data\":{\"histogram2dcontour\":[{\"type\":\"histogram2dcontour\",\"colorbar\":{\"outlinewidth\":0,\"ticks\":\"\"},\"colorscale\":[[0.0,\"#0d0887\"],[0.1111111111111111,\"#46039f\"],[0.2222222222222222,\"#7201a8\"],[0.3333333333333333,\"#9c179e\"],[0.4444444444444444,\"#bd3786\"],[0.5555555555555556,\"#d8576b\"],[0.6666666666666666,\"#ed7953\"],[0.7777777777777778,\"#fb9f3a\"],[0.8888888888888888,\"#fdca26\"],[1.0,\"#f0f921\"]]}],\"choropleth\":[{\"type\":\"choropleth\",\"colorbar\":{\"outlinewidth\":0,\"ticks\":\"\"}}],\"histogram2d\":[{\"type\":\"histogram2d\",\"colorbar\":{\"outlinewidth\":0,\"ticks\":\"\"},\"colorscale\":[[0.0,\"#0d0887\"],[0.1111111111111111,\"#46039f\"],[0.2222222222222222,\"#7201a8\"],[0.3333333333333333,\"#9c179e\"],[0.4444444444444444,\"#bd3786\"],[0.5555555555555556,\"#d8576b\"],[0.6666666666666666,\"#ed7953\"],[0.7777777777777778,\"#fb9f3a\"],[0.8888888888888888,\"#fdca26\"],[1.0,\"#f0f921\"]]}],\"heatmap\":[{\"type\":\"heatmap\",\"colorbar\":{\"outlinewidth\":0,\"ticks\":\"\"},\"colorscale\":[[0.0,\"#0d0887\"],[0.1111111111111111,\"#46039f\"],[0.2222222222222222,\"#7201a8\"],[0.3333333333333333,\"#9c179e\"],[0.4444444444444444,\"#bd3786\"],[0.5555555555555556,\"#d8576b\"],[0.6666666666666666,\"#ed7953\"],[0.7777777777777778,\"#fb9f3a\"],[0.8888888888888888,\"#fdca26\"],[1.0,\"#f0f921\"]]}],\"heatmapgl\":[{\"type\":\"heatmapgl\",\"colorbar\":{\"outlinewidth\":0,\"ticks\":\"\"},\"colorscale\":[[0.0,\"#0d0887\"],[0.1111111111111111,\"#46039f\"],[0.2222222222222222,\"#7201a8\"],[0.3333333333333333,\"#9c179e\"],[0.4444444444444444,\"#bd3786\"],[0.5555555555555556,\"#d8576b\"],[0.6666666666666666,\"#ed7953\"],[0.7777777777777778,\"#fb9f3a\"],[0.8888888888888888,\"#fdca26\"],[1.0,\"#f0f921\"]]}],\"contourcarpet\":[{\"type\":\"contourcarpet\",\"colorbar\":{\"outlinewidth\":0,\"ticks\":\"\"}}],\"contour\":[{\"type\":\"contour\",\"colorbar\":{\"outlinewidth\":0,\"ticks\":\"\"},\"colorscale\":[[0.0,\"#0d0887\"],[0.1111111111111111,\"#46039f\"],[0.2222222222222222,\"#7201a8\"],[0.3333333333333333,\"#9c179e\"],[0.4444444444444444,\"#bd3786\"],[0.5555555555555556,\"#d8576b\"],[0.6666666666666666,\"#ed7953\"],[0.7777777777777778,\"#fb9f3a\"],[0.8888888888888888,\"#fdca26\"],[1.0,\"#f0f921\"]]}],\"surface\":[{\"type\":\"surface\",\"colorbar\":{\"outlinewidth\":0,\"ticks\":\"\"},\"colorscale\":[[0.0,\"#0d0887\"],[0.1111111111111111,\"#46039f\"],[0.2222222222222222,\"#7201a8\"],[0.3333333333333333,\"#9c179e\"],[0.4444444444444444,\"#bd3786\"],[0.5555555555555556,\"#d8576b\"],[0.6666666666666666,\"#ed7953\"],[0.7777777777777778,\"#fb9f3a\"],[0.8888888888888888,\"#fdca26\"],[1.0,\"#f0f921\"]]}],\"mesh3d\":[{\"type\":\"mesh3d\",\"colorbar\":{\"outlinewidth\":0,\"ticks\":\"\"}}],\"scatter\":[{\"fillpattern\":{\"fillmode\":\"overlay\",\"size\":10,\"solidity\":0.2},\"type\":\"scatter\"}],\"parcoords\":[{\"type\":\"parcoords\",\"line\":{\"colorbar\":{\"outlinewidth\":0,\"ticks\":\"\"}}}],\"scatterpolargl\":[{\"type\":\"scatterpolargl\",\"marker\":{\"colorbar\":{\"outlinewidth\":0,\"ticks\":\"\"}}}],\"bar\":[{\"error_x\":{\"color\":\"#2a3f5f\"},\"error_y\":{\"color\":\"#2a3f5f\"},\"marker\":{\"line\":{\"color\":\"#E5ECF6\",\"width\":0.5},\"pattern\":{\"fillmode\":\"overlay\",\"size\":10,\"solidity\":0.2}},\"type\":\"bar\"}],\"scattergeo\":[{\"type\":\"scattergeo\",\"marker\":{\"colorbar\":{\"outlinewidth\":0,\"ticks\":\"\"}}}],\"scatterpolar\":[{\"type\":\"scatterpolar\",\"marker\":{\"colorbar\":{\"outlinewidth\":0,\"ticks\":\"\"}}}],\"histogram\":[{\"marker\":{\"pattern\":{\"fillmode\":\"overlay\",\"size\":10,\"solidity\":0.2}},\"type\":\"histogram\"}],\"scattergl\":[{\"type\":\"scattergl\",\"marker\":{\"colorbar\":{\"outlinewidth\":0,\"ticks\":\"\"}}}],\"scatter3d\":[{\"type\":\"scatter3d\",\"line\":{\"colorbar\":{\"outlinewidth\":0,\"ticks\":\"\"}},\"marker\":{\"colorbar\":{\"outlinewidth\":0,\"ticks\":\"\"}}}],\"scattermapbox\":[{\"type\":\"scattermapbox\",\"marker\":{\"colorbar\":{\"outlinewidth\":0,\"ticks\":\"\"}}}],\"scatterternary\":[{\"type\":\"scatterternary\",\"marker\":{\"colorbar\":{\"outlinewidth\":0,\"ticks\":\"\"}}}],\"scattercarpet\":[{\"type\":\"scattercarpet\",\"marker\":{\"colorbar\":{\"outlinewidth\":0,\"ticks\":\"\"}}}],\"carpet\":[{\"aaxis\":{\"endlinecolor\":\"#2a3f5f\",\"gridcolor\":\"white\",\"linecolor\":\"white\",\"minorgridcolor\":\"white\",\"startlinecolor\":\"#2a3f5f\"},\"baxis\":{\"endlinecolor\":\"#2a3f5f\",\"gridcolor\":\"white\",\"linecolor\":\"white\",\"minorgridcolor\":\"white\",\"startlinecolor\":\"#2a3f5f\"},\"type\":\"carpet\"}],\"table\":[{\"cells\":{\"fill\":{\"color\":\"#EBF0F8\"},\"line\":{\"color\":\"white\"}},\"header\":{\"fill\":{\"color\":\"#C8D4E3\"},\"line\":{\"color\":\"white\"}},\"type\":\"table\"}],\"barpolar\":[{\"marker\":{\"line\":{\"color\":\"#E5ECF6\",\"width\":0.5},\"pattern\":{\"fillmode\":\"overlay\",\"size\":10,\"solidity\":0.2}},\"type\":\"barpolar\"}],\"pie\":[{\"automargin\":true,\"type\":\"pie\"}]},\"layout\":{\"autotypenumbers\":\"strict\",\"colorway\":[\"#636efa\",\"#EF553B\",\"#00cc96\",\"#ab63fa\",\"#FFA15A\",\"#19d3f3\",\"#FF6692\",\"#B6E880\",\"#FF97FF\",\"#FECB52\"],\"font\":{\"color\":\"#2a3f5f\"},\"hovermode\":\"closest\",\"hoverlabel\":{\"align\":\"left\"},\"paper_bgcolor\":\"white\",\"plot_bgcolor\":\"#E5ECF6\",\"polar\":{\"bgcolor\":\"#E5ECF6\",\"angularaxis\":{\"gridcolor\":\"white\",\"linecolor\":\"white\",\"ticks\":\"\"},\"radialaxis\":{\"gridcolor\":\"white\",\"linecolor\":\"white\",\"ticks\":\"\"}},\"ternary\":{\"bgcolor\":\"#E5ECF6\",\"aaxis\":{\"gridcolor\":\"white\",\"linecolor\":\"white\",\"ticks\":\"\"},\"baxis\":{\"gridcolor\":\"white\",\"linecolor\":\"white\",\"ticks\":\"\"},\"caxis\":{\"gridcolor\":\"white\",\"linecolor\":\"white\",\"ticks\":\"\"}},\"coloraxis\":{\"colorbar\":{\"outlinewidth\":0,\"ticks\":\"\"}},\"colorscale\":{\"sequential\":[[0.0,\"#0d0887\"],[0.1111111111111111,\"#46039f\"],[0.2222222222222222,\"#7201a8\"],[0.3333333333333333,\"#9c179e\"],[0.4444444444444444,\"#bd3786\"],[0.5555555555555556,\"#d8576b\"],[0.6666666666666666,\"#ed7953\"],[0.7777777777777778,\"#fb9f3a\"],[0.8888888888888888,\"#fdca26\"],[1.0,\"#f0f921\"]],\"sequentialminus\":[[0.0,\"#0d0887\"],[0.1111111111111111,\"#46039f\"],[0.2222222222222222,\"#7201a8\"],[0.3333333333333333,\"#9c179e\"],[0.4444444444444444,\"#bd3786\"],[0.5555555555555556,\"#d8576b\"],[0.6666666666666666,\"#ed7953\"],[0.7777777777777778,\"#fb9f3a\"],[0.8888888888888888,\"#fdca26\"],[1.0,\"#f0f921\"]],\"diverging\":[[0,\"#8e0152\"],[0.1,\"#c51b7d\"],[0.2,\"#de77ae\"],[0.3,\"#f1b6da\"],[0.4,\"#fde0ef\"],[0.5,\"#f7f7f7\"],[0.6,\"#e6f5d0\"],[0.7,\"#b8e186\"],[0.8,\"#7fbc41\"],[0.9,\"#4d9221\"],[1,\"#276419\"]]},\"xaxis\":{\"gridcolor\":\"white\",\"linecolor\":\"white\",\"ticks\":\"\",\"title\":{\"standoff\":15},\"zerolinecolor\":\"white\",\"automargin\":true,\"zerolinewidth\":2},\"yaxis\":{\"gridcolor\":\"white\",\"linecolor\":\"white\",\"ticks\":\"\",\"title\":{\"standoff\":15},\"zerolinecolor\":\"white\",\"automargin\":true,\"zerolinewidth\":2},\"scene\":{\"xaxis\":{\"backgroundcolor\":\"#E5ECF6\",\"gridcolor\":\"white\",\"linecolor\":\"white\",\"showbackground\":true,\"ticks\":\"\",\"zerolinecolor\":\"white\",\"gridwidth\":2},\"yaxis\":{\"backgroundcolor\":\"#E5ECF6\",\"gridcolor\":\"white\",\"linecolor\":\"white\",\"showbackground\":true,\"ticks\":\"\",\"zerolinecolor\":\"white\",\"gridwidth\":2},\"zaxis\":{\"backgroundcolor\":\"#E5ECF6\",\"gridcolor\":\"white\",\"linecolor\":\"white\",\"showbackground\":true,\"ticks\":\"\",\"zerolinecolor\":\"white\",\"gridwidth\":2}},\"shapedefaults\":{\"line\":{\"color\":\"#2a3f5f\"}},\"annotationdefaults\":{\"arrowcolor\":\"#2a3f5f\",\"arrowhead\":0,\"arrowwidth\":1},\"geo\":{\"bgcolor\":\"white\",\"landcolor\":\"#E5ECF6\",\"subunitcolor\":\"white\",\"showland\":true,\"showlakes\":true,\"lakecolor\":\"white\"},\"title\":{\"x\":0.05},\"mapbox\":{\"style\":\"light\"}}},\"xaxis\":{\"anchor\":\"y\",\"domain\":[0.0,0.7363],\"title\":{\"text\":\"total_claim_amount\"}},\"yaxis\":{\"anchor\":\"x\",\"domain\":[0.0,0.7326],\"title\":{\"text\":\"policy_annual_premium\"}},\"xaxis2\":{\"anchor\":\"y2\",\"domain\":[0.7413,1.0],\"matches\":\"x2\",\"showticklabels\":false,\"showline\":false,\"ticks\":\"\",\"showgrid\":true},\"yaxis2\":{\"anchor\":\"x2\",\"domain\":[0.0,0.7326],\"matches\":\"y\",\"showticklabels\":false,\"showgrid\":true},\"xaxis3\":{\"anchor\":\"y3\",\"domain\":[0.0,0.7363],\"matches\":\"x\",\"showticklabels\":false,\"showgrid\":true},\"yaxis3\":{\"anchor\":\"x3\",\"domain\":[0.7426,1.0],\"matches\":\"y3\",\"showticklabels\":false,\"showline\":false,\"ticks\":\"\",\"showgrid\":false},\"xaxis4\":{\"anchor\":\"y4\",\"domain\":[0.7413,1.0],\"matches\":\"x2\",\"showticklabels\":false,\"showgrid\":true,\"showline\":false,\"ticks\":\"\"},\"yaxis4\":{\"anchor\":\"x4\",\"domain\":[0.7426,1.0],\"matches\":\"y3\",\"showticklabels\":false,\"showline\":false,\"ticks\":\"\",\"showgrid\":true},\"legend\":{\"title\":{\"text\":\"insured_sex\"},\"tracegroupgap\":0},\"margin\":{\"t\":60},\"barmode\":\"overlay\"},                        {\"responsive\": true}                    ).then(function(){\n",
       "                            \n",
       "var gd = document.getElementById('79c5a940-c2e8-4bda-bf7c-a5f7763cbf7f');\n",
       "var x = new MutationObserver(function (mutations, observer) {{\n",
       "        var display = window.getComputedStyle(gd).display;\n",
       "        if (!display || display === 'none') {{\n",
       "            console.log([gd, 'removed!']);\n",
       "            Plotly.purge(gd);\n",
       "            observer.disconnect();\n",
       "        }}\n",
       "}});\n",
       "\n",
       "// Listen for the removal of the full notebook cells\n",
       "var notebookContainer = gd.closest('#notebook-container');\n",
       "if (notebookContainer) {{\n",
       "    x.observe(notebookContainer, {childList: true});\n",
       "}}\n",
       "\n",
       "// Listen for the clearing of the current output cell\n",
       "var outputEl = gd.closest('.output');\n",
       "if (outputEl) {{\n",
       "    x.observe(outputEl, {childList: true});\n",
       "}}\n",
       "\n",
       "                        })                };                });            </script>        </div>"
      ]
     },
     "metadata": {},
     "output_type": "display_data"
    }
   ],
   "source": [
    "fig = px.scatter(data, x = 'total_claim_amount', y = 'policy_annual_premium', color = 'insured_sex',\n",
    "                marginal_x = 'box', marginal_y = 'histogram')\n",
    "fig.show()"
   ]
  },
  {
   "cell_type": "code",
   "execution_count": null,
   "id": "ac96e12f",
   "metadata": {},
   "outputs": [],
   "source": []
  },
  {
   "cell_type": "code",
   "execution_count": null,
   "id": "f268421e",
   "metadata": {},
   "outputs": [],
   "source": []
  },
  {
   "cell_type": "code",
   "execution_count": null,
   "id": "54c78708",
   "metadata": {},
   "outputs": [],
   "source": []
  },
  {
   "cell_type": "code",
   "execution_count": null,
   "id": "db301a19",
   "metadata": {},
   "outputs": [],
   "source": []
  },
  {
   "cell_type": "code",
   "execution_count": null,
   "id": "4e326d16",
   "metadata": {},
   "outputs": [],
   "source": []
  },
  {
   "cell_type": "code",
   "execution_count": null,
   "id": "8418da17",
   "metadata": {},
   "outputs": [],
   "source": []
  },
  {
   "cell_type": "code",
   "execution_count": null,
   "id": "a4f3f429",
   "metadata": {},
   "outputs": [],
   "source": []
  },
  {
   "cell_type": "code",
   "execution_count": null,
   "id": "a0faa2e3",
   "metadata": {},
   "outputs": [],
   "source": []
  },
  {
   "cell_type": "code",
   "execution_count": null,
   "id": "66a8482f",
   "metadata": {},
   "outputs": [],
   "source": []
  }
 ],
 "metadata": {
  "kernelspec": {
   "display_name": "Python 3.11.0 64-bit",
   "language": "python",
   "name": "python3"
  },
  "language_info": {
   "codemirror_mode": {
    "name": "ipython",
    "version": 3
   },
   "file_extension": ".py",
   "mimetype": "text/x-python",
   "name": "python",
   "nbconvert_exporter": "python",
   "pygments_lexer": "ipython3",
   "version": "3.11.0"
  },
  "vscode": {
   "interpreter": {
    "hash": "66952476c41004f710cc06581abda9b5bf1d7516adf31d0e1f483d197797c6b4"
   }
  }
 },
 "nbformat": 4,
 "nbformat_minor": 5
}
